{
 "cells": [
  {
   "cell_type": "markdown",
   "id": "1e63756d-3bea-4690-92d2-36be29febb51",
   "metadata": {},
   "source": [
    "Question1"
   ]
  },
  {
   "cell_type": "code",
   "execution_count": 26,
   "id": "7c2284d0-202b-4044-b857-4a6c391a5d96",
   "metadata": {},
   "outputs": [
    {
     "name": "stdout",
     "output_type": "stream",
     "text": [
      "[('Sachin Tendulkar', 34357), ('Ricky Ponting', 27483), ('Jack Kallis', 25534), ('Virat Kohli', 24936)]\n"
     ]
    }
   ],
   "source": [
    "l1=[('Sachin Tendulkar', 34357), ('Ricky Ponting', 27483), ('Jack Kallis', 25534), ('Virat Kohli', 24936)]\n",
    "l1.sort(key=lambda x:x[1],reverse=True)\n",
    "print(l1)"
   ]
  },
  {
   "cell_type": "markdown",
   "id": "e8c0ef53-3f47-4381-8811-75a54e6c40be",
   "metadata": {},
   "source": [
    "Question2"
   ]
  },
  {
   "cell_type": "code",
   "execution_count": 39,
   "id": "94d1f7ce-6f2e-4a8f-a02a-e1342b8177cf",
   "metadata": {},
   "outputs": [
    {
     "data": {
      "text/plain": [
       "[1, 4, 9, 16, 25, 36, 49, 64, 81, 100]"
      ]
     },
     "execution_count": 39,
     "metadata": {},
     "output_type": "execute_result"
    }
   ],
   "source": [
    "\n",
    "l1=[1, 2, 3, 4, 5, 6, 7, 8, 9, 10]\n",
    "l2=list(map(lambda x : x**2,l1))\n",
    "l2"
   ]
  },
  {
   "cell_type": "markdown",
   "id": "4d674573-aa89-45b9-afe7-01f4f02a5d96",
   "metadata": {},
   "source": [
    "Question3"
   ]
  },
  {
   "cell_type": "code",
   "execution_count": 42,
   "id": "155532ac-0a8e-47f8-a261-8232a72e885a",
   "metadata": {},
   "outputs": [
    {
     "data": {
      "text/plain": [
       "('1', '2', '3', '4', '5', '6', '7', '8', '9', '10')"
      ]
     },
     "execution_count": 42,
     "metadata": {},
     "output_type": "execute_result"
    }
   ],
   "source": [
    "l3=[1, 2, 3, 4, 5, 6, 7, 8, 9, 10]\n",
    "l4=tuple(map(lambda x : str(x),l3))\n",
    "l4"
   ]
  },
  {
   "cell_type": "markdown",
   "id": "e66dff20-d600-4e43-b6a2-7570ab3c7405",
   "metadata": {},
   "source": [
    "Question4"
   ]
  },
  {
   "cell_type": "code",
   "execution_count": 4,
   "id": "d818a7ec-f8c5-4e1b-9225-b1d845ac6740",
   "metadata": {},
   "outputs": [
    {
     "data": {
      "text/plain": [
       "15511210043330985984000000"
      ]
     },
     "execution_count": 4,
     "metadata": {},
     "output_type": "execute_result"
    }
   ],
   "source": [
    "l5=[]\n",
    "for i in range(1,26):\n",
    "    l5.append(i)\n",
    "from functools import  reduce\n",
    "reduce(lambda x,y:x*y,l5)    "
   ]
  },
  {
   "cell_type": "markdown",
   "id": "bebe09d9-344f-4ae4-9cee-fb6c8023a225",
   "metadata": {},
   "source": [
    "Question5"
   ]
  },
  {
   "cell_type": "code",
   "execution_count": 7,
   "id": "b00024d1-b8f2-4001-8a6c-e932158a1279",
   "metadata": {},
   "outputs": [
    {
     "data": {
      "text/plain": [
       "[6, 60, 90, 120]"
      ]
     },
     "execution_count": 7,
     "metadata": {},
     "output_type": "execute_result"
    }
   ],
   "source": [
    "l6=[2, 3, 6, 9, 27, 60, 90, 120, 55, 46]\n",
    "list(filter(lambda x : x % 2 == 0 and x % 3 == 0, l6))"
   ]
  },
  {
   "cell_type": "markdown",
   "id": "065c0039-2830-4639-b351-8978b7c33250",
   "metadata": {},
   "source": [
    "Question6"
   ]
  },
  {
   "cell_type": "code",
   "execution_count": 9,
   "id": "8f3759cb-4122-48a3-9c47-386d2c98b9fa",
   "metadata": {},
   "outputs": [
    {
     "name": "stdout",
     "output_type": "stream",
     "text": [
      "Palindromes: ['php', 'aba', 'radar', 'level']\n"
     ]
    }
   ],
   "source": [
    "# Define the list of strings\n",
    "strings = ['python', 'php', 'aba', 'radar', 'level']\n",
    "\n",
    "# Use the filter function to filter palindromes\n",
    "palindromes = list(filter(lambda x: x == x[::-1], strings))\n",
    "\n",
    "# Print the palindromes\n",
    "print(\"Palindromes:\", palindromes)\n"
   ]
  },
  {
   "cell_type": "code",
   "execution_count": null,
   "id": "e583ffc1-ea00-4e95-adc2-858e4057784c",
   "metadata": {},
   "outputs": [],
   "source": []
  }
 ],
 "metadata": {
  "kernelspec": {
   "display_name": "Python 3 (ipykernel)",
   "language": "python",
   "name": "python3"
  },
  "language_info": {
   "codemirror_mode": {
    "name": "ipython",
    "version": 3
   },
   "file_extension": ".py",
   "mimetype": "text/x-python",
   "name": "python",
   "nbconvert_exporter": "python",
   "pygments_lexer": "ipython3",
   "version": "3.10.8"
  }
 },
 "nbformat": 4,
 "nbformat_minor": 5
}
