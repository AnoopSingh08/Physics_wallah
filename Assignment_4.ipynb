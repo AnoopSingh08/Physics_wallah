{
 "cells": [
  {
   "cell_type": "markdown",
   "id": "cc0ee33c-fe4a-4fca-ba1a-29bc5a271315",
   "metadata": {},
   "source": [
    "Question1"
   ]
  },
  {
   "cell_type": "code",
   "execution_count": 4,
   "id": "3a076176-36b6-41fb-aadf-189d2336ac3a",
   "metadata": {},
   "outputs": [],
   "source": [
    "class Vehicle:\n",
    "    def __init__(self,name_of_vehicle,max_speed,average_of_vehicle):\n",
    "        self.name_of_vehicle = name_of_vehicle\n",
    "        self.max_speed = max_speed\n",
    "        self.average_of_vehicle = average_of_vehicle"
   ]
  },
  {
   "cell_type": "code",
   "execution_count": 6,
   "id": "11826d94-61ce-4f8b-9f2e-a7f0f3d93ba6",
   "metadata": {},
   "outputs": [],
   "source": [
    "car = Vehicle(\"Maruti800\",120,15)"
   ]
  },
  {
   "cell_type": "code",
   "execution_count": 7,
   "id": "ba35891e-04b8-4b36-867e-9b2a5deda808",
   "metadata": {},
   "outputs": [
    {
     "name": "stdout",
     "output_type": "stream",
     "text": [
      "Maruti800\n",
      "120\n",
      "15\n"
     ]
    }
   ],
   "source": [
    "print(car.name_of_vehicle)\n",
    "print(car.max_speed)\n",
    "print(car.average_of_vehicle)"
   ]
  },
  {
   "cell_type": "markdown",
   "id": "61ddbcdc-5e6d-4e0e-82be-b377dc78b47d",
   "metadata": {},
   "source": [
    "Question2"
   ]
  },
  {
   "cell_type": "code",
   "execution_count": 12,
   "id": "3b38b691-5955-4c06-a260-20da2f3ba69b",
   "metadata": {},
   "outputs": [],
   "source": [
    "class Car(Vehicle):\n",
    "    def seating_capacity(self,capacity):\n",
    "        return(\"Name :\",self.name_of_vehicle,\"Capacity :\",capacity)"
   ]
  },
  {
   "cell_type": "code",
   "execution_count": 13,
   "id": "8a7c91bc-14ee-48ad-b00c-c449ceff0669",
   "metadata": {},
   "outputs": [],
   "source": [
    "car1 = Car(\"celerio\",140,18)"
   ]
  },
  {
   "cell_type": "code",
   "execution_count": 14,
   "id": "f67179c7-5095-4746-9258-3e3aadc05e6f",
   "metadata": {},
   "outputs": [
    {
     "name": "stdout",
     "output_type": "stream",
     "text": [
      "('Name :', 'celerio', 'Capacity :', 5)\n"
     ]
    }
   ],
   "source": [
    "print(car1.seating_capacity(5))"
   ]
  },
  {
   "cell_type": "markdown",
   "id": "988cad81-9883-490d-8211-4ab0a3588661",
   "metadata": {},
   "source": [
    "Question3"
   ]
  },
  {
   "cell_type": "code",
   "execution_count": 21,
   "id": "7315027b-25b8-4d67-99b6-1dcf4ac17082",
   "metadata": {},
   "outputs": [],
   "source": [
    "#Multiple inheritance is a feature in object-oriented programming where a class can inherit attributes and methods from more than \n",
    "#one parent class. This allows a child class to inherit and combine the characteristics of multiple parent classes.\n",
    "class Animal:\n",
    "    def __init__(self,name):\n",
    "        self.name = name\n",
    "        \n",
    "    def speak(self):\n",
    "        print(self.name,\"is making a sound\")\n",
    "class Flyable:\n",
    "    def fly(self):\n",
    "        print(\"The bird fly in the air\")\n",
    "        \n",
    "class Bird(Animal,Flyable):\n",
    "    def __init__(self,name):\n",
    "        super().__init__(name)\n",
    "        \n",
    "    "
   ]
  },
  {
   "cell_type": "code",
   "execution_count": 22,
   "id": "3f374b11-e710-4ccd-8933-da706feffbd3",
   "metadata": {},
   "outputs": [
    {
     "name": "stdout",
     "output_type": "stream",
     "text": [
      "Sparrow is making a sound\n",
      "The bird fly in the air\n"
     ]
    }
   ],
   "source": [
    "bird = Bird(\"Sparrow\")\n",
    "bird.speak()\n",
    "bird.fly()"
   ]
  },
  {
   "cell_type": "markdown",
   "id": "41f7fe7d-29b5-4b21-a036-2e01b01bfa21",
   "metadata": {},
   "source": [
    "Question4"
   ]
  },
  {
   "cell_type": "code",
   "execution_count": 24,
   "id": "bdeba71d-28b1-4da8-acb0-82ab20a67e75",
   "metadata": {},
   "outputs": [
    {
     "name": "stdout",
     "output_type": "stream",
     "text": [
      "Alice\n",
      "Bob\n"
     ]
    }
   ],
   "source": [
    "#In Python, getters and setters are methods used to access and modify the attributes of a class in a controlled manner. \n",
    "#They provide an abstraction layer to interact with the attributes of an object, allowing us to validate or modify the values \n",
    "#before getting or setting them.\n",
    "\n",
    "class Person:\n",
    "    def __init__(self, name):\n",
    "        self._name = name\n",
    "\n",
    "    def get_name(self):\n",
    "        return self._name\n",
    "\n",
    "    def set_name(self, new_name):\n",
    "        self._name = new_name\n",
    "\n",
    "person = Person(\"Alice\")\n",
    "print(person.get_name())  # Output: Alice\n",
    "\n",
    "person.set_name(\"Bob\")\n",
    "print(person.get_name())  # Output: Bob\n"
   ]
  },
  {
   "cell_type": "markdown",
   "id": "dd34e6d6-4395-470f-aa0a-ec137c80881a",
   "metadata": {},
   "source": [
    "Question5"
   ]
  },
  {
   "cell_type": "code",
   "execution_count": 25,
   "id": "cad9306b-ed79-43ef-945e-2d2550b58bd5",
   "metadata": {},
   "outputs": [
    {
     "name": "stdout",
     "output_type": "stream",
     "text": [
      "The animal is making a sound.\n",
      "Meow!\n",
      "Woof!\n"
     ]
    }
   ],
   "source": [
    "#Method overriding is a concept in object-oriented programming where a subclass provides a different implementation for a method \n",
    "#that is already defined in its parent class. The subclass overrides the behavior of the method inherited from the parent class \n",
    "#with its own implementation.\n",
    "class Animal:\n",
    "    def speak(self):\n",
    "        print(\"The animal is making a sound.\")\n",
    "\n",
    "class Cat(Animal):\n",
    "    def speak(self):\n",
    "        print(\"Meow!\")\n",
    "\n",
    "class Dog(Animal):\n",
    "    def speak(self):\n",
    "        print(\"Woof!\")\n",
    "\n",
    "animal = Animal()\n",
    "animal.speak()  # Output: The animal is making a sound.\n",
    "\n",
    "cat = Cat()\n",
    "cat.speak()     # Output: Meow!\n",
    "\n",
    "dog = Dog()\n",
    "dog.speak()     # Output: Woof!\n"
   ]
  },
  {
   "cell_type": "code",
   "execution_count": null,
   "id": "ff7c4bfb-a1b1-4d5b-bcbd-1ccc2f3275a1",
   "metadata": {},
   "outputs": [],
   "source": []
  }
 ],
 "metadata": {
  "kernelspec": {
   "display_name": "Python 3 (ipykernel)",
   "language": "python",
   "name": "python3"
  },
  "language_info": {
   "codemirror_mode": {
    "name": "ipython",
    "version": 3
   },
   "file_extension": ".py",
   "mimetype": "text/x-python",
   "name": "python",
   "nbconvert_exporter": "python",
   "pygments_lexer": "ipython3",
   "version": "3.10.8"
  }
 },
 "nbformat": 4,
 "nbformat_minor": 5
}
