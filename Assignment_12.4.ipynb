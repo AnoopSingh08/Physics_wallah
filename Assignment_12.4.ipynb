{
 "cells": [
  {
   "cell_type": "markdown",
   "id": "77980b24-f0fa-43e0-b87b-d400f548c257",
   "metadata": {},
   "source": [
    "### Question1"
   ]
  },
  {
   "cell_type": "code",
   "execution_count": 2,
   "id": "3a86123c-3548-4f39-82b0-f2de40882a3b",
   "metadata": {},
   "outputs": [
    {
     "name": "stdout",
     "output_type": "stream",
     "text": [
      "F-value: 0.1463414634146341\n",
      "p-value: 0.7120194981814768\n"
     ]
    }
   ],
   "source": [
    "# To calculate the F-value for a variance ratio test (also known as the F-test), you can use the scipy.stats library in Python. Specifically, you'll use the f_oneway function to perform the variance ratio test. Here's a Python function that takes two arrays of data and calculates the F-value and p-value for the test:\n",
    "\n",
    "import scipy.stats as stats\n",
    "\n",
    "def variance_ratio_test(data1, data2):\n",
    "    \"\"\"\n",
    "    Calculate the F-value and p-value for a variance ratio test (F-test).\n",
    "\n",
    "    Parameters:\n",
    "        data1 (array-like): The first array of data.\n",
    "        data2 (array-like): The second array of data.\n",
    "\n",
    "    Returns:\n",
    "        F_value (float): The F-value for the variance ratio test.\n",
    "        p_value (float): The p-value for the variance ratio test.\n",
    "    \"\"\"\n",
    "    # Perform the variance ratio test (F-test)\n",
    "    F_value, p_value = stats.f_oneway(data1, data2)\n",
    "    \n",
    "    return F_value, p_value\n",
    "\n",
    "# Example usage:\n",
    "data1 = [10, 15, 12, 18, 20]\n",
    "data2 = [8, 14, 9, 16, 22]\n",
    "\n",
    "F_value, p_value = variance_ratio_test(data1, data2)\n",
    "print(\"F-value:\", F_value)\n",
    "print(\"p-value:\", p_value)\n",
    "\n",
    "#The function variance_ratio_test takes in two arrays of data (data1 and data2) and uses the f_oneway function from scipy.stats to perform the variance ratio test. The F_value and p_value are then returned.\n",
    "\n",
    "# Keep in mind that the scipy.stats.f_oneway function is designed for one-way ANOVA, which compares the means of two or more groups. The F-value and p-value obtained from this function will indicate whether there are any significant differences in means between the two datasets. If you want to compare variances directly, you can use scipy.stats.levene or scipy.stats.bartlett for variance equality tests."
   ]
  },
  {
   "cell_type": "markdown",
   "id": "3d44258c-6261-46d6-a39f-913b5f85b785",
   "metadata": {},
   "source": [
    "### Question2"
   ]
  },
  {
   "cell_type": "code",
   "execution_count": 3,
   "id": "9e8f3cee-18b5-48c7-839d-8114f3d41b57",
   "metadata": {},
   "outputs": [
    {
     "name": "stdout",
     "output_type": "stream",
     "text": [
      "Critical F-value: 3.8586986662732143\n"
     ]
    }
   ],
   "source": [
    "# To calculate the critical F-value for a two-tailed test given a significance level (alpha) and the degrees of freedom for the numerator and denominator of an F-distribution, you can use the scipy.stats library in Python. Specifically, you'll use the stats.f.ppf function, which calculates the percent-point function (inverse of the cumulative distribution function) of the F-distribution. Here's the Python function to achieve this:\n",
    "\n",
    "import scipy.stats as stats\n",
    "\n",
    "def critical_f_value(alpha, df_num, df_den):\n",
    "    \"\"\"\n",
    "    Calculate the critical F-value for a two-tailed test.\n",
    "\n",
    "    Parameters:\n",
    "        alpha (float): The significance level (usually set to 0.05).\n",
    "        df_num (int): Degrees of freedom for the numerator.\n",
    "        df_den (int): Degrees of freedom for the denominator.\n",
    "\n",
    "    Returns:\n",
    "        crit_f_value (float): The critical F-value for the two-tailed test.\n",
    "    \"\"\"\n",
    "    # Calculate the critical F-value for the given significance level and degrees of freedom\n",
    "    crit_f_value = stats.f.ppf(1 - alpha / 2, df_num, df_den)\n",
    "    \n",
    "    return crit_f_value\n",
    "\n",
    "# Example usage:\n",
    "alpha = 0.05\n",
    "df_num = 3\n",
    "df_den = 20\n",
    "\n",
    "crit_f_value = critical_f_value(alpha, df_num, df_den)\n",
    "print(\"Critical F-value:\", crit_f_value)\n",
    "\n",
    "# In this function, alpha represents the significance level (usually set to 0.05 for a 95% confidence level). df_num and df_den represent the degrees of freedom for the numerator and denominator of the F-distribution, respectively. The function uses stats.f.ppf to calculate the critical F-value for a two-tailed test at the specified significance level and degrees of freedom.\n",
    "\n",
    "# Make sure to replace the alpha, df_num, and df_den variables with the specific values corresponding to your hypothesis test. The function will then return the critical F-value for your two-tailed test."
   ]
  },
  {
   "cell_type": "markdown",
   "id": "5b303ca9-7b24-4ab2-8a4a-0e99527943c8",
   "metadata": {},
   "source": [
    "### Question3"
   ]
  },
  {
   "cell_type": "code",
   "execution_count": 4,
   "id": "d076af2a-21dc-42e6-8a87-6cbd606947d8",
   "metadata": {},
   "outputs": [
    {
     "name": "stdout",
     "output_type": "stream",
     "text": [
      "F-value: 0.9343218779991281\n",
      "Degrees of freedom (numerator): 29\n",
      "Degrees of freedom (denominator): 29\n",
      "p-value: 0.8561073337841724\n"
     ]
    }
   ],
   "source": [
    "# To generate random samples from two normal distributions with known variances and perform an F-test to determine if the variances are equal, you can use the numpy and scipy.stats libraries in Python. Here's a Python program to achieve this:\n",
    "\n",
    "import numpy as np\n",
    "import scipy.stats as stats\n",
    "\n",
    "def f_test_equal_variances(sample1, sample2):\n",
    "    \"\"\"\n",
    "    Perform an F-test to determine if the variances of two samples are equal.\n",
    "\n",
    "    Parameters:\n",
    "        sample1 (array-like): The first sample.\n",
    "        sample2 (array-like): The second sample.\n",
    "\n",
    "    Returns:\n",
    "        F_value (float): The F-value for the F-test.\n",
    "        df_num (int): Degrees of freedom for the numerator.\n",
    "        df_den (int): Degrees of freedom for the denominator.\n",
    "        p_value (float): The p-value for the F-test.\n",
    "    \"\"\"\n",
    "    # Calculate the variances of the two samples\n",
    "    var1 = np.var(sample1, ddof=1)\n",
    "    var2 = np.var(sample2, ddof=1)\n",
    "\n",
    "    # Calculate the F-value and p-value for the F-test\n",
    "    F_value = var1 / var2\n",
    "    df_num = len(sample1) - 1\n",
    "    df_den = len(sample2) - 1\n",
    "    p_value = 2 * min(stats.f.cdf(F_value, df_num, df_den), 1 - stats.f.cdf(F_value, df_num, df_den))\n",
    "\n",
    "    return F_value, df_num, df_den, p_value\n",
    "\n",
    "# Generate random samples from two normal distributions with known variances\n",
    "np.random.seed(42)  # For reproducibility\n",
    "sample1 = np.random.normal(loc=50, scale=10, size=30)\n",
    "sample2 = np.random.normal(loc=55, scale=10, size=30)\n",
    "\n",
    "# Perform the F-test to check if the variances are equal\n",
    "F_value, df_num, df_den, p_value = f_test_equal_variances(sample1, sample2)\n",
    "\n",
    "# Print the F-test results\n",
    "print(\"F-value:\", F_value)\n",
    "print(\"Degrees of freedom (numerator):\", df_num)\n",
    "print(\"Degrees of freedom (denominator):\", df_den)\n",
    "print(\"p-value:\", p_value)\n",
    "\n",
    "# In this program, sample1 and sample2 represent the two samples that you want to compare. The function f_test_equal_variances calculates the variances of the two samples and then performs the F-test to determine if the variances are equal. The function returns the F-value, degrees of freedom for the numerator and denominator, and the p-value for the F-test.\n",
    "\n",
    "# Make sure to replace sample1 and sample2 with the actual data from your two normal distributions with known variances. The program will then generate the F-test results for your specific samples."
   ]
  },
  {
   "cell_type": "markdown",
   "id": "3e219362-d3bb-4770-afb5-9e5732fa4d42",
   "metadata": {},
   "source": [
    "### Question4"
   ]
  },
  {
   "cell_type": "code",
   "execution_count": 5,
   "id": "541021c4-db28-40f3-a79b-c9f63f7af7e8",
   "metadata": {},
   "outputs": [
    {
     "name": "stdout",
     "output_type": "stream",
     "text": [
      "The variances are not significantly different.\n"
     ]
    }
   ],
   "source": [
    "# To conduct an F-test at the 5% significance level to determine if the variances of two populations are significantly different, you can use the scipy.stats library in Python. Specifically, you'll use the stats.f.ppf function to calculate the critical F-value for the test and compare it with the observed F-value. Here's how you can do it:\n",
    "\n",
    "import scipy.stats as stats\n",
    "\n",
    "def f_test_equal_variances(variance1, variance2, sample_size1, sample_size2, alpha):\n",
    "    \"\"\"\n",
    "    Perform an F-test to determine if the variances of two populations are significantly different.\n",
    "\n",
    "    Parameters:\n",
    "        variance1 (float): The known variance of the first population.\n",
    "        variance2 (float): The known variance of the second population.\n",
    "        sample_size1 (int): The sample size of the first sample.\n",
    "        sample_size2 (int): The sample size of the second sample.\n",
    "        alpha (float): The significance level (e.g., 0.05).\n",
    "\n",
    "    Returns:\n",
    "        is_significant (bool): True if the variances are significantly different, False otherwise.\n",
    "    \"\"\"\n",
    "    # Calculate the observed F-value\n",
    "    observed_F = variance1 / variance2\n",
    "\n",
    "    # Calculate the degrees of freedom for the numerator and denominator\n",
    "    df_num = sample_size1 - 1\n",
    "    df_den = sample_size2 - 1\n",
    "\n",
    "    # Calculate the critical F-value at the given significance level and degrees of freedom\n",
    "    critical_F = stats.f.ppf(1 - alpha / 2, df_num, df_den)\n",
    "\n",
    "    # Check if the observed F-value is greater than the critical F-value\n",
    "    is_significant = observed_F > critical_F\n",
    "\n",
    "    return is_significant\n",
    "\n",
    "# Given data\n",
    "variance1 = 10\n",
    "variance2 = 15\n",
    "sample_size1 = 12\n",
    "sample_size2 = 12\n",
    "alpha = 0.05\n",
    "\n",
    "# Perform the F-test to check if the variances are significantly different\n",
    "result = f_test_equal_variances(variance1, variance2, sample_size1, sample_size2, alpha)\n",
    "\n",
    "# Print the result\n",
    "if result:\n",
    "    print(\"The variances are significantly different.\")\n",
    "else:\n",
    "    print(\"The variances are not significantly different.\")\n",
    "\n",
    "# In this program, variance1 and variance2 represent the known variances of the two populations, while sample_size1 and sample_size2 represent the sample sizes from each population. The alpha variable represents the significance level (commonly set to 0.05 for a 5% significance level). The function f_test_equal_variances calculates the observed F-value and the critical F-value at the given significance level and degrees of freedom. It then compares the observed F-value with the critical F-value to determine if the variances are significantly different.\n",
    "\n",
    "# Before running the program, make sure to provide the correct values for variance1, variance2, sample_size1, sample_size2, and alpha based on your specific problem. The program will then output whether the variances are significantly different or not at the specified significance level."
   ]
  },
  {
   "cell_type": "markdown",
   "id": "b0ca9ae6-18f1-4077-8086-296d9d2a03ff",
   "metadata": {},
   "source": [
    "### Question5"
   ]
  },
  {
   "cell_type": "code",
   "execution_count": 6,
   "id": "f041be86-a921-43a3-95b8-1ab685c39404",
   "metadata": {},
   "outputs": [
    {
     "name": "stdout",
     "output_type": "stream",
     "text": [
      "The claim is justified.\n"
     ]
    }
   ],
   "source": [
    "# To conduct an F-test at the 1% significance level to determine if the manufacturer's claim about the variance of the product's diameter is justified, you can use the scipy.stats library in Python. The F-test compares the sample variance to the claimed population variance to test if they are significantly different. Here's how you can do it:\n",
    "\n",
    "import scipy.stats as stats\n",
    "\n",
    "def f_test_population_variance(claimed_variance, sample_variance, sample_size, alpha):\n",
    "    \"\"\"\n",
    "    Perform an F-test to determine if the sample variance is significantly different\n",
    "    from the claimed population variance.\n",
    "\n",
    "    Parameters:\n",
    "        claimed_variance (float): The claimed variance of the population.\n",
    "        sample_variance (float): The sample variance.\n",
    "        sample_size (int): The sample size.\n",
    "        alpha (float): The significance level (e.g., 0.01 for 1%).\n",
    "\n",
    "    Returns:\n",
    "        is_significant (bool): True if the claim is not justified, False if the claim is justified.\n",
    "    \"\"\"\n",
    "    # Calculate the degrees of freedom for the numerator and denominator\n",
    "    df_num = sample_size - 1\n",
    "    df_den = sample_size\n",
    "\n",
    "    # Calculate the observed F-value\n",
    "    observed_F = sample_variance / claimed_variance\n",
    "\n",
    "    # Calculate the critical F-value at the given significance level and degrees of freedom\n",
    "    critical_F = stats.f.ppf(1 - alpha, df_num, df_den)\n",
    "\n",
    "    # Check if the observed F-value is greater than the critical F-value\n",
    "    is_significant = observed_F > critical_F\n",
    "\n",
    "    return is_significant\n",
    "\n",
    "# Given data\n",
    "claimed_variance = 0.005\n",
    "sample_variance = 0.006\n",
    "sample_size = 25\n",
    "alpha = 0.01\n",
    "\n",
    "# Perform the F-test to check if the claim is justified\n",
    "result = f_test_population_variance(claimed_variance, sample_variance, sample_size, alpha)\n",
    "\n",
    "# Print the result\n",
    "if result:\n",
    "    print(\"The claim is not justified.\")\n",
    "else:\n",
    "    print(\"The claim is justified.\")\n",
    "\n",
    "# In this program, claimed_variance represents the claimed variance of the product's diameter by the manufacturer. sample_variance represents the sample variance calculated from the 25 products. sample_size is the number of products in the sample, and alpha is the significance level set to 0.01 for a 1% significance level.\n",
    "\n",
    "# The function f_test_population_variance performs the F-test, comparing the observed F-value (sample variance divided by the claimed variance) to the critical F-value at the specified significance level and degrees of freedom. If the observed F-value is greater than the critical F-value, the claim is not justified, indicating that the sample variance is significantly different from the claimed population variance.\n",
    "\n",
    "# Before running the program, make sure to provide the correct values for claimed_variance, sample_variance, sample_size, and alpha based on your specific problem. The program will then output whether the manufacturer's claim is justified or not at the specified significance level."
   ]
  },
  {
   "cell_type": "markdown",
   "id": "13e92859-f127-4f99-aff4-301dd1c9dce9",
   "metadata": {},
   "source": [
    "### Question6"
   ]
  },
  {
   "cell_type": "code",
   "execution_count": 7,
   "id": "869c09c4-3d17-43c6-a48b-808aeb08e393",
   "metadata": {},
   "outputs": [
    {
     "name": "stdout",
     "output_type": "stream",
     "text": [
      "Mean: 1.1538461538461537\n",
      "Variance: 1.028778913394298\n"
     ]
    }
   ],
   "source": [
    "# To calculate the mean and variance of an F-distribution given the degrees of freedom for the numerator and denominator, you can use the properties of the F-distribution. Here's a Python function that does that:\n",
    "\n",
    "def f_distribution_mean_and_variance(df_num, df_den):\n",
    "    \"\"\"\n",
    "    Calculate the mean and variance of an F-distribution.\n",
    "\n",
    "    Parameters:\n",
    "        df_num (int): Degrees of freedom for the numerator.\n",
    "        df_den (int): Degrees of freedom for the denominator.\n",
    "\n",
    "    Returns:\n",
    "        mean (float): The mean of the F-distribution.\n",
    "        variance (float): The variance of the F-distribution.\n",
    "    \"\"\"\n",
    "    # Check if degrees of freedom are valid\n",
    "    if df_num <= 0 or df_den <= 0:\n",
    "        raise ValueError(\"Degrees of freedom must be positive integers.\")\n",
    "    \n",
    "    # Calculate the mean and variance of the F-distribution\n",
    "    if df_den > 2:\n",
    "        mean = df_den / (df_den - 2)\n",
    "        variance = (2 * df_den**2 * (df_num + df_den - 2)) / (df_num * (df_den - 2)**2 * (df_den - 4))\n",
    "    else:\n",
    "        raise ValueError(\"Degrees of freedom for the denominator must be greater than 2.\")\n",
    "\n",
    "    return mean, variance\n",
    "\n",
    "# Example usage:\n",
    "df_num = 4\n",
    "df_den = 15\n",
    "\n",
    "mean, variance = f_distribution_mean_and_variance(df_num, df_den)\n",
    "print(\"Mean:\", mean)\n",
    "print(\"Variance:\", variance)\n",
    "\n",
    "# In this function, df_num and df_den represent the degrees of freedom for the numerator and denominator of the F-distribution, respectively. The function f_distribution_mean_and_variance calculates the mean and variance of the F-distribution based on the given degrees of freedom.\n",
    "\n",
    "# Note that the degrees of freedom for the numerator and denominator must be positive integers. Additionally, the degrees of freedom for the denominator must be greater than 2 for the variance calculation to be valid.\n",
    "\n",
    "# You can use this function to calculate the mean and variance of any F-distribution given the appropriate degrees of freedom. Just replace df_num and df_den with the desired values when calling the function, and it will return the mean and variance as a tuple."
   ]
  },
  {
   "cell_type": "markdown",
   "id": "e49edb1e-1022-474c-8ca6-f4cf840b4172",
   "metadata": {},
   "source": [
    "### Question7"
   ]
  },
  {
   "cell_type": "code",
   "execution_count": 8,
   "id": "fbf9d613-1bb8-4756-9b15-f0aae158fea7",
   "metadata": {},
   "outputs": [
    {
     "name": "stdout",
     "output_type": "stream",
     "text": [
      "The variances are not significantly different.\n"
     ]
    }
   ],
   "source": [
    "# To conduct an F-test at the 10% significance level to determine if the variances of two populations are significantly different, you can use the scipy.stats library in Python. The F-test compares the sample variances to test if they are significantly different. Here's how you can do it:\n",
    "\n",
    "import scipy.stats as stats\n",
    "\n",
    "def f_test_unequal_variances(sample_variance1, sample_size1, sample_variance2, sample_size2, alpha):\n",
    "    \"\"\"\n",
    "    Perform an F-test to determine if the sample variances of two populations are significantly different.\n",
    "\n",
    "    Parameters:\n",
    "        sample_variance1 (float): The sample variance of the first population.\n",
    "        sample_size1 (int): The sample size of the first sample.\n",
    "        sample_variance2 (float): The sample variance of the second population.\n",
    "        sample_size2 (int): The sample size of the second sample.\n",
    "        alpha (float): The significance level (e.g., 0.10 for 10%).\n",
    "\n",
    "    Returns:\n",
    "        is_significant (bool): True if the variances are significantly different, False otherwise.\n",
    "    \"\"\"\n",
    "    # Calculate the degrees of freedom for the numerator and denominator\n",
    "    df_num = sample_size1 - 1\n",
    "    df_den = sample_size2 - 1\n",
    "\n",
    "    # Calculate the observed F-value\n",
    "    observed_F = sample_variance1 / sample_variance2\n",
    "\n",
    "    # Calculate the critical F-value at the given significance level and degrees of freedom\n",
    "    critical_F = stats.f.ppf(1 - alpha, df_num, df_den)\n",
    "\n",
    "    # Check if the observed F-value is greater than the critical F-value\n",
    "    is_significant = observed_F > critical_F\n",
    "\n",
    "    return is_significant\n",
    "\n",
    "# Given data\n",
    "sample_variance1 = 25\n",
    "sample_size1 = 10\n",
    "sample_variance2 = 20\n",
    "sample_size2 = 15\n",
    "alpha = 0.10\n",
    "\n",
    "# Perform the F-test to check if the variances are significantly different\n",
    "result = f_test_unequal_variances(sample_variance1, sample_size1, sample_variance2, sample_size2, alpha)\n",
    "\n",
    "# Print the result\n",
    "if result:\n",
    "    print(\"The variances are significantly different.\")\n",
    "else:\n",
    "    print(\"The variances are not significantly different.\")\n",
    "\n",
    "# In this program, sample_variance1 and sample_variance2 represent the sample variances of the two populations, while sample_size1 and sample_size2 represent the sample sizes from each population. The alpha variable represents the significance level set to 0.10 for a 10% significance level.\n",
    "\n",
    "# The function f_test_unequal_variances performs the F-test, comparing the observed F-value (sample variance1 divided by sample variance2) to the critical F-value at the specified significance level and degrees of freedom. If the observed F-value is greater than the critical F-value, the variances are significantly different.\n",
    "\n",
    "# Before running the program, make sure to provide the correct values for sample_variance1, sample_size1, sample_variance2, sample_size2, and alpha based on your specific problem. The program will then output whether the variances are significantly different or not at the specified significance level."
   ]
  },
  {
   "cell_type": "markdown",
   "id": "05185bb0-e9c6-436e-ad00-c3232ce9f6d1",
   "metadata": {},
   "source": [
    "### Question8"
   ]
  },
  {
   "cell_type": "code",
   "execution_count": 9,
   "id": "e3fd1304-cd7f-42e6-9e35-b9f0e20a7230",
   "metadata": {},
   "outputs": [
    {
     "name": "stdout",
     "output_type": "stream",
     "text": [
      "The variances are not significantly different.\n"
     ]
    }
   ],
   "source": [
    "# To conduct an F-test at the 5% significance level to determine if the variances of waiting times at the two restaurants are significantly different, you can use the scipy.stats library in Python. The F-test compares the sample variances to test if they are significantly different. Here's how you can do it:\n",
    "\n",
    "import numpy as np\n",
    "import scipy.stats as stats\n",
    "\n",
    "def f_test_unequal_variances(sample1, sample2, alpha):\n",
    "    \"\"\"\n",
    "    Perform an F-test to determine if the sample variances of two samples are significantly different.\n",
    "\n",
    "    Parameters:\n",
    "        sample1 (array-like): The first sample data.\n",
    "        sample2 (array-like): The second sample data.\n",
    "        alpha (float): The significance level (e.g., 0.05 for 5%).\n",
    "\n",
    "    Returns:\n",
    "        is_significant (bool): True if the variances are significantly different, False otherwise.\n",
    "    \"\"\"\n",
    "    # Calculate the sample variances and sizes\n",
    "    sample_variance1 = np.var(sample1, ddof=1)\n",
    "    sample_variance2 = np.var(sample2, ddof=1)\n",
    "    sample_size1 = len(sample1)\n",
    "    sample_size2 = len(sample2)\n",
    "\n",
    "    # Calculate the degrees of freedom for the numerator and denominator\n",
    "    df_num = sample_size1 - 1\n",
    "    df_den = sample_size2 - 1\n",
    "\n",
    "    # Calculate the observed F-value\n",
    "    observed_F = sample_variance1 / sample_variance2\n",
    "\n",
    "    # Calculate the critical F-value at the given significance level and degrees of freedom\n",
    "    critical_F = stats.f.ppf(1 - alpha, df_num, df_den)\n",
    "\n",
    "    # Check if the observed F-value is greater than the critical F-value\n",
    "    is_significant = observed_F > critical_F\n",
    "\n",
    "    return is_significant\n",
    "\n",
    "# Given data\n",
    "restaurant_A = [24, 25, 28, 23, 22, 20, 27]\n",
    "restaurant_B = [31, 33, 35, 30, 32, 36]\n",
    "alpha = 0.05\n",
    "\n",
    "# Perform the F-test to check if the variances are significantly different\n",
    "result = f_test_unequal_variances(restaurant_A, restaurant_B, alpha)\n",
    "\n",
    "# Print the result\n",
    "if result:\n",
    "    print(\"The variances are significantly different.\")\n",
    "else:\n",
    "    print(\"The variances are not significantly different.\")\n",
    "\n",
    "# In this program, restaurant_A and restaurant_B represent the waiting times in minutes at the two different restaurants. The alpha variable represents the significance level set to 0.05 for a 5% significance level.\n",
    "\n",
    "# The function f_test_unequal_variances calculates the sample variances and sizes of the two samples and performs the F-test, comparing the observed F-value (sample variance1 divided by sample variance2) to the critical F-value at the specified significance level and degrees of freedom. If the observed F-value is greater than the critical F-value, the variances are significantly different.\n",
    "\n",
    "# Before running the program, make sure to provide the correct values for restaurant_A, restaurant_B, and alpha. The program will then output whether the variances of waiting times at the two restaurants are significantly different at the specified significance level."
   ]
  },
  {
   "cell_type": "markdown",
   "id": "fdec2ee0-e13a-46f7-803b-1385f32b693d",
   "metadata": {},
   "source": [
    "### Question9"
   ]
  },
  {
   "cell_type": "code",
   "execution_count": 10,
   "id": "8fd7c8f1-ec3e-4b44-9f52-c49c7a5515f3",
   "metadata": {},
   "outputs": [
    {
     "name": "stdout",
     "output_type": "stream",
     "text": [
      "The variances are not significantly different.\n"
     ]
    }
   ],
   "source": [
    "# To conduct an F-test at the 1% significance level to determine if the variances of the test scores of Group A and Group B are significantly different, you can use the scipy.stats library in Python. The F-test compares the sample variances to test if they are significantly different. Here's how you can do it:\n",
    "\n",
    "import numpy as np\n",
    "import scipy.stats as stats\n",
    "\n",
    "def f_test_unequal_variances(sample1, sample2, alpha):\n",
    "    \"\"\"\n",
    "    Perform an F-test to determine if the sample variances of two samples are significantly different.\n",
    "\n",
    "    Parameters:\n",
    "        sample1 (array-like): The first sample data.\n",
    "        sample2 (array-like): The second sample data.\n",
    "        alpha (float): The significance level (e.g., 0.01 for 1%).\n",
    "\n",
    "    Returns:\n",
    "        is_significant (bool): True if the variances are significantly different, False otherwise.\n",
    "    \"\"\"\n",
    "    # Calculate the sample variances and sizes\n",
    "    sample_variance1 = np.var(sample1, ddof=1)\n",
    "    sample_variance2 = np.var(sample2, ddof=1)\n",
    "    sample_size1 = len(sample1)\n",
    "    sample_size2 = len(sample2)\n",
    "\n",
    "    # Calculate the degrees of freedom for the numerator and denominator\n",
    "    df_num = sample_size1 - 1\n",
    "    df_den = sample_size2 - 1\n",
    "\n",
    "    # Calculate the observed F-value\n",
    "    observed_F = sample_variance1 / sample_variance2\n",
    "\n",
    "    # Calculate the critical F-value at the given significance level and degrees of freedom\n",
    "    critical_F = stats.f.ppf(1 - alpha, df_num, df_den)\n",
    "\n",
    "    # Check if the observed F-value is greater than the critical F-value\n",
    "    is_significant = observed_F > critical_F\n",
    "\n",
    "    return is_significant\n",
    "\n",
    "# Given data\n",
    "group_A = [80, 85, 90, 92, 87, 83]\n",
    "group_B = [75, 78, 82, 79, 81, 84]\n",
    "alpha = 0.01\n",
    "\n",
    "# Perform the F-test to check if the variances are significantly different\n",
    "result = f_test_unequal_variances(group_A, group_B, alpha)\n",
    "\n",
    "# Print the result\n",
    "if result:\n",
    "    print(\"The variances are significantly different.\")\n",
    "else:\n",
    "    print(\"The variances are not significantly different.\")\n",
    "\n",
    "# In this program, group_A and group_B represent the test scores of Group A and Group B, respectively. The alpha variable represents the significance level set to 0.01 for a 1% significance level.\n",
    "\n",
    "# The function f_test_unequal_variances calculates the sample variances and sizes of the two samples and performs the F-test, comparing the observed F-value (sample variance1 divided by sample variance2) to the critical F-value at the specified significance level and degrees of freedom. If the observed F-value is greater than the critical F-value, the variances of the test scores are significantly different.\n",
    "\n",
    "# Before running the program, make sure to provide the correct values for group_A, group_B, and alpha. The program will then output whether the variances of the test scores are significantly different at the specified significance level."
   ]
  },
  {
   "cell_type": "code",
   "execution_count": null,
   "id": "e703caa5-53b2-4ed5-80a5-e765697a454c",
   "metadata": {},
   "outputs": [],
   "source": []
  }
 ],
 "metadata": {
  "kernelspec": {
   "display_name": "Python 3 (ipykernel)",
   "language": "python",
   "name": "python3"
  },
  "language_info": {
   "codemirror_mode": {
    "name": "ipython",
    "version": 3
   },
   "file_extension": ".py",
   "mimetype": "text/x-python",
   "name": "python",
   "nbconvert_exporter": "python",
   "pygments_lexer": "ipython3",
   "version": "3.10.8"
  }
 },
 "nbformat": 4,
 "nbformat_minor": 5
}
