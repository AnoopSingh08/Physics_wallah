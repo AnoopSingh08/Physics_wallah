{
 "cells": [
  {
   "cell_type": "markdown",
   "id": "2a173032-cb73-467b-a6df-ef02aef63acf",
   "metadata": {},
   "source": [
    "### Question1"
   ]
  },
  {
   "cell_type": "code",
   "execution_count": null,
   "id": "27ee6bf3-b957-41b8-8efd-bb8188548a01",
   "metadata": {},
   "outputs": [],
   "source": [
    "# read_csv(): This function is used to read data from a CSV file and create a DataFrame.\n",
    "\n",
    "import pandas as pd\n",
    "\n",
    "# Read a CSV file and create a DataFrame\n",
    "df = pd.read_csv('data.csv')\n",
    "\n",
    "print(df.head())\n",
    "\n",
    "# fillna(): This function is used to fill missing values in a DataFrame with a specified value or method.\n",
    "\n",
    "import pandas as pd\n",
    "\n",
    "# Fill missing values with 0 in a DataFrame\n",
    "df.fillna(0, inplace=True)\n",
    "\n",
    "print(df.head())\n",
    "\n",
    "# groupby(): This function is used to group data in a DataFrame based on specified columns and perform aggregations.\n",
    "\n",
    "import pandas as pd\n",
    "\n",
    "# Group data by 'Category' column and calculate average 'Price'\n",
    "grouped_data = df.groupby('Category')['Price'].mean()\n",
    "\n",
    "print(grouped_data)\n",
    "\n",
    "# merge(): This function is used to combine two or more DataFrames based on a common column or index.\n",
    "\n",
    "import pandas as pd\n",
    "\n",
    "# Merge two DataFrames based on 'ID' column\n",
    "merged_df = pd.merge(df1, df2, on='ID')\n",
    "\n",
    "print(merged_df.head())\n",
    "\n",
    "# to_csv(): This function is used to write a DataFrame to a CSV file.\n",
    "\n",
    "    import pandas as pd\n",
    "\n",
    "    # Write DataFrame to a CSV file\n",
    "    df.to_csv('output.csv', index=False)\n",
    "\n",
    "    print(\"DataFrame written to output.csv\")\n",
    "\n",
    "# These are just a few examples of the many functions available in the Pandas library. Each of these functions serves a specific purpose\n",
    "# and can be  applied to perform various data manipulation and analysis tasks."
   ]
  },
  {
   "cell_type": "markdown",
   "id": "e9116198-4cd2-4c01-ac75-7890798db592",
   "metadata": {},
   "source": [
    "### Question2"
   ]
  },
  {
   "cell_type": "code",
   "execution_count": 2,
   "id": "95dcf1fa-7af0-4b94-a3a6-414615f49941",
   "metadata": {},
   "outputs": [
    {
     "name": "stdout",
     "output_type": "stream",
     "text": [
      "Original DataFrame:\n",
      "   A  B      C\n",
      "0  1  a   True\n",
      "1  2  b  False\n",
      "2  3  c   True\n",
      "\n",
      "Reindexed DataFrame:\n",
      "   A  B      C\n",
      "1  1  a   True\n",
      "3  2  b  False\n",
      "5  3  c   True\n"
     ]
    }
   ],
   "source": [
    "import pandas as pd\n",
    "\n",
    "def reindex_dataframe(df):\n",
    "    new_index = pd.Index(range(1, len(df) * 2 + 1, 2))\n",
    "    df = df.set_index(new_index)\n",
    "    return df\n",
    "\n",
    "# Creating a DataFrame\n",
    "data = {'A': [1, 2, 3],\n",
    "        'B': ['a', 'b', 'c'],\n",
    "        'C': [True, False, True]}\n",
    "\n",
    "df = pd.DataFrame(data)\n",
    "\n",
    "# Display the original DataFrame\n",
    "print(\"Original DataFrame:\")\n",
    "print(df)\n",
    "\n",
    "# Reindex the DataFrame\n",
    "df = reindex_dataframe(df)\n",
    "\n",
    "# Display the reindexed DataFrame\n",
    "print(\"\\nReindexed DataFrame:\")\n",
    "print(df)"
   ]
  },
  {
   "cell_type": "markdown",
   "id": "84f22a04-3a6e-49ac-b6a4-3b9a5ae1b0fc",
   "metadata": {},
   "source": [
    "### Question3"
   ]
  },
  {
   "cell_type": "code",
   "execution_count": 3,
   "id": "4b40c52d-72d8-4e20-90f8-90b19bdf8ff0",
   "metadata": {},
   "outputs": [
    {
     "name": "stdout",
     "output_type": "stream",
     "text": [
      "Original DataFrame:\n",
      "   Values\n",
      "0      10\n",
      "1      20\n",
      "2      30\n",
      "3      40\n",
      "4      50\n",
      "Sum of the first three values: 60\n"
     ]
    }
   ],
   "source": [
    "import pandas as pd\n",
    "\n",
    "def calculate_sum_of_values(df):\n",
    "    total_sum = 0\n",
    "    count = 0\n",
    "    \n",
    "    for index, row in df.iterrows():\n",
    "        value = row['Values']\n",
    "        \n",
    "        if count < 3:\n",
    "            total_sum += value\n",
    "            count += 1\n",
    "        else:\n",
    "            break\n",
    "    \n",
    "    print(\"Sum of the first three values:\", total_sum)\n",
    "\n",
    "# Creating a DataFrame\n",
    "data = {'Values': [10, 20, 30,40,50]}\n",
    "\n",
    "df = pd.DataFrame(data)\n",
    "# Display the original DataFrame\n",
    "print(\"Original DataFrame:\")\n",
    "print(df)\n",
    "\n",
    "# Calculate and print the sum of the first three values\n",
    "calculate_sum_of_values(df)\n"
   ]
  },
  {
   "cell_type": "markdown",
   "id": "418fdc0d-8f5e-4639-9bb3-84357d033bba",
   "metadata": {},
   "source": [
    "### Question4"
   ]
  },
  {
   "cell_type": "code",
   "execution_count": 10,
   "id": "afc1284b-997a-4f65-9661-9b1c0e0fb344",
   "metadata": {},
   "outputs": [
    {
     "name": "stdout",
     "output_type": "stream",
     "text": [
      "Original DataFrame:\n",
      "          Text\n",
      "0  Hello World\n",
      "1  ANOOP SINGH\n",
      "2         MANU\n",
      "\n",
      "DataFrame with Word_Count:\n",
      "          Text  Word_Count\n",
      "0  Hello World           2\n",
      "1  ANOOP SINGH           2\n",
      "2         MANU           1\n"
     ]
    }
   ],
   "source": [
    "import pandas as pd\n",
    "\n",
    "def count_words(df):\n",
    "    df['Word_Count'] = df['Text'].apply(lambda x: len(str(x).split()))\n",
    "    return df\n",
    "# Creating a DataFrame\n",
    "data = {'Text': ['Hello World', 'ANOOP SINGH','MANU']}\n",
    "\n",
    "df = pd.DataFrame(data)\n",
    "# Display the original DataFrame\n",
    "print(\"Original DataFrame:\")\n",
    "print(df)\n",
    "\n",
    "# Count the number of words and create the 'Word_Count' column\n",
    "df = count_words(df)\n",
    "\n",
    "# Display the DataFrame with the 'Word_Count' column\n",
    "print(\"\\nDataFrame with Word_Count:\")\n",
    "print(df)\n"
   ]
  },
  {
   "cell_type": "markdown",
   "id": "53e7cf34-6da8-49c1-ac60-ae4b86a2a144",
   "metadata": {},
   "source": [
    "### Question5"
   ]
  },
  {
   "cell_type": "code",
   "execution_count": 11,
   "id": "e5c7ef0e-93b7-4756-b5ec-05d30c5d2072",
   "metadata": {},
   "outputs": [
    {
     "name": "stdout",
     "output_type": "stream",
     "text": [
      "DataFrame size: 9\n",
      "DataFrame shape: (3, 3)\n"
     ]
    }
   ],
   "source": [
    "#DataFrame.size() and DataFrame.shape() are both methods in Pandas used to retrieve information about the dimensions of a DataFrame, but \n",
    "# they provide different types of information.\n",
    "\n",
    "#    DataFrame.size() returns the total number of elements in the DataFrame. It calculates the size by multiplying the number of rows by \n",
    "# the number of columns. The returned value represents the total number of elements, including missing or NaN values. \n",
    "\n",
    "#    DataFrame.shape() returns a tuple that represents the dimensions of the DataFrame. It returns the number of rows and columns as \n",
    "# (num_rows,num_columns). The shape attribute provides information about the structure of the DataFrame without considering the \n",
    "# actual data within it.   \n",
    "\n",
    "# To illustrate the difference, let's consider an example:\n",
    "\n",
    "import pandas as pd\n",
    "\n",
    "data = {'A': [1, 2, 3],\n",
    "        'B': ['a', 'b', 'c'],\n",
    "        'C': [True, False, True]}\n",
    "\n",
    "df = pd.DataFrame(data)\n",
    "\n",
    "print(\"DataFrame size:\", df.size)\n",
    "print(\"DataFrame shape:\", df.shape)\n"
   ]
  },
  {
   "cell_type": "markdown",
   "id": "238610a9-317f-4778-9e02-4788b45a3a18",
   "metadata": {},
   "source": [
    "### Question6"
   ]
  },
  {
   "cell_type": "code",
   "execution_count": null,
   "id": "dc1f3d13-de29-429b-98fd-1ab9f0b47871",
   "metadata": {},
   "outputs": [],
   "source": [
    "# In Pandas, you can use the read_excel() function to read an Excel file and load its data into a DataFrame. This function is part of \n",
    "# the pandas \n",
    "# library and provides various options to customize the import process. Here's an example that demonstrates how to use read_excel():\n",
    "\n",
    "import pandas as pd\n",
    "\n",
    "# Specify the file path of the Excel file\n",
    "excel_file_path = 'path/to/your/file.xlsx'\n",
    "\n",
    "# Read the Excel file into a DataFrame\n",
    "df = pd.read_excel(excel_file_path)\n",
    "\n",
    "# Display the DataFrame\n",
    "print(df)\n",
    "\n",
    "#In this example, you need to specify the file path of the Excel file you want to read by setting the excel_file_path variable to the \n",
    "# appropriate file path. Then, you can use pd.read_excel() to read the Excel file and load its data into the DataFrame df.\n",
    "\n",
    "#The read_excel() function automatically detects the first sheet of the Excel file and imports its data. If you have multiple sheets or\n",
    "# want to read a specific sheet, you can pass the sheet_name parameter to specify the sheet by name or index.\n",
    "\n",
    "#Additionally, the read_excel() function provides many optional parameters to customize the import process, such as header to specify the \n",
    "# row index to use as column names, skiprows to skip a specified number of rows, usecols to select specific columns, and many more."
   ]
  },
  {
   "cell_type": "markdown",
   "id": "dfa9ba38-423b-49af-a82a-8828878ff772",
   "metadata": {},
   "source": [
    "### Question7"
   ]
  },
  {
   "cell_type": "code",
   "execution_count": 6,
   "id": "b57c948c-4091-4aa6-bade-e0ffb5febe80",
   "metadata": {},
   "outputs": [
    {
     "name": "stdout",
     "output_type": "stream",
     "text": [
      "                     Email     Username\n",
      "0     john.doe@example.com     john.doe\n",
      "1   jane.smith@example.com   jane.smith\n",
      "2  bob.johnson@example.com  bob.johnson\n"
     ]
    }
   ],
   "source": [
    "import pandas as pd\n",
    "\n",
    "# Creating the DataFrame\n",
    "data = {'Email': ['john.doe@example.com',\n",
    "                  'jane.smith@example.com',\n",
    "                  'bob.johnson@example.com']}\n",
    "\n",
    "df = pd.DataFrame(data)\n",
    "\n",
    "# Function to extract the username and create 'Username' column\n",
    "def extract_username(df):\n",
    "    df['Username'] = df['Email'].str.split('@').str.get(0)\n",
    "    return df\n",
    "\n",
    "# Applying the function to create 'Username' column\n",
    "df = extract_username(df)\n",
    "\n",
    "# Display the DataFrame with the 'Username' column\n",
    "print(df)\n"
   ]
  },
  {
   "cell_type": "markdown",
   "id": "8475638a-dfb7-494a-9d09-17bf63e68234",
   "metadata": {},
   "source": [
    "### Question8"
   ]
  },
  {
   "cell_type": "code",
   "execution_count": 1,
   "id": "54a62ed5-85c4-48c2-98f3-94cc945c6ca4",
   "metadata": {},
   "outputs": [
    {
     "name": "stdout",
     "output_type": "stream",
     "text": [
      "   A  B  C\n",
      "1  8  2  7\n",
      "2  6  9  4\n",
      "4  9  1  2\n"
     ]
    }
   ],
   "source": [
    "import pandas as pd\n",
    "\n",
    "# Creating the DataFrame\n",
    "data = {'A': [3, 8, 6,2,9],\n",
    "        'B': [5, 2, 9,3,1],\n",
    "        'C': [1,7,4,5,2]}\n",
    "\n",
    "df = pd.DataFrame(data)\n",
    "\n",
    "# Function to select rows based on conditions\n",
    "def select_rows(df):\n",
    "    selected_df = df[(df['A'] > 5) & (df['B'] < 10)]\n",
    "    return selected_df\n",
    "\n",
    "# Applying the function to select rows\n",
    "selected_rows_df = select_rows(df)\n",
    "\n",
    "# Display the DataFrame with selected rows\n",
    "print(selected_rows_df)\n"
   ]
  },
  {
   "cell_type": "markdown",
   "id": "bd6d88cd-8e1f-4161-ac67-473cbecb2f53",
   "metadata": {},
   "source": [
    "### Question9"
   ]
  },
  {
   "cell_type": "code",
   "execution_count": 2,
   "id": "78f29321-5c0c-401c-9aec-fd3aa4f59c41",
   "metadata": {},
   "outputs": [
    {
     "name": "stdout",
     "output_type": "stream",
     "text": [
      "Mean: 20.0\n",
      "Median: 20.0\n",
      "Standard Deviation: 7.905694150420948\n"
     ]
    }
   ],
   "source": [
    "import pandas as pd\n",
    "\n",
    "# Creating the DataFrame\n",
    "data = {'Values': [10, 15, 20, 25, 30]}\n",
    "\n",
    "df = pd.DataFrame(data)\n",
    "\n",
    "# Function to calculate statistics\n",
    "def calculate_statistics(df):\n",
    "    mean_value = df['Values'].mean()\n",
    "    median_value = df['Values'].median()\n",
    "    std_value = df['Values'].std()\n",
    "    \n",
    "    return mean_value, median_value, std_value\n",
    "\n",
    "# Applying the function to calculate statistics\n",
    "mean, median, std = calculate_statistics(df)\n",
    "\n",
    "# Display the statistics\n",
    "print(\"Mean:\", mean)\n",
    "print(\"Median:\", median)\n",
    "print(\"Standard Deviation:\", std)\n"
   ]
  },
  {
   "cell_type": "markdown",
   "id": "8aa564b0-6342-4606-95ce-e22d10ac8b73",
   "metadata": {},
   "source": [
    "### Question10"
   ]
  },
  {
   "cell_type": "code",
   "execution_count": 3,
   "id": "9ff1c712-17f1-437a-aaeb-0d5391208838",
   "metadata": {},
   "outputs": [
    {
     "name": "stdout",
     "output_type": "stream",
     "text": [
      "   Sales       Date  MovingAverage\n",
      "0     10 2023-01-01      10.000000\n",
      "1     15 2023-01-02      12.500000\n",
      "2      8 2023-01-03      11.000000\n",
      "3     12 2023-01-04      11.250000\n",
      "4     20 2023-01-05      13.000000\n",
      "5     25 2023-01-06      15.000000\n",
      "6     18 2023-01-07      15.428571\n",
      "7     22 2023-01-08      17.142857\n",
      "8     17 2023-01-09      17.428571\n",
      "9     16 2023-01-10      18.571429\n"
     ]
    }
   ],
   "source": [
    "import pandas as pd\n",
    "\n",
    "# Creating the DataFrame\n",
    "data = {'Sales': [10, 15, 8, 12, 20, 25, 18, 22, 17, 16],\n",
    "        'Date': pd.date_range('2023-01-01', periods=10)}\n",
    "\n",
    "df = pd.DataFrame(data)\n",
    "\n",
    "# Function to calculate the moving average\n",
    "def calculate_moving_average(df):\n",
    "    df['MovingAverage'] = df['Sales'].rolling(window=7, min_periods=1).mean()\n",
    "    return df\n",
    "\n",
    "# Applying the function to calculate the moving average\n",
    "df = calculate_moving_average(df)\n",
    "\n",
    "# Display the DataFrame with the 'MovingAverage' column\n",
    "print(df)\n"
   ]
  },
  {
   "cell_type": "markdown",
   "id": "497c5ef9-49a0-4d03-9424-3f977070e9c4",
   "metadata": {},
   "source": [
    "### Question11"
   ]
  },
  {
   "cell_type": "code",
   "execution_count": 4,
   "id": "02e34fc6-db07-49d5-9227-86d474eb2e8a",
   "metadata": {},
   "outputs": [
    {
     "name": "stdout",
     "output_type": "stream",
     "text": [
      "        Date    Weekday\n",
      "0 2023-01-01     Sunday\n",
      "1 2023-01-02     Monday\n",
      "2 2023-01-03    Tuesday\n",
      "3 2023-01-04  Wednesday\n",
      "4 2023-01-05   Thursday\n",
      "5 2023-01-06     Friday\n",
      "6 2023-01-07   Saturday\n"
     ]
    }
   ],
   "source": [
    "import pandas as pd\n",
    "\n",
    "# Creating the DataFrame\n",
    "data = {'Date': pd.date_range('2023-01-01', periods=7)}\n",
    "\n",
    "df = pd.DataFrame(data)\n",
    "\n",
    "# Function to create the 'Weekday' column\n",
    "def add_weekday_column(df):\n",
    "    df['Weekday'] = df['Date'].dt.strftime('%A')\n",
    "    return df\n",
    "\n",
    "# Applying the function to create the 'Weekday' column\n",
    "df = add_weekday_column(df)\n",
    "\n",
    "# Display the DataFrame with the 'Weekday' column\n",
    "print(df)\n"
   ]
  },
  {
   "cell_type": "markdown",
   "id": "a77a17b8-5dc1-47c1-ad32-0d427902c3de",
   "metadata": {},
   "source": [
    "### Question12"
   ]
  },
  {
   "cell_type": "code",
   "execution_count": 5,
   "id": "cfc275a6-d56e-44b5-ae2f-e7b9dc2a1803",
   "metadata": {},
   "outputs": [
    {
     "name": "stdout",
     "output_type": "stream",
     "text": [
      "         Date\n",
      "0  2023-01-01\n",
      "1  2023-01-02\n",
      "2  2023-01-03\n",
      "3  2023-01-04\n",
      "4  2023-01-05\n",
      "5  2023-01-06\n",
      "6  2023-01-07\n",
      "7  2023-01-08\n",
      "8  2023-01-09\n",
      "9  2023-01-10\n",
      "10 2023-01-11\n",
      "11 2023-01-12\n",
      "12 2023-01-13\n",
      "13 2023-01-14\n",
      "14 2023-01-15\n",
      "15 2023-01-16\n",
      "16 2023-01-17\n",
      "17 2023-01-18\n",
      "18 2023-01-19\n",
      "19 2023-01-20\n",
      "20 2023-01-21\n",
      "21 2023-01-22\n",
      "22 2023-01-23\n",
      "23 2023-01-24\n",
      "24 2023-01-25\n",
      "25 2023-01-26\n",
      "26 2023-01-27\n",
      "27 2023-01-28\n",
      "28 2023-01-29\n",
      "29 2023-01-30\n",
      "30 2023-01-31\n"
     ]
    }
   ],
   "source": [
    "import pandas as pd\n",
    "\n",
    "# Creating the DataFrame\n",
    "data = {'Date': pd.date_range('2023-01-01', periods=50)}\n",
    "\n",
    "df = pd.DataFrame(data)\n",
    "\n",
    "# Function to select rows between specified dates\n",
    "def select_rows_between_dates(df, start_date, end_date):\n",
    "    start_date = pd.to_datetime(start_date)\n",
    "    end_date = pd.to_datetime(end_date)\n",
    "    selected_df = df[(df['Date'] >= start_date) & (df['Date'] <= end_date)]\n",
    "    return selected_df\n",
    "\n",
    "# Applying the function to select rows between dates\n",
    "selected_rows_df = select_rows_between_dates(df, '2023-01-01', '2023-01-31')\n",
    "\n",
    "# Display the DataFrame with selected rows\n",
    "print(selected_rows_df)\n"
   ]
  },
  {
   "cell_type": "markdown",
   "id": "9b3e975c-3b07-47ac-9403-c380e289edc5",
   "metadata": {},
   "source": [
    "### Question13"
   ]
  },
  {
   "cell_type": "code",
   "execution_count": null,
   "id": "2b8d5778-6013-4974-a3a3-a310942dc50a",
   "metadata": {},
   "outputs": [],
   "source": [
    "# The first and foremost library that needs to be imported to use the basic functions of Pandas is the Pandas library itself. Pandas is a\n",
    "# powerful data manipulation and analysis library for Python, providing a wide range of functions and data structures to work with \n",
    "# structured data. It is the primary library used for handling tabular data and is built on top of NumPy, another fundamental library for\n",
    "# scientific computing in Python.\n",
    "\n",
    "# To import the Pandas library, you can use the following import statement:\n",
    "\n",
    "import pandas as pd\n",
    "\n",
    "# By convention, it is common to import Pandas with the alias 'pd' to make the code shorter and easier to read. This way, you can refer to \n",
    "# Pandas functions and objects by prefixing them with 'pd'. For example, to create a DataFrame, you would use pd.DataFrame(), and to apply \n",
    "# functions like pd.read_csv() or pd.DataFrame.mean(), you would utilize the 'pd' prefix.\n",
    "\n",
    "# Once the Pandas library is imported, you can access its functions and objects to perform various data manipulation, analysis, and \n",
    "# visualization tasks on your data."
   ]
  }
 ],
 "metadata": {
  "kernelspec": {
   "display_name": "Python 3 (ipykernel)",
   "language": "python",
   "name": "python3"
  },
  "language_info": {
   "codemirror_mode": {
    "name": "ipython",
    "version": 3
   },
   "file_extension": ".py",
   "mimetype": "text/x-python",
   "name": "python",
   "nbconvert_exporter": "python",
   "pygments_lexer": "ipython3",
   "version": "3.10.8"
  }
 },
 "nbformat": 4,
 "nbformat_minor": 5
}
