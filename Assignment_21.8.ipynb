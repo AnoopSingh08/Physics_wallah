{
 "cells": [
  {
   "cell_type": "markdown",
   "id": "30f77304-879f-4cdf-b058-980845ce6502",
   "metadata": {},
   "source": [
    "#### Part 1: Theoretical Questions"
   ]
  },
  {
   "cell_type": "markdown",
   "id": "12fd796d-df27-415f-af17-06b144171268",
   "metadata": {},
   "source": [
    "### Question1"
   ]
  },
  {
   "cell_type": "code",
   "execution_count": null,
   "id": "cc0ec0c4-c37a-498f-9694-4b81e61eaba7",
   "metadata": {},
   "outputs": [],
   "source": [
    "# TensorFlow, being a flexible and powerful machine learning library, uses various data structures to handle different types of data and computations efficiently. Here are some of the primary data structures used in TensorFlow:\n",
    "\n",
    "#     Tensors:\n",
    "#         Tensors are the fundamental data structure in TensorFlow. They are multi-dimensional arrays that can hold both scalars and higher-dimensional data.\n",
    "#         Examples:\n",
    "#             Scalar: tf.constant(3.14)\n",
    "#             Vector: tf.constant([1, 2, 3])\n",
    "#             Matrix: tf.constant([[1, 2], [3, 4]])\n",
    "\n",
    "#     Variables:\n",
    "#         TensorFlow Variables are used to represent and store trainable model parameters (weights and biases) that are updated during training.\n",
    "#         Example: tf.Variable(initial_value=[1.0, 2.0])\n",
    "\n",
    "#     Constants:\n",
    "#         Constants are tensors with fixed values that do not change during computation. They are typically used for non-trainable data.\n",
    "#         Example: tf.constant(42)\n",
    "\n",
    "#     Placeholders (Deprecated in TensorFlow 2.x):\n",
    "#         Placeholders were used in TensorFlow 1.x for feeding data into the computational graph during training. They are now deprecated in TensorFlow 2.x in favor of tf.data pipelines.\n",
    "#         Example (TF 1.x): tf.placeholder(tf.float32, shape=(None, 784))\n",
    "\n",
    "#     Sparse Tensors:\n",
    "#         Sparse tensors are used to represent tensors with a large number of zero values efficiently.\n",
    "#         Example: tf.sparse.SparseTensor(indices=[[0, 0], [1, 2]], values=[1.0, 2.0], dense_shape=[3, 3])\n",
    "\n",
    "#     Ragged Tensors:\n",
    "#         Ragged tensors represent tensors with varying numbers of elements along one or more dimensions.\n",
    "#         Example: tf.ragged.constant([[1, 2], [3, 4, 5], [6]])\n",
    "\n",
    "#     Dense Tensors:\n",
    "#         Dense tensors are regular multi-dimensional tensors where all elements are present.\n",
    "#         Examples: All the examples of tensors listed in #1 are dense tensors.\n",
    "\n",
    "#     Sparse Tensors:\n",
    "#         Sparse tensors are used to represent tensors with a large number of zero values efficiently.\n",
    "#         Example: tf.SparseTensor(indices=[[0, 0], [1, 2]], values=[1.0, 2.0], dense_shape=[3, 3])\n",
    "\n",
    "#     Ragged Tensors:\n",
    "#         Ragged tensors represent tensors with varying numbers of elements along one or more dimensions.\n",
    "#         Example: tf.RaggedTensor.from_value_rowids(values=[1, 2, 3, 4, 5], value_rowids=[0, 2, 2, 3, 3])\n",
    "\n",
    "#     Sequences (tf.data API):\n",
    "#         The tf.data API provides data structures like tf.data.Dataset to represent datasets efficiently. It's commonly used for data input pipelines.\n",
    "#         Example:\n",
    "\n",
    "#         dataset = tf.data.Dataset.from_tensor_slices((features, labels))\n",
    "\n",
    "#     Sparse Tensors (tf.SparseTensor):\n",
    "#         Sparse tensors are used to efficiently represent tensors with many zero values. They are particularly useful in natural language processing tasks.\n",
    "#         Example: tf.SparseTensor(indices=[[0, 0], [1, 2]], values=[1.0, 2.0], dense_shape=[3, 3])\n",
    "\n",
    "# These are some of the primary data structures used in TensorFlow. The choice of data structure depends on the specific task, the nature of the data, and the computational requirements. TensorFlow provides these structures to handle a wide range of scenarios efficiently and effectively."
   ]
  },
  {
   "cell_type": "markdown",
   "id": "91036e3d-5a2a-403c-8beb-bf726baca926",
   "metadata": {},
   "source": [
    "### Question2"
   ]
  },
  {
   "cell_type": "code",
   "execution_count": null,
   "id": "e7ea1686-5deb-48af-be81-76fbb650d3aa",
   "metadata": {},
   "outputs": [],
   "source": [
    "# In TensorFlow, both constants and variables are used to represent data or values, but they serve different purposes, particularly with respect to how they are used in computations and during training. Here's how TensorFlow constants and variables differ, along with an example to illustrate their distinctions:\n",
    "\n",
    "# TensorFlow Constants:\n",
    "\n",
    "#     Constants are tensors with fixed values that do not change during the execution of a TensorFlow graph or session. Once a constant is defined, its value remains the same throughout the computation.\n",
    "#     Constants are typically used to represent non-trainable data or values that are known and do not need to be updated during training.\n",
    "\n",
    "# TensorFlow Variables:\n",
    "\n",
    "#     Variables, on the other hand, are used to represent and store trainable model parameters, such as weights and biases in neural networks. Unlike constants, variable values can be updated during training.\n",
    "#     Variables are initialized with an initial value and can be modified using operations like gradient descent during optimization.\n",
    "\n",
    "# Here's an example to illustrate the difference between a TensorFlow constant and a TensorFlow variable:\n",
    "\n",
    "\n",
    "import tensorflow as tf\n",
    "\n",
    "# Define a TensorFlow constant\n",
    "constant_value = tf.constant(42.0)  # A constant with the value 42.0\n",
    "\n",
    "# Define a TensorFlow variable\n",
    "initial_value = tf.constant(0.0)  # Initial value for the variable\n",
    "variable = tf.Variable(initial_value)  # Create a variable with the initial value\n",
    "\n",
    "# Perform operations using the constant and variable\n",
    "addition_result = constant_value + 10.0\n",
    "update_variable = variable.assign_add(5.0)\n",
    "\n",
    "# Create a TensorFlow session to run operations\n",
    "with tf.Session() as sess:\n",
    "    # Initialize variables (necessary for variables)\n",
    "    sess.run(tf.global_variables_initializer())\n",
    "    \n",
    "    # Evaluate and print results\n",
    "    constant_result = sess.run(addition_result)\n",
    "    print(\"Result using a TensorFlow constant:\", constant_result)\n",
    "    \n",
    "    variable_result = sess.run(update_variable)\n",
    "    print(\"Result using a TensorFlow variable after an update:\", variable_result)\n",
    "\n",
    "# In this example:\n",
    "\n",
    "#     constant_value is a TensorFlow constant with a fixed value of 42.0. This value cannot be changed during execution.\n",
    "#     variable is a TensorFlow variable initialized with an initial value of 0.0. It can be updated using the assign_add operation, allowing its value to change during execution.\n",
    "\n",
    "# When you run the session, you'll observe that the constant retains its initial value, while the variable can be updated. This demonstrates the fundamental difference between TensorFlow constants and variables: constants have fixed values, while variables can change their values during computations, making them suitable for representing trainable parameters in machine learning models."
   ]
  },
  {
   "cell_type": "markdown",
   "id": "888e8b37-8b1c-4e38-8d7f-46e8a585f623",
   "metadata": {},
   "source": [
    "#### Question3"
   ]
  },
  {
   "cell_type": "code",
   "execution_count": null,
   "id": "90dbd63f-5507-4142-ac66-4b82a72b6b5c",
   "metadata": {},
   "outputs": [],
   "source": [
    "# In TensorFlow, matrix operations such as addition, multiplication, and element-wise operations can be performed using TensorFlow tensors. Here's a brief description of each of these operations in TensorFlow:\n",
    "\n",
    "#     Matrix Addition:\n",
    "#         Matrix addition is a binary operation where corresponding elements of two matrices are added together.\n",
    "#         In TensorFlow, you can use the tf.add() function or simply use the + operator to perform matrix addition.\n",
    "#         Example:\n",
    "\n",
    "    import tensorflow as tf\n",
    "\n",
    "    # Create two TensorFlow constants representing matrices\n",
    "    matrix1 = tf.constant([[1, 2], [3, 4]])\n",
    "    matrix2 = tf.constant([[5, 6], [7, 8]])\n",
    "\n",
    "    # Perform matrix addition\n",
    "    result = tf.add(matrix1, matrix2)  # Alternatively, you can use matrix1 + matrix2\n",
    "\n",
    "    with tf.Session() as sess:\n",
    "        result_value = sess.run(result)\n",
    "        print(result_value)\n",
    "\n",
    "# Matrix Multiplication:\n",
    "\n",
    "#     Matrix multiplication is a binary operation where two matrices are multiplied together following a specific rule.\n",
    "#     In TensorFlow, you can use the tf.matmul() function or the @ operator for matrix multiplication.\n",
    "#     Example:\n",
    "        \n",
    "    import tensorflow as tf\n",
    "\n",
    "    # Create two TensorFlow constants representing matrices\n",
    "    matrix1 = tf.constant([[1, 2], [3, 4]])\n",
    "    matrix2 = tf.constant([[5, 6], [7, 8]])\n",
    "\n",
    "    # Perform matrix multiplication\n",
    "    result = tf.matmul(matrix1, matrix2)  # Alternatively, you can use matrix1 @ matrix2\n",
    "\n",
    "    with tf.Session() as sess:\n",
    "        result_value = sess.run(result)\n",
    "        print(result_value)\n",
    "\n",
    "# Element-Wise Operations:\n",
    "\n",
    "#     Element-wise operations involve applying a mathematical operation to each element of a tensor individually, without considering the elements' positions in the tensors.\n",
    "#     Common element-wise operations include addition, subtraction, multiplication, division, and more.\n",
    "#     Element-wise operations can be performed directly using operators or TensorFlow functions.\n",
    "#     Example (element-wise multiplication):\n",
    "\n",
    "        import tensorflow as tf\n",
    "\n",
    "        # Create two TensorFlow constants representing matrices\n",
    "        matrix1 = tf.constant([[1, 2], [3, 4]])\n",
    "        matrix2 = tf.constant([[5, 6], [7, 8]])\n",
    "\n",
    "        # Perform element-wise multiplication\n",
    "        result = matrix1 * matrix2  # Alternatively, you can use tf.multiply(matrix1, matrix2)\n",
    "\n",
    "        with tf.Session() as sess:\n",
    "            result_value = sess.run(result)\n",
    "            print(result_value)\n",
    "\n",
    "# These are the basic operations for matrix addition, multiplication, and element-wise operations in TensorFlow. These operations are fundamental for various mathematical and machine learning computations. Depending on the specific use case and requirements, you can perform more complex operations and transformations on tensors in TensorFlow.\n"
   ]
  },
  {
   "cell_type": "markdown",
   "id": "4fee3126-ab50-45df-ab8a-05be330cbcfd",
   "metadata": {},
   "source": [
    "### Part 2: Practical Implementation"
   ]
  },
  {
   "cell_type": "markdown",
   "id": "3bc9bda9-290c-4dcc-b10f-67f267df95b0",
   "metadata": {},
   "source": [
    "#### Task 1: Creating and Manipulating Matrices"
   ]
  },
  {
   "cell_type": "markdown",
   "id": "6aedc61f-126c-4c5c-ad35-99272bb72a8a",
   "metadata": {},
   "source": [
    "### Question1"
   ]
  },
  {
   "cell_type": "code",
   "execution_count": null,
   "id": "7e7ead8b-ee67-45fa-9c6e-15f7b8fba3d2",
   "metadata": {},
   "outputs": [],
   "source": [
    "# To create a 2x2 matrix A with random values sampled from a normal distribution using TensorFlow's random_normal function and display its values, you can use the following code:\n",
    "\n",
    "import tensorflow as tf\n",
    "\n",
    "# Create a 2x2 matrix with random values from a normal distribution\n",
    "A = tf.random.normal([2, 2])\n",
    "\n",
    "# Create a TensorFlow session to evaluate the matrix\n",
    "with tf.compat.v1.Session() as sess:\n",
    "    A_value = sess.run(A)\n",
    "    print(\"Matrix A:\")\n",
    "    print(A_value)\n",
    "\n",
    "# In this code:\n",
    "\n",
    "#     tf.random.normal([2, 2]) creates a 2x2 matrix ([2, 2] specifies the shape) with random values sampled from a normal distribution with a mean of 0 and a standard deviation of 1 (by default).\n",
    "#     sess.run(A) evaluates the tensor A within a TensorFlow session and retrieves its values.\n",
    "#     The result, A_value, contains the random values in the 2x2 matrix A, and it is displayed."
   ]
  },
  {
   "cell_type": "markdown",
   "id": "bf4b0d0c-0b8f-4980-b717-89b48b3a12f0",
   "metadata": {},
   "source": [
    "#### Question2"
   ]
  },
  {
   "cell_type": "code",
   "execution_count": null,
   "id": "62d01cce-2507-4fd1-bce5-7bb6f9a47346",
   "metadata": {},
   "outputs": [],
   "source": [
    "# To create a 4x4 matrix B with random values sampled from a truncated normal distribution using TensorFlow's truncated_normal function and display its values, you can use the following code:\n",
    "\n",
    "import tensorflow as tf\n",
    "\n",
    "# Create a 4x4 matrix with random values from a truncated normal distribution\n",
    "B = tf.truncated_normal([4, 4])\n",
    "\n",
    "# Create a TensorFlow session to evaluate the matrix\n",
    "with tf.compat.v1.Session() as sess:\n",
    "    B_value = sess.run(B)\n",
    "    print(\"Matrix B:\")\n",
    "    print(B_value)\n",
    "\n",
    "# In this code:\n",
    "\n",
    "#     tf.truncated_normal([4, 4]) creates a 4x4 matrix ([4, 4] specifies the shape) with random values sampled from a truncated normal distribution. The truncated normal distribution is similar to the normal distribution but with values outside a specified range truncated or ignored, which can help control the range of random values.\n",
    "#     sess.run(B) evaluates the tensor B within a TensorFlow session and retrieves its values.\n",
    "#     The result, B_value, contains the random values in the 4x4 matrix B, and it is displayed."
   ]
  },
  {
   "cell_type": "markdown",
   "id": "c0ea6dfa-91e6-4ddd-9877-3504e3f2119f",
   "metadata": {},
   "source": [
    "### Question3"
   ]
  },
  {
   "cell_type": "code",
   "execution_count": null,
   "id": "9926fedf-a90a-4c48-8204-fb31c21e5869",
   "metadata": {},
   "outputs": [],
   "source": [
    "# To create a 2x2 matrix C with values drawn from a normal distribution with a mean of 3 and a standard deviation of 0.5 using TensorFlow's random.normal function and display its values, you can use the following code:\n",
    "\n",
    "import tensorflow as tf\n",
    "\n",
    "# Define the mean and standard deviation\n",
    "mean = 3.0\n",
    "stddev = 0.5\n",
    "\n",
    "# Create a 2x2 matrix with values drawn from a normal distribution\n",
    "C = tf.random.normal([2, 2], mean=mean, stddev=stddev)\n",
    "\n",
    "# Create a TensorFlow session to evaluate the matrix\n",
    "with tf.compat.v1.Session() as sess:\n",
    "    C_value = sess.run(C)\n",
    "    print(\"Matrix C:\")\n",
    "    print(C_value)\n",
    "\n",
    "# In this code:\n",
    "\n",
    "#     mean and stddev are defined to specify the mean and standard deviation of the normal distribution from which the values in matrix C will be drawn.\n",
    "#     tf.random.normal([2, 2], mean=mean, stddev=stddev) creates a 2x2 matrix ([2, 2] specifies the shape) with values drawn from a normal distribution with the specified mean and standard deviation.\n",
    "#     sess.run(C) evaluates the tensor C within a TensorFlow session and retrieves its values.\n",
    "#     The result, C_value, contains the random values in the 2x2 matrix C, and it is displayed."
   ]
  },
  {
   "cell_type": "markdown",
   "id": "dcca1dab-0735-4155-8bdf-8f3e95b2cf94",
   "metadata": {},
   "source": [
    "#### Question4"
   ]
  },
  {
   "cell_type": "code",
   "execution_count": null,
   "id": "21d77222-00e3-4627-93ed-f247b5b181c6",
   "metadata": {},
   "outputs": [],
   "source": [
    "# To perform matrix addition between two matrices, A and B, and store the result in a new matrix D, you can use TensorFlow's tf.add() function. Here's the code to do that:\n",
    "\n",
    "import tensorflow as tf\n",
    "\n",
    "# Create matrix A\n",
    "A = tf.random.normal([2, 2])\n",
    "\n",
    "# Create matrix B\n",
    "B = tf.truncated_normal([2, 2])\n",
    "\n",
    "# Perform matrix addition to create matrix D\n",
    "D = tf.add(A, B)\n",
    "\n",
    "# Create a TensorFlow session to evaluate matrix D\n",
    "with tf.compat.v1.Session() as sess:\n",
    "    D_value = sess.run(D)\n",
    "    print(\"Matrix D (Result of A + B):\")\n",
    "    print(D_value)\n",
    "\n",
    "# In this code:\n",
    "\n",
    "#     A is a 2x2 matrix created with random values using tf.random.normal().\n",
    "#     B is a 2x2 matrix created with random values from a truncated normal distribution using tf.truncated_normal().\n",
    "#     D is created by adding A and B using tf.add().\n",
    "#     Finally, we use a TensorFlow session to evaluate and display the values of the result matrix D, which contains the element-wise sum of A and B."
   ]
  },
  {
   "cell_type": "markdown",
   "id": "fb8aa0a7-c055-4796-a00b-2472d6ef2e7b",
   "metadata": {},
   "source": [
    "#### Question5"
   ]
  },
  {
   "cell_type": "code",
   "execution_count": null,
   "id": "a50cd63b-bf59-438a-bc4d-a5a5f3f2bc3d",
   "metadata": {},
   "outputs": [],
   "source": [
    "# To perform matrix multiplication between two matrices, C and D, and store the result in a new matrix E, you can use TensorFlow's tf.matmul() function. Here's the code to do that:\n",
    "\n",
    "import tensorflow as tf\n",
    "\n",
    "# Create matrix C\n",
    "mean = 3.0\n",
    "stddev = 0.5\n",
    "C = tf.random.normal([2, 2], mean=mean, stddev=stddev)\n",
    "\n",
    "# Create matrix D\n",
    "A = tf.random.normal([2, 2])\n",
    "B = tf.truncated_normal([2, 2])\n",
    "D = tf.add(A, B)\n",
    "\n",
    "# Perform matrix multiplication to create matrix E\n",
    "E = tf.matmul(C, D)\n",
    "\n",
    "# Create a TensorFlow session to evaluate matrix E\n",
    "with tf.compat.v1.Session() as sess:\n",
    "    E_value = sess.run(E)\n",
    "    print(\"Matrix E (Result of C * D):\")\n",
    "    print(E_value)\n",
    "\n",
    "# In this code:\n",
    "\n",
    "#     C is a 2x2 matrix created with values drawn from a normal distribution with the specified mean and standard deviation.\n",
    "#     D is the result of matrix addition between matrices A and B (as shown in a previous response).\n",
    "#     E is created by multiplying matrices C and D using tf.matmul().\n",
    "#     Finally, we use a TensorFlow session to evaluate and display the values of the result matrix E, which contains the result of the matrix multiplication between C and D."
   ]
  },
  {
   "cell_type": "markdown",
   "id": "d0bcc8d1-3134-4096-85c3-2db266abbc53",
   "metadata": {},
   "source": [
    "### Task 2: Performing Additional Matrix Operations"
   ]
  },
  {
   "cell_type": "markdown",
   "id": "d8ac8fd4-8930-4c56-b569-840f6a62d68a",
   "metadata": {},
   "source": [
    "#### Question1"
   ]
  },
  {
   "cell_type": "code",
   "execution_count": null,
   "id": "df5a4c6c-cd19-477d-8ae1-3d4483e826c4",
   "metadata": {},
   "outputs": [],
   "source": [
    "# To create a 2x2 matrix F initialized with random values using TensorFlow's tf.random.uniform function, you can use the following code:\n",
    "\n",
    "import tensorflow as tf\n",
    "\n",
    "# Define the shape of the matrix\n",
    "shape = [2, 2]\n",
    "\n",
    "# Create matrix F with random values between 0 and 1\n",
    "F = tf.random.uniform(shape, minval=0, maxval=1)\n",
    "\n",
    "# Create a TensorFlow session to evaluate matrix F\n",
    "with tf.compat.v1.Session() as sess:\n",
    "    F_value = sess.run(F)\n",
    "    print(\"Matrix F (Random Uniform Values between 0 and 1):\")\n",
    "    print(F_value)\n",
    "\n",
    "# In this code:\n",
    "\n",
    "#     shape is defined to specify the shape of the matrix F, which is [2, 2] for a 2x2 matrix.\n",
    "#     tf.random.uniform(shape, minval=0, maxval=1) creates a 2x2 matrix with random values drawn from a uniform distribution between 0 (inclusive) and 1 (exclusive).\n",
    "#     We use a TensorFlow session to evaluate and display the values of the result matrix F, which contains random values within the specified range"
   ]
  },
  {
   "cell_type": "markdown",
   "id": "2c376f4f-189b-4e1b-9380-a483376f7bfe",
   "metadata": {},
   "source": [
    "#### Question2"
   ]
  },
  {
   "cell_type": "code",
   "execution_count": null,
   "id": "e1b1e389-1687-467c-93c4-dd81d1b2c9ea",
   "metadata": {},
   "outputs": [],
   "source": [
    "# To calculate the transpose of matrix F and store the result in a new matrix G in TensorFlow, you can use the tf.transpose() function. Here's the code to do that:\n",
    "\n",
    "import tensorflow as tf\n",
    "\n",
    "# Create matrix F with random values (as shown in a previous response)\n",
    "shape = [2, 2]\n",
    "F = tf.random.uniform(shape, minval=0, maxval=1)\n",
    "\n",
    "# Calculate the transpose of matrix F to create matrix G\n",
    "G = tf.transpose(F)\n",
    "\n",
    "# Create a TensorFlow session to evaluate matrix G\n",
    "with tf.compat.v1.Session() as sess:\n",
    "    G_value = sess.run(G)\n",
    "    print(\"Matrix G (Transpose of F):\")\n",
    "    print(G_value)\n",
    "\n",
    "# In this code:\n",
    "\n",
    "#     F is the matrix with random values (as previously created).\n",
    "#     G is calculated by using tf.transpose(F), which calculates the transpose of matrix F.\n",
    "#     We use a TensorFlow session to evaluate and display the values of the result matrix G, which contains the transpose of matrix F."
   ]
  },
  {
   "cell_type": "markdown",
   "id": "8c973fad-3bfd-4a16-b345-2700cf9e700b",
   "metadata": {},
   "source": [
    "### Question3"
   ]
  },
  {
   "cell_type": "code",
   "execution_count": null,
   "id": "ccf4b7ec-a7f8-47a0-9b4f-78d87c72ad9e",
   "metadata": {},
   "outputs": [],
   "source": [
    "# To calculate the element-wise exponential of matrix F and store the result in a new matrix H in TensorFlow, you can use the tf.exp() function. Here's the code to do that:\n",
    "\n",
    "import tensorflow as tf\n",
    "\n",
    "# Create matrix F with random values (as shown in a previous response)\n",
    "shape = [2, 2]\n",
    "F = tf.random.uniform(shape, minval=0, maxval=1)\n",
    "\n",
    "# Calculate the element-wise exponential of matrix F to create matrix H\n",
    "H = tf.exp(F)\n",
    "\n",
    "# Create a TensorFlow session to evaluate matrix H\n",
    "with tf.compat.v1.Session() as sess:\n",
    "    H_value = sess.run(H)\n",
    "    print(\"Matrix H (Element-wise Exponential of F):\")\n",
    "    print(H_value)\n",
    "\n",
    "# In this code:\n",
    "\n",
    "#     F is the matrix with random values (as previously created).\n",
    "#     H is calculated by using tf.exp(F), which calculates the element-wise exponential of matrix F.\n",
    "#     We use a TensorFlow session to evaluate and display the values of the result matrix H, which contains the element-wise exponential of matrix F"
   ]
  },
  {
   "cell_type": "markdown",
   "id": "3247afcc-19b2-45a2-bf11-5c241c163660",
   "metadata": {},
   "source": [
    "### Question4"
   ]
  },
  {
   "cell_type": "code",
   "execution_count": null,
   "id": "78667746-291e-44fd-b43b-55ab78ed963c",
   "metadata": {},
   "outputs": [],
   "source": [
    "# To concatenate matrix F and matrix G horizontally to create a new matrix I in TensorFlow, you can use the tf.concat() function along with the appropriate axis parameter. Here's the code to do that:\n",
    "\n",
    "import tensorflow as tf\n",
    "\n",
    "# Create matrix F with random values (as shown in a previous response)\n",
    "shape = [2, 2]\n",
    "F = tf.random.uniform(shape, minval=0, maxval=1)\n",
    "\n",
    "# Create matrix G by taking the transpose of matrix F (as shown in a previous response)\n",
    "G = tf.transpose(F)\n",
    "\n",
    "# Concatenate matrices F and G horizontally to create matrix I\n",
    "I = tf.concat([F, G], axis=1)  # Concatenate along the columns (axis=1)\n",
    "\n",
    "# Create a TensorFlow session to evaluate matrix I\n",
    "with tf.compat.v1.Session() as sess:\n",
    "    I_value = sess.run(I)\n",
    "    print(\"Matrix I (Concatenation of F and G horizontally):\")\n",
    "    print(I_value)\n",
    "\n",
    "# In this code:\n",
    "\n",
    "#     F is the matrix with random values (as previously created).\n",
    "#     G is created by taking the transpose of matrix F (as previously shown).\n",
    "#     I is calculated by using tf.concat([F, G], axis=1), which concatenates matrices F and G horizontally along the columns (axis=1).\n",
    "#     We use a TensorFlow session to evaluate and display the values of the result matrix I, which contains the concatenation of matrices F and G horizontally."
   ]
  },
  {
   "cell_type": "markdown",
   "id": "f90aa621-1d25-412e-ab00-574c5550f837",
   "metadata": {},
   "source": [
    "#### Question5"
   ]
  },
  {
   "cell_type": "code",
   "execution_count": null,
   "id": "bc730d09-8e72-4dc1-9c8a-d4092bbb76de",
   "metadata": {},
   "outputs": [],
   "source": [
    "To concatenate matrix F and matrix H vertically to create a new matrix J in TensorFlow, you can use the tf.concat() function along with the appropriate axis parameter. Here's the code to do that:\n",
    "\n",
    "python\n",
    "\n",
    "import tensorflow as tf\n",
    "\n",
    "# Create matrix F with random values (as shown in a previous response)\n",
    "shape = [2, 2]\n",
    "F = tf.random.uniform(shape, minval=0, maxval=1)\n",
    "\n",
    "# Create matrix H by calculating the element-wise exponential of matrix F (as previously shown)\n",
    "H = tf.exp(F)\n",
    "\n",
    "# Concatenate matrices F and H vertically to create matrix J\n",
    "J = tf.concat([F, H], axis=0)  # Concatenate along the rows (axis=0)\n",
    "\n",
    "# Create a TensorFlow session to evaluate matrix J\n",
    "with tf.compat.v1.Session() as sess:\n",
    "    J_value = sess.run(J)\n",
    "    print(\"Matrix J (Concatenation of F and H vertically):\")\n",
    "    print(J_value)\n",
    "\n",
    "# In this code:\n",
    "\n",
    "#     F is the matrix with random values (as previously created).\n",
    "#     H is created by calculating the element-wise exponential of matrix F (as previously shown).\n",
    "#     J is calculated by using tf.concat([F, H], axis=0), which concatenates matrices F and H vertically along the rows (axis=0).\n",
    "#     We use a TensorFlow session to evaluate and display the values of the result matrix J, which contains the concatenation of matrices F and H vertically."
   ]
  }
 ],
 "metadata": {
  "kernelspec": {
   "display_name": "Python 3 (ipykernel)",
   "language": "python",
   "name": "python3"
  },
  "language_info": {
   "codemirror_mode": {
    "name": "ipython",
    "version": 3
   },
   "file_extension": ".py",
   "mimetype": "text/x-python",
   "name": "python",
   "nbconvert_exporter": "python",
   "pygments_lexer": "ipython3",
   "version": "3.10.8"
  }
 },
 "nbformat": 4,
 "nbformat_minor": 5
}
