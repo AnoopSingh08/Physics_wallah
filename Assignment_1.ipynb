{
 "cells": [
  {
   "cell_type": "markdown",
   "id": "f9999def-0b4e-4e5a-b7d7-af951a5d6add",
   "metadata": {},
   "source": [
    "#Question1"
   ]
  },
  {
   "cell_type": "code",
   "execution_count": 7,
   "id": "cbcf5e9c-305f-4c7a-875a-fb9d71a3c1ee",
   "metadata": {},
   "outputs": [],
   "source": [
    "s=\"Hello World\" #String type"
   ]
  },
  {
   "cell_type": "code",
   "execution_count": 10,
   "id": "bb1f2b3f-b3b2-422f-8868-9564aef2a3e3",
   "metadata": {},
   "outputs": [],
   "source": [
    "l=[1,2,3,4,\"Anoop Singh\",3.44,3+5j] #list type"
   ]
  },
  {
   "cell_type": "code",
   "execution_count": 11,
   "id": "07da9dc6-ab5b-4780-9100-81ecefe439ca",
   "metadata": {},
   "outputs": [],
   "source": [
    "f=3.14 #float type"
   ]
  },
  {
   "cell_type": "code",
   "execution_count": 12,
   "id": "b4669268-41e1-4f92-8fdf-38fb14cc5f30",
   "metadata": {},
   "outputs": [],
   "source": [
    "t=(1,2,3,\"ANOOP\",3.14,4+5j) #tuple type"
   ]
  },
  {
   "cell_type": "markdown",
   "id": "15665d48-327a-42fb-8ed5-d7c692e6eb40",
   "metadata": {},
   "source": [
    "#Question2"
   ]
  },
  {
   "cell_type": "code",
   "execution_count": 21,
   "id": "edb88f03-2290-44cd-9fec-44128462813f",
   "metadata": {},
   "outputs": [],
   "source": [
    "var1 = ' '\n",
    "#var1 is of type String"
   ]
  },
  {
   "cell_type": "code",
   "execution_count": 22,
   "id": "1e9d53a0-0f37-457e-914b-d31af4574348",
   "metadata": {},
   "outputs": [],
   "source": [
    "var2 = '[ DS , ML , Python]'\n",
    "#var2 is of type string"
   ]
  },
  {
   "cell_type": "code",
   "execution_count": 23,
   "id": "5fe0aaed-9c91-4782-8671-7f011293534c",
   "metadata": {},
   "outputs": [],
   "source": [
    "var3 = [ 'DS' , 'ML' , 'Python' ]\n",
    "#var3 is of type list"
   ]
  },
  {
   "cell_type": "code",
   "execution_count": 26,
   "id": "3bd461e2-d34b-49d0-b4c3-b730b10bc6aa",
   "metadata": {},
   "outputs": [],
   "source": [
    "var4 = 1.\n",
    "#var4 is of type Float"
   ]
  },
  {
   "cell_type": "markdown",
   "id": "ac4dd4a4-3c98-48bb-90c7-050c2b0f4674",
   "metadata": {},
   "source": [
    "#Question3"
   ]
  },
  {
   "cell_type": "code",
   "execution_count": 32,
   "id": "e791d4db-f779-456d-b8d4-d2556e665579",
   "metadata": {},
   "outputs": [
    {
     "name": "stdout",
     "output_type": "stream",
     "text": [
      "3.3333333333333335\n"
     ]
    }
   ],
   "source": [
    "#The / operator is used for division in Python. When you use this operator, Python will return \n",
    "# the result of dividing the first operand by the second operand.\n",
    "#Example of / operator\n",
    "a = 10\n",
    "b = 3\n",
    "result = a / b\n",
    "print(result)\n"
   ]
  },
  {
   "cell_type": "code",
   "execution_count": 33,
   "id": "846ad68c-1c66-4ce5-b70c-75f1f6cc2fc4",
   "metadata": {},
   "outputs": [
    {
     "name": "stdout",
     "output_type": "stream",
     "text": [
      "1\n"
     ]
    }
   ],
   "source": [
    "# The % operator is used for modulus division in Python. When you use this operator, \n",
    "# Python will return the remainder of dividing the first operand by the second operand.\n",
    "#Example of % operator\n",
    "a = 10\n",
    "b = 3\n",
    "result = a % b\n",
    "print(result)"
   ]
  },
  {
   "cell_type": "code",
   "execution_count": 35,
   "id": "094d8b35-4339-454f-b972-3319d3f84bd1",
   "metadata": {},
   "outputs": [
    {
     "name": "stdout",
     "output_type": "stream",
     "text": [
      "3\n"
     ]
    }
   ],
   "source": [
    "#The // operator is used for integer division (also known as floor division) in Python. When you use this operator,\n",
    "# Python will return the result of dividing the first operand by the second operand, rounding down to the nearest integer.\n",
    "#Example of // operator\n",
    "a = 10\n",
    "b = 3\n",
    "result = a // b\n",
    "print(result)"
   ]
  },
  {
   "cell_type": "code",
   "execution_count": 36,
   "id": "50d070ef-15b5-4b3c-91a8-573201a464af",
   "metadata": {},
   "outputs": [
    {
     "name": "stdout",
     "output_type": "stream",
     "text": [
      "1000\n"
     ]
    }
   ],
   "source": [
    "#The ** operator is used for exponentiation in Python. When you use this operator,\n",
    "#Python will return the result of raising the first operand to the power of the second operand.\n",
    "a = 10\n",
    "b = 3\n",
    "result = a ** b\n",
    "print(result)"
   ]
  },
  {
   "cell_type": "markdown",
   "id": "259d585c-d370-4e78-89ee-8f77ab5a22ae",
   "metadata": {},
   "source": [
    "#Question4"
   ]
  },
  {
   "cell_type": "code",
   "execution_count": 37,
   "id": "fecf2cfc-c785-4509-b728-14b73e21450a",
   "metadata": {},
   "outputs": [
    {
     "name": "stdout",
     "output_type": "stream",
     "text": [
      "1 <class 'int'>\n",
      "2 <class 'int'>\n",
      "3 <class 'int'>\n",
      "4 <class 'int'>\n",
      "Anoop Singh <class 'str'>\n",
      "3.44 <class 'float'>\n",
      "(3+5j) <class 'complex'>\n",
      "(4, 5) <class 'tuple'>\n",
      "[6, 7, 8, 9] <class 'list'>\n",
      "True <class 'bool'>\n"
     ]
    }
   ],
   "source": [
    "l=[1,2,3,4,\"Anoop Singh\",3.44,3+5j,(4,5),[6,7,8,9],True]\n",
    "for i in l:\n",
    "    print(i,type(i))"
   ]
  },
  {
   "cell_type": "markdown",
   "id": "f8ac860e-ac25-417e-9e3e-71422799ba1d",
   "metadata": {},
   "source": [
    "#Question5"
   ]
  },
  {
   "cell_type": "code",
   "execution_count": 42,
   "id": "d95d1571-dac6-4507-a11e-0a55c2b502aa",
   "metadata": {},
   "outputs": [
    {
     "name": "stdout",
     "output_type": "stream",
     "text": [
      "100 is divisible by 5 exactly 2 times\n"
     ]
    }
   ],
   "source": [
    "c = 100\n",
    "b = 5\n",
    "a = c\n",
    "count = 0\n",
    "while a % b == 0:\n",
    "    #print(a,b)\n",
    "    a = a / b\n",
    "    count += 1\n",
    "\n",
    "if count > 0:\n",
    "    print(f\"{c} is divisible by {b} exactly {count} times\")\n",
    "else:\n",
    "    print(f\"{c} is not divisible by {b}\")"
   ]
  },
  {
   "cell_type": "markdown",
   "id": "1f1bc69b-5273-4bdb-86c4-eb50509c2bf3",
   "metadata": {},
   "source": [
    "#Question6"
   ]
  },
  {
   "cell_type": "code",
   "execution_count": 43,
   "id": "931a77c0-da36-43bb-ba55-6c0a822b75b5",
   "metadata": {},
   "outputs": [
    {
     "name": "stdout",
     "output_type": "stream",
     "text": [
      "3\n",
      "6\n",
      "9\n",
      "12\n",
      "15\n",
      "18\n",
      "21\n",
      "24\n"
     ]
    }
   ],
   "source": [
    "l=[1,2,3,4,5,6,7,8,9,10,11,12,13,14,15,16,17,18,19,20,21,22,23,24,25]\n",
    "for i in l:\n",
    "    if i%3 == 0:\n",
    "        print(i)"
   ]
  },
  {
   "cell_type": "markdown",
   "id": "0985c5ee-0139-4b19-abb0-a33ebecfa408",
   "metadata": {},
   "source": [
    "#Question7"
   ]
  },
  {
   "cell_type": "code",
   "execution_count": 46,
   "id": "e643801c-a722-4572-a479-015e45cbe685",
   "metadata": {},
   "outputs": [
    {
     "name": "stdout",
     "output_type": "stream",
     "text": [
      "Anoop\n"
     ]
    },
    {
     "ename": "TypeError",
     "evalue": "'str' object does not support item assignment",
     "output_type": "error",
     "traceback": [
      "\u001b[0;31m---------------------------------------------------------------------------\u001b[0m",
      "\u001b[0;31mTypeError\u001b[0m                                 Traceback (most recent call last)",
      "Cell \u001b[0;32mIn[46], line 8\u001b[0m\n\u001b[1;32m      6\u001b[0m s\u001b[38;5;241m=\u001b[39m\u001b[38;5;124m'\u001b[39m\u001b[38;5;124mAnoop\u001b[39m\u001b[38;5;124m'\u001b[39m\n\u001b[1;32m      7\u001b[0m \u001b[38;5;28mprint\u001b[39m(s)\n\u001b[0;32m----> 8\u001b[0m \u001b[43ms\u001b[49m\u001b[43m[\u001b[49m\u001b[38;5;241;43m0\u001b[39;49m\u001b[43m]\u001b[49m\u001b[38;5;241m=\u001b[39m\u001b[38;5;124m'\u001b[39m\u001b[38;5;124mS\u001b[39m\u001b[38;5;124m'\u001b[39m \n\u001b[1;32m      9\u001b[0m \u001b[38;5;28mprint\u001b[39m(s)\n\u001b[1;32m     10\u001b[0m \u001b[38;5;66;03m# Example of mutable type\u001b[39;00m\n",
      "\u001b[0;31mTypeError\u001b[0m: 'str' object does not support item assignment"
     ]
    }
   ],
   "source": [
    "# In Python, mutable data types are those that can be modified after they are created, \n",
    "# while immutable data types are those that cannot be modified after they are created.\n",
    "# Examples of immutable datatypes are int,float,bool,str,tuple.\n",
    "# Examples of mutable datatypes are list,set,dictionary.\n",
    "# Example of imutable type\n",
    "s='Anoop'\n",
    "print(s)\n",
    "s[0]='S' \n",
    "print(s)\n"
   ]
  },
  {
   "cell_type": "code",
   "execution_count": 47,
   "id": "445df291-da06-4067-a7c0-89780b8aabb9",
   "metadata": {},
   "outputs": [
    {
     "name": "stdout",
     "output_type": "stream",
     "text": [
      "[1, 2, 3]\n",
      "[1, 2, 3, 4]\n"
     ]
    }
   ],
   "source": [
    "# Example of mutable type\n",
    "l=[1,2,3]\n",
    "print(l)\n",
    "l.append(4)\n",
    "print(l)"
   ]
  },
  {
   "cell_type": "code",
   "execution_count": null,
   "id": "c857593a-fe82-460e-9a13-ecce5bfdbd5e",
   "metadata": {},
   "outputs": [],
   "source": []
  }
 ],
 "metadata": {
  "kernelspec": {
   "display_name": "Python 3 (ipykernel)",
   "language": "python",
   "name": "python3"
  },
  "language_info": {
   "codemirror_mode": {
    "name": "ipython",
    "version": 3
   },
   "file_extension": ".py",
   "mimetype": "text/x-python",
   "name": "python",
   "nbconvert_exporter": "python",
   "pygments_lexer": "ipython3",
   "version": "3.10.8"
  }
 },
 "nbformat": 4,
 "nbformat_minor": 5
}
