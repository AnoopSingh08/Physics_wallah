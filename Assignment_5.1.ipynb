{
 "cells": [
  {
   "cell_type": "markdown",
   "id": "8dfc0af9-008e-42c6-8535-e2ad2026ed53",
   "metadata": {},
   "source": [
    "### Question1"
   ]
  },
  {
   "cell_type": "code",
   "execution_count": null,
   "id": "44b2d98d-f1b1-4ad5-b3f0-af8c012feff3",
   "metadata": {},
   "outputs": [],
   "source": [
    "# In Python, an exception is an event that occurs during the execution of a program and disrupts the normal flow of instructions. When an exceptional\n",
    "# condition arises, an exception object is created, which represents the occurrence of the exception. This object contains information about the error,\n",
    "# such as its type and the line number where it occurred.\n",
    "# Exceptions allow you to handle and respond to errors or exceptional situations in your code. By catching and handling exceptions, you can prevent\n",
    "# your program from crashing and provide meaningful error messages or take alternative actions to recover from the error.\n",
    "\n",
    "# The key differences between exceptions and syntax errors are as follows:\n",
    " \n",
    "#    Occurrence: Exceptions occur during the execution of a program, while syntax errors are detected by the compiler or interpreter before the\n",
    "#    program is executed.\n",
    "\n",
    "#    Error Type: Exceptions represent runtime errors or exceptional conditions, such as division by zero, file not found, or invalid input. \n",
    "#    Syntax errors indicate mistakes in the structure or syntax of the code.\n",
    "\n",
    "#    Handling: Exceptions can be caught and handled using try-except blocks, allowing you to gracefully recover from errors and continue program \n",
    "#    execution. Syntax errors need to be fixed by correcting the code before running it.\n",
    "\n",
    "#    Execution Flow: Exceptions disrupt the normal flow of program execution and may cause the program to terminate prematurely if not handled\n",
    "#    properly. Syntax errors prevent the program from executing altogether until they are fixed."
   ]
  },
  {
   "cell_type": "markdown",
   "id": "a1cadb5e-ca13-49a5-9a77-2f6910350b87",
   "metadata": {},
   "source": [
    "### Question2"
   ]
  },
  {
   "cell_type": "code",
   "execution_count": 1,
   "id": "267f8dbc-f762-4689-8215-668f51196a45",
   "metadata": {},
   "outputs": [
    {
     "ename": "ZeroDivisionError",
     "evalue": "division by zero",
     "output_type": "error",
     "traceback": [
      "\u001b[0;31m---------------------------------------------------------------------------\u001b[0m",
      "\u001b[0;31mZeroDivisionError\u001b[0m                         Traceback (most recent call last)",
      "Cell \u001b[0;32mIn[1], line 12\u001b[0m\n\u001b[1;32m      9\u001b[0m numerator \u001b[38;5;241m=\u001b[39m \u001b[38;5;241m10\u001b[39m\n\u001b[1;32m     10\u001b[0m denominator \u001b[38;5;241m=\u001b[39m \u001b[38;5;241m0\u001b[39m\n\u001b[0;32m---> 12\u001b[0m result \u001b[38;5;241m=\u001b[39m \u001b[43mdivide\u001b[49m\u001b[43m(\u001b[49m\u001b[43mnumerator\u001b[49m\u001b[43m,\u001b[49m\u001b[43m \u001b[49m\u001b[43mdenominator\u001b[49m\u001b[43m)\u001b[49m\n\u001b[1;32m     13\u001b[0m \u001b[38;5;28mprint\u001b[39m(result)\n",
      "Cell \u001b[0;32mIn[1], line 7\u001b[0m, in \u001b[0;36mdivide\u001b[0;34m(a, b)\u001b[0m\n\u001b[1;32m      6\u001b[0m \u001b[38;5;28;01mdef\u001b[39;00m \u001b[38;5;21mdivide\u001b[39m(a, b):\n\u001b[0;32m----> 7\u001b[0m     \u001b[38;5;28;01mreturn\u001b[39;00m \u001b[43ma\u001b[49m\u001b[43m \u001b[49m\u001b[38;5;241;43m/\u001b[39;49m\u001b[43m \u001b[49m\u001b[43mb\u001b[49m\n",
      "\u001b[0;31mZeroDivisionError\u001b[0m: division by zero"
     ]
    }
   ],
   "source": [
    "# When an exception is not handled in a program, it leads to an abnormal termination of the program, often resulting in an error message or\n",
    "# a traceback. The program execution is halted, and the error is propagated up the call stack until it reaches the top-level of the program, \n",
    "# where it typically terminates with an error message.\n",
    "\n",
    "# Here's an example to illustrate what happens when an exception is not handled:\n",
    "def divide(a, b):\n",
    "    return a / b\n",
    "\n",
    "numerator = 10\n",
    "denominator = 0\n",
    "\n",
    "result = divide(numerator, denominator)\n",
    "print(result)\n"
   ]
  },
  {
   "cell_type": "markdown",
   "id": "9c14bb18-d947-4519-9ddd-6883598a8354",
   "metadata": {},
   "source": [
    "### Question3"
   ]
  },
  {
   "cell_type": "code",
   "execution_count": 3,
   "id": "4717c303-c4fd-4594-bbbb-6933f193d2c1",
   "metadata": {},
   "outputs": [
    {
     "name": "stdout",
     "output_type": "stream",
     "text": [
      "Error: Cannot divide by zero\n"
     ]
    }
   ],
   "source": [
    "# In Python, the try-except statement is used to catch and handle exceptions. It allows you to specify a block of code that might raise an exception,\n",
    "# and if an exception occurs within that block, you can define how to handle it.\n",
    "\n",
    "# The general syntax of a try-except statement is as follows:\n",
    "try:\n",
    "    # Code that might raise an exception\n",
    "    pass\n",
    "except ExceptionType:\n",
    "    # Code to handle the exception\n",
    "    pass\n",
    "def divide(a, b):\n",
    "    try:\n",
    "        result = a / b\n",
    "        print(\"Division result:\", result)\n",
    "    except ZeroDivisionError:\n",
    "        print(\"Error: Cannot divide by zero\")\n",
    "\n",
    "numerator = 10\n",
    "denominator = 0\n",
    "\n",
    "divide(numerator, denominator)\n"
   ]
  },
  {
   "cell_type": "markdown",
   "id": "be619b4e-5362-428e-afe0-69b17643c467",
   "metadata": {},
   "source": [
    "### Question4"
   ]
  },
  {
   "cell_type": "code",
   "execution_count": 4,
   "id": "cbd20689-5997-42d0-986d-b426b173a815",
   "metadata": {},
   "outputs": [
    {
     "name": "stdout",
     "output_type": "stream",
     "text": [
      "Division result: 5.0\n",
      "Error: Cannot divide by zero\n",
      "Division operation completed.\n",
      "Error: Age must be at least 18\n"
     ]
    }
   ],
   "source": [
    "#     try and else:\n",
    "# The try-else statement allows you to specify a block of code that should be executed if no exceptions occur within the try block. It provides a way\n",
    "# to separate the code that can raise an exception from the code that should run only when no exceptions are raised.\n",
    "# Example\n",
    "def divide(a, b):\n",
    "    try:\n",
    "        result = a / b\n",
    "    except ZeroDivisionError:\n",
    "        print(\"Error: Cannot divide by zero\")\n",
    "    else:\n",
    "        print(\"Division result:\", result)\n",
    "\n",
    "numerator = 10\n",
    "denominator = 2\n",
    "\n",
    "divide(numerator, denominator)\n",
    "#    finally:\n",
    "# The finally block is used to define a block of code that will be executed regardless of whether an exception occurs or not. It ensures that certain \n",
    "# actions are performed, such as closing files or releasing resources, regardless of any exceptions that may have been raised.\n",
    "def divide(a, b):\n",
    "    try:\n",
    "        result = a / b\n",
    "        print(\"Division result:\", result)\n",
    "    except ZeroDivisionError:\n",
    "        print(\"Error: Cannot divide by zero\")\n",
    "    finally:\n",
    "        print(\"Division operation completed.\")\n",
    "\n",
    "numerator = 10\n",
    "denominator = 0\n",
    "\n",
    "divide(numerator, denominator)\n",
    "#    raise:\n",
    "# The raise statement is used to explicitly raise an exception within your code. It allows you to create custom exceptions or raise built-in\n",
    "# exceptions when certain conditions are met.\n",
    "# Here's an example that demonstrates how to use the raise statement:\n",
    "def validate_age(age):\n",
    "    if age < 0:\n",
    "        raise ValueError(\"Age cannot be negative\")\n",
    "    elif age < 18:\n",
    "        raise ValueError(\"Age must be at least 18\")\n",
    "    else:\n",
    "        print(\"Valid age\")\n",
    "\n",
    "try:\n",
    "    validate_age(15)\n",
    "except ValueError as e:\n",
    "    print(\"Error:\", str(e))\n"
   ]
  },
  {
   "cell_type": "markdown",
   "id": "8c6e2bc0-5014-4ab5-9aae-5dbc10d7ef97",
   "metadata": {},
   "source": [
    "### Question5"
   ]
  },
  {
   "cell_type": "code",
   "execution_count": 5,
   "id": "419df0fb-f1b1-4484-b620-08835b964111",
   "metadata": {},
   "outputs": [
    {
     "name": "stdout",
     "output_type": "stream",
     "text": [
      "Error: Insufficient funds. Amount: 1500, Balance: 1000\n"
     ]
    }
   ],
   "source": [
    "# In Python, custom exceptions are user-defined exception classes that you can create to represent specific types of errors or exceptional conditions \n",
    "# in your code. These exceptions extend the base Exception class or any other existing built-in exception class.\n",
    "# Custom exceptions provide a way to handle and communicate specific types of errors or exceptional situations in a more meaningful and structured\n",
    "# manner. They allow you to define your own error hierarchy, add additional attributes or methods to the exception class, and provide specific error\n",
    "# messages or information relevant to your application or domain.\n",
    "class InsufficientFundsError(Exception):\n",
    "    def __init__(self, amount, balance):\n",
    "        self.amount = amount\n",
    "        self.balance = balance\n",
    "        self.message = f\"Insufficient funds. Amount: {amount}, Balance: {balance}\"\n",
    "\n",
    "    def __str__(self):\n",
    "        return self.message\n",
    "\n",
    "\n",
    "class BankAccount:\n",
    "    def __init__(self, balance):\n",
    "        self.balance = balance\n",
    "\n",
    "    def withdraw(self, amount):\n",
    "        if amount > self.balance:\n",
    "            raise InsufficientFundsError(amount, self.balance)\n",
    "        else:\n",
    "            self.balance -= amount\n",
    "            print(\"Withdrawal successful. Remaining balance:\", self.balance)\n",
    "\n",
    "\n",
    "account = BankAccount(1000)\n",
    "\n",
    "try:\n",
    "    account.withdraw(1500)\n",
    "except InsufficientFundsError as e:\n",
    "    print(\"Error:\", str(e))\n",
    "\n",
    "# By using custom exceptions, we can define and handle specific error conditions in a more organized and readable way. Custom exceptions help in \n",
    "# better understanding and debugging of code, provide clear feedback about exceptional conditions, and allow for customized error handling based on\n",
    "# the specific exception types.    "
   ]
  },
  {
   "cell_type": "markdown",
   "id": "35075c80-f9fe-42fe-ba82-4b9a039eee92",
   "metadata": {},
   "source": [
    "### Question6"
   ]
  },
  {
   "cell_type": "code",
   "execution_count": 6,
   "id": "7e9f02ac-fce7-40ba-81ef-826975dcc10c",
   "metadata": {},
   "outputs": [
    {
     "name": "stdin",
     "output_type": "stream",
     "text": [
      "Enter a positive integer:  -4\n"
     ]
    },
    {
     "name": "stdout",
     "output_type": "stream",
     "text": [
      "Error: Invalid input! Expected an integer.\n"
     ]
    }
   ],
   "source": [
    "class InvalidInputError(Exception):\n",
    "    def __init__(self, message):\n",
    "        self.message = message\n",
    "\n",
    "    def __str__(self):\n",
    "        return self.message\n",
    "\n",
    "\n",
    "def validate_input(value):\n",
    "    if not isinstance(value, int):\n",
    "        raise InvalidInputError(\"Invalid input! Expected an integer.\")\n",
    "\n",
    "    if value < 0:\n",
    "        raise InvalidInputError(\"Invalid input! Input cannot be negative.\")\n",
    "\n",
    "\n",
    "try:\n",
    "    user_input = input(\"Enter a positive integer: \")\n",
    "    validate_input(user_input)\n",
    "    print(\"Valid input:\", user_input)\n",
    "except InvalidInputError as e:\n",
    "    print(\"Error:\", str(e))\n",
    "# In this example, we define a custom exception class called InvalidInputError, which represents an error when the input is not a positive integer. \n",
    "# The exception class takes a message parameter to store the error message.\n",
    "\n",
    "# The validate_input function checks if the provided value is an integer and whether it is greater than or equal to zero. \n",
    "# If any of these conditions are not met, it raises an InvalidInputError with the corresponding error message."
   ]
  },
  {
   "cell_type": "code",
   "execution_count": null,
   "id": "91808e65-ae45-495f-b8aa-cea22d6b5fb6",
   "metadata": {},
   "outputs": [],
   "source": []
  }
 ],
 "metadata": {
  "kernelspec": {
   "display_name": "Python 3 (ipykernel)",
   "language": "python",
   "name": "python3"
  },
  "language_info": {
   "codemirror_mode": {
    "name": "ipython",
    "version": 3
   },
   "file_extension": ".py",
   "mimetype": "text/x-python",
   "name": "python",
   "nbconvert_exporter": "python",
   "pygments_lexer": "ipython3",
   "version": "3.10.8"
  }
 },
 "nbformat": 4,
 "nbformat_minor": 5
}
