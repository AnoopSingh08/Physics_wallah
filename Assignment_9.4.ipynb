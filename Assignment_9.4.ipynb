{
 "cells": [
  {
   "cell_type": "markdown",
   "id": "607e2916-2e90-46ce-83c5-76b3fdb7fb6e",
   "metadata": {},
   "source": [
    "### Question1"
   ]
  },
  {
   "cell_type": "code",
   "execution_count": 6,
   "id": "8b482b31-9e90-468b-a9e9-9aef473c6d91",
   "metadata": {},
   "outputs": [
    {
     "data": {
      "application/vnd.plotly.v1+json": {
       "config": {
        "plotlyServerURL": "https://plot.ly"
       },
       "data": [
        {
         "customdata": [
          [
           3,
           "male",
           "S",
           0
          ],
          [
           1,
           "female",
           "C",
           1
          ],
          [
           3,
           "female",
           "S",
           1
          ],
          [
           1,
           "female",
           "S",
           1
          ],
          [
           3,
           "male",
           "S",
           0
          ],
          [
           3,
           "male",
           "Q",
           0
          ],
          [
           1,
           "male",
           "S",
           0
          ],
          [
           3,
           "male",
           "S",
           0
          ],
          [
           3,
           "female",
           "S",
           1
          ],
          [
           2,
           "female",
           "C",
           1
          ],
          [
           3,
           "female",
           "S",
           1
          ],
          [
           1,
           "female",
           "S",
           1
          ],
          [
           3,
           "male",
           "S",
           0
          ],
          [
           3,
           "male",
           "S",
           0
          ],
          [
           3,
           "female",
           "S",
           0
          ],
          [
           2,
           "female",
           "S",
           1
          ],
          [
           3,
           "male",
           "Q",
           0
          ],
          [
           2,
           "male",
           "S",
           1
          ],
          [
           3,
           "female",
           "S",
           0
          ],
          [
           3,
           "female",
           "C",
           1
          ],
          [
           2,
           "male",
           "S",
           0
          ],
          [
           2,
           "male",
           "S",
           1
          ],
          [
           3,
           "female",
           "Q",
           1
          ],
          [
           1,
           "male",
           "S",
           1
          ],
          [
           3,
           "female",
           "S",
           0
          ],
          [
           3,
           "female",
           "S",
           1
          ],
          [
           3,
           "male",
           "C",
           0
          ],
          [
           1,
           "male",
           "S",
           0
          ],
          [
           3,
           "female",
           "Q",
           1
          ],
          [
           3,
           "male",
           "S",
           0
          ],
          [
           1,
           "male",
           "C",
           0
          ],
          [
           1,
           "female",
           "C",
           1
          ],
          [
           3,
           "female",
           "Q",
           1
          ],
          [
           2,
           "male",
           "S",
           0
          ],
          [
           1,
           "male",
           "C",
           0
          ],
          [
           1,
           "male",
           "S",
           0
          ],
          [
           3,
           "male",
           "C",
           1
          ],
          [
           3,
           "male",
           "S",
           0
          ],
          [
           3,
           "female",
           "S",
           0
          ],
          [
           3,
           "female",
           "C",
           1
          ],
          [
           3,
           "female",
           "S",
           0
          ],
          [
           2,
           "female",
           "S",
           0
          ],
          [
           3,
           "male",
           "C",
           0
          ],
          [
           2,
           "female",
           "C",
           1
          ],
          [
           3,
           "female",
           "Q",
           1
          ],
          [
           3,
           "male",
           "S",
           0
          ],
          [
           3,
           "male",
           "Q",
           0
          ],
          [
           3,
           "female",
           "Q",
           1
          ],
          [
           3,
           "male",
           "C",
           0
          ],
          [
           3,
           "female",
           "S",
           0
          ],
          [
           3,
           "male",
           "S",
           0
          ],
          [
           3,
           "male",
           "S",
           0
          ],
          [
           1,
           "female",
           "C",
           1
          ],
          [
           2,
           "female",
           "S",
           1
          ],
          [
           1,
           "male",
           "C",
           0
          ],
          [
           1,
           "male",
           "S",
           1
          ],
          [
           2,
           "female",
           "S",
           1
          ],
          [
           3,
           "male",
           "C",
           0
          ],
          [
           2,
           "female",
           "S",
           1
          ],
          [
           3,
           "male",
           "S",
           0
          ],
          [
           3,
           "male",
           "C",
           0
          ],
          [
           1,
           "female",
           null,
           1
          ],
          [
           1,
           "male",
           "S",
           0
          ],
          [
           3,
           "male",
           "S",
           0
          ],
          [
           1,
           "male",
           "C",
           0
          ],
          [
           3,
           "male",
           "C",
           1
          ],
          [
           2,
           "female",
           "S",
           1
          ],
          [
           3,
           "male",
           "S",
           0
          ],
          [
           3,
           "female",
           "S",
           1
          ],
          [
           3,
           "male",
           "S",
           0
          ],
          [
           2,
           "male",
           "S",
           0
          ],
          [
           3,
           "female",
           "S",
           0
          ],
          [
           2,
           "male",
           "S",
           0
          ],
          [
           3,
           "male",
           "C",
           0
          ],
          [
           3,
           "male",
           "S",
           1
          ],
          [
           3,
           "male",
           "S",
           0
          ],
          [
           3,
           "male",
           "S",
           0
          ],
          [
           3,
           "male",
           "S",
           0
          ],
          [
           2,
           "male",
           "S",
           1
          ],
          [
           3,
           "female",
           "S",
           1
          ],
          [
           3,
           "male",
           "S",
           0
          ],
          [
           3,
           "male",
           "S",
           1
          ],
          [
           3,
           "female",
           "Q",
           1
          ],
          [
           1,
           "male",
           "S",
           0
          ],
          [
           2,
           "female",
           "S",
           1
          ],
          [
           3,
           "female",
           "S",
           1
          ],
          [
           3,
           "male",
           "S",
           0
          ],
          [
           3,
           "male",
           "S",
           0
          ],
          [
           1,
           "female",
           "S",
           1
          ],
          [
           3,
           "male",
           "S",
           0
          ],
          [
           3,
           "male",
           "S",
           0
          ],
          [
           3,
           "male",
           "S",
           0
          ],
          [
           1,
           "male",
           "S",
           0
          ],
          [
           3,
           "male",
           "S",
           0
          ],
          [
           3,
           "male",
           "S",
           0
          ],
          [
           3,
           "male",
           "S",
           0
          ],
          [
           1,
           "male",
           "C",
           0
          ],
          [
           1,
           "male",
           "C",
           1
          ],
          [
           2,
           "female",
           "S",
           1
          ],
          [
           2,
           "male",
           "S",
           0
          ],
          [
           3,
           "female",
           "S",
           0
          ],
          [
           3,
           "male",
           "S",
           0
          ],
          [
           1,
           "male",
           "S",
           0
          ],
          [
           3,
           "male",
           "S",
           0
          ],
          [
           3,
           "male",
           "S",
           0
          ],
          [
           3,
           "male",
           "S",
           0
          ],
          [
           3,
           "female",
           "S",
           1
          ],
          [
           3,
           "male",
           "S",
           1
          ],
          [
           3,
           "male",
           "S",
           0
          ],
          [
           3,
           "female",
           "Q",
           1
          ],
          [
           1,
           "male",
           "S",
           0
          ],
          [
           3,
           "female",
           "C",
           0
          ],
          [
           3,
           "male",
           "S",
           0
          ],
          [
           3,
           "female",
           "S",
           0
          ],
          [
           3,
           "female",
           "C",
           0
          ],
          [
           3,
           "male",
           "S",
           0
          ],
          [
           3,
           "male",
           "Q",
           0
          ],
          [
           2,
           "male",
           "S",
           0
          ],
          [
           1,
           "male",
           "C",
           0
          ],
          [
           3,
           "female",
           "S",
           0
          ],
          [
           2,
           "male",
           "S",
           0
          ],
          [
           3,
           "male",
           "S",
           0
          ],
          [
           2,
           "male",
           "C",
           0
          ],
          [
           2,
           "female",
           "S",
           1
          ],
          [
           1,
           "male",
           "S",
           0
          ],
          [
           3,
           "male",
           "C",
           1
          ],
          [
           3,
           "male",
           "Q",
           0
          ],
          [
           3,
           "male",
           "S",
           1
          ],
          [
           3,
           "female",
           "C",
           1
          ],
          [
           3,
           "male",
           "S",
           0
          ],
          [
           3,
           "male",
           "C",
           0
          ],
          [
           3,
           "male",
           "S",
           0
          ],
          [
           3,
           "female",
           "S",
           0
          ],
          [
           2,
           "female",
           "S",
           1
          ],
          [
           2,
           "male",
           "S",
           0
          ],
          [
           2,
           "male",
           "C",
           0
          ],
          [
           1,
           "female",
           "S",
           1
          ],
          [
           1,
           "male",
           "S",
           0
          ],
          [
           3,
           "male",
           "S",
           0
          ],
          [
           1,
           "male",
           "C",
           0
          ],
          [
           3,
           "female",
           "C",
           0
          ],
          [
           3,
           "female",
           "S",
           1
          ],
          [
           3,
           "female",
           "S",
           1
          ],
          [
           3,
           "male",
           "Q",
           0
          ],
          [
           2,
           "male",
           "S",
           0
          ],
          [
           2,
           "male",
           "S",
           0
          ],
          [
           3,
           "male",
           "S",
           1
          ],
          [
           3,
           "female",
           "S",
           0
          ],
          [
           2,
           "male",
           "S",
           0
          ],
          [
           2,
           "male",
           "S",
           0
          ],
          [
           2,
           "male",
           "S",
           0
          ],
          [
           1,
           "female",
           "S",
           1
          ],
          [
           3,
           "male",
           "S",
           0
          ],
          [
           3,
           "male",
           "S",
           0
          ],
          [
           3,
           "male",
           "S",
           0
          ],
          [
           1,
           "male",
           "C",
           0
          ],
          [
           3,
           "female",
           "Q",
           1
          ],
          [
           3,
           "male",
           "S",
           0
          ],
          [
           3,
           "male",
           "S",
           0
          ],
          [
           3,
           "male",
           "S",
           0
          ],
          [
           3,
           "male",
           "S",
           0
          ],
          [
           2,
           "female",
           "S",
           1
          ],
          [
           3,
           "male",
           "S",
           0
          ],
          [
           3,
           "male",
           "S",
           0
          ],
          [
           3,
           "male",
           "S",
           0
          ],
          [
           3,
           "male",
           "S",
           1
          ],
          [
           1,
           "female",
           "S",
           1
          ],
          [
           3,
           "female",
           "S",
           0
          ],
          [
           1,
           "male",
           "S",
           0
          ],
          [
           3,
           "male",
           "S",
           0
          ],
          [
           1,
           "male",
           "S",
           0
          ],
          [
           3,
           "male",
           "Q",
           0
          ],
          [
           3,
           "female",
           "S",
           1
          ],
          [
           3,
           "male",
           "S",
           0
          ],
          [
           1,
           "male",
           "C",
           0
          ],
          [
           3,
           "male",
           "S",
           0
          ],
          [
           3,
           "male",
           "S",
           0
          ],
          [
           1,
           "female",
           "C",
           0
          ],
          [
           2,
           "male",
           "S",
           0
          ],
          [
           3,
           "male",
           "S",
           0
          ],
          [
           3,
           "female",
           "S",
           0
          ],
          [
           2,
           "male",
           "C",
           0
          ],
          [
           3,
           "male",
           "S",
           0
          ],
          [
           2,
           "male",
           "S",
           1
          ],
          [
           3,
           "female",
           "S",
           1
          ],
          [
           1,
           "male",
           "S",
           0
          ],
          [
           3,
           "female",
           "Q",
           1
          ],
          [
           1,
           "male",
           "S",
           1
          ],
          [
           3,
           "male",
           "Q",
           0
          ],
          [
           3,
           "male",
           "S",
           0
          ],
          [
           2,
           "female",
           "S",
           1
          ],
          [
           2,
           "male",
           "S",
           0
          ],
          [
           3,
           "female",
           "S",
           1
          ],
          [
           2,
           "male",
           "S",
           1
          ],
          [
           1,
           "female",
           "C",
           1
          ],
          [
           1,
           "female",
           "C",
           1
          ],
          [
           3,
           "male",
           "Q",
           0
          ],
          [
           3,
           "male",
           "S",
           0
          ],
          [
           3,
           "female",
           "Q",
           1
          ],
          [
           2,
           "female",
           "S",
           0
          ],
          [
           3,
           "male",
           "S",
           0
          ],
          [
           3,
           "male",
           "S",
           0
          ],
          [
           3,
           "male",
           "S",
           0
          ],
          [
           3,
           "male",
           "C",
           0
          ],
          [
           3,
           "male",
           "S",
           1
          ],
          [
           3,
           "female",
           "S",
           0
          ],
          [
           3,
           "male",
           "S",
           0
          ],
          [
           3,
           "male",
           "C",
           1
          ],
          [
           3,
           "female",
           "Q",
           1
          ],
          [
           1,
           "male",
           "C",
           1
          ],
          [
           3,
           "male",
           "S",
           0
          ],
          [
           2,
           "female",
           "S",
           1
          ],
          [
           3,
           "male",
           "S",
           0
          ],
          [
           2,
           "male",
           "S",
           0
          ],
          [
           3,
           "male",
           "Q",
           0
          ],
          [
           1,
           "female",
           "C",
           1
          ],
          [
           3,
           "female",
           "S",
           1
          ],
          [
           2,
           "male",
           "S",
           0
          ],
          [
           1,
           "female",
           "C",
           1
          ],
          [
           2,
           "male",
           "S",
           0
          ],
          [
           3,
           "male",
           "S",
           1
          ],
          [
           2,
           "male",
           "S",
           0
          ],
          [
           3,
           "male",
           "S",
           0
          ],
          [
           3,
           "male",
           "S",
           0
          ],
          [
           1,
           "male",
           "S",
           1
          ],
          [
           3,
           "male",
           "S",
           0
          ],
          [
           2,
           "male",
           "S",
           1
          ],
          [
           3,
           "male",
           "S",
           0
          ],
          [
           2,
           "male",
           "S",
           0
          ],
          [
           3,
           "female",
           "S",
           0
          ],
          [
           1,
           "female",
           "S",
           1
          ],
          [
           3,
           "male",
           "S",
           0
          ],
          [
           2,
           "male",
           "S",
           0
          ],
          [
           3,
           "female",
           "S",
           1
          ],
          [
           2,
           "male",
           "S",
           0
          ],
          [
           3,
           "female",
           "S",
           0
          ],
          [
           2,
           "male",
           "S",
           0
          ],
          [
           2,
           "female",
           "S",
           1
          ],
          [
           2,
           "male",
           "S",
           0
          ],
          [
           2,
           "male",
           "S",
           0
          ],
          [
           3,
           "female",
           "C",
           0
          ],
          [
           3,
           "female",
           "Q",
           1
          ],
          [
           2,
           "male",
           "S",
           0
          ],
          [
           3,
           "male",
           "S",
           0
          ],
          [
           3,
           "male",
           "C",
           0
          ],
          [
           1,
           "male",
           "Q",
           0
          ],
          [
           3,
           "female",
           "S",
           0
          ],
          [
           2,
           "female",
           "S",
           1
          ],
          [
           1,
           "male",
           "S",
           1
          ],
          [
           2,
           "male",
           "S",
           0
          ],
          [
           3,
           "male",
           "S",
           0
          ],
          [
           3,
           "female",
           "S",
           0
          ],
          [
           1,
           "male",
           "S",
           0
          ],
          [
           3,
           "male",
           "S",
           0
          ],
          [
           3,
           "female",
           "S",
           0
          ],
          [
           3,
           "female",
           "C",
           1
          ],
          [
           1,
           "female",
           "C",
           1
          ],
          [
           1,
           "female",
           "S",
           1
          ],
          [
           1,
           "female",
           "C",
           1
          ],
          [
           2,
           "female",
           "S",
           1
          ],
          [
           3,
           "male",
           "Q",
           0
          ],
          [
           3,
           "male",
           "S",
           1
          ],
          [
           1,
           "male",
           "S",
           0
          ],
          [
           1,
           "male",
           "S",
           0
          ],
          [
           3,
           "female",
           "Q",
           0
          ],
          [
           2,
           "male",
           "S",
           0
          ],
          [
           3,
           "male",
           "S",
           0
          ],
          [
           3,
           "male",
           "S",
           1
          ],
          [
           1,
           "female",
           "S",
           1
          ],
          [
           1,
           "female",
           "S",
           1
          ],
          [
           1,
           "male",
           "S",
           0
          ],
          [
           3,
           "male",
           "S",
           1
          ],
          [
           2,
           "female",
           "S",
           1
          ],
          [
           1,
           "male",
           "C",
           0
          ],
          [
           3,
           "female",
           "Q",
           1
          ],
          [
           1,
           "female",
           "S",
           1
          ],
          [
           3,
           "female",
           "S",
           0
          ],
          [
           2,
           "male",
           "S",
           0
          ],
          [
           3,
           "male",
           "Q",
           0
          ],
          [
           3,
           "female",
           "S",
           1
          ],
          [
           3,
           "male",
           "Q",
           0
          ],
          [
           3,
           "male",
           "S",
           0
          ],
          [
           3,
           "male",
           "S",
           0
          ],
          [
           3,
           "male",
           "S",
           1
          ],
          [
           1,
           "male",
           "S",
           0
          ],
          [
           3,
           "male",
           "C",
           0
          ],
          [
           3,
           "male",
           "S",
           1
          ],
          [
           3,
           "male",
           "S",
           0
          ],
          [
           2,
           "male",
           "S",
           1
          ],
          [
           3,
           "female",
           "Q",
           1
          ],
          [
           1,
           "female",
           "S",
           1
          ],
          [
           1,
           "female",
           "C",
           1
          ],
          [
           2,
           "male",
           "C",
           0
          ],
          [
           3,
           "female",
           "S",
           0
          ],
          [
           3,
           "male",
           "S",
           0
          ],
          [
           1,
           "male",
           "C",
           0
          ],
          [
           3,
           "male",
           "C",
           0
          ],
          [
           1,
           "female",
           "S",
           0
          ],
          [
           1,
           "male",
           "S",
           1
          ],
          [
           1,
           "female",
           "C",
           1
          ],
          [
           3,
           "female",
           "Q",
           1
          ],
          [
           3,
           "male",
           "Q",
           1
          ],
          [
           3,
           "male",
           "S",
           0
          ],
          [
           2,
           "female",
           "Q",
           1
          ],
          [
           3,
           "male",
           "S",
           0
          ],
          [
           1,
           "male",
           "S",
           1
          ],
          [
           1,
           "female",
           "C",
           1
          ],
          [
           1,
           "female",
           "C",
           1
          ],
          [
           2,
           "male",
           "C",
           0
          ],
          [
           1,
           "female",
           "C",
           1
          ],
          [
           1,
           "female",
           "C",
           1
          ],
          [
           1,
           "female",
           "C",
           1
          ],
          [
           2,
           "female",
           "S",
           0
          ],
          [
           3,
           "male",
           "S",
           0
          ],
          [
           2,
           "male",
           "S",
           0
          ],
          [
           3,
           "female",
           "S",
           1
          ],
          [
           2,
           "female",
           "S",
           1
          ],
          [
           2,
           "male",
           "S",
           0
          ],
          [
           1,
           "female",
           "S",
           1
          ],
          [
           1,
           "female",
           "C",
           1
          ],
          [
           3,
           "male",
           "S",
           0
          ],
          [
           3,
           "male",
           "S",
           0
          ],
          [
           2,
           "female",
           "Q",
           1
          ],
          [
           2,
           "female",
           "S",
           1
          ],
          [
           3,
           "male",
           "S",
           0
          ],
          [
           1,
           "female",
           "C",
           1
          ],
          [
           3,
           "male",
           "S",
           0
          ],
          [
           2,
           "female",
           "S",
           1
          ],
          [
           3,
           "female",
           "S",
           1
          ],
          [
           1,
           "female",
           "C",
           1
          ],
          [
           3,
           "female",
           "Q",
           1
          ],
          [
           1,
           "male",
           "S",
           0
          ],
          [
           1,
           "male",
           "S",
           0
          ],
          [
           3,
           "male",
           "S",
           0
          ],
          [
           1,
           "female",
           "S",
           1
          ],
          [
           3,
           "male",
           "S",
           0
          ],
          [
           1,
           "male",
           "S",
           0
          ],
          [
           1,
           "female",
           "C",
           1
          ],
          [
           3,
           "male",
           "S",
           1
          ],
          [
           1,
           "male",
           "S",
           0
          ],
          [
           2,
           "male",
           "S",
           1
          ],
          [
           1,
           "female",
           "S",
           1
          ],
          [
           2,
           "male",
           "S",
           0
          ],
          [
           2,
           "male",
           "S",
           0
          ],
          [
           2,
           "male",
           "S",
           0
          ],
          [
           2,
           "female",
           "S",
           1
          ],
          [
           2,
           "female",
           "S",
           1
          ],
          [
           3,
           "female",
           "S",
           1
          ],
          [
           3,
           "male",
           "S",
           1
          ],
          [
           3,
           "male",
           "S",
           0
          ],
          [
           3,
           "male",
           "S",
           0
          ],
          [
           1,
           "male",
           "S",
           0
          ],
          [
           3,
           "male",
           "C",
           0
          ],
          [
           3,
           "male",
           "S",
           0
          ],
          [
           3,
           "male",
           "C",
           0
          ],
          [
           3,
           "male",
           "S",
           0
          ],
          [
           1,
           "female",
           "S",
           1
          ],
          [
           2,
           "female",
           "S",
           0
          ],
          [
           3,
           "female",
           "Q",
           1
          ],
          [
           3,
           "female",
           "Q",
           1
          ],
          [
           3,
           "male",
           "S",
           0
          ],
          [
           2,
           "male",
           "C",
           0
          ],
          [
           3,
           "female",
           "C",
           0
          ],
          [
           3,
           "male",
           "S",
           0
          ],
          [
           3,
           "male",
           "Q",
           0
          ],
          [
           3,
           "male",
           "S",
           0
          ],
          [
           1,
           "female",
           "C",
           1
          ],
          [
           3,
           "female",
           "C",
           1
          ],
          [
           3,
           "female",
           "Q",
           1
          ],
          [
           1,
           "female",
           "C",
           1
          ],
          [
           1,
           "male",
           "C",
           1
          ],
          [
           3,
           "male",
           "S",
           0
          ],
          [
           3,
           "male",
           "S",
           0
          ],
          [
           1,
           "male",
           "C",
           0
          ],
          [
           3,
           "female",
           "S",
           0
          ],
          [
           1,
           "female",
           "C",
           1
          ],
          [
           3,
           "female",
           "S",
           1
          ],
          [
           1,
           "male",
           "C",
           0
          ],
          [
           3,
           "male",
           "C",
           0
          ],
          [
           3,
           "male",
           "S",
           0
          ],
          [
           1,
           "female",
           "C",
           1
          ],
          [
           3,
           "female",
           "C",
           1
          ],
          [
           3,
           "male",
           "S",
           0
          ],
          [
           1,
           "female",
           "S",
           1
          ],
          [
           3,
           "male",
           "S",
           0
          ],
          [
           2,
           "male",
           "S",
           0
          ],
          [
           3,
           "male",
           "S",
           0
          ],
          [
           2,
           "female",
           "S",
           1
          ],
          [
           3,
           "male",
           "Q",
           0
          ],
          [
           2,
           "female",
           "C",
           1
          ],
          [
           1,
           "male",
           "S",
           1
          ],
          [
           3,
           "male",
           "S",
           1
          ],
          [
           3,
           "male",
           "S",
           0
          ],
          [
           1,
           "female",
           "C",
           1
          ],
          [
           3,
           "female",
           "S",
           1
          ],
          [
           3,
           "male",
           "S",
           0
          ],
          [
           3,
           "female",
           "S",
           0
          ],
          [
           2,
           "male",
           "S",
           0
          ],
          [
           2,
           "male",
           "S",
           0
          ],
          [
           2,
           "female",
           "S",
           1
          ],
          [
           3,
           "male",
           "S",
           1
          ],
          [
           3,
           "male",
           "S",
           0
          ],
          [
           3,
           "female",
           "S",
           0
          ],
          [
           3,
           "male",
           "S",
           0
          ],
          [
           3,
           "female",
           "S",
           0
          ],
          [
           2,
           "male",
           "S",
           0
          ],
          [
           3,
           "male",
           "S",
           0
          ],
          [
           2,
           "male",
           "S",
           1
          ],
          [
           3,
           "male",
           "S",
           0
          ],
          [
           3,
           "female",
           "S",
           0
          ],
          [
           3,
           "male",
           "S",
           0
          ],
          [
           3,
           "male",
           "Q",
           0
          ],
          [
           1,
           "female",
           "Q",
           1
          ],
          [
           2,
           "male",
           "S",
           0
          ],
          [
           3,
           "male",
           "S",
           1
          ],
          [
           3,
           "female",
           "S",
           0
          ],
          [
           2,
           "female",
           "S",
           1
          ],
          [
           2,
           "female",
           "S",
           1
          ],
          [
           2,
           "male",
           "S",
           0
          ],
          [
           3,
           "female",
           "S",
           0
          ],
          [
           3,
           "male",
           "C",
           0
          ],
          [
           3,
           "male",
           "Q",
           0
          ],
          [
           3,
           "male",
           "S",
           0
          ],
          [
           3,
           "female",
           "S",
           0
          ],
          [
           3,
           "male",
           "S",
           0
          ],
          [
           3,
           "male",
           "S",
           0
          ],
          [
           2,
           "female",
           "S",
           1
          ],
          [
           2,
           "female",
           "S",
           1
          ],
          [
           3,
           "male",
           "Q",
           0
          ],
          [
           3,
           "male",
           "S",
           1
          ],
          [
           1,
           "male",
           "S",
           1
          ],
          [
           3,
           "female",
           "S",
           1
          ],
          [
           2,
           "female",
           "S",
           1
          ],
          [
           3,
           "male",
           "S",
           0
          ],
          [
           1,
           "male",
           "S",
           0
          ],
          [
           1,
           "female",
           "S",
           1
          ],
          [
           3,
           "female",
           "S",
           0
          ],
          [
           2,
           "female",
           "S",
           1
          ],
          [
           1,
           "male",
           "S",
           0
          ],
          [
           2,
           "male",
           "S",
           0
          ],
          [
           2,
           "female",
           "S",
           1
          ],
          [
           3,
           "male",
           "S",
           0
          ],
          [
           3,
           "male",
           "S",
           0
          ],
          [
           2,
           "female",
           "S",
           1
          ],
          [
           3,
           "male",
           "S",
           1
          ],
          [
           1,
           "male",
           "S",
           1
          ],
          [
           2,
           "female",
           "S",
           1
          ],
          [
           1,
           "male",
           "S",
           1
          ],
          [
           3,
           "female",
           "C",
           1
          ],
          [
           1,
           "male",
           "S",
           1
          ],
          [
           2,
           "male",
           "S",
           0
          ],
          [
           3,
           "male",
           "S",
           0
          ],
          [
           1,
           "male",
           "C",
           0
          ],
          [
           1,
           "male",
           "C",
           1
          ],
          [
           3,
           "male",
           "S",
           0
          ],
          [
           3,
           "male",
           "C",
           1
          ],
          [
           1,
           "male",
           "S",
           0
          ],
          [
           1,
           "female",
           "S",
           1
          ],
          [
           2,
           "female",
           "S",
           1
          ],
          [
           3,
           "male",
           "Q",
           0
          ],
          [
           1,
           "male",
           "S",
           1
          ],
          [
           3,
           "male",
           "S",
           0
          ],
          [
           1,
           "male",
           "S",
           0
          ],
          [
           2,
           "male",
           "S",
           0
          ],
          [
           3,
           "male",
           "S",
           0
          ],
          [
           3,
           "male",
           "S",
           0
          ],
          [
           2,
           "male",
           "S",
           0
          ],
          [
           1,
           "male",
           "S",
           0
          ],
          [
           3,
           "male",
           "Q",
           0
          ],
          [
           3,
           "female",
           "C",
           1
          ],
          [
           3,
           "male",
           "S",
           0
          ],
          [
           3,
           "male",
           "S",
           0
          ],
          [
           2,
           "female",
           "S",
           1
          ],
          [
           2,
           "female",
           "C",
           1
          ],
          [
           3,
           "female",
           "S",
           0
          ],
          [
           1,
           "male",
           "S",
           0
          ],
          [
           2,
           "male",
           "S",
           0
          ],
          [
           3,
           "male",
           "S",
           0
          ],
          [
           3,
           "male",
           "S",
           0
          ],
          [
           3,
           "female",
           "S",
           1
          ],
          [
           3,
           "male",
           "S",
           0
          ],
          [
           2,
           "male",
           "S",
           0
          ],
          [
           3,
           "male",
           "S",
           0
          ],
          [
           3,
           "female",
           "S",
           1
          ],
          [
           1,
           "male",
           "C",
           1
          ],
          [
           3,
           "female",
           "S",
           0
          ],
          [
           1,
           "female",
           "S",
           1
          ],
          [
           1,
           "male",
           "C",
           0
          ],
          [
           3,
           "male",
           "S",
           0
          ],
          [
           3,
           "male",
           "S",
           1
          ],
          [
           3,
           "male",
           "S",
           0
          ],
          [
           3,
           "male",
           "S",
           0
          ],
          [
           1,
           "male",
           "S",
           0
          ],
          [
           1,
           "male",
           "C",
           0
          ],
          [
           3,
           "male",
           "S",
           0
          ],
          [
           3,
           "male",
           "C",
           0
          ],
          [
           1,
           "female",
           "C",
           1
          ],
          [
           3,
           "male",
           "S",
           0
          ],
          [
           1,
           "female",
           "S",
           0
          ],
          [
           3,
           "male",
           "S",
           0
          ],
          [
           3,
           "male",
           "S",
           0
          ],
          [
           3,
           "female",
           "Q",
           0
          ],
          [
           3,
           "female",
           "Q",
           0
          ],
          [
           3,
           "female",
           "S",
           0
          ],
          [
           1,
           "female",
           "S",
           1
          ],
          [
           1,
           "male",
           "C",
           0
          ],
          [
           2,
           "female",
           "S",
           1
          ],
          [
           1,
           "male",
           "S",
           1
          ],
          [
           3,
           "male",
           "S",
           0
          ],
          [
           3,
           "male",
           "S",
           1
          ],
          [
           3,
           "male",
           "Q",
           1
          ],
          [
           3,
           "male",
           "S",
           0
          ],
          [
           1,
           "male",
           "S",
           1
          ],
          [
           1,
           "female",
           "C",
           1
          ],
          [
           3,
           "male",
           "S",
           0
          ],
          [
           1,
           "male",
           "S",
           0
          ],
          [
           2,
           "female",
           "S",
           1
          ],
          [
           3,
           "male",
           "Q",
           0
          ],
          [
           2,
           "female",
           "S",
           1
          ],
          [
           3,
           "male",
           "S",
           0
          ],
          [
           1,
           "female",
           "S",
           1
          ],
          [
           3,
           "male",
           "S",
           0
          ],
          [
           3,
           "male",
           "C",
           0
          ],
          [
           1,
           "female",
           "C",
           1
          ],
          [
           3,
           "male",
           "C",
           0
          ],
          [
           3,
           "male",
           "Q",
           0
          ],
          [
           2,
           "female",
           "S",
           1
          ],
          [
           1,
           "male",
           "S",
           0
          ],
          [
           3,
           "male",
           "S",
           0
          ],
          [
           2,
           "male",
           "S",
           0
          ],
          [
           2,
           "female",
           "S",
           1
          ],
          [
           3,
           "male",
           "C",
           0
          ],
          [
           3,
           "male",
           "C",
           0
          ],
          [
           3,
           "female",
           "C",
           1
          ],
          [
           3,
           "female",
           "S",
           0
          ],
          [
           2,
           "female",
           "S",
           1
          ],
          [
           1,
           "male",
           "S",
           0
          ],
          [
           1,
           "female",
           "C",
           1
          ],
          [
           3,
           "male",
           "S",
           0
          ],
          [
           1,
           "female",
           "C",
           1
          ],
          [
           1,
           "female",
           "S",
           1
          ],
          [
           3,
           "female",
           "S",
           0
          ],
          [
           3,
           "female",
           "S",
           0
          ],
          [
           2,
           "male",
           "S",
           1
          ],
          [
           1,
           "male",
           "C",
           0
          ],
          [
           1,
           "male",
           "S",
           0
          ],
          [
           2,
           "female",
           "S",
           1
          ],
          [
           2,
           "male",
           "C",
           1
          ],
          [
           3,
           "male",
           "S",
           0
          ],
          [
           2,
           "male",
           "S",
           1
          ],
          [
           1,
           "male",
           "C",
           1
          ],
          [
           2,
           "male",
           "S",
           0
          ],
          [
           3,
           "male",
           "Q",
           0
          ],
          [
           3,
           "male",
           "C",
           1
          ],
          [
           3,
           "female",
           "S",
           1
          ],
          [
           1,
           "male",
           "S",
           0
          ],
          [
           1,
           "female",
           "C",
           1
          ],
          [
           1,
           "male",
           "C",
           0
          ],
          [
           1,
           "female",
           "S",
           1
          ],
          [
           3,
           "female",
           "S",
           1
          ],
          [
           3,
           "male",
           "Q",
           0
          ],
          [
           3,
           "male",
           "S",
           0
          ],
          [
           2,
           "male",
           "S",
           0
          ],
          [
           3,
           "male",
           "S",
           0
          ],
          [
           3,
           "female",
           "S",
           0
          ],
          [
           3,
           "male",
           "S",
           0
          ],
          [
           3,
           "male",
           "S",
           0
          ],
          [
           3,
           "female",
           "S",
           0
          ],
          [
           3,
           "male",
           "C",
           0
          ],
          [
           3,
           "male",
           "S",
           1
          ],
          [
           2,
           "male",
           "S",
           1
          ],
          [
           1,
           "female",
           "S",
           1
          ],
          [
           1,
           "male",
           "S",
           1
          ],
          [
           3,
           "female",
           "Q",
           1
          ],
          [
           3,
           "male",
           "S",
           0
          ],
          [
           3,
           "male",
           "S",
           0
          ],
          [
           2,
           "female",
           "S",
           1
          ],
          [
           1,
           "female",
           "S",
           1
          ],
          [
           3,
           "female",
           "C",
           0
          ],
          [
           3,
           "male",
           "S",
           1
          ],
          [
           2,
           "female",
           "S",
           1
          ],
          [
           1,
           "female",
           "C",
           1
          ],
          [
           2,
           "male",
           "S",
           0
          ],
          [
           1,
           "male",
           "C",
           0
          ],
          [
           3,
           "male",
           "C",
           0
          ],
          [
           1,
           "female",
           "S",
           1
          ],
          [
           2,
           "male",
           "S",
           0
          ],
          [
           1,
           "male",
           "C",
           1
          ],
          [
           3,
           "male",
           "S",
           0
          ],
          [
           3,
           "male",
           "S",
           0
          ],
          [
           3,
           "male",
           "S",
           0
          ],
          [
           1,
           "female",
           "C",
           1
          ],
          [
           3,
           "male",
           "S",
           0
          ],
          [
           3,
           "female",
           "Q",
           0
          ],
          [
           2,
           "male",
           "S",
           0
          ],
          [
           3,
           "male",
           "S",
           0
          ],
          [
           2,
           "female",
           "S",
           1
          ],
          [
           3,
           "male",
           "S",
           0
          ],
          [
           3,
           "male",
           "C",
           0
          ],
          [
           1,
           "male",
           "C",
           1
          ],
          [
           2,
           "female",
           "S",
           1
          ],
          [
           3,
           "male",
           "S",
           0
          ],
          [
           1,
           "male",
           "S",
           0
          ],
          [
           3,
           "male",
           "S",
           0
          ],
          [
           1,
           "male",
           "C",
           1
          ],
          [
           3,
           "male",
           "S",
           0
          ],
          [
           3,
           "male",
           "S",
           0
          ],
          [
           1,
           "male",
           "S",
           1
          ],
          [
           2,
           "female",
           "C",
           1
          ],
          [
           1,
           "female",
           "S",
           1
          ],
          [
           3,
           "female",
           "S",
           0
          ],
          [
           3,
           "male",
           "S",
           0
          ],
          [
           3,
           "female",
           "Q",
           1
          ],
          [
           3,
           "male",
           "Q",
           0
          ],
          [
           3,
           "male",
           "S",
           0
          ],
          [
           2,
           "female",
           "S",
           1
          ],
          [
           3,
           "male",
           "S",
           0
          ],
          [
           3,
           "female",
           "S",
           0
          ],
          [
           2,
           "female",
           "S",
           1
          ],
          [
           2,
           "male",
           "S",
           0
          ],
          [
           3,
           "male",
           "C",
           0
          ],
          [
           1,
           "male",
           "S",
           1
          ],
          [
           3,
           "male",
           "C",
           1
          ],
          [
           3,
           "male",
           "S",
           0
          ],
          [
           3,
           "male",
           "S",
           0
          ],
          [
           1,
           "male",
           "S",
           0
          ],
          [
           2,
           "male",
           "Q",
           0
          ],
          [
           1,
           "female",
           "S",
           1
          ],
          [
           3,
           "male",
           "S",
           0
          ],
          [
           3,
           "male",
           "Q",
           0
          ],
          [
           1,
           "male",
           "S",
           1
          ],
          [
           3,
           "male",
           "S",
           0
          ],
          [
           1,
           "male",
           "C",
           1
          ],
          [
           1,
           "male",
           "S",
           0
          ],
          [
           3,
           "female",
           "S",
           0
          ],
          [
           2,
           "female",
           "S",
           1
          ],
          [
           3,
           "male",
           "S",
           0
          ],
          [
           2,
           "male",
           "S",
           0
          ],
          [
           3,
           "female",
           "S",
           0
          ],
          [
           3,
           "male",
           "S",
           0
          ],
          [
           3,
           "male",
           "S",
           0
          ],
          [
           1,
           "female",
           "C",
           1
          ],
          [
           3,
           "female",
           "S",
           0
          ],
          [
           3,
           "male",
           "S",
           1
          ],
          [
           3,
           "female",
           "C",
           1
          ],
          [
           1,
           "male",
           "C",
           1
          ],
          [
           3,
           "male",
           "S",
           0
          ],
          [
           1,
           "male",
           "C",
           1
          ],
          [
           3,
           "male",
           "S",
           0
          ],
          [
           3,
           "female",
           "S",
           1
          ],
          [
           3,
           "male",
           "S",
           0
          ],
          [
           2,
           "female",
           "S",
           1
          ],
          [
           3,
           "male",
           "S",
           0
          ],
          [
           3,
           "female",
           "Q",
           1
          ],
          [
           3,
           "female",
           "Q",
           0
          ],
          [
           2,
           "male",
           "S",
           0
          ],
          [
           3,
           "male",
           "S",
           0
          ],
          [
           3,
           "female",
           "Q",
           0
          ],
          [
           2,
           "male",
           "S",
           0
          ],
          [
           1,
           "male",
           "C",
           0
          ],
          [
           1,
           "male",
           "S",
           1
          ],
          [
           3,
           "male",
           "C",
           0
          ],
          [
           1,
           "male",
           "S",
           0
          ],
          [
           3,
           "male",
           "S",
           0
          ],
          [
           3,
           "male",
           "S",
           1
          ],
          [
           2,
           "male",
           "S",
           0
          ],
          [
           2,
           "male",
           "S",
           0
          ],
          [
           3,
           "male",
           "S",
           0
          ],
          [
           3,
           "male",
           "S",
           0
          ],
          [
           1,
           "female",
           "S",
           1
          ],
          [
           2,
           "female",
           "S",
           1
          ],
          [
           1,
           "male",
           "S",
           0
          ],
          [
           2,
           "male",
           "S",
           0
          ],
          [
           2,
           "male",
           "S",
           1
          ],
          [
           2,
           "male",
           "S",
           0
          ],
          [
           3,
           "male",
           "S",
           0
          ],
          [
           3,
           "male",
           "S",
           0
          ],
          [
           3,
           "female",
           "S",
           1
          ],
          [
           3,
           "female",
           "S",
           0
          ],
          [
           1,
           "male",
           "C",
           1
          ],
          [
           3,
           "female",
           "Q",
           0
          ],
          [
           1,
           "male",
           "C",
           1
          ],
          [
           3,
           "male",
           "S",
           0
          ],
          [
           3,
           "male",
           "S",
           0
          ],
          [
           2,
           "male",
           "S",
           0
          ],
          [
           2,
           "male",
           "C",
           0
          ],
          [
           3,
           "male",
           "S",
           0
          ],
          [
           3,
           "male",
           "S",
           0
          ],
          [
           3,
           "male",
           "S",
           0
          ],
          [
           1,
           "female",
           "S",
           1
          ],
          [
           1,
           "male",
           "S",
           1
          ],
          [
           3,
           "female",
           "C",
           1
          ],
          [
           3,
           "male",
           "S",
           1
          ],
          [
           3,
           "male",
           "C",
           0
          ],
          [
           1,
           "male",
           "S",
           0
          ],
          [
           2,
           "male",
           "S",
           0
          ],
          [
           3,
           "male",
           "S",
           0
          ],
          [
           3,
           "female",
           "Q",
           1
          ],
          [
           1,
           "male",
           "C",
           0
          ],
          [
           3,
           "male",
           "S",
           0
          ],
          [
           1,
           "female",
           "C",
           1
          ],
          [
           1,
           "male",
           "S",
           1
          ],
          [
           3,
           "female",
           "C",
           0
          ],
          [
           3,
           "male",
           "Q",
           0
          ],
          [
           3,
           "male",
           "S",
           0
          ],
          [
           2,
           "male",
           "S",
           0
          ],
          [
           2,
           "female",
           "S",
           1
          ],
          [
           1,
           "male",
           "S",
           1
          ],
          [
           1,
           "female",
           "S",
           1
          ],
          [
           3,
           "male",
           "C",
           1
          ],
          [
           1,
           "female",
           "C",
           1
          ],
          [
           1,
           "male",
           "S",
           0
          ],
          [
           1,
           "male",
           "S",
           1
          ],
          [
           3,
           "male",
           "S",
           0
          ],
          [
           2,
           "male",
           "S",
           0
          ],
          [
           3,
           "male",
           "S",
           0
          ],
          [
           1,
           "female",
           "C",
           1
          ],
          [
           2,
           "female",
           "S",
           1
          ],
          [
           3,
           "male",
           "Q",
           0
          ],
          [
           3,
           "male",
           "S",
           0
          ],
          [
           2,
           "female",
           "S",
           1
          ],
          [
           3,
           "male",
           "S",
           0
          ],
          [
           2,
           "male",
           "S",
           0
          ],
          [
           2,
           "male",
           "S",
           0
          ],
          [
           1,
           "male",
           "S",
           1
          ],
          [
           3,
           "male",
           "S",
           0
          ],
          [
           2,
           "female",
           "S",
           1
          ],
          [
           3,
           "female",
           "Q",
           1
          ],
          [
           2,
           "male",
           "S",
           0
          ],
          [
           3,
           "female",
           "S",
           0
          ],
          [
           1,
           "female",
           "S",
           1
          ],
          [
           3,
           "male",
           "C",
           0
          ],
          [
           2,
           "male",
           "S",
           0
          ],
          [
           2,
           "male",
           "S",
           0
          ],
          [
           2,
           "male",
           "S",
           0
          ],
          [
           3,
           "male",
           "S",
           0
          ],
          [
           3,
           "female",
           "S",
           0
          ],
          [
           1,
           "male",
           "C",
           1
          ],
          [
           3,
           "male",
           "S",
           0
          ],
          [
           3,
           "male",
           "S",
           0
          ],
          [
           1,
           "male",
           "S",
           1
          ],
          [
           1,
           "male",
           "S",
           0
          ],
          [
           1,
           "female",
           "C",
           1
          ],
          [
           3,
           "male",
           "S",
           0
          ],
          [
           3,
           "male",
           "S",
           1
          ],
          [
           1,
           "male",
           "S",
           0
          ],
          [
           3,
           "male",
           "S",
           0
          ],
          [
           2,
           "female",
           "S",
           1
          ],
          [
           1,
           "male",
           "S",
           0
          ],
          [
           3,
           "male",
           "Q",
           0
          ],
          [
           2,
           "female",
           "S",
           1
          ],
          [
           3,
           "male",
           "S",
           1
          ],
          [
           3,
           "male",
           "S",
           0
          ],
          [
           3,
           "male",
           "S",
           0
          ],
          [
           2,
           "female",
           "S",
           1
          ],
          [
           2,
           "male",
           "S",
           1
          ],
          [
           3,
           "male",
           "S",
           0
          ],
          [
           2,
           "male",
           "S",
           0
          ],
          [
           3,
           "male",
           "S",
           0
          ],
          [
           1,
           "female",
           "S",
           1
          ],
          [
           3,
           "male",
           "S",
           0
          ],
          [
           3,
           "male",
           "S",
           0
          ],
          [
           3,
           "male",
           "C",
           1
          ],
          [
           1,
           "female",
           "S",
           1
          ],
          [
           3,
           "male",
           "S",
           0
          ],
          [
           1,
           "female",
           "S",
           1
          ],
          [
           1,
           "male",
           "C",
           0
          ],
          [
           3,
           "female",
           "Q",
           0
          ],
          [
           3,
           "male",
           "Q",
           0
          ],
          [
           3,
           "male",
           "S",
           0
          ],
          [
           3,
           "male",
           "S",
           0
          ],
          [
           3,
           "male",
           "S",
           0
          ],
          [
           2,
           "female",
           "S",
           0
          ],
          [
           3,
           "male",
           "C",
           0
          ],
          [
           2,
           "female",
           "S",
           1
          ],
          [
           3,
           "male",
           "S",
           0
          ],
          [
           3,
           "male",
           "Q",
           0
          ],
          [
           3,
           "female",
           "S",
           1
          ],
          [
           3,
           "male",
           "Q",
           0
          ],
          [
           1,
           "female",
           "S",
           1
          ],
          [
           3,
           "female",
           "C",
           1
          ],
          [
           1,
           "female",
           "S",
           1
          ],
          [
           1,
           "male",
           "S",
           0
          ],
          [
           3,
           "male",
           "S",
           0
          ],
          [
           3,
           "male",
           "S",
           0
          ],
          [
           3,
           "male",
           "S",
           0
          ],
          [
           3,
           "female",
           "S",
           1
          ],
          [
           3,
           "male",
           "Q",
           0
          ],
          [
           3,
           "male",
           "S",
           1
          ],
          [
           1,
           "male",
           "C",
           0
          ],
          [
           3,
           "male",
           "Q",
           0
          ],
          [
           2,
           "male",
           "S",
           0
          ],
          [
           3,
           "female",
           "S",
           0
          ],
          [
           1,
           "male",
           "C",
           0
          ],
          [
           3,
           "male",
           "S",
           0
          ],
          [
           2,
           "male",
           "S",
           0
          ],
          [
           1,
           "female",
           "S",
           1
          ],
          [
           3,
           "female",
           "S",
           1
          ],
          [
           3,
           "male",
           "C",
           0
          ],
          [
           3,
           "female",
           "S",
           0
          ],
          [
           2,
           "male",
           "S",
           0
          ],
          [
           2,
           "female",
           "S",
           1
          ],
          [
           1,
           "male",
           "S",
           1
          ],
          [
           3,
           "male",
           "C",
           1
          ],
          [
           3,
           "male",
           "S",
           1
          ],
          [
           3,
           "male",
           "S",
           0
          ],
          [
           1,
           "male",
           "S",
           0
          ],
          [
           3,
           "female",
           "S",
           0
          ],
          [
           2,
           "male",
           "S",
           0
          ],
          [
           1,
           "female",
           "S",
           1
          ],
          [
           3,
           "male",
           "S",
           0
          ],
          [
           3,
           "male",
           "S",
           0
          ],
          [
           2,
           "male",
           "S",
           0
          ],
          [
           3,
           "female",
           "S",
           0
          ],
          [
           3,
           "male",
           "S",
           0
          ],
          [
           1,
           "male",
           "S",
           0
          ],
          [
           3,
           "female",
           "S",
           0
          ],
          [
           2,
           "male",
           "C",
           0
          ],
          [
           3,
           "male",
           "S",
           0
          ],
          [
           3,
           "male",
           "S",
           0
          ],
          [
           1,
           "female",
           "S",
           1
          ],
          [
           3,
           "male",
           "S",
           1
          ],
          [
           1,
           "male",
           "S",
           0
          ],
          [
           3,
           "female",
           "S",
           1
          ],
          [
           3,
           "male",
           "S",
           0
          ],
          [
           3,
           "male",
           "Q",
           0
          ],
          [
           3,
           "male",
           "S",
           0
          ],
          [
           2,
           "male",
           "C",
           1
          ],
          [
           3,
           "male",
           "Q",
           1
          ],
          [
           1,
           "female",
           null,
           1
          ],
          [
           3,
           "female",
           "C",
           1
          ],
          [
           2,
           "male",
           "S",
           1
          ],
          [
           3,
           "male",
           "C",
           0
          ],
          [
           3,
           "male",
           "S",
           0
          ],
          [
           3,
           "male",
           "S",
           0
          ],
          [
           1,
           "female",
           "C",
           1
          ],
          [
           3,
           "male",
           "S",
           0
          ],
          [
           3,
           "male",
           "S",
           0
          ],
          [
           3,
           "male",
           "S",
           1
          ],
          [
           1,
           "male",
           "C",
           1
          ],
          [
           3,
           "male",
           "S",
           0
          ],
          [
           2,
           "male",
           "S",
           0
          ],
          [
           1,
           "female",
           "C",
           1
          ],
          [
           3,
           "male",
           "C",
           0
          ],
          [
           3,
           "male",
           "S",
           0
          ],
          [
           3,
           "male",
           "S",
           0
          ],
          [
           3,
           "male",
           "S",
           0
          ],
          [
           3,
           "male",
           "C",
           0
          ],
          [
           2,
           "male",
           "S",
           0
          ],
          [
           1,
           "female",
           "C",
           1
          ],
          [
           3,
           "male",
           "S",
           0
          ],
          [
           3,
           "male",
           "S",
           0
          ],
          [
           3,
           "female",
           "C",
           0
          ],
          [
           1,
           "female",
           "S",
           1
          ],
          [
           2,
           "female",
           "S",
           0
          ],
          [
           3,
           "female",
           "S",
           1
          ],
          [
           1,
           "female",
           "S",
           1
          ],
          [
           1,
           "male",
           "S",
           1
          ],
          [
           3,
           "female",
           "C",
           1
          ],
          [
           3,
           "male",
           "C",
           0
          ],
          [
           3,
           "male",
           "S",
           0
          ],
          [
           2,
           "male",
           "S",
           0
          ],
          [
           1,
           "female",
           "S",
           1
          ],
          [
           3,
           "female",
           "S",
           0
          ],
          [
           2,
           "male",
           "S",
           0
          ],
          [
           2,
           "female",
           "S",
           1
          ],
          [
           2,
           "female",
           "C",
           1
          ],
          [
           1,
           "male",
           "S",
           0
          ],
          [
           3,
           "male",
           "S",
           0
          ],
          [
           3,
           "male",
           "S",
           1
          ],
          [
           3,
           "male",
           "S",
           0
          ],
          [
           1,
           "female",
           "S",
           1
          ],
          [
           1,
           "male",
           "S",
           0
          ],
          [
           3,
           "male",
           "S",
           0
          ],
          [
           2,
           "female",
           "C",
           1
          ],
          [
           3,
           "female",
           "C",
           1
          ],
          [
           3,
           "male",
           "S",
           0
          ],
          [
           3,
           "male",
           "S",
           0
          ],
          [
           3,
           "male",
           "S",
           0
          ],
          [
           1,
           "female",
           "C",
           1
          ],
          [
           2,
           "female",
           "S",
           1
          ],
          [
           3,
           "male",
           "S",
           0
          ],
          [
           3,
           "female",
           "S",
           0
          ],
          [
           2,
           "male",
           "S",
           0
          ],
          [
           3,
           "male",
           "S",
           0
          ],
          [
           3,
           "female",
           "Q",
           0
          ],
          [
           2,
           "male",
           "S",
           0
          ],
          [
           1,
           "female",
           "S",
           1
          ],
          [
           3,
           "female",
           "S",
           0
          ],
          [
           1,
           "male",
           "C",
           1
          ],
          [
           3,
           "male",
           "Q",
           0
          ]
         ],
         "hovertemplate": "Age=%{x}<br>Fare=%{y}<br>pclass=%{customdata[0]}<br>sex=%{customdata[1]}<br>embarked=%{customdata[2]}<br>survived=%{marker.color}<extra></extra>",
         "legendgroup": "",
         "marker": {
          "color": [
           0,
           1,
           1,
           1,
           0,
           0,
           0,
           0,
           1,
           1,
           1,
           1,
           0,
           0,
           0,
           1,
           0,
           1,
           0,
           1,
           0,
           1,
           1,
           1,
           0,
           1,
           0,
           0,
           1,
           0,
           0,
           1,
           1,
           0,
           0,
           0,
           1,
           0,
           0,
           1,
           0,
           0,
           0,
           1,
           1,
           0,
           0,
           1,
           0,
           0,
           0,
           0,
           1,
           1,
           0,
           1,
           1,
           0,
           1,
           0,
           0,
           1,
           0,
           0,
           0,
           1,
           1,
           0,
           1,
           0,
           0,
           0,
           0,
           0,
           1,
           0,
           0,
           0,
           1,
           1,
           0,
           1,
           1,
           0,
           1,
           1,
           0,
           0,
           1,
           0,
           0,
           0,
           0,
           0,
           0,
           0,
           0,
           1,
           1,
           0,
           0,
           0,
           0,
           0,
           0,
           0,
           1,
           1,
           0,
           1,
           0,
           0,
           0,
           0,
           0,
           0,
           0,
           0,
           0,
           0,
           0,
           0,
           0,
           1,
           0,
           1,
           0,
           1,
           1,
           0,
           0,
           0,
           0,
           1,
           0,
           0,
           1,
           0,
           0,
           0,
           0,
           1,
           1,
           0,
           0,
           0,
           1,
           0,
           0,
           0,
           0,
           1,
           0,
           0,
           0,
           0,
           1,
           0,
           0,
           0,
           0,
           1,
           0,
           0,
           0,
           1,
           1,
           0,
           0,
           0,
           0,
           0,
           1,
           0,
           0,
           0,
           0,
           0,
           0,
           0,
           0,
           0,
           0,
           1,
           1,
           0,
           1,
           1,
           0,
           0,
           1,
           0,
           1,
           1,
           1,
           1,
           0,
           0,
           1,
           0,
           0,
           0,
           0,
           0,
           1,
           0,
           0,
           1,
           1,
           1,
           0,
           1,
           0,
           0,
           0,
           1,
           1,
           0,
           1,
           0,
           1,
           0,
           0,
           0,
           1,
           0,
           1,
           0,
           0,
           0,
           1,
           0,
           0,
           1,
           0,
           0,
           0,
           1,
           0,
           0,
           0,
           1,
           0,
           0,
           0,
           0,
           0,
           1,
           1,
           0,
           0,
           0,
           0,
           0,
           0,
           1,
           1,
           1,
           1,
           1,
           0,
           1,
           0,
           0,
           0,
           0,
           0,
           1,
           1,
           1,
           0,
           1,
           1,
           0,
           1,
           1,
           0,
           0,
           0,
           1,
           0,
           0,
           0,
           1,
           0,
           0,
           1,
           0,
           1,
           1,
           1,
           1,
           0,
           0,
           0,
           0,
           0,
           0,
           1,
           1,
           1,
           1,
           0,
           1,
           0,
           1,
           1,
           1,
           0,
           1,
           1,
           1,
           0,
           0,
           0,
           1,
           1,
           0,
           1,
           1,
           0,
           0,
           1,
           1,
           0,
           1,
           0,
           1,
           1,
           1,
           1,
           0,
           0,
           0,
           1,
           0,
           0,
           1,
           1,
           0,
           1,
           1,
           0,
           0,
           0,
           1,
           1,
           1,
           1,
           0,
           0,
           0,
           0,
           0,
           0,
           0,
           1,
           0,
           1,
           1,
           0,
           0,
           0,
           0,
           0,
           0,
           1,
           1,
           1,
           1,
           1,
           0,
           0,
           0,
           0,
           1,
           1,
           0,
           0,
           0,
           1,
           1,
           0,
           1,
           0,
           0,
           0,
           1,
           0,
           1,
           1,
           1,
           0,
           1,
           1,
           0,
           0,
           0,
           0,
           1,
           1,
           0,
           0,
           0,
           0,
           0,
           0,
           1,
           0,
           0,
           0,
           0,
           1,
           0,
           1,
           0,
           1,
           1,
           0,
           0,
           0,
           0,
           0,
           0,
           0,
           0,
           1,
           1,
           0,
           1,
           1,
           1,
           1,
           0,
           0,
           1,
           0,
           1,
           0,
           0,
           1,
           0,
           0,
           1,
           1,
           1,
           1,
           1,
           1,
           1,
           0,
           0,
           0,
           1,
           0,
           1,
           0,
           1,
           1,
           0,
           1,
           0,
           0,
           0,
           0,
           0,
           0,
           0,
           0,
           1,
           0,
           0,
           1,
           1,
           0,
           0,
           0,
           0,
           0,
           1,
           0,
           0,
           0,
           1,
           1,
           0,
           1,
           0,
           0,
           1,
           0,
           0,
           0,
           0,
           0,
           0,
           1,
           0,
           0,
           0,
           0,
           0,
           0,
           0,
           1,
           0,
           1,
           1,
           0,
           1,
           1,
           0,
           1,
           1,
           0,
           0,
           1,
           0,
           1,
           0,
           1,
           0,
           0,
           1,
           0,
           0,
           1,
           0,
           0,
           0,
           1,
           0,
           0,
           1,
           0,
           1,
           0,
           1,
           0,
           1,
           1,
           0,
           0,
           1,
           0,
           0,
           1,
           1,
           0,
           1,
           1,
           0,
           0,
           1,
           1,
           0,
           1,
           0,
           1,
           1,
           0,
           0,
           0,
           0,
           0,
           0,
           0,
           0,
           0,
           1,
           1,
           1,
           1,
           1,
           0,
           0,
           1,
           1,
           0,
           1,
           1,
           1,
           0,
           0,
           0,
           1,
           0,
           1,
           0,
           0,
           0,
           1,
           0,
           0,
           0,
           0,
           1,
           0,
           0,
           1,
           1,
           0,
           0,
           0,
           1,
           0,
           0,
           1,
           1,
           1,
           0,
           0,
           1,
           0,
           0,
           1,
           0,
           0,
           1,
           0,
           0,
           1,
           1,
           0,
           0,
           0,
           0,
           1,
           0,
           0,
           1,
           0,
           1,
           0,
           0,
           1,
           0,
           0,
           0,
           0,
           0,
           1,
           0,
           1,
           1,
           1,
           0,
           1,
           0,
           1,
           0,
           1,
           0,
           1,
           0,
           0,
           0,
           0,
           0,
           0,
           1,
           0,
           0,
           0,
           1,
           0,
           0,
           0,
           0,
           1,
           1,
           0,
           0,
           1,
           0,
           0,
           0,
           1,
           0,
           1,
           0,
           1,
           0,
           0,
           0,
           0,
           0,
           0,
           0,
           1,
           1,
           1,
           1,
           0,
           0,
           0,
           0,
           1,
           0,
           0,
           1,
           1,
           0,
           0,
           0,
           0,
           1,
           1,
           1,
           1,
           1,
           0,
           1,
           0,
           0,
           0,
           1,
           1,
           0,
           0,
           1,
           0,
           0,
           0,
           1,
           0,
           1,
           1,
           0,
           0,
           1,
           0,
           0,
           0,
           0,
           0,
           0,
           1,
           0,
           0,
           1,
           0,
           1,
           0,
           1,
           0,
           0,
           1,
           0,
           0,
           1,
           1,
           0,
           0,
           1,
           1,
           0,
           0,
           0,
           1,
           0,
           0,
           1,
           1,
           0,
           1,
           0,
           0,
           0,
           0,
           0,
           0,
           0,
           0,
           1,
           0,
           0,
           1,
           0,
           1,
           1,
           1,
           0,
           0,
           0,
           0,
           1,
           0,
           1,
           0,
           0,
           0,
           0,
           0,
           0,
           0,
           1,
           1,
           0,
           0,
           0,
           1,
           1,
           1,
           1,
           0,
           0,
           0,
           0,
           1,
           0,
           0,
           0,
           0,
           0,
           0,
           0,
           0,
           0,
           0,
           1,
           1,
           0,
           1,
           0,
           0,
           0,
           1,
           1,
           1,
           1,
           1,
           0,
           0,
           0,
           1,
           0,
           0,
           1,
           1,
           0,
           0,
           1,
           0,
           0,
           0,
           0,
           0,
           0,
           1,
           0,
           0,
           0,
           1,
           0,
           1,
           1,
           1,
           1,
           0,
           0,
           0,
           1,
           0,
           0,
           1,
           1,
           0,
           0,
           1,
           0,
           1,
           0,
           0,
           1,
           1,
           0,
           0,
           0,
           1,
           1,
           0,
           0,
           0,
           0,
           0,
           0,
           1,
           0,
           1,
           0
          ],
          "coloraxis": "coloraxis",
          "opacity": 0.7,
          "size": [
           3,
           1,
           3,
           1,
           3,
           3,
           1,
           3,
           3,
           2,
           3,
           1,
           3,
           3,
           3,
           2,
           3,
           2,
           3,
           3,
           2,
           2,
           3,
           1,
           3,
           3,
           3,
           1,
           3,
           3,
           1,
           1,
           3,
           2,
           1,
           1,
           3,
           3,
           3,
           3,
           3,
           2,
           3,
           2,
           3,
           3,
           3,
           3,
           3,
           3,
           3,
           3,
           1,
           2,
           1,
           1,
           2,
           3,
           2,
           3,
           3,
           1,
           1,
           3,
           1,
           3,
           2,
           3,
           3,
           3,
           2,
           3,
           2,
           3,
           3,
           3,
           3,
           3,
           2,
           3,
           3,
           3,
           3,
           1,
           2,
           3,
           3,
           3,
           1,
           3,
           3,
           3,
           1,
           3,
           3,
           3,
           1,
           1,
           2,
           2,
           3,
           3,
           1,
           3,
           3,
           3,
           3,
           3,
           3,
           3,
           1,
           3,
           3,
           3,
           3,
           3,
           3,
           2,
           1,
           3,
           2,
           3,
           2,
           2,
           1,
           3,
           3,
           3,
           3,
           3,
           3,
           3,
           3,
           2,
           2,
           2,
           1,
           1,
           3,
           1,
           3,
           3,
           3,
           3,
           2,
           2,
           3,
           3,
           2,
           2,
           2,
           1,
           3,
           3,
           3,
           1,
           3,
           3,
           3,
           3,
           3,
           2,
           3,
           3,
           3,
           3,
           1,
           3,
           1,
           3,
           1,
           3,
           3,
           3,
           1,
           3,
           3,
           1,
           2,
           3,
           3,
           2,
           3,
           2,
           3,
           1,
           3,
           1,
           3,
           3,
           2,
           2,
           3,
           2,
           1,
           1,
           3,
           3,
           3,
           2,
           3,
           3,
           3,
           3,
           3,
           3,
           3,
           3,
           3,
           1,
           3,
           2,
           3,
           2,
           3,
           1,
           3,
           2,
           1,
           2,
           3,
           2,
           3,
           3,
           1,
           3,
           2,
           3,
           2,
           3,
           1,
           3,
           2,
           3,
           2,
           3,
           2,
           2,
           2,
           2,
           3,
           3,
           2,
           3,
           3,
           1,
           3,
           2,
           1,
           2,
           3,
           3,
           1,
           3,
           3,
           3,
           1,
           1,
           1,
           2,
           3,
           3,
           1,
           1,
           3,
           2,
           3,
           3,
           1,
           1,
           1,
           3,
           2,
           1,
           3,
           1,
           3,
           2,
           3,
           3,
           3,
           3,
           3,
           3,
           1,
           3,
           3,
           3,
           2,
           3,
           1,
           1,
           2,
           3,
           3,
           1,
           3,
           1,
           1,
           1,
           3,
           3,
           3,
           2,
           3,
           1,
           1,
           1,
           2,
           1,
           1,
           1,
           2,
           3,
           2,
           3,
           2,
           2,
           1,
           1,
           3,
           3,
           2,
           2,
           3,
           1,
           3,
           2,
           3,
           1,
           3,
           1,
           1,
           3,
           1,
           3,
           1,
           1,
           3,
           1,
           2,
           1,
           2,
           2,
           2,
           2,
           2,
           3,
           3,
           3,
           3,
           1,
           3,
           3,
           3,
           3,
           1,
           2,
           3,
           3,
           3,
           2,
           3,
           3,
           3,
           3,
           1,
           3,
           3,
           1,
           1,
           3,
           3,
           1,
           3,
           1,
           3,
           1,
           3,
           3,
           1,
           3,
           3,
           1,
           3,
           2,
           3,
           2,
           3,
           2,
           1,
           3,
           3,
           1,
           3,
           3,
           3,
           2,
           2,
           2,
           3,
           3,
           3,
           3,
           3,
           2,
           3,
           2,
           3,
           3,
           3,
           3,
           1,
           2,
           3,
           3,
           2,
           2,
           2,
           3,
           3,
           3,
           3,
           3,
           3,
           3,
           2,
           2,
           3,
           3,
           1,
           3,
           2,
           3,
           1,
           1,
           3,
           2,
           1,
           2,
           2,
           3,
           3,
           2,
           3,
           1,
           2,
           1,
           3,
           1,
           2,
           3,
           1,
           1,
           3,
           3,
           1,
           1,
           2,
           3,
           1,
           3,
           1,
           2,
           3,
           3,
           2,
           1,
           3,
           3,
           3,
           3,
           2,
           2,
           3,
           1,
           2,
           3,
           3,
           3,
           3,
           2,
           3,
           3,
           1,
           3,
           1,
           1,
           3,
           3,
           3,
           3,
           1,
           1,
           3,
           3,
           1,
           3,
           1,
           3,
           3,
           3,
           3,
           3,
           1,
           1,
           2,
           1,
           3,
           3,
           3,
           3,
           1,
           1,
           3,
           1,
           2,
           3,
           2,
           3,
           1,
           3,
           3,
           1,
           3,
           3,
           2,
           1,
           3,
           2,
           2,
           3,
           3,
           3,
           3,
           2,
           1,
           1,
           3,
           1,
           1,
           3,
           3,
           2,
           1,
           1,
           2,
           2,
           3,
           2,
           1,
           2,
           3,
           3,
           3,
           1,
           1,
           1,
           1,
           3,
           3,
           3,
           2,
           3,
           3,
           3,
           3,
           3,
           3,
           3,
           2,
           1,
           1,
           3,
           3,
           3,
           2,
           1,
           3,
           3,
           2,
           1,
           2,
           1,
           3,
           1,
           2,
           1,
           3,
           3,
           3,
           1,
           3,
           3,
           2,
           3,
           2,
           3,
           3,
           1,
           2,
           3,
           1,
           3,
           1,
           3,
           3,
           1,
           2,
           1,
           3,
           3,
           3,
           3,
           3,
           2,
           3,
           3,
           2,
           2,
           3,
           1,
           3,
           3,
           3,
           1,
           2,
           1,
           3,
           3,
           1,
           3,
           1,
           1,
           3,
           2,
           3,
           2,
           3,
           3,
           3,
           1,
           3,
           3,
           3,
           1,
           3,
           1,
           3,
           3,
           3,
           2,
           3,
           3,
           3,
           2,
           3,
           3,
           2,
           1,
           1,
           3,
           1,
           3,
           3,
           2,
           2,
           3,
           3,
           1,
           2,
           1,
           2,
           2,
           2,
           3,
           3,
           3,
           3,
           1,
           3,
           1,
           3,
           3,
           2,
           2,
           3,
           3,
           3,
           1,
           1,
           3,
           3,
           3,
           1,
           2,
           3,
           3,
           1,
           3,
           1,
           1,
           3,
           3,
           3,
           2,
           2,
           1,
           1,
           3,
           1,
           1,
           1,
           3,
           2,
           3,
           1,
           2,
           3,
           3,
           2,
           3,
           2,
           2,
           1,
           3,
           2,
           3,
           2,
           3,
           1,
           3,
           2,
           2,
           2,
           3,
           3,
           1,
           3,
           3,
           1,
           1,
           1,
           3,
           3,
           1,
           3,
           2,
           1,
           3,
           2,
           3,
           3,
           3,
           2,
           2,
           3,
           2,
           3,
           1,
           3,
           3,
           3,
           1,
           3,
           1,
           1,
           3,
           3,
           3,
           3,
           3,
           2,
           3,
           2,
           3,
           3,
           3,
           3,
           1,
           3,
           1,
           1,
           3,
           3,
           3,
           3,
           3,
           3,
           1,
           3,
           2,
           3,
           1,
           3,
           2,
           1,
           3,
           3,
           3,
           2,
           2,
           1,
           3,
           3,
           3,
           1,
           3,
           2,
           1,
           3,
           3,
           2,
           3,
           3,
           1,
           3,
           2,
           3,
           3,
           1,
           3,
           1,
           3,
           3,
           3,
           3,
           2,
           3,
           1,
           3,
           2,
           3,
           3,
           3,
           1,
           3,
           3,
           3,
           1,
           3,
           2,
           1,
           3,
           3,
           3,
           3,
           3,
           2,
           1,
           3,
           3,
           3,
           1,
           2,
           3,
           1,
           1,
           3,
           3,
           3,
           2,
           1,
           3,
           2,
           2,
           2,
           1,
           3,
           3,
           3,
           1,
           1,
           3,
           2,
           3,
           3,
           3,
           3,
           1,
           2,
           3,
           3,
           2,
           3,
           3,
           2,
           1,
           3,
           1,
           3
          ],
          "sizemode": "area",
          "sizeref": 0.0075,
          "symbol": "circle"
         },
         "mode": "markers",
         "name": "",
         "orientation": "v",
         "showlegend": false,
         "type": "scatter",
         "x": [
          22,
          38,
          26,
          35,
          35,
          null,
          54,
          2,
          27,
          14,
          4,
          58,
          20,
          39,
          14,
          55,
          2,
          null,
          31,
          null,
          35,
          34,
          15,
          28,
          8,
          38,
          null,
          19,
          null,
          null,
          40,
          null,
          null,
          66,
          28,
          42,
          null,
          21,
          18,
          14,
          40,
          27,
          null,
          3,
          19,
          null,
          null,
          null,
          null,
          18,
          7,
          21,
          49,
          29,
          65,
          null,
          21,
          28.5,
          5,
          11,
          22,
          38,
          45,
          4,
          null,
          null,
          29,
          19,
          17,
          26,
          32,
          16,
          21,
          26,
          32,
          25,
          null,
          null,
          0.83,
          30,
          22,
          29,
          null,
          28,
          17,
          33,
          16,
          null,
          23,
          24,
          29,
          20,
          46,
          26,
          59,
          null,
          71,
          23,
          34,
          34,
          28,
          null,
          21,
          33,
          37,
          28,
          21,
          null,
          38,
          null,
          47,
          14.5,
          22,
          20,
          17,
          21,
          70.5,
          29,
          24,
          2,
          21,
          null,
          32.5,
          32.5,
          54,
          12,
          null,
          24,
          null,
          45,
          33,
          20,
          47,
          29,
          25,
          23,
          19,
          37,
          16,
          24,
          null,
          22,
          24,
          19,
          18,
          19,
          27,
          9,
          36.5,
          42,
          51,
          22,
          55.5,
          40.5,
          null,
          51,
          16,
          30,
          null,
          null,
          44,
          40,
          26,
          17,
          1,
          9,
          null,
          45,
          null,
          28,
          61,
          4,
          1,
          21,
          56,
          18,
          null,
          50,
          30,
          36,
          null,
          null,
          9,
          1,
          4,
          null,
          null,
          45,
          40,
          36,
          32,
          19,
          19,
          3,
          44,
          58,
          null,
          42,
          null,
          24,
          28,
          null,
          34,
          45.5,
          18,
          2,
          32,
          26,
          16,
          40,
          24,
          35,
          22,
          30,
          null,
          31,
          27,
          42,
          32,
          30,
          16,
          27,
          51,
          null,
          38,
          22,
          19,
          20.5,
          18,
          null,
          35,
          29,
          59,
          5,
          24,
          null,
          44,
          8,
          19,
          33,
          null,
          null,
          29,
          22,
          30,
          44,
          25,
          24,
          37,
          54,
          null,
          29,
          62,
          30,
          41,
          29,
          null,
          30,
          35,
          50,
          null,
          3,
          52,
          40,
          null,
          36,
          16,
          25,
          58,
          35,
          null,
          25,
          41,
          37,
          null,
          63,
          45,
          null,
          7,
          35,
          65,
          28,
          16,
          19,
          null,
          33,
          30,
          22,
          42,
          22,
          26,
          19,
          36,
          24,
          24,
          null,
          23.5,
          2,
          null,
          50,
          null,
          null,
          19,
          null,
          null,
          0.92,
          null,
          17,
          30,
          30,
          24,
          18,
          26,
          28,
          43,
          26,
          24,
          54,
          31,
          40,
          22,
          27,
          30,
          22,
          null,
          36,
          61,
          36,
          31,
          16,
          null,
          45.5,
          38,
          16,
          null,
          null,
          29,
          41,
          45,
          45,
          2,
          24,
          28,
          25,
          36,
          24,
          40,
          null,
          3,
          42,
          23,
          null,
          15,
          25,
          null,
          28,
          22,
          38,
          null,
          null,
          40,
          29,
          45,
          35,
          null,
          30,
          60,
          null,
          null,
          24,
          25,
          18,
          19,
          22,
          3,
          null,
          22,
          27,
          20,
          19,
          42,
          1,
          32,
          35,
          null,
          18,
          1,
          36,
          null,
          17,
          36,
          21,
          28,
          23,
          24,
          22,
          31,
          46,
          23,
          28,
          39,
          26,
          21,
          28,
          20,
          34,
          51,
          3,
          21,
          null,
          null,
          null,
          33,
          null,
          44,
          null,
          34,
          18,
          30,
          10,
          null,
          21,
          29,
          28,
          18,
          null,
          28,
          19,
          null,
          32,
          28,
          null,
          42,
          17,
          50,
          14,
          21,
          24,
          64,
          31,
          45,
          20,
          25,
          28,
          null,
          4,
          13,
          34,
          5,
          52,
          36,
          null,
          30,
          49,
          null,
          29,
          65,
          null,
          50,
          null,
          48,
          34,
          47,
          48,
          null,
          38,
          null,
          56,
          null,
          0.75,
          null,
          38,
          33,
          23,
          22,
          null,
          34,
          29,
          22,
          2,
          9,
          null,
          50,
          63,
          25,
          null,
          35,
          58,
          30,
          9,
          null,
          21,
          55,
          71,
          21,
          null,
          54,
          null,
          25,
          24,
          17,
          21,
          null,
          37,
          16,
          18,
          33,
          null,
          28,
          26,
          29,
          null,
          36,
          54,
          24,
          47,
          34,
          null,
          36,
          32,
          30,
          22,
          null,
          44,
          null,
          40.5,
          50,
          null,
          39,
          23,
          2,
          null,
          17,
          null,
          30,
          7,
          45,
          30,
          null,
          22,
          36,
          9,
          11,
          32,
          50,
          64,
          19,
          null,
          33,
          8,
          17,
          27,
          null,
          22,
          22,
          62,
          48,
          null,
          39,
          36,
          null,
          40,
          28,
          null,
          null,
          24,
          19,
          29,
          null,
          32,
          62,
          53,
          36,
          null,
          16,
          19,
          34,
          39,
          null,
          32,
          25,
          39,
          54,
          36,
          null,
          18,
          47,
          60,
          22,
          null,
          35,
          52,
          47,
          null,
          37,
          36,
          null,
          49,
          null,
          49,
          24,
          null,
          null,
          44,
          35,
          36,
          30,
          27,
          22,
          40,
          39,
          null,
          null,
          null,
          35,
          24,
          34,
          26,
          4,
          26,
          27,
          42,
          20,
          21,
          21,
          61,
          57,
          21,
          26,
          null,
          80,
          51,
          32,
          null,
          9,
          28,
          32,
          31,
          41,
          null,
          20,
          24,
          2,
          null,
          0.75,
          48,
          19,
          56,
          null,
          23,
          null,
          18,
          21,
          null,
          18,
          24,
          null,
          32,
          23,
          58,
          50,
          40,
          47,
          36,
          20,
          32,
          25,
          null,
          43,
          null,
          40,
          31,
          70,
          31,
          null,
          18,
          24.5,
          18,
          43,
          36,
          null,
          27,
          20,
          14,
          60,
          25,
          14,
          19,
          18,
          15,
          31,
          4,
          null,
          25,
          60,
          52,
          44,
          null,
          49,
          42,
          18,
          35,
          18,
          25,
          26,
          39,
          45,
          42,
          22,
          null,
          24,
          null,
          48,
          29,
          52,
          19,
          38,
          27,
          null,
          33,
          6,
          17,
          34,
          50,
          27,
          20,
          30,
          null,
          25,
          25,
          29,
          11,
          null,
          23,
          23,
          28.5,
          48,
          35,
          null,
          null,
          null,
          36,
          21,
          24,
          31,
          70,
          16,
          30,
          19,
          31,
          4,
          6,
          33,
          23,
          48,
          0.67,
          28,
          18,
          34,
          33,
          null,
          41,
          20,
          36,
          16,
          51,
          null,
          30.5,
          null,
          32,
          24,
          48,
          57,
          null,
          54,
          18,
          null,
          5,
          null,
          43,
          13,
          17,
          29,
          null,
          25,
          25,
          18,
          8,
          1,
          46,
          null,
          16,
          null,
          null,
          25,
          39,
          49,
          31,
          30,
          30,
          34,
          31,
          11,
          0.42,
          27,
          31,
          39,
          18,
          39,
          33,
          26,
          39,
          35,
          6,
          30.5,
          null,
          23,
          31,
          43,
          10,
          52,
          27,
          38,
          27,
          2,
          null,
          null,
          1,
          null,
          62,
          15,
          0.83,
          null,
          23,
          18,
          39,
          21,
          null,
          32,
          null,
          20,
          16,
          30,
          34.5,
          17,
          42,
          null,
          35,
          28,
          null,
          4,
          74,
          9,
          16,
          44,
          18,
          45,
          51,
          24,
          null,
          41,
          21,
          48,
          null,
          24,
          42,
          27,
          31,
          null,
          4,
          26,
          47,
          33,
          47,
          28,
          15,
          20,
          19,
          null,
          56,
          25,
          33,
          22,
          28,
          25,
          39,
          27,
          19,
          null,
          26,
          32
         ],
         "xaxis": "x",
         "y": [
          7.25,
          71.2833,
          7.925,
          53.1,
          8.05,
          8.4583,
          51.8625,
          21.075,
          11.1333,
          30.0708,
          16.7,
          26.55,
          8.05,
          31.275,
          7.8542,
          16,
          29.125,
          13,
          18,
          7.225,
          26,
          13,
          8.0292,
          35.5,
          21.075,
          31.3875,
          7.225,
          263,
          7.8792,
          7.8958,
          27.7208,
          146.5208,
          7.75,
          10.5,
          82.1708,
          52,
          7.2292,
          8.05,
          18,
          11.2417,
          9.475,
          21,
          7.8958,
          41.5792,
          7.8792,
          8.05,
          15.5,
          7.75,
          21.6792,
          17.8,
          39.6875,
          7.8,
          76.7292,
          26,
          61.9792,
          35.5,
          10.5,
          7.2292,
          27.75,
          46.9,
          7.2292,
          80,
          83.475,
          27.9,
          27.7208,
          15.2458,
          10.5,
          8.1583,
          7.925,
          8.6625,
          10.5,
          46.9,
          73.5,
          14.4542,
          56.4958,
          7.65,
          7.8958,
          8.05,
          29,
          12.475,
          9,
          9.5,
          7.7875,
          47.1,
          10.5,
          15.85,
          34.375,
          8.05,
          263,
          8.05,
          8.05,
          7.8542,
          61.175,
          20.575,
          7.25,
          8.05,
          34.6542,
          63.3583,
          23,
          26,
          7.8958,
          7.8958,
          77.2875,
          8.6542,
          7.925,
          7.8958,
          7.65,
          7.775,
          7.8958,
          24.15,
          52,
          14.4542,
          8.05,
          9.825,
          14.4583,
          7.925,
          7.75,
          21,
          247.5208,
          31.275,
          73.5,
          8.05,
          30.0708,
          13,
          77.2875,
          11.2417,
          7.75,
          7.1417,
          22.3583,
          6.975,
          7.8958,
          7.05,
          14.5,
          26,
          13,
          15.0458,
          26.2833,
          53.1,
          9.2167,
          79.2,
          15.2458,
          7.75,
          15.85,
          6.75,
          11.5,
          36.75,
          7.7958,
          34.375,
          26,
          13,
          12.525,
          66.6,
          8.05,
          14.5,
          7.3125,
          61.3792,
          7.7333,
          8.05,
          8.6625,
          69.55,
          16.1,
          15.75,
          7.775,
          8.6625,
          39.6875,
          20.525,
          55,
          27.9,
          25.925,
          56.4958,
          33.5,
          29.125,
          11.1333,
          7.925,
          30.6958,
          7.8542,
          25.4667,
          28.7125,
          13,
          0,
          69.55,
          15.05,
          31.3875,
          39,
          22.025,
          50,
          15.5,
          26.55,
          15.5,
          7.8958,
          13,
          13,
          7.8542,
          26,
          27.7208,
          146.5208,
          7.75,
          8.4042,
          7.75,
          13,
          9.5,
          69.55,
          6.4958,
          7.225,
          8.05,
          10.4625,
          15.85,
          18.7875,
          7.75,
          31,
          7.05,
          21,
          7.25,
          13,
          7.75,
          113.275,
          7.925,
          27,
          76.2917,
          10.5,
          8.05,
          13,
          8.05,
          7.8958,
          90,
          9.35,
          10.5,
          7.25,
          13,
          25.4667,
          83.475,
          7.775,
          13.5,
          31.3875,
          10.5,
          7.55,
          26,
          26.25,
          10.5,
          12.275,
          14.4542,
          15.5,
          10.5,
          7.125,
          7.225,
          90,
          7.775,
          14.5,
          52.5542,
          26,
          7.25,
          10.4625,
          26.55,
          16.1,
          20.2125,
          15.2458,
          79.2,
          86.5,
          512.3292,
          26,
          7.75,
          31.3875,
          79.65,
          0,
          7.75,
          10.5,
          39.6875,
          7.775,
          153.4625,
          135.6333,
          31,
          0,
          19.5,
          29.7,
          7.75,
          77.9583,
          7.75,
          0,
          29.125,
          20.25,
          7.75,
          7.8542,
          9.5,
          8.05,
          26,
          8.6625,
          9.5,
          7.8958,
          13,
          7.75,
          78.85,
          91.0792,
          12.875,
          8.85,
          7.8958,
          27.7208,
          7.2292,
          151.55,
          30.5,
          247.5208,
          7.75,
          23.25,
          0,
          12.35,
          8.05,
          151.55,
          110.8833,
          108.9,
          24,
          56.9292,
          83.1583,
          262.375,
          26,
          7.8958,
          26.25,
          7.8542,
          26,
          14,
          164.8667,
          134.5,
          7.25,
          7.8958,
          12.35,
          29,
          69.55,
          135.6333,
          6.2375,
          13,
          20.525,
          57.9792,
          23.25,
          28.5,
          153.4625,
          18,
          133.65,
          7.8958,
          66.6,
          134.5,
          8.05,
          35.5,
          26,
          263,
          13,
          13,
          13,
          13,
          13,
          16.1,
          15.9,
          8.6625,
          9.225,
          35,
          7.2292,
          17.8,
          7.225,
          9.5,
          55,
          13,
          7.8792,
          7.8792,
          27.9,
          27.7208,
          14.4542,
          7.05,
          15.5,
          7.25,
          75.25,
          7.2292,
          7.75,
          69.3,
          55.4417,
          6.4958,
          8.05,
          135.6333,
          21.075,
          82.1708,
          7.25,
          211.5,
          4.0125,
          7.775,
          227.525,
          15.7417,
          7.925,
          52,
          7.8958,
          73.5,
          46.9,
          13,
          7.7292,
          12,
          120,
          7.7958,
          7.925,
          113.275,
          16.7,
          7.7958,
          7.8542,
          26,
          10.5,
          12.65,
          7.925,
          8.05,
          9.825,
          15.85,
          8.6625,
          21,
          7.75,
          18.75,
          7.775,
          25.4667,
          7.8958,
          6.8583,
          90,
          0,
          7.925,
          8.05,
          32.5,
          13,
          13,
          24.15,
          7.8958,
          7.7333,
          7.875,
          14.4,
          20.2125,
          7.25,
          26,
          26,
          7.75,
          8.05,
          26.55,
          16.1,
          26,
          7.125,
          55.9,
          120,
          34.375,
          18.75,
          263,
          10.5,
          26.25,
          9.5,
          7.775,
          13,
          8.1125,
          81.8583,
          19.5,
          26.55,
          19.2583,
          30.5,
          27.75,
          19.9667,
          27.75,
          89.1042,
          8.05,
          7.8958,
          26.55,
          51.8625,
          10.5,
          7.75,
          26.55,
          8.05,
          38.5,
          13,
          8.05,
          7.05,
          0,
          26.55,
          7.725,
          19.2583,
          7.25,
          8.6625,
          27.75,
          13.7917,
          9.8375,
          52,
          21,
          7.0458,
          7.5208,
          12.2875,
          46.9,
          0,
          8.05,
          9.5875,
          91.0792,
          25.4667,
          90,
          29.7,
          8.05,
          15.9,
          19.9667,
          7.25,
          30.5,
          49.5042,
          8.05,
          14.4583,
          78.2667,
          15.1,
          151.55,
          7.7958,
          8.6625,
          7.75,
          7.6292,
          9.5875,
          86.5,
          108.9,
          26,
          26.55,
          22.525,
          56.4958,
          7.75,
          8.05,
          26.2875,
          59.4,
          7.4958,
          34.0208,
          10.5,
          24.15,
          26,
          7.8958,
          93.5,
          7.8958,
          7.225,
          57.9792,
          7.2292,
          7.75,
          10.5,
          221.7792,
          7.925,
          11.5,
          26,
          7.2292,
          7.2292,
          22.3583,
          8.6625,
          26.25,
          26.55,
          106.425,
          14.5,
          49.5,
          71,
          31.275,
          31.275,
          26,
          106.425,
          26,
          26,
          13.8625,
          20.525,
          36.75,
          110.8833,
          26,
          7.8292,
          7.225,
          7.775,
          26.55,
          39.6,
          227.525,
          79.65,
          17.4,
          7.75,
          7.8958,
          13.5,
          8.05,
          8.05,
          24.15,
          7.8958,
          21.075,
          7.2292,
          7.8542,
          10.5,
          51.4792,
          26.3875,
          7.75,
          8.05,
          14.5,
          13,
          55.9,
          14.4583,
          7.925,
          30,
          110.8833,
          26,
          40.125,
          8.7125,
          79.65,
          15,
          79.2,
          8.05,
          8.05,
          7.125,
          78.2667,
          7.25,
          7.75,
          26,
          24.15,
          33,
          0,
          7.225,
          56.9292,
          27,
          7.8958,
          42.4,
          8.05,
          26.55,
          15.55,
          7.8958,
          30.5,
          41.5792,
          153.4625,
          31.275,
          7.05,
          15.5,
          7.75,
          8.05,
          65,
          14.4,
          16.1,
          39,
          10.5,
          14.4542,
          52.5542,
          15.7417,
          7.8542,
          16.1,
          32.3208,
          12.35,
          77.9583,
          7.8958,
          7.7333,
          30,
          7.0542,
          30.5,
          0,
          27.9,
          13,
          7.925,
          26.25,
          39.6875,
          16.1,
          7.8542,
          69.3,
          27.9,
          56.4958,
          19.2583,
          76.7292,
          7.8958,
          35.5,
          7.55,
          7.55,
          7.8958,
          23,
          8.4333,
          7.8292,
          6.75,
          73.5,
          7.8958,
          15.5,
          13,
          113.275,
          133.65,
          7.225,
          25.5875,
          7.4958,
          7.925,
          73.5,
          13,
          7.775,
          8.05,
          52,
          39,
          52,
          10.5,
          13,
          0,
          7.775,
          8.05,
          9.8417,
          46.9,
          512.3292,
          8.1375,
          76.7292,
          9.225,
          46.9,
          39,
          41.5792,
          39.6875,
          10.1708,
          7.7958,
          211.3375,
          57,
          13.4167,
          56.4958,
          7.225,
          26.55,
          13.5,
          8.05,
          7.7333,
          110.8833,
          7.65,
          227.525,
          26.2875,
          14.4542,
          7.7417,
          7.8542,
          26,
          13.5,
          26.2875,
          151.55,
          15.2458,
          49.5042,
          26.55,
          52,
          9.4833,
          13,
          7.65,
          227.525,
          10.5,
          15.5,
          7.775,
          33,
          7.0542,
          13,
          13,
          53.1,
          8.6625,
          21,
          7.7375,
          26,
          7.925,
          211.3375,
          18.7875,
          0,
          13,
          13,
          16.1,
          34.375,
          512.3292,
          7.8958,
          7.8958,
          30,
          78.85,
          262.375,
          16.1,
          7.925,
          71,
          20.25,
          13,
          53.1,
          7.75,
          23,
          12.475,
          9.5,
          7.8958,
          65,
          14.5,
          7.7958,
          11.5,
          8.05,
          86.5,
          14.5,
          7.125,
          7.2292,
          120,
          7.775,
          77.9583,
          39.6,
          7.75,
          24.15,
          8.3625,
          9.5,
          7.8542,
          10.5,
          7.225,
          23,
          7.75,
          7.75,
          12.475,
          7.7375,
          211.3375,
          7.2292,
          57,
          30,
          23.45,
          7.05,
          7.25,
          7.4958,
          29.125,
          20.575,
          79.2,
          7.75,
          26,
          69.55,
          30.6958,
          7.8958,
          13,
          25.9292,
          8.6833,
          7.2292,
          24.15,
          13,
          26.25,
          120,
          8.5167,
          6.975,
          7.775,
          0,
          7.775,
          13,
          53.1,
          7.8875,
          24.15,
          10.5,
          31.275,
          8.05,
          0,
          7.925,
          37.0042,
          6.45,
          27.9,
          93.5,
          8.6625,
          0,
          12.475,
          39.6875,
          6.95,
          56.4958,
          37.0042,
          7.75,
          80,
          14.4542,
          18.75,
          7.2292,
          7.8542,
          8.3,
          83.1583,
          8.6625,
          8.05,
          56.4958,
          29.7,
          7.925,
          10.5,
          31,
          6.4375,
          8.6625,
          7.55,
          69.55,
          7.8958,
          33,
          89.1042,
          31.275,
          7.775,
          15.2458,
          39.4,
          26,
          9.35,
          164.8667,
          26.55,
          19.2583,
          7.2292,
          14.1083,
          11.5,
          25.9292,
          69.55,
          13,
          13,
          13.8583,
          50.4958,
          9.5,
          11.1333,
          7.8958,
          52.5542,
          5,
          9,
          24,
          7.225,
          9.8458,
          7.8958,
          7.8958,
          83.1583,
          26,
          7.8958,
          10.5167,
          10.5,
          7.05,
          29.125,
          13,
          30,
          23.45,
          30,
          7.75
         ],
         "yaxis": "y"
        }
       ],
       "layout": {
        "autosize": true,
        "coloraxis": {
         "colorbar": {
          "title": {
           "text": "survived"
          }
         },
         "colorscale": [
          [
           0,
           "#0d0887"
          ],
          [
           0.1111111111111111,
           "#46039f"
          ],
          [
           0.2222222222222222,
           "#7201a8"
          ],
          [
           0.3333333333333333,
           "#9c179e"
          ],
          [
           0.4444444444444444,
           "#bd3786"
          ],
          [
           0.5555555555555556,
           "#d8576b"
          ],
          [
           0.6666666666666666,
           "#ed7953"
          ],
          [
           0.7777777777777778,
           "#fb9f3a"
          ],
          [
           0.8888888888888888,
           "#fdca26"
          ],
          [
           1,
           "#f0f921"
          ]
         ]
        },
        "legend": {
         "itemsizing": "constant",
         "tracegroupgap": 0
        },
        "template": {
         "data": {
          "bar": [
           {
            "error_x": {
             "color": "#2a3f5f"
            },
            "error_y": {
             "color": "#2a3f5f"
            },
            "marker": {
             "line": {
              "color": "#E5ECF6",
              "width": 0.5
             },
             "pattern": {
              "fillmode": "overlay",
              "size": 10,
              "solidity": 0.2
             }
            },
            "type": "bar"
           }
          ],
          "barpolar": [
           {
            "marker": {
             "line": {
              "color": "#E5ECF6",
              "width": 0.5
             },
             "pattern": {
              "fillmode": "overlay",
              "size": 10,
              "solidity": 0.2
             }
            },
            "type": "barpolar"
           }
          ],
          "carpet": [
           {
            "aaxis": {
             "endlinecolor": "#2a3f5f",
             "gridcolor": "white",
             "linecolor": "white",
             "minorgridcolor": "white",
             "startlinecolor": "#2a3f5f"
            },
            "baxis": {
             "endlinecolor": "#2a3f5f",
             "gridcolor": "white",
             "linecolor": "white",
             "minorgridcolor": "white",
             "startlinecolor": "#2a3f5f"
            },
            "type": "carpet"
           }
          ],
          "choropleth": [
           {
            "colorbar": {
             "outlinewidth": 0,
             "ticks": ""
            },
            "type": "choropleth"
           }
          ],
          "contour": [
           {
            "colorbar": {
             "outlinewidth": 0,
             "ticks": ""
            },
            "colorscale": [
             [
              0,
              "#0d0887"
             ],
             [
              0.1111111111111111,
              "#46039f"
             ],
             [
              0.2222222222222222,
              "#7201a8"
             ],
             [
              0.3333333333333333,
              "#9c179e"
             ],
             [
              0.4444444444444444,
              "#bd3786"
             ],
             [
              0.5555555555555556,
              "#d8576b"
             ],
             [
              0.6666666666666666,
              "#ed7953"
             ],
             [
              0.7777777777777778,
              "#fb9f3a"
             ],
             [
              0.8888888888888888,
              "#fdca26"
             ],
             [
              1,
              "#f0f921"
             ]
            ],
            "type": "contour"
           }
          ],
          "contourcarpet": [
           {
            "colorbar": {
             "outlinewidth": 0,
             "ticks": ""
            },
            "type": "contourcarpet"
           }
          ],
          "heatmap": [
           {
            "colorbar": {
             "outlinewidth": 0,
             "ticks": ""
            },
            "colorscale": [
             [
              0,
              "#0d0887"
             ],
             [
              0.1111111111111111,
              "#46039f"
             ],
             [
              0.2222222222222222,
              "#7201a8"
             ],
             [
              0.3333333333333333,
              "#9c179e"
             ],
             [
              0.4444444444444444,
              "#bd3786"
             ],
             [
              0.5555555555555556,
              "#d8576b"
             ],
             [
              0.6666666666666666,
              "#ed7953"
             ],
             [
              0.7777777777777778,
              "#fb9f3a"
             ],
             [
              0.8888888888888888,
              "#fdca26"
             ],
             [
              1,
              "#f0f921"
             ]
            ],
            "type": "heatmap"
           }
          ],
          "heatmapgl": [
           {
            "colorbar": {
             "outlinewidth": 0,
             "ticks": ""
            },
            "colorscale": [
             [
              0,
              "#0d0887"
             ],
             [
              0.1111111111111111,
              "#46039f"
             ],
             [
              0.2222222222222222,
              "#7201a8"
             ],
             [
              0.3333333333333333,
              "#9c179e"
             ],
             [
              0.4444444444444444,
              "#bd3786"
             ],
             [
              0.5555555555555556,
              "#d8576b"
             ],
             [
              0.6666666666666666,
              "#ed7953"
             ],
             [
              0.7777777777777778,
              "#fb9f3a"
             ],
             [
              0.8888888888888888,
              "#fdca26"
             ],
             [
              1,
              "#f0f921"
             ]
            ],
            "type": "heatmapgl"
           }
          ],
          "histogram": [
           {
            "marker": {
             "pattern": {
              "fillmode": "overlay",
              "size": 10,
              "solidity": 0.2
             }
            },
            "type": "histogram"
           }
          ],
          "histogram2d": [
           {
            "colorbar": {
             "outlinewidth": 0,
             "ticks": ""
            },
            "colorscale": [
             [
              0,
              "#0d0887"
             ],
             [
              0.1111111111111111,
              "#46039f"
             ],
             [
              0.2222222222222222,
              "#7201a8"
             ],
             [
              0.3333333333333333,
              "#9c179e"
             ],
             [
              0.4444444444444444,
              "#bd3786"
             ],
             [
              0.5555555555555556,
              "#d8576b"
             ],
             [
              0.6666666666666666,
              "#ed7953"
             ],
             [
              0.7777777777777778,
              "#fb9f3a"
             ],
             [
              0.8888888888888888,
              "#fdca26"
             ],
             [
              1,
              "#f0f921"
             ]
            ],
            "type": "histogram2d"
           }
          ],
          "histogram2dcontour": [
           {
            "colorbar": {
             "outlinewidth": 0,
             "ticks": ""
            },
            "colorscale": [
             [
              0,
              "#0d0887"
             ],
             [
              0.1111111111111111,
              "#46039f"
             ],
             [
              0.2222222222222222,
              "#7201a8"
             ],
             [
              0.3333333333333333,
              "#9c179e"
             ],
             [
              0.4444444444444444,
              "#bd3786"
             ],
             [
              0.5555555555555556,
              "#d8576b"
             ],
             [
              0.6666666666666666,
              "#ed7953"
             ],
             [
              0.7777777777777778,
              "#fb9f3a"
             ],
             [
              0.8888888888888888,
              "#fdca26"
             ],
             [
              1,
              "#f0f921"
             ]
            ],
            "type": "histogram2dcontour"
           }
          ],
          "mesh3d": [
           {
            "colorbar": {
             "outlinewidth": 0,
             "ticks": ""
            },
            "type": "mesh3d"
           }
          ],
          "parcoords": [
           {
            "line": {
             "colorbar": {
              "outlinewidth": 0,
              "ticks": ""
             }
            },
            "type": "parcoords"
           }
          ],
          "pie": [
           {
            "automargin": true,
            "type": "pie"
           }
          ],
          "scatter": [
           {
            "fillpattern": {
             "fillmode": "overlay",
             "size": 10,
             "solidity": 0.2
            },
            "type": "scatter"
           }
          ],
          "scatter3d": [
           {
            "line": {
             "colorbar": {
              "outlinewidth": 0,
              "ticks": ""
             }
            },
            "marker": {
             "colorbar": {
              "outlinewidth": 0,
              "ticks": ""
             }
            },
            "type": "scatter3d"
           }
          ],
          "scattercarpet": [
           {
            "marker": {
             "colorbar": {
              "outlinewidth": 0,
              "ticks": ""
             }
            },
            "type": "scattercarpet"
           }
          ],
          "scattergeo": [
           {
            "marker": {
             "colorbar": {
              "outlinewidth": 0,
              "ticks": ""
             }
            },
            "type": "scattergeo"
           }
          ],
          "scattergl": [
           {
            "marker": {
             "colorbar": {
              "outlinewidth": 0,
              "ticks": ""
             }
            },
            "type": "scattergl"
           }
          ],
          "scattermapbox": [
           {
            "marker": {
             "colorbar": {
              "outlinewidth": 0,
              "ticks": ""
             }
            },
            "type": "scattermapbox"
           }
          ],
          "scatterpolar": [
           {
            "marker": {
             "colorbar": {
              "outlinewidth": 0,
              "ticks": ""
             }
            },
            "type": "scatterpolar"
           }
          ],
          "scatterpolargl": [
           {
            "marker": {
             "colorbar": {
              "outlinewidth": 0,
              "ticks": ""
             }
            },
            "type": "scatterpolargl"
           }
          ],
          "scatterternary": [
           {
            "marker": {
             "colorbar": {
              "outlinewidth": 0,
              "ticks": ""
             }
            },
            "type": "scatterternary"
           }
          ],
          "surface": [
           {
            "colorbar": {
             "outlinewidth": 0,
             "ticks": ""
            },
            "colorscale": [
             [
              0,
              "#0d0887"
             ],
             [
              0.1111111111111111,
              "#46039f"
             ],
             [
              0.2222222222222222,
              "#7201a8"
             ],
             [
              0.3333333333333333,
              "#9c179e"
             ],
             [
              0.4444444444444444,
              "#bd3786"
             ],
             [
              0.5555555555555556,
              "#d8576b"
             ],
             [
              0.6666666666666666,
              "#ed7953"
             ],
             [
              0.7777777777777778,
              "#fb9f3a"
             ],
             [
              0.8888888888888888,
              "#fdca26"
             ],
             [
              1,
              "#f0f921"
             ]
            ],
            "type": "surface"
           }
          ],
          "table": [
           {
            "cells": {
             "fill": {
              "color": "#EBF0F8"
             },
             "line": {
              "color": "white"
             }
            },
            "header": {
             "fill": {
              "color": "#C8D4E3"
             },
             "line": {
              "color": "white"
             }
            },
            "type": "table"
           }
          ]
         },
         "layout": {
          "annotationdefaults": {
           "arrowcolor": "#2a3f5f",
           "arrowhead": 0,
           "arrowwidth": 1
          },
          "autotypenumbers": "strict",
          "coloraxis": {
           "colorbar": {
            "outlinewidth": 0,
            "ticks": ""
           }
          },
          "colorscale": {
           "diverging": [
            [
             0,
             "#8e0152"
            ],
            [
             0.1,
             "#c51b7d"
            ],
            [
             0.2,
             "#de77ae"
            ],
            [
             0.3,
             "#f1b6da"
            ],
            [
             0.4,
             "#fde0ef"
            ],
            [
             0.5,
             "#f7f7f7"
            ],
            [
             0.6,
             "#e6f5d0"
            ],
            [
             0.7,
             "#b8e186"
            ],
            [
             0.8,
             "#7fbc41"
            ],
            [
             0.9,
             "#4d9221"
            ],
            [
             1,
             "#276419"
            ]
           ],
           "sequential": [
            [
             0,
             "#0d0887"
            ],
            [
             0.1111111111111111,
             "#46039f"
            ],
            [
             0.2222222222222222,
             "#7201a8"
            ],
            [
             0.3333333333333333,
             "#9c179e"
            ],
            [
             0.4444444444444444,
             "#bd3786"
            ],
            [
             0.5555555555555556,
             "#d8576b"
            ],
            [
             0.6666666666666666,
             "#ed7953"
            ],
            [
             0.7777777777777778,
             "#fb9f3a"
            ],
            [
             0.8888888888888888,
             "#fdca26"
            ],
            [
             1,
             "#f0f921"
            ]
           ],
           "sequentialminus": [
            [
             0,
             "#0d0887"
            ],
            [
             0.1111111111111111,
             "#46039f"
            ],
            [
             0.2222222222222222,
             "#7201a8"
            ],
            [
             0.3333333333333333,
             "#9c179e"
            ],
            [
             0.4444444444444444,
             "#bd3786"
            ],
            [
             0.5555555555555556,
             "#d8576b"
            ],
            [
             0.6666666666666666,
             "#ed7953"
            ],
            [
             0.7777777777777778,
             "#fb9f3a"
            ],
            [
             0.8888888888888888,
             "#fdca26"
            ],
            [
             1,
             "#f0f921"
            ]
           ]
          },
          "colorway": [
           "#636efa",
           "#EF553B",
           "#00cc96",
           "#ab63fa",
           "#FFA15A",
           "#19d3f3",
           "#FF6692",
           "#B6E880",
           "#FF97FF",
           "#FECB52"
          ],
          "font": {
           "color": "#2a3f5f"
          },
          "geo": {
           "bgcolor": "white",
           "lakecolor": "white",
           "landcolor": "#E5ECF6",
           "showlakes": true,
           "showland": true,
           "subunitcolor": "white"
          },
          "hoverlabel": {
           "align": "left"
          },
          "hovermode": "closest",
          "mapbox": {
           "style": "light"
          },
          "paper_bgcolor": "white",
          "plot_bgcolor": "#E5ECF6",
          "polar": {
           "angularaxis": {
            "gridcolor": "white",
            "linecolor": "white",
            "ticks": ""
           },
           "bgcolor": "#E5ECF6",
           "radialaxis": {
            "gridcolor": "white",
            "linecolor": "white",
            "ticks": ""
           }
          },
          "scene": {
           "xaxis": {
            "backgroundcolor": "#E5ECF6",
            "gridcolor": "white",
            "gridwidth": 2,
            "linecolor": "white",
            "showbackground": true,
            "ticks": "",
            "zerolinecolor": "white"
           },
           "yaxis": {
            "backgroundcolor": "#E5ECF6",
            "gridcolor": "white",
            "gridwidth": 2,
            "linecolor": "white",
            "showbackground": true,
            "ticks": "",
            "zerolinecolor": "white"
           },
           "zaxis": {
            "backgroundcolor": "#E5ECF6",
            "gridcolor": "white",
            "gridwidth": 2,
            "linecolor": "white",
            "showbackground": true,
            "ticks": "",
            "zerolinecolor": "white"
           }
          },
          "shapedefaults": {
           "line": {
            "color": "#2a3f5f"
           }
          },
          "ternary": {
           "aaxis": {
            "gridcolor": "white",
            "linecolor": "white",
            "ticks": ""
           },
           "baxis": {
            "gridcolor": "white",
            "linecolor": "white",
            "ticks": ""
           },
           "bgcolor": "#E5ECF6",
           "caxis": {
            "gridcolor": "white",
            "linecolor": "white",
            "ticks": ""
           }
          },
          "title": {
           "x": 0.05
          },
          "xaxis": {
           "automargin": true,
           "gridcolor": "white",
           "linecolor": "white",
           "ticks": "",
           "title": {
            "standoff": 15
           },
           "zerolinecolor": "white",
           "zerolinewidth": 2
          },
          "yaxis": {
           "automargin": true,
           "gridcolor": "white",
           "linecolor": "white",
           "ticks": "",
           "title": {
            "standoff": 15
           },
           "zerolinecolor": "white",
           "zerolinewidth": 2
          }
         }
        },
        "title": {
         "text": "Scatter Plot for Age vs. Fare"
        },
        "xaxis": {
         "anchor": "y",
         "autorange": true,
         "domain": [
          0,
          1
         ],
         "range": [
          -5.748338588674471,
          85.48937162776052
         ],
         "title": {
          "text": "Age"
         },
         "type": "linear"
        },
        "yaxis": {
         "anchor": "x",
         "autorange": true,
         "domain": [
          0,
          1
         ],
         "range": [
          -92.74483999904616,
          580.0942207342804
         ],
         "title": {
          "text": "Fare"
         },
         "type": "linear"
        }
       }
      },
      "text/html": [
       "<div>                            <div id=\"47260396-3cd6-4e83-bbb4-792f8fba0430\" class=\"plotly-graph-div\" style=\"height:525px; width:100%;\"></div>            <script type=\"text/javascript\">                require([\"plotly\"], function(Plotly) {                    window.PLOTLYENV=window.PLOTLYENV || {};                                    if (document.getElementById(\"47260396-3cd6-4e83-bbb4-792f8fba0430\")) {                    Plotly.newPlot(                        \"47260396-3cd6-4e83-bbb4-792f8fba0430\",                        [{\"customdata\":[[3,\"male\",\"S\",0],[1,\"female\",\"C\",1],[3,\"female\",\"S\",1],[1,\"female\",\"S\",1],[3,\"male\",\"S\",0],[3,\"male\",\"Q\",0],[1,\"male\",\"S\",0],[3,\"male\",\"S\",0],[3,\"female\",\"S\",1],[2,\"female\",\"C\",1],[3,\"female\",\"S\",1],[1,\"female\",\"S\",1],[3,\"male\",\"S\",0],[3,\"male\",\"S\",0],[3,\"female\",\"S\",0],[2,\"female\",\"S\",1],[3,\"male\",\"Q\",0],[2,\"male\",\"S\",1],[3,\"female\",\"S\",0],[3,\"female\",\"C\",1],[2,\"male\",\"S\",0],[2,\"male\",\"S\",1],[3,\"female\",\"Q\",1],[1,\"male\",\"S\",1],[3,\"female\",\"S\",0],[3,\"female\",\"S\",1],[3,\"male\",\"C\",0],[1,\"male\",\"S\",0],[3,\"female\",\"Q\",1],[3,\"male\",\"S\",0],[1,\"male\",\"C\",0],[1,\"female\",\"C\",1],[3,\"female\",\"Q\",1],[2,\"male\",\"S\",0],[1,\"male\",\"C\",0],[1,\"male\",\"S\",0],[3,\"male\",\"C\",1],[3,\"male\",\"S\",0],[3,\"female\",\"S\",0],[3,\"female\",\"C\",1],[3,\"female\",\"S\",0],[2,\"female\",\"S\",0],[3,\"male\",\"C\",0],[2,\"female\",\"C\",1],[3,\"female\",\"Q\",1],[3,\"male\",\"S\",0],[3,\"male\",\"Q\",0],[3,\"female\",\"Q\",1],[3,\"male\",\"C\",0],[3,\"female\",\"S\",0],[3,\"male\",\"S\",0],[3,\"male\",\"S\",0],[1,\"female\",\"C\",1],[2,\"female\",\"S\",1],[1,\"male\",\"C\",0],[1,\"male\",\"S\",1],[2,\"female\",\"S\",1],[3,\"male\",\"C\",0],[2,\"female\",\"S\",1],[3,\"male\",\"S\",0],[3,\"male\",\"C\",0],[1,\"female\",null,1],[1,\"male\",\"S\",0],[3,\"male\",\"S\",0],[1,\"male\",\"C\",0],[3,\"male\",\"C\",1],[2,\"female\",\"S\",1],[3,\"male\",\"S\",0],[3,\"female\",\"S\",1],[3,\"male\",\"S\",0],[2,\"male\",\"S\",0],[3,\"female\",\"S\",0],[2,\"male\",\"S\",0],[3,\"male\",\"C\",0],[3,\"male\",\"S\",1],[3,\"male\",\"S\",0],[3,\"male\",\"S\",0],[3,\"male\",\"S\",0],[2,\"male\",\"S\",1],[3,\"female\",\"S\",1],[3,\"male\",\"S\",0],[3,\"male\",\"S\",1],[3,\"female\",\"Q\",1],[1,\"male\",\"S\",0],[2,\"female\",\"S\",1],[3,\"female\",\"S\",1],[3,\"male\",\"S\",0],[3,\"male\",\"S\",0],[1,\"female\",\"S\",1],[3,\"male\",\"S\",0],[3,\"male\",\"S\",0],[3,\"male\",\"S\",0],[1,\"male\",\"S\",0],[3,\"male\",\"S\",0],[3,\"male\",\"S\",0],[3,\"male\",\"S\",0],[1,\"male\",\"C\",0],[1,\"male\",\"C\",1],[2,\"female\",\"S\",1],[2,\"male\",\"S\",0],[3,\"female\",\"S\",0],[3,\"male\",\"S\",0],[1,\"male\",\"S\",0],[3,\"male\",\"S\",0],[3,\"male\",\"S\",0],[3,\"male\",\"S\",0],[3,\"female\",\"S\",1],[3,\"male\",\"S\",1],[3,\"male\",\"S\",0],[3,\"female\",\"Q\",1],[1,\"male\",\"S\",0],[3,\"female\",\"C\",0],[3,\"male\",\"S\",0],[3,\"female\",\"S\",0],[3,\"female\",\"C\",0],[3,\"male\",\"S\",0],[3,\"male\",\"Q\",0],[2,\"male\",\"S\",0],[1,\"male\",\"C\",0],[3,\"female\",\"S\",0],[2,\"male\",\"S\",0],[3,\"male\",\"S\",0],[2,\"male\",\"C\",0],[2,\"female\",\"S\",1],[1,\"male\",\"S\",0],[3,\"male\",\"C\",1],[3,\"male\",\"Q\",0],[3,\"male\",\"S\",1],[3,\"female\",\"C\",1],[3,\"male\",\"S\",0],[3,\"male\",\"C\",0],[3,\"male\",\"S\",0],[3,\"female\",\"S\",0],[2,\"female\",\"S\",1],[2,\"male\",\"S\",0],[2,\"male\",\"C\",0],[1,\"female\",\"S\",1],[1,\"male\",\"S\",0],[3,\"male\",\"S\",0],[1,\"male\",\"C\",0],[3,\"female\",\"C\",0],[3,\"female\",\"S\",1],[3,\"female\",\"S\",1],[3,\"male\",\"Q\",0],[2,\"male\",\"S\",0],[2,\"male\",\"S\",0],[3,\"male\",\"S\",1],[3,\"female\",\"S\",0],[2,\"male\",\"S\",0],[2,\"male\",\"S\",0],[2,\"male\",\"S\",0],[1,\"female\",\"S\",1],[3,\"male\",\"S\",0],[3,\"male\",\"S\",0],[3,\"male\",\"S\",0],[1,\"male\",\"C\",0],[3,\"female\",\"Q\",1],[3,\"male\",\"S\",0],[3,\"male\",\"S\",0],[3,\"male\",\"S\",0],[3,\"male\",\"S\",0],[2,\"female\",\"S\",1],[3,\"male\",\"S\",0],[3,\"male\",\"S\",0],[3,\"male\",\"S\",0],[3,\"male\",\"S\",1],[1,\"female\",\"S\",1],[3,\"female\",\"S\",0],[1,\"male\",\"S\",0],[3,\"male\",\"S\",0],[1,\"male\",\"S\",0],[3,\"male\",\"Q\",0],[3,\"female\",\"S\",1],[3,\"male\",\"S\",0],[1,\"male\",\"C\",0],[3,\"male\",\"S\",0],[3,\"male\",\"S\",0],[1,\"female\",\"C\",0],[2,\"male\",\"S\",0],[3,\"male\",\"S\",0],[3,\"female\",\"S\",0],[2,\"male\",\"C\",0],[3,\"male\",\"S\",0],[2,\"male\",\"S\",1],[3,\"female\",\"S\",1],[1,\"male\",\"S\",0],[3,\"female\",\"Q\",1],[1,\"male\",\"S\",1],[3,\"male\",\"Q\",0],[3,\"male\",\"S\",0],[2,\"female\",\"S\",1],[2,\"male\",\"S\",0],[3,\"female\",\"S\",1],[2,\"male\",\"S\",1],[1,\"female\",\"C\",1],[1,\"female\",\"C\",1],[3,\"male\",\"Q\",0],[3,\"male\",\"S\",0],[3,\"female\",\"Q\",1],[2,\"female\",\"S\",0],[3,\"male\",\"S\",0],[3,\"male\",\"S\",0],[3,\"male\",\"S\",0],[3,\"male\",\"C\",0],[3,\"male\",\"S\",1],[3,\"female\",\"S\",0],[3,\"male\",\"S\",0],[3,\"male\",\"C\",1],[3,\"female\",\"Q\",1],[1,\"male\",\"C\",1],[3,\"male\",\"S\",0],[2,\"female\",\"S\",1],[3,\"male\",\"S\",0],[2,\"male\",\"S\",0],[3,\"male\",\"Q\",0],[1,\"female\",\"C\",1],[3,\"female\",\"S\",1],[2,\"male\",\"S\",0],[1,\"female\",\"C\",1],[2,\"male\",\"S\",0],[3,\"male\",\"S\",1],[2,\"male\",\"S\",0],[3,\"male\",\"S\",0],[3,\"male\",\"S\",0],[1,\"male\",\"S\",1],[3,\"male\",\"S\",0],[2,\"male\",\"S\",1],[3,\"male\",\"S\",0],[2,\"male\",\"S\",0],[3,\"female\",\"S\",0],[1,\"female\",\"S\",1],[3,\"male\",\"S\",0],[2,\"male\",\"S\",0],[3,\"female\",\"S\",1],[2,\"male\",\"S\",0],[3,\"female\",\"S\",0],[2,\"male\",\"S\",0],[2,\"female\",\"S\",1],[2,\"male\",\"S\",0],[2,\"male\",\"S\",0],[3,\"female\",\"C\",0],[3,\"female\",\"Q\",1],[2,\"male\",\"S\",0],[3,\"male\",\"S\",0],[3,\"male\",\"C\",0],[1,\"male\",\"Q\",0],[3,\"female\",\"S\",0],[2,\"female\",\"S\",1],[1,\"male\",\"S\",1],[2,\"male\",\"S\",0],[3,\"male\",\"S\",0],[3,\"female\",\"S\",0],[1,\"male\",\"S\",0],[3,\"male\",\"S\",0],[3,\"female\",\"S\",0],[3,\"female\",\"C\",1],[1,\"female\",\"C\",1],[1,\"female\",\"S\",1],[1,\"female\",\"C\",1],[2,\"female\",\"S\",1],[3,\"male\",\"Q\",0],[3,\"male\",\"S\",1],[1,\"male\",\"S\",0],[1,\"male\",\"S\",0],[3,\"female\",\"Q\",0],[2,\"male\",\"S\",0],[3,\"male\",\"S\",0],[3,\"male\",\"S\",1],[1,\"female\",\"S\",1],[1,\"female\",\"S\",1],[1,\"male\",\"S\",0],[3,\"male\",\"S\",1],[2,\"female\",\"S\",1],[1,\"male\",\"C\",0],[3,\"female\",\"Q\",1],[1,\"female\",\"S\",1],[3,\"female\",\"S\",0],[2,\"male\",\"S\",0],[3,\"male\",\"Q\",0],[3,\"female\",\"S\",1],[3,\"male\",\"Q\",0],[3,\"male\",\"S\",0],[3,\"male\",\"S\",0],[3,\"male\",\"S\",1],[1,\"male\",\"S\",0],[3,\"male\",\"C\",0],[3,\"male\",\"S\",1],[3,\"male\",\"S\",0],[2,\"male\",\"S\",1],[3,\"female\",\"Q\",1],[1,\"female\",\"S\",1],[1,\"female\",\"C\",1],[2,\"male\",\"C\",0],[3,\"female\",\"S\",0],[3,\"male\",\"S\",0],[1,\"male\",\"C\",0],[3,\"male\",\"C\",0],[1,\"female\",\"S\",0],[1,\"male\",\"S\",1],[1,\"female\",\"C\",1],[3,\"female\",\"Q\",1],[3,\"male\",\"Q\",1],[3,\"male\",\"S\",0],[2,\"female\",\"Q\",1],[3,\"male\",\"S\",0],[1,\"male\",\"S\",1],[1,\"female\",\"C\",1],[1,\"female\",\"C\",1],[2,\"male\",\"C\",0],[1,\"female\",\"C\",1],[1,\"female\",\"C\",1],[1,\"female\",\"C\",1],[2,\"female\",\"S\",0],[3,\"male\",\"S\",0],[2,\"male\",\"S\",0],[3,\"female\",\"S\",1],[2,\"female\",\"S\",1],[2,\"male\",\"S\",0],[1,\"female\",\"S\",1],[1,\"female\",\"C\",1],[3,\"male\",\"S\",0],[3,\"male\",\"S\",0],[2,\"female\",\"Q\",1],[2,\"female\",\"S\",1],[3,\"male\",\"S\",0],[1,\"female\",\"C\",1],[3,\"male\",\"S\",0],[2,\"female\",\"S\",1],[3,\"female\",\"S\",1],[1,\"female\",\"C\",1],[3,\"female\",\"Q\",1],[1,\"male\",\"S\",0],[1,\"male\",\"S\",0],[3,\"male\",\"S\",0],[1,\"female\",\"S\",1],[3,\"male\",\"S\",0],[1,\"male\",\"S\",0],[1,\"female\",\"C\",1],[3,\"male\",\"S\",1],[1,\"male\",\"S\",0],[2,\"male\",\"S\",1],[1,\"female\",\"S\",1],[2,\"male\",\"S\",0],[2,\"male\",\"S\",0],[2,\"male\",\"S\",0],[2,\"female\",\"S\",1],[2,\"female\",\"S\",1],[3,\"female\",\"S\",1],[3,\"male\",\"S\",1],[3,\"male\",\"S\",0],[3,\"male\",\"S\",0],[1,\"male\",\"S\",0],[3,\"male\",\"C\",0],[3,\"male\",\"S\",0],[3,\"male\",\"C\",0],[3,\"male\",\"S\",0],[1,\"female\",\"S\",1],[2,\"female\",\"S\",0],[3,\"female\",\"Q\",1],[3,\"female\",\"Q\",1],[3,\"male\",\"S\",0],[2,\"male\",\"C\",0],[3,\"female\",\"C\",0],[3,\"male\",\"S\",0],[3,\"male\",\"Q\",0],[3,\"male\",\"S\",0],[1,\"female\",\"C\",1],[3,\"female\",\"C\",1],[3,\"female\",\"Q\",1],[1,\"female\",\"C\",1],[1,\"male\",\"C\",1],[3,\"male\",\"S\",0],[3,\"male\",\"S\",0],[1,\"male\",\"C\",0],[3,\"female\",\"S\",0],[1,\"female\",\"C\",1],[3,\"female\",\"S\",1],[1,\"male\",\"C\",0],[3,\"male\",\"C\",0],[3,\"male\",\"S\",0],[1,\"female\",\"C\",1],[3,\"female\",\"C\",1],[3,\"male\",\"S\",0],[1,\"female\",\"S\",1],[3,\"male\",\"S\",0],[2,\"male\",\"S\",0],[3,\"male\",\"S\",0],[2,\"female\",\"S\",1],[3,\"male\",\"Q\",0],[2,\"female\",\"C\",1],[1,\"male\",\"S\",1],[3,\"male\",\"S\",1],[3,\"male\",\"S\",0],[1,\"female\",\"C\",1],[3,\"female\",\"S\",1],[3,\"male\",\"S\",0],[3,\"female\",\"S\",0],[2,\"male\",\"S\",0],[2,\"male\",\"S\",0],[2,\"female\",\"S\",1],[3,\"male\",\"S\",1],[3,\"male\",\"S\",0],[3,\"female\",\"S\",0],[3,\"male\",\"S\",0],[3,\"female\",\"S\",0],[2,\"male\",\"S\",0],[3,\"male\",\"S\",0],[2,\"male\",\"S\",1],[3,\"male\",\"S\",0],[3,\"female\",\"S\",0],[3,\"male\",\"S\",0],[3,\"male\",\"Q\",0],[1,\"female\",\"Q\",1],[2,\"male\",\"S\",0],[3,\"male\",\"S\",1],[3,\"female\",\"S\",0],[2,\"female\",\"S\",1],[2,\"female\",\"S\",1],[2,\"male\",\"S\",0],[3,\"female\",\"S\",0],[3,\"male\",\"C\",0],[3,\"male\",\"Q\",0],[3,\"male\",\"S\",0],[3,\"female\",\"S\",0],[3,\"male\",\"S\",0],[3,\"male\",\"S\",0],[2,\"female\",\"S\",1],[2,\"female\",\"S\",1],[3,\"male\",\"Q\",0],[3,\"male\",\"S\",1],[1,\"male\",\"S\",1],[3,\"female\",\"S\",1],[2,\"female\",\"S\",1],[3,\"male\",\"S\",0],[1,\"male\",\"S\",0],[1,\"female\",\"S\",1],[3,\"female\",\"S\",0],[2,\"female\",\"S\",1],[1,\"male\",\"S\",0],[2,\"male\",\"S\",0],[2,\"female\",\"S\",1],[3,\"male\",\"S\",0],[3,\"male\",\"S\",0],[2,\"female\",\"S\",1],[3,\"male\",\"S\",1],[1,\"male\",\"S\",1],[2,\"female\",\"S\",1],[1,\"male\",\"S\",1],[3,\"female\",\"C\",1],[1,\"male\",\"S\",1],[2,\"male\",\"S\",0],[3,\"male\",\"S\",0],[1,\"male\",\"C\",0],[1,\"male\",\"C\",1],[3,\"male\",\"S\",0],[3,\"male\",\"C\",1],[1,\"male\",\"S\",0],[1,\"female\",\"S\",1],[2,\"female\",\"S\",1],[3,\"male\",\"Q\",0],[1,\"male\",\"S\",1],[3,\"male\",\"S\",0],[1,\"male\",\"S\",0],[2,\"male\",\"S\",0],[3,\"male\",\"S\",0],[3,\"male\",\"S\",0],[2,\"male\",\"S\",0],[1,\"male\",\"S\",0],[3,\"male\",\"Q\",0],[3,\"female\",\"C\",1],[3,\"male\",\"S\",0],[3,\"male\",\"S\",0],[2,\"female\",\"S\",1],[2,\"female\",\"C\",1],[3,\"female\",\"S\",0],[1,\"male\",\"S\",0],[2,\"male\",\"S\",0],[3,\"male\",\"S\",0],[3,\"male\",\"S\",0],[3,\"female\",\"S\",1],[3,\"male\",\"S\",0],[2,\"male\",\"S\",0],[3,\"male\",\"S\",0],[3,\"female\",\"S\",1],[1,\"male\",\"C\",1],[3,\"female\",\"S\",0],[1,\"female\",\"S\",1],[1,\"male\",\"C\",0],[3,\"male\",\"S\",0],[3,\"male\",\"S\",1],[3,\"male\",\"S\",0],[3,\"male\",\"S\",0],[1,\"male\",\"S\",0],[1,\"male\",\"C\",0],[3,\"male\",\"S\",0],[3,\"male\",\"C\",0],[1,\"female\",\"C\",1],[3,\"male\",\"S\",0],[1,\"female\",\"S\",0],[3,\"male\",\"S\",0],[3,\"male\",\"S\",0],[3,\"female\",\"Q\",0],[3,\"female\",\"Q\",0],[3,\"female\",\"S\",0],[1,\"female\",\"S\",1],[1,\"male\",\"C\",0],[2,\"female\",\"S\",1],[1,\"male\",\"S\",1],[3,\"male\",\"S\",0],[3,\"male\",\"S\",1],[3,\"male\",\"Q\",1],[3,\"male\",\"S\",0],[1,\"male\",\"S\",1],[1,\"female\",\"C\",1],[3,\"male\",\"S\",0],[1,\"male\",\"S\",0],[2,\"female\",\"S\",1],[3,\"male\",\"Q\",0],[2,\"female\",\"S\",1],[3,\"male\",\"S\",0],[1,\"female\",\"S\",1],[3,\"male\",\"S\",0],[3,\"male\",\"C\",0],[1,\"female\",\"C\",1],[3,\"male\",\"C\",0],[3,\"male\",\"Q\",0],[2,\"female\",\"S\",1],[1,\"male\",\"S\",0],[3,\"male\",\"S\",0],[2,\"male\",\"S\",0],[2,\"female\",\"S\",1],[3,\"male\",\"C\",0],[3,\"male\",\"C\",0],[3,\"female\",\"C\",1],[3,\"female\",\"S\",0],[2,\"female\",\"S\",1],[1,\"male\",\"S\",0],[1,\"female\",\"C\",1],[3,\"male\",\"S\",0],[1,\"female\",\"C\",1],[1,\"female\",\"S\",1],[3,\"female\",\"S\",0],[3,\"female\",\"S\",0],[2,\"male\",\"S\",1],[1,\"male\",\"C\",0],[1,\"male\",\"S\",0],[2,\"female\",\"S\",1],[2,\"male\",\"C\",1],[3,\"male\",\"S\",0],[2,\"male\",\"S\",1],[1,\"male\",\"C\",1],[2,\"male\",\"S\",0],[3,\"male\",\"Q\",0],[3,\"male\",\"C\",1],[3,\"female\",\"S\",1],[1,\"male\",\"S\",0],[1,\"female\",\"C\",1],[1,\"male\",\"C\",0],[1,\"female\",\"S\",1],[3,\"female\",\"S\",1],[3,\"male\",\"Q\",0],[3,\"male\",\"S\",0],[2,\"male\",\"S\",0],[3,\"male\",\"S\",0],[3,\"female\",\"S\",0],[3,\"male\",\"S\",0],[3,\"male\",\"S\",0],[3,\"female\",\"S\",0],[3,\"male\",\"C\",0],[3,\"male\",\"S\",1],[2,\"male\",\"S\",1],[1,\"female\",\"S\",1],[1,\"male\",\"S\",1],[3,\"female\",\"Q\",1],[3,\"male\",\"S\",0],[3,\"male\",\"S\",0],[2,\"female\",\"S\",1],[1,\"female\",\"S\",1],[3,\"female\",\"C\",0],[3,\"male\",\"S\",1],[2,\"female\",\"S\",1],[1,\"female\",\"C\",1],[2,\"male\",\"S\",0],[1,\"male\",\"C\",0],[3,\"male\",\"C\",0],[1,\"female\",\"S\",1],[2,\"male\",\"S\",0],[1,\"male\",\"C\",1],[3,\"male\",\"S\",0],[3,\"male\",\"S\",0],[3,\"male\",\"S\",0],[1,\"female\",\"C\",1],[3,\"male\",\"S\",0],[3,\"female\",\"Q\",0],[2,\"male\",\"S\",0],[3,\"male\",\"S\",0],[2,\"female\",\"S\",1],[3,\"male\",\"S\",0],[3,\"male\",\"C\",0],[1,\"male\",\"C\",1],[2,\"female\",\"S\",1],[3,\"male\",\"S\",0],[1,\"male\",\"S\",0],[3,\"male\",\"S\",0],[1,\"male\",\"C\",1],[3,\"male\",\"S\",0],[3,\"male\",\"S\",0],[1,\"male\",\"S\",1],[2,\"female\",\"C\",1],[1,\"female\",\"S\",1],[3,\"female\",\"S\",0],[3,\"male\",\"S\",0],[3,\"female\",\"Q\",1],[3,\"male\",\"Q\",0],[3,\"male\",\"S\",0],[2,\"female\",\"S\",1],[3,\"male\",\"S\",0],[3,\"female\",\"S\",0],[2,\"female\",\"S\",1],[2,\"male\",\"S\",0],[3,\"male\",\"C\",0],[1,\"male\",\"S\",1],[3,\"male\",\"C\",1],[3,\"male\",\"S\",0],[3,\"male\",\"S\",0],[1,\"male\",\"S\",0],[2,\"male\",\"Q\",0],[1,\"female\",\"S\",1],[3,\"male\",\"S\",0],[3,\"male\",\"Q\",0],[1,\"male\",\"S\",1],[3,\"male\",\"S\",0],[1,\"male\",\"C\",1],[1,\"male\",\"S\",0],[3,\"female\",\"S\",0],[2,\"female\",\"S\",1],[3,\"male\",\"S\",0],[2,\"male\",\"S\",0],[3,\"female\",\"S\",0],[3,\"male\",\"S\",0],[3,\"male\",\"S\",0],[1,\"female\",\"C\",1],[3,\"female\",\"S\",0],[3,\"male\",\"S\",1],[3,\"female\",\"C\",1],[1,\"male\",\"C\",1],[3,\"male\",\"S\",0],[1,\"male\",\"C\",1],[3,\"male\",\"S\",0],[3,\"female\",\"S\",1],[3,\"male\",\"S\",0],[2,\"female\",\"S\",1],[3,\"male\",\"S\",0],[3,\"female\",\"Q\",1],[3,\"female\",\"Q\",0],[2,\"male\",\"S\",0],[3,\"male\",\"S\",0],[3,\"female\",\"Q\",0],[2,\"male\",\"S\",0],[1,\"male\",\"C\",0],[1,\"male\",\"S\",1],[3,\"male\",\"C\",0],[1,\"male\",\"S\",0],[3,\"male\",\"S\",0],[3,\"male\",\"S\",1],[2,\"male\",\"S\",0],[2,\"male\",\"S\",0],[3,\"male\",\"S\",0],[3,\"male\",\"S\",0],[1,\"female\",\"S\",1],[2,\"female\",\"S\",1],[1,\"male\",\"S\",0],[2,\"male\",\"S\",0],[2,\"male\",\"S\",1],[2,\"male\",\"S\",0],[3,\"male\",\"S\",0],[3,\"male\",\"S\",0],[3,\"female\",\"S\",1],[3,\"female\",\"S\",0],[1,\"male\",\"C\",1],[3,\"female\",\"Q\",0],[1,\"male\",\"C\",1],[3,\"male\",\"S\",0],[3,\"male\",\"S\",0],[2,\"male\",\"S\",0],[2,\"male\",\"C\",0],[3,\"male\",\"S\",0],[3,\"male\",\"S\",0],[3,\"male\",\"S\",0],[1,\"female\",\"S\",1],[1,\"male\",\"S\",1],[3,\"female\",\"C\",1],[3,\"male\",\"S\",1],[3,\"male\",\"C\",0],[1,\"male\",\"S\",0],[2,\"male\",\"S\",0],[3,\"male\",\"S\",0],[3,\"female\",\"Q\",1],[1,\"male\",\"C\",0],[3,\"male\",\"S\",0],[1,\"female\",\"C\",1],[1,\"male\",\"S\",1],[3,\"female\",\"C\",0],[3,\"male\",\"Q\",0],[3,\"male\",\"S\",0],[2,\"male\",\"S\",0],[2,\"female\",\"S\",1],[1,\"male\",\"S\",1],[1,\"female\",\"S\",1],[3,\"male\",\"C\",1],[1,\"female\",\"C\",1],[1,\"male\",\"S\",0],[1,\"male\",\"S\",1],[3,\"male\",\"S\",0],[2,\"male\",\"S\",0],[3,\"male\",\"S\",0],[1,\"female\",\"C\",1],[2,\"female\",\"S\",1],[3,\"male\",\"Q\",0],[3,\"male\",\"S\",0],[2,\"female\",\"S\",1],[3,\"male\",\"S\",0],[2,\"male\",\"S\",0],[2,\"male\",\"S\",0],[1,\"male\",\"S\",1],[3,\"male\",\"S\",0],[2,\"female\",\"S\",1],[3,\"female\",\"Q\",1],[2,\"male\",\"S\",0],[3,\"female\",\"S\",0],[1,\"female\",\"S\",1],[3,\"male\",\"C\",0],[2,\"male\",\"S\",0],[2,\"male\",\"S\",0],[2,\"male\",\"S\",0],[3,\"male\",\"S\",0],[3,\"female\",\"S\",0],[1,\"male\",\"C\",1],[3,\"male\",\"S\",0],[3,\"male\",\"S\",0],[1,\"male\",\"S\",1],[1,\"male\",\"S\",0],[1,\"female\",\"C\",1],[3,\"male\",\"S\",0],[3,\"male\",\"S\",1],[1,\"male\",\"S\",0],[3,\"male\",\"S\",0],[2,\"female\",\"S\",1],[1,\"male\",\"S\",0],[3,\"male\",\"Q\",0],[2,\"female\",\"S\",1],[3,\"male\",\"S\",1],[3,\"male\",\"S\",0],[3,\"male\",\"S\",0],[2,\"female\",\"S\",1],[2,\"male\",\"S\",1],[3,\"male\",\"S\",0],[2,\"male\",\"S\",0],[3,\"male\",\"S\",0],[1,\"female\",\"S\",1],[3,\"male\",\"S\",0],[3,\"male\",\"S\",0],[3,\"male\",\"C\",1],[1,\"female\",\"S\",1],[3,\"male\",\"S\",0],[1,\"female\",\"S\",1],[1,\"male\",\"C\",0],[3,\"female\",\"Q\",0],[3,\"male\",\"Q\",0],[3,\"male\",\"S\",0],[3,\"male\",\"S\",0],[3,\"male\",\"S\",0],[2,\"female\",\"S\",0],[3,\"male\",\"C\",0],[2,\"female\",\"S\",1],[3,\"male\",\"S\",0],[3,\"male\",\"Q\",0],[3,\"female\",\"S\",1],[3,\"male\",\"Q\",0],[1,\"female\",\"S\",1],[3,\"female\",\"C\",1],[1,\"female\",\"S\",1],[1,\"male\",\"S\",0],[3,\"male\",\"S\",0],[3,\"male\",\"S\",0],[3,\"male\",\"S\",0],[3,\"female\",\"S\",1],[3,\"male\",\"Q\",0],[3,\"male\",\"S\",1],[1,\"male\",\"C\",0],[3,\"male\",\"Q\",0],[2,\"male\",\"S\",0],[3,\"female\",\"S\",0],[1,\"male\",\"C\",0],[3,\"male\",\"S\",0],[2,\"male\",\"S\",0],[1,\"female\",\"S\",1],[3,\"female\",\"S\",1],[3,\"male\",\"C\",0],[3,\"female\",\"S\",0],[2,\"male\",\"S\",0],[2,\"female\",\"S\",1],[1,\"male\",\"S\",1],[3,\"male\",\"C\",1],[3,\"male\",\"S\",1],[3,\"male\",\"S\",0],[1,\"male\",\"S\",0],[3,\"female\",\"S\",0],[2,\"male\",\"S\",0],[1,\"female\",\"S\",1],[3,\"male\",\"S\",0],[3,\"male\",\"S\",0],[2,\"male\",\"S\",0],[3,\"female\",\"S\",0],[3,\"male\",\"S\",0],[1,\"male\",\"S\",0],[3,\"female\",\"S\",0],[2,\"male\",\"C\",0],[3,\"male\",\"S\",0],[3,\"male\",\"S\",0],[1,\"female\",\"S\",1],[3,\"male\",\"S\",1],[1,\"male\",\"S\",0],[3,\"female\",\"S\",1],[3,\"male\",\"S\",0],[3,\"male\",\"Q\",0],[3,\"male\",\"S\",0],[2,\"male\",\"C\",1],[3,\"male\",\"Q\",1],[1,\"female\",null,1],[3,\"female\",\"C\",1],[2,\"male\",\"S\",1],[3,\"male\",\"C\",0],[3,\"male\",\"S\",0],[3,\"male\",\"S\",0],[1,\"female\",\"C\",1],[3,\"male\",\"S\",0],[3,\"male\",\"S\",0],[3,\"male\",\"S\",1],[1,\"male\",\"C\",1],[3,\"male\",\"S\",0],[2,\"male\",\"S\",0],[1,\"female\",\"C\",1],[3,\"male\",\"C\",0],[3,\"male\",\"S\",0],[3,\"male\",\"S\",0],[3,\"male\",\"S\",0],[3,\"male\",\"C\",0],[2,\"male\",\"S\",0],[1,\"female\",\"C\",1],[3,\"male\",\"S\",0],[3,\"male\",\"S\",0],[3,\"female\",\"C\",0],[1,\"female\",\"S\",1],[2,\"female\",\"S\",0],[3,\"female\",\"S\",1],[1,\"female\",\"S\",1],[1,\"male\",\"S\",1],[3,\"female\",\"C\",1],[3,\"male\",\"C\",0],[3,\"male\",\"S\",0],[2,\"male\",\"S\",0],[1,\"female\",\"S\",1],[3,\"female\",\"S\",0],[2,\"male\",\"S\",0],[2,\"female\",\"S\",1],[2,\"female\",\"C\",1],[1,\"male\",\"S\",0],[3,\"male\",\"S\",0],[3,\"male\",\"S\",1],[3,\"male\",\"S\",0],[1,\"female\",\"S\",1],[1,\"male\",\"S\",0],[3,\"male\",\"S\",0],[2,\"female\",\"C\",1],[3,\"female\",\"C\",1],[3,\"male\",\"S\",0],[3,\"male\",\"S\",0],[3,\"male\",\"S\",0],[1,\"female\",\"C\",1],[2,\"female\",\"S\",1],[3,\"male\",\"S\",0],[3,\"female\",\"S\",0],[2,\"male\",\"S\",0],[3,\"male\",\"S\",0],[3,\"female\",\"Q\",0],[2,\"male\",\"S\",0],[1,\"female\",\"S\",1],[3,\"female\",\"S\",0],[1,\"male\",\"C\",1],[3,\"male\",\"Q\",0]],\"hovertemplate\":\"Age=%{x}\\u003cbr\\u003eFare=%{y}\\u003cbr\\u003epclass=%{customdata[0]}\\u003cbr\\u003esex=%{customdata[1]}\\u003cbr\\u003eembarked=%{customdata[2]}\\u003cbr\\u003esurvived=%{marker.color}\\u003cextra\\u003e\\u003c\\u002fextra\\u003e\",\"legendgroup\":\"\",\"marker\":{\"color\":[0,1,1,1,0,0,0,0,1,1,1,1,0,0,0,1,0,1,0,1,0,1,1,1,0,1,0,0,1,0,0,1,1,0,0,0,1,0,0,1,0,0,0,1,1,0,0,1,0,0,0,0,1,1,0,1,1,0,1,0,0,1,0,0,0,1,1,0,1,0,0,0,0,0,1,0,0,0,1,1,0,1,1,0,1,1,0,0,1,0,0,0,0,0,0,0,0,1,1,0,0,0,0,0,0,0,1,1,0,1,0,0,0,0,0,0,0,0,0,0,0,0,0,1,0,1,0,1,1,0,0,0,0,1,0,0,1,0,0,0,0,1,1,0,0,0,1,0,0,0,0,1,0,0,0,0,1,0,0,0,0,1,0,0,0,1,1,0,0,0,0,0,1,0,0,0,0,0,0,0,0,0,0,1,1,0,1,1,0,0,1,0,1,1,1,1,0,0,1,0,0,0,0,0,1,0,0,1,1,1,0,1,0,0,0,1,1,0,1,0,1,0,0,0,1,0,1,0,0,0,1,0,0,1,0,0,0,1,0,0,0,1,0,0,0,0,0,1,1,0,0,0,0,0,0,1,1,1,1,1,0,1,0,0,0,0,0,1,1,1,0,1,1,0,1,1,0,0,0,1,0,0,0,1,0,0,1,0,1,1,1,1,0,0,0,0,0,0,1,1,1,1,0,1,0,1,1,1,0,1,1,1,0,0,0,1,1,0,1,1,0,0,1,1,0,1,0,1,1,1,1,0,0,0,1,0,0,1,1,0,1,1,0,0,0,1,1,1,1,0,0,0,0,0,0,0,1,0,1,1,0,0,0,0,0,0,1,1,1,1,1,0,0,0,0,1,1,0,0,0,1,1,0,1,0,0,0,1,0,1,1,1,0,1,1,0,0,0,0,1,1,0,0,0,0,0,0,1,0,0,0,0,1,0,1,0,1,1,0,0,0,0,0,0,0,0,1,1,0,1,1,1,1,0,0,1,0,1,0,0,1,0,0,1,1,1,1,1,1,1,0,0,0,1,0,1,0,1,1,0,1,0,0,0,0,0,0,0,0,1,0,0,1,1,0,0,0,0,0,1,0,0,0,1,1,0,1,0,0,1,0,0,0,0,0,0,1,0,0,0,0,0,0,0,1,0,1,1,0,1,1,0,1,1,0,0,1,0,1,0,1,0,0,1,0,0,1,0,0,0,1,0,0,1,0,1,0,1,0,1,1,0,0,1,0,0,1,1,0,1,1,0,0,1,1,0,1,0,1,1,0,0,0,0,0,0,0,0,0,1,1,1,1,1,0,0,1,1,0,1,1,1,0,0,0,1,0,1,0,0,0,1,0,0,0,0,1,0,0,1,1,0,0,0,1,0,0,1,1,1,0,0,1,0,0,1,0,0,1,0,0,1,1,0,0,0,0,1,0,0,1,0,1,0,0,1,0,0,0,0,0,1,0,1,1,1,0,1,0,1,0,1,0,1,0,0,0,0,0,0,1,0,0,0,1,0,0,0,0,1,1,0,0,1,0,0,0,1,0,1,0,1,0,0,0,0,0,0,0,1,1,1,1,0,0,0,0,1,0,0,1,1,0,0,0,0,1,1,1,1,1,0,1,0,0,0,1,1,0,0,1,0,0,0,1,0,1,1,0,0,1,0,0,0,0,0,0,1,0,0,1,0,1,0,1,0,0,1,0,0,1,1,0,0,1,1,0,0,0,1,0,0,1,1,0,1,0,0,0,0,0,0,0,0,1,0,0,1,0,1,1,1,0,0,0,0,1,0,1,0,0,0,0,0,0,0,1,1,0,0,0,1,1,1,1,0,0,0,0,1,0,0,0,0,0,0,0,0,0,0,1,1,0,1,0,0,0,1,1,1,1,1,0,0,0,1,0,0,1,1,0,0,1,0,0,0,0,0,0,1,0,0,0,1,0,1,1,1,1,0,0,0,1,0,0,1,1,0,0,1,0,1,0,0,1,1,0,0,0,1,1,0,0,0,0,0,0,1,0,1,0],\"coloraxis\":\"coloraxis\",\"opacity\":0.7,\"size\":[3,1,3,1,3,3,1,3,3,2,3,1,3,3,3,2,3,2,3,3,2,2,3,1,3,3,3,1,3,3,1,1,3,2,1,1,3,3,3,3,3,2,3,2,3,3,3,3,3,3,3,3,1,2,1,1,2,3,2,3,3,1,1,3,1,3,2,3,3,3,2,3,2,3,3,3,3,3,2,3,3,3,3,1,2,3,3,3,1,3,3,3,1,3,3,3,1,1,2,2,3,3,1,3,3,3,3,3,3,3,1,3,3,3,3,3,3,2,1,3,2,3,2,2,1,3,3,3,3,3,3,3,3,2,2,2,1,1,3,1,3,3,3,3,2,2,3,3,2,2,2,1,3,3,3,1,3,3,3,3,3,2,3,3,3,3,1,3,1,3,1,3,3,3,1,3,3,1,2,3,3,2,3,2,3,1,3,1,3,3,2,2,3,2,1,1,3,3,3,2,3,3,3,3,3,3,3,3,3,1,3,2,3,2,3,1,3,2,1,2,3,2,3,3,1,3,2,3,2,3,1,3,2,3,2,3,2,2,2,2,3,3,2,3,3,1,3,2,1,2,3,3,1,3,3,3,1,1,1,2,3,3,1,1,3,2,3,3,1,1,1,3,2,1,3,1,3,2,3,3,3,3,3,3,1,3,3,3,2,3,1,1,2,3,3,1,3,1,1,1,3,3,3,2,3,1,1,1,2,1,1,1,2,3,2,3,2,2,1,1,3,3,2,2,3,1,3,2,3,1,3,1,1,3,1,3,1,1,3,1,2,1,2,2,2,2,2,3,3,3,3,1,3,3,3,3,1,2,3,3,3,2,3,3,3,3,1,3,3,1,1,3,3,1,3,1,3,1,3,3,1,3,3,1,3,2,3,2,3,2,1,3,3,1,3,3,3,2,2,2,3,3,3,3,3,2,3,2,3,3,3,3,1,2,3,3,2,2,2,3,3,3,3,3,3,3,2,2,3,3,1,3,2,3,1,1,3,2,1,2,2,3,3,2,3,1,2,1,3,1,2,3,1,1,3,3,1,1,2,3,1,3,1,2,3,3,2,1,3,3,3,3,2,2,3,1,2,3,3,3,3,2,3,3,1,3,1,1,3,3,3,3,1,1,3,3,1,3,1,3,3,3,3,3,1,1,2,1,3,3,3,3,1,1,3,1,2,3,2,3,1,3,3,1,3,3,2,1,3,2,2,3,3,3,3,2,1,1,3,1,1,3,3,2,1,1,2,2,3,2,1,2,3,3,3,1,1,1,1,3,3,3,2,3,3,3,3,3,3,3,2,1,1,3,3,3,2,1,3,3,2,1,2,1,3,1,2,1,3,3,3,1,3,3,2,3,2,3,3,1,2,3,1,3,1,3,3,1,2,1,3,3,3,3,3,2,3,3,2,2,3,1,3,3,3,1,2,1,3,3,1,3,1,1,3,2,3,2,3,3,3,1,3,3,3,1,3,1,3,3,3,2,3,3,3,2,3,3,2,1,1,3,1,3,3,2,2,3,3,1,2,1,2,2,2,3,3,3,3,1,3,1,3,3,2,2,3,3,3,1,1,3,3,3,1,2,3,3,1,3,1,1,3,3,3,2,2,1,1,3,1,1,1,3,2,3,1,2,3,3,2,3,2,2,1,3,2,3,2,3,1,3,2,2,2,3,3,1,3,3,1,1,1,3,3,1,3,2,1,3,2,3,3,3,2,2,3,2,3,1,3,3,3,1,3,1,1,3,3,3,3,3,2,3,2,3,3,3,3,1,3,1,1,3,3,3,3,3,3,1,3,2,3,1,3,2,1,3,3,3,2,2,1,3,3,3,1,3,2,1,3,3,2,3,3,1,3,2,3,3,1,3,1,3,3,3,3,2,3,1,3,2,3,3,3,1,3,3,3,1,3,2,1,3,3,3,3,3,2,1,3,3,3,1,2,3,1,1,3,3,3,2,1,3,2,2,2,1,3,3,3,1,1,3,2,3,3,3,3,1,2,3,3,2,3,3,2,1,3,1,3],\"sizemode\":\"area\",\"sizeref\":0.0075,\"symbol\":\"circle\"},\"mode\":\"markers\",\"name\":\"\",\"orientation\":\"v\",\"showlegend\":false,\"x\":[22.0,38.0,26.0,35.0,35.0,null,54.0,2.0,27.0,14.0,4.0,58.0,20.0,39.0,14.0,55.0,2.0,null,31.0,null,35.0,34.0,15.0,28.0,8.0,38.0,null,19.0,null,null,40.0,null,null,66.0,28.0,42.0,null,21.0,18.0,14.0,40.0,27.0,null,3.0,19.0,null,null,null,null,18.0,7.0,21.0,49.0,29.0,65.0,null,21.0,28.5,5.0,11.0,22.0,38.0,45.0,4.0,null,null,29.0,19.0,17.0,26.0,32.0,16.0,21.0,26.0,32.0,25.0,null,null,0.83,30.0,22.0,29.0,null,28.0,17.0,33.0,16.0,null,23.0,24.0,29.0,20.0,46.0,26.0,59.0,null,71.0,23.0,34.0,34.0,28.0,null,21.0,33.0,37.0,28.0,21.0,null,38.0,null,47.0,14.5,22.0,20.0,17.0,21.0,70.5,29.0,24.0,2.0,21.0,null,32.5,32.5,54.0,12.0,null,24.0,null,45.0,33.0,20.0,47.0,29.0,25.0,23.0,19.0,37.0,16.0,24.0,null,22.0,24.0,19.0,18.0,19.0,27.0,9.0,36.5,42.0,51.0,22.0,55.5,40.5,null,51.0,16.0,30.0,null,null,44.0,40.0,26.0,17.0,1.0,9.0,null,45.0,null,28.0,61.0,4.0,1.0,21.0,56.0,18.0,null,50.0,30.0,36.0,null,null,9.0,1.0,4.0,null,null,45.0,40.0,36.0,32.0,19.0,19.0,3.0,44.0,58.0,null,42.0,null,24.0,28.0,null,34.0,45.5,18.0,2.0,32.0,26.0,16.0,40.0,24.0,35.0,22.0,30.0,null,31.0,27.0,42.0,32.0,30.0,16.0,27.0,51.0,null,38.0,22.0,19.0,20.5,18.0,null,35.0,29.0,59.0,5.0,24.0,null,44.0,8.0,19.0,33.0,null,null,29.0,22.0,30.0,44.0,25.0,24.0,37.0,54.0,null,29.0,62.0,30.0,41.0,29.0,null,30.0,35.0,50.0,null,3.0,52.0,40.0,null,36.0,16.0,25.0,58.0,35.0,null,25.0,41.0,37.0,null,63.0,45.0,null,7.0,35.0,65.0,28.0,16.0,19.0,null,33.0,30.0,22.0,42.0,22.0,26.0,19.0,36.0,24.0,24.0,null,23.5,2.0,null,50.0,null,null,19.0,null,null,0.92,null,17.0,30.0,30.0,24.0,18.0,26.0,28.0,43.0,26.0,24.0,54.0,31.0,40.0,22.0,27.0,30.0,22.0,null,36.0,61.0,36.0,31.0,16.0,null,45.5,38.0,16.0,null,null,29.0,41.0,45.0,45.0,2.0,24.0,28.0,25.0,36.0,24.0,40.0,null,3.0,42.0,23.0,null,15.0,25.0,null,28.0,22.0,38.0,null,null,40.0,29.0,45.0,35.0,null,30.0,60.0,null,null,24.0,25.0,18.0,19.0,22.0,3.0,null,22.0,27.0,20.0,19.0,42.0,1.0,32.0,35.0,null,18.0,1.0,36.0,null,17.0,36.0,21.0,28.0,23.0,24.0,22.0,31.0,46.0,23.0,28.0,39.0,26.0,21.0,28.0,20.0,34.0,51.0,3.0,21.0,null,null,null,33.0,null,44.0,null,34.0,18.0,30.0,10.0,null,21.0,29.0,28.0,18.0,null,28.0,19.0,null,32.0,28.0,null,42.0,17.0,50.0,14.0,21.0,24.0,64.0,31.0,45.0,20.0,25.0,28.0,null,4.0,13.0,34.0,5.0,52.0,36.0,null,30.0,49.0,null,29.0,65.0,null,50.0,null,48.0,34.0,47.0,48.0,null,38.0,null,56.0,null,0.75,null,38.0,33.0,23.0,22.0,null,34.0,29.0,22.0,2.0,9.0,null,50.0,63.0,25.0,null,35.0,58.0,30.0,9.0,null,21.0,55.0,71.0,21.0,null,54.0,null,25.0,24.0,17.0,21.0,null,37.0,16.0,18.0,33.0,null,28.0,26.0,29.0,null,36.0,54.0,24.0,47.0,34.0,null,36.0,32.0,30.0,22.0,null,44.0,null,40.5,50.0,null,39.0,23.0,2.0,null,17.0,null,30.0,7.0,45.0,30.0,null,22.0,36.0,9.0,11.0,32.0,50.0,64.0,19.0,null,33.0,8.0,17.0,27.0,null,22.0,22.0,62.0,48.0,null,39.0,36.0,null,40.0,28.0,null,null,24.0,19.0,29.0,null,32.0,62.0,53.0,36.0,null,16.0,19.0,34.0,39.0,null,32.0,25.0,39.0,54.0,36.0,null,18.0,47.0,60.0,22.0,null,35.0,52.0,47.0,null,37.0,36.0,null,49.0,null,49.0,24.0,null,null,44.0,35.0,36.0,30.0,27.0,22.0,40.0,39.0,null,null,null,35.0,24.0,34.0,26.0,4.0,26.0,27.0,42.0,20.0,21.0,21.0,61.0,57.0,21.0,26.0,null,80.0,51.0,32.0,null,9.0,28.0,32.0,31.0,41.0,null,20.0,24.0,2.0,null,0.75,48.0,19.0,56.0,null,23.0,null,18.0,21.0,null,18.0,24.0,null,32.0,23.0,58.0,50.0,40.0,47.0,36.0,20.0,32.0,25.0,null,43.0,null,40.0,31.0,70.0,31.0,null,18.0,24.5,18.0,43.0,36.0,null,27.0,20.0,14.0,60.0,25.0,14.0,19.0,18.0,15.0,31.0,4.0,null,25.0,60.0,52.0,44.0,null,49.0,42.0,18.0,35.0,18.0,25.0,26.0,39.0,45.0,42.0,22.0,null,24.0,null,48.0,29.0,52.0,19.0,38.0,27.0,null,33.0,6.0,17.0,34.0,50.0,27.0,20.0,30.0,null,25.0,25.0,29.0,11.0,null,23.0,23.0,28.5,48.0,35.0,null,null,null,36.0,21.0,24.0,31.0,70.0,16.0,30.0,19.0,31.0,4.0,6.0,33.0,23.0,48.0,0.67,28.0,18.0,34.0,33.0,null,41.0,20.0,36.0,16.0,51.0,null,30.5,null,32.0,24.0,48.0,57.0,null,54.0,18.0,null,5.0,null,43.0,13.0,17.0,29.0,null,25.0,25.0,18.0,8.0,1.0,46.0,null,16.0,null,null,25.0,39.0,49.0,31.0,30.0,30.0,34.0,31.0,11.0,0.42,27.0,31.0,39.0,18.0,39.0,33.0,26.0,39.0,35.0,6.0,30.5,null,23.0,31.0,43.0,10.0,52.0,27.0,38.0,27.0,2.0,null,null,1.0,null,62.0,15.0,0.83,null,23.0,18.0,39.0,21.0,null,32.0,null,20.0,16.0,30.0,34.5,17.0,42.0,null,35.0,28.0,null,4.0,74.0,9.0,16.0,44.0,18.0,45.0,51.0,24.0,null,41.0,21.0,48.0,null,24.0,42.0,27.0,31.0,null,4.0,26.0,47.0,33.0,47.0,28.0,15.0,20.0,19.0,null,56.0,25.0,33.0,22.0,28.0,25.0,39.0,27.0,19.0,null,26.0,32.0],\"xaxis\":\"x\",\"y\":[7.25,71.2833,7.925,53.1,8.05,8.4583,51.8625,21.075,11.1333,30.0708,16.7,26.55,8.05,31.275,7.8542,16.0,29.125,13.0,18.0,7.225,26.0,13.0,8.0292,35.5,21.075,31.3875,7.225,263.0,7.8792,7.8958,27.7208,146.5208,7.75,10.5,82.1708,52.0,7.2292,8.05,18.0,11.2417,9.475,21.0,7.8958,41.5792,7.8792,8.05,15.5,7.75,21.6792,17.8,39.6875,7.8,76.7292,26.0,61.9792,35.5,10.5,7.2292,27.75,46.9,7.2292,80.0,83.475,27.9,27.7208,15.2458,10.5,8.1583,7.925,8.6625,10.5,46.9,73.5,14.4542,56.4958,7.65,7.8958,8.05,29.0,12.475,9.0,9.5,7.7875,47.1,10.5,15.85,34.375,8.05,263.0,8.05,8.05,7.8542,61.175,20.575,7.25,8.05,34.6542,63.3583,23.0,26.0,7.8958,7.8958,77.2875,8.6542,7.925,7.8958,7.65,7.775,7.8958,24.15,52.0,14.4542,8.05,9.825,14.4583,7.925,7.75,21.0,247.5208,31.275,73.5,8.05,30.0708,13.0,77.2875,11.2417,7.75,7.1417,22.3583,6.975,7.8958,7.05,14.5,26.0,13.0,15.0458,26.2833,53.1,9.2167,79.2,15.2458,7.75,15.85,6.75,11.5,36.75,7.7958,34.375,26.0,13.0,12.525,66.6,8.05,14.5,7.3125,61.3792,7.7333,8.05,8.6625,69.55,16.1,15.75,7.775,8.6625,39.6875,20.525,55.0,27.9,25.925,56.4958,33.5,29.125,11.1333,7.925,30.6958,7.8542,25.4667,28.7125,13.0,0.0,69.55,15.05,31.3875,39.0,22.025,50.0,15.5,26.55,15.5,7.8958,13.0,13.0,7.8542,26.0,27.7208,146.5208,7.75,8.4042,7.75,13.0,9.5,69.55,6.4958,7.225,8.05,10.4625,15.85,18.7875,7.75,31.0,7.05,21.0,7.25,13.0,7.75,113.275,7.925,27.0,76.2917,10.5,8.05,13.0,8.05,7.8958,90.0,9.35,10.5,7.25,13.0,25.4667,83.475,7.775,13.5,31.3875,10.5,7.55,26.0,26.25,10.5,12.275,14.4542,15.5,10.5,7.125,7.225,90.0,7.775,14.5,52.5542,26.0,7.25,10.4625,26.55,16.1,20.2125,15.2458,79.2,86.5,512.3292,26.0,7.75,31.3875,79.65,0.0,7.75,10.5,39.6875,7.775,153.4625,135.6333,31.0,0.0,19.5,29.7,7.75,77.9583,7.75,0.0,29.125,20.25,7.75,7.8542,9.5,8.05,26.0,8.6625,9.5,7.8958,13.0,7.75,78.85,91.0792,12.875,8.85,7.8958,27.7208,7.2292,151.55,30.5,247.5208,7.75,23.25,0.0,12.35,8.05,151.55,110.8833,108.9,24.0,56.9292,83.1583,262.375,26.0,7.8958,26.25,7.8542,26.0,14.0,164.8667,134.5,7.25,7.8958,12.35,29.0,69.55,135.6333,6.2375,13.0,20.525,57.9792,23.25,28.5,153.4625,18.0,133.65,7.8958,66.6,134.5,8.05,35.5,26.0,263.0,13.0,13.0,13.0,13.0,13.0,16.1,15.9,8.6625,9.225,35.0,7.2292,17.8,7.225,9.5,55.0,13.0,7.8792,7.8792,27.9,27.7208,14.4542,7.05,15.5,7.25,75.25,7.2292,7.75,69.3,55.4417,6.4958,8.05,135.6333,21.075,82.1708,7.25,211.5,4.0125,7.775,227.525,15.7417,7.925,52.0,7.8958,73.5,46.9,13.0,7.7292,12.0,120.0,7.7958,7.925,113.275,16.7,7.7958,7.8542,26.0,10.5,12.65,7.925,8.05,9.825,15.85,8.6625,21.0,7.75,18.75,7.775,25.4667,7.8958,6.8583,90.0,0.0,7.925,8.05,32.5,13.0,13.0,24.15,7.8958,7.7333,7.875,14.4,20.2125,7.25,26.0,26.0,7.75,8.05,26.55,16.1,26.0,7.125,55.9,120.0,34.375,18.75,263.0,10.5,26.25,9.5,7.775,13.0,8.1125,81.8583,19.5,26.55,19.2583,30.5,27.75,19.9667,27.75,89.1042,8.05,7.8958,26.55,51.8625,10.5,7.75,26.55,8.05,38.5,13.0,8.05,7.05,0.0,26.55,7.725,19.2583,7.25,8.6625,27.75,13.7917,9.8375,52.0,21.0,7.0458,7.5208,12.2875,46.9,0.0,8.05,9.5875,91.0792,25.4667,90.0,29.7,8.05,15.9,19.9667,7.25,30.5,49.5042,8.05,14.4583,78.2667,15.1,151.55,7.7958,8.6625,7.75,7.6292,9.5875,86.5,108.9,26.0,26.55,22.525,56.4958,7.75,8.05,26.2875,59.4,7.4958,34.0208,10.5,24.15,26.0,7.8958,93.5,7.8958,7.225,57.9792,7.2292,7.75,10.5,221.7792,7.925,11.5,26.0,7.2292,7.2292,22.3583,8.6625,26.25,26.55,106.425,14.5,49.5,71.0,31.275,31.275,26.0,106.425,26.0,26.0,13.8625,20.525,36.75,110.8833,26.0,7.8292,7.225,7.775,26.55,39.6,227.525,79.65,17.4,7.75,7.8958,13.5,8.05,8.05,24.15,7.8958,21.075,7.2292,7.8542,10.5,51.4792,26.3875,7.75,8.05,14.5,13.0,55.9,14.4583,7.925,30.0,110.8833,26.0,40.125,8.7125,79.65,15.0,79.2,8.05,8.05,7.125,78.2667,7.25,7.75,26.0,24.15,33.0,0.0,7.225,56.9292,27.0,7.8958,42.4,8.05,26.55,15.55,7.8958,30.5,41.5792,153.4625,31.275,7.05,15.5,7.75,8.05,65.0,14.4,16.1,39.0,10.5,14.4542,52.5542,15.7417,7.8542,16.1,32.3208,12.35,77.9583,7.8958,7.7333,30.0,7.0542,30.5,0.0,27.9,13.0,7.925,26.25,39.6875,16.1,7.8542,69.3,27.9,56.4958,19.2583,76.7292,7.8958,35.5,7.55,7.55,7.8958,23.0,8.4333,7.8292,6.75,73.5,7.8958,15.5,13.0,113.275,133.65,7.225,25.5875,7.4958,7.925,73.5,13.0,7.775,8.05,52.0,39.0,52.0,10.5,13.0,0.0,7.775,8.05,9.8417,46.9,512.3292,8.1375,76.7292,9.225,46.9,39.0,41.5792,39.6875,10.1708,7.7958,211.3375,57.0,13.4167,56.4958,7.225,26.55,13.5,8.05,7.7333,110.8833,7.65,227.525,26.2875,14.4542,7.7417,7.8542,26.0,13.5,26.2875,151.55,15.2458,49.5042,26.55,52.0,9.4833,13.0,7.65,227.525,10.5,15.5,7.775,33.0,7.0542,13.0,13.0,53.1,8.6625,21.0,7.7375,26.0,7.925,211.3375,18.7875,0.0,13.0,13.0,16.1,34.375,512.3292,7.8958,7.8958,30.0,78.85,262.375,16.1,7.925,71.0,20.25,13.0,53.1,7.75,23.0,12.475,9.5,7.8958,65.0,14.5,7.7958,11.5,8.05,86.5,14.5,7.125,7.2292,120.0,7.775,77.9583,39.6,7.75,24.15,8.3625,9.5,7.8542,10.5,7.225,23.0,7.75,7.75,12.475,7.7375,211.3375,7.2292,57.0,30.0,23.45,7.05,7.25,7.4958,29.125,20.575,79.2,7.75,26.0,69.55,30.6958,7.8958,13.0,25.9292,8.6833,7.2292,24.15,13.0,26.25,120.0,8.5167,6.975,7.775,0.0,7.775,13.0,53.1,7.8875,24.15,10.5,31.275,8.05,0.0,7.925,37.0042,6.45,27.9,93.5,8.6625,0.0,12.475,39.6875,6.95,56.4958,37.0042,7.75,80.0,14.4542,18.75,7.2292,7.8542,8.3,83.1583,8.6625,8.05,56.4958,29.7,7.925,10.5,31.0,6.4375,8.6625,7.55,69.55,7.8958,33.0,89.1042,31.275,7.775,15.2458,39.4,26.0,9.35,164.8667,26.55,19.2583,7.2292,14.1083,11.5,25.9292,69.55,13.0,13.0,13.8583,50.4958,9.5,11.1333,7.8958,52.5542,5.0,9.0,24.0,7.225,9.8458,7.8958,7.8958,83.1583,26.0,7.8958,10.5167,10.5,7.05,29.125,13.0,30.0,23.45,30.0,7.75],\"yaxis\":\"y\",\"type\":\"scatter\"}],                        {\"template\":{\"data\":{\"histogram2dcontour\":[{\"type\":\"histogram2dcontour\",\"colorbar\":{\"outlinewidth\":0,\"ticks\":\"\"},\"colorscale\":[[0.0,\"#0d0887\"],[0.1111111111111111,\"#46039f\"],[0.2222222222222222,\"#7201a8\"],[0.3333333333333333,\"#9c179e\"],[0.4444444444444444,\"#bd3786\"],[0.5555555555555556,\"#d8576b\"],[0.6666666666666666,\"#ed7953\"],[0.7777777777777778,\"#fb9f3a\"],[0.8888888888888888,\"#fdca26\"],[1.0,\"#f0f921\"]]}],\"choropleth\":[{\"type\":\"choropleth\",\"colorbar\":{\"outlinewidth\":0,\"ticks\":\"\"}}],\"histogram2d\":[{\"type\":\"histogram2d\",\"colorbar\":{\"outlinewidth\":0,\"ticks\":\"\"},\"colorscale\":[[0.0,\"#0d0887\"],[0.1111111111111111,\"#46039f\"],[0.2222222222222222,\"#7201a8\"],[0.3333333333333333,\"#9c179e\"],[0.4444444444444444,\"#bd3786\"],[0.5555555555555556,\"#d8576b\"],[0.6666666666666666,\"#ed7953\"],[0.7777777777777778,\"#fb9f3a\"],[0.8888888888888888,\"#fdca26\"],[1.0,\"#f0f921\"]]}],\"heatmap\":[{\"type\":\"heatmap\",\"colorbar\":{\"outlinewidth\":0,\"ticks\":\"\"},\"colorscale\":[[0.0,\"#0d0887\"],[0.1111111111111111,\"#46039f\"],[0.2222222222222222,\"#7201a8\"],[0.3333333333333333,\"#9c179e\"],[0.4444444444444444,\"#bd3786\"],[0.5555555555555556,\"#d8576b\"],[0.6666666666666666,\"#ed7953\"],[0.7777777777777778,\"#fb9f3a\"],[0.8888888888888888,\"#fdca26\"],[1.0,\"#f0f921\"]]}],\"heatmapgl\":[{\"type\":\"heatmapgl\",\"colorbar\":{\"outlinewidth\":0,\"ticks\":\"\"},\"colorscale\":[[0.0,\"#0d0887\"],[0.1111111111111111,\"#46039f\"],[0.2222222222222222,\"#7201a8\"],[0.3333333333333333,\"#9c179e\"],[0.4444444444444444,\"#bd3786\"],[0.5555555555555556,\"#d8576b\"],[0.6666666666666666,\"#ed7953\"],[0.7777777777777778,\"#fb9f3a\"],[0.8888888888888888,\"#fdca26\"],[1.0,\"#f0f921\"]]}],\"contourcarpet\":[{\"type\":\"contourcarpet\",\"colorbar\":{\"outlinewidth\":0,\"ticks\":\"\"}}],\"contour\":[{\"type\":\"contour\",\"colorbar\":{\"outlinewidth\":0,\"ticks\":\"\"},\"colorscale\":[[0.0,\"#0d0887\"],[0.1111111111111111,\"#46039f\"],[0.2222222222222222,\"#7201a8\"],[0.3333333333333333,\"#9c179e\"],[0.4444444444444444,\"#bd3786\"],[0.5555555555555556,\"#d8576b\"],[0.6666666666666666,\"#ed7953\"],[0.7777777777777778,\"#fb9f3a\"],[0.8888888888888888,\"#fdca26\"],[1.0,\"#f0f921\"]]}],\"surface\":[{\"type\":\"surface\",\"colorbar\":{\"outlinewidth\":0,\"ticks\":\"\"},\"colorscale\":[[0.0,\"#0d0887\"],[0.1111111111111111,\"#46039f\"],[0.2222222222222222,\"#7201a8\"],[0.3333333333333333,\"#9c179e\"],[0.4444444444444444,\"#bd3786\"],[0.5555555555555556,\"#d8576b\"],[0.6666666666666666,\"#ed7953\"],[0.7777777777777778,\"#fb9f3a\"],[0.8888888888888888,\"#fdca26\"],[1.0,\"#f0f921\"]]}],\"mesh3d\":[{\"type\":\"mesh3d\",\"colorbar\":{\"outlinewidth\":0,\"ticks\":\"\"}}],\"scatter\":[{\"fillpattern\":{\"fillmode\":\"overlay\",\"size\":10,\"solidity\":0.2},\"type\":\"scatter\"}],\"parcoords\":[{\"type\":\"parcoords\",\"line\":{\"colorbar\":{\"outlinewidth\":0,\"ticks\":\"\"}}}],\"scatterpolargl\":[{\"type\":\"scatterpolargl\",\"marker\":{\"colorbar\":{\"outlinewidth\":0,\"ticks\":\"\"}}}],\"bar\":[{\"error_x\":{\"color\":\"#2a3f5f\"},\"error_y\":{\"color\":\"#2a3f5f\"},\"marker\":{\"line\":{\"color\":\"#E5ECF6\",\"width\":0.5},\"pattern\":{\"fillmode\":\"overlay\",\"size\":10,\"solidity\":0.2}},\"type\":\"bar\"}],\"scattergeo\":[{\"type\":\"scattergeo\",\"marker\":{\"colorbar\":{\"outlinewidth\":0,\"ticks\":\"\"}}}],\"scatterpolar\":[{\"type\":\"scatterpolar\",\"marker\":{\"colorbar\":{\"outlinewidth\":0,\"ticks\":\"\"}}}],\"histogram\":[{\"marker\":{\"pattern\":{\"fillmode\":\"overlay\",\"size\":10,\"solidity\":0.2}},\"type\":\"histogram\"}],\"scattergl\":[{\"type\":\"scattergl\",\"marker\":{\"colorbar\":{\"outlinewidth\":0,\"ticks\":\"\"}}}],\"scatter3d\":[{\"type\":\"scatter3d\",\"line\":{\"colorbar\":{\"outlinewidth\":0,\"ticks\":\"\"}},\"marker\":{\"colorbar\":{\"outlinewidth\":0,\"ticks\":\"\"}}}],\"scattermapbox\":[{\"type\":\"scattermapbox\",\"marker\":{\"colorbar\":{\"outlinewidth\":0,\"ticks\":\"\"}}}],\"scatterternary\":[{\"type\":\"scatterternary\",\"marker\":{\"colorbar\":{\"outlinewidth\":0,\"ticks\":\"\"}}}],\"scattercarpet\":[{\"type\":\"scattercarpet\",\"marker\":{\"colorbar\":{\"outlinewidth\":0,\"ticks\":\"\"}}}],\"carpet\":[{\"aaxis\":{\"endlinecolor\":\"#2a3f5f\",\"gridcolor\":\"white\",\"linecolor\":\"white\",\"minorgridcolor\":\"white\",\"startlinecolor\":\"#2a3f5f\"},\"baxis\":{\"endlinecolor\":\"#2a3f5f\",\"gridcolor\":\"white\",\"linecolor\":\"white\",\"minorgridcolor\":\"white\",\"startlinecolor\":\"#2a3f5f\"},\"type\":\"carpet\"}],\"table\":[{\"cells\":{\"fill\":{\"color\":\"#EBF0F8\"},\"line\":{\"color\":\"white\"}},\"header\":{\"fill\":{\"color\":\"#C8D4E3\"},\"line\":{\"color\":\"white\"}},\"type\":\"table\"}],\"barpolar\":[{\"marker\":{\"line\":{\"color\":\"#E5ECF6\",\"width\":0.5},\"pattern\":{\"fillmode\":\"overlay\",\"size\":10,\"solidity\":0.2}},\"type\":\"barpolar\"}],\"pie\":[{\"automargin\":true,\"type\":\"pie\"}]},\"layout\":{\"autotypenumbers\":\"strict\",\"colorway\":[\"#636efa\",\"#EF553B\",\"#00cc96\",\"#ab63fa\",\"#FFA15A\",\"#19d3f3\",\"#FF6692\",\"#B6E880\",\"#FF97FF\",\"#FECB52\"],\"font\":{\"color\":\"#2a3f5f\"},\"hovermode\":\"closest\",\"hoverlabel\":{\"align\":\"left\"},\"paper_bgcolor\":\"white\",\"plot_bgcolor\":\"#E5ECF6\",\"polar\":{\"bgcolor\":\"#E5ECF6\",\"angularaxis\":{\"gridcolor\":\"white\",\"linecolor\":\"white\",\"ticks\":\"\"},\"radialaxis\":{\"gridcolor\":\"white\",\"linecolor\":\"white\",\"ticks\":\"\"}},\"ternary\":{\"bgcolor\":\"#E5ECF6\",\"aaxis\":{\"gridcolor\":\"white\",\"linecolor\":\"white\",\"ticks\":\"\"},\"baxis\":{\"gridcolor\":\"white\",\"linecolor\":\"white\",\"ticks\":\"\"},\"caxis\":{\"gridcolor\":\"white\",\"linecolor\":\"white\",\"ticks\":\"\"}},\"coloraxis\":{\"colorbar\":{\"outlinewidth\":0,\"ticks\":\"\"}},\"colorscale\":{\"sequential\":[[0.0,\"#0d0887\"],[0.1111111111111111,\"#46039f\"],[0.2222222222222222,\"#7201a8\"],[0.3333333333333333,\"#9c179e\"],[0.4444444444444444,\"#bd3786\"],[0.5555555555555556,\"#d8576b\"],[0.6666666666666666,\"#ed7953\"],[0.7777777777777778,\"#fb9f3a\"],[0.8888888888888888,\"#fdca26\"],[1.0,\"#f0f921\"]],\"sequentialminus\":[[0.0,\"#0d0887\"],[0.1111111111111111,\"#46039f\"],[0.2222222222222222,\"#7201a8\"],[0.3333333333333333,\"#9c179e\"],[0.4444444444444444,\"#bd3786\"],[0.5555555555555556,\"#d8576b\"],[0.6666666666666666,\"#ed7953\"],[0.7777777777777778,\"#fb9f3a\"],[0.8888888888888888,\"#fdca26\"],[1.0,\"#f0f921\"]],\"diverging\":[[0,\"#8e0152\"],[0.1,\"#c51b7d\"],[0.2,\"#de77ae\"],[0.3,\"#f1b6da\"],[0.4,\"#fde0ef\"],[0.5,\"#f7f7f7\"],[0.6,\"#e6f5d0\"],[0.7,\"#b8e186\"],[0.8,\"#7fbc41\"],[0.9,\"#4d9221\"],[1,\"#276419\"]]},\"xaxis\":{\"gridcolor\":\"white\",\"linecolor\":\"white\",\"ticks\":\"\",\"title\":{\"standoff\":15},\"zerolinecolor\":\"white\",\"automargin\":true,\"zerolinewidth\":2},\"yaxis\":{\"gridcolor\":\"white\",\"linecolor\":\"white\",\"ticks\":\"\",\"title\":{\"standoff\":15},\"zerolinecolor\":\"white\",\"automargin\":true,\"zerolinewidth\":2},\"scene\":{\"xaxis\":{\"backgroundcolor\":\"#E5ECF6\",\"gridcolor\":\"white\",\"linecolor\":\"white\",\"showbackground\":true,\"ticks\":\"\",\"zerolinecolor\":\"white\",\"gridwidth\":2},\"yaxis\":{\"backgroundcolor\":\"#E5ECF6\",\"gridcolor\":\"white\",\"linecolor\":\"white\",\"showbackground\":true,\"ticks\":\"\",\"zerolinecolor\":\"white\",\"gridwidth\":2},\"zaxis\":{\"backgroundcolor\":\"#E5ECF6\",\"gridcolor\":\"white\",\"linecolor\":\"white\",\"showbackground\":true,\"ticks\":\"\",\"zerolinecolor\":\"white\",\"gridwidth\":2}},\"shapedefaults\":{\"line\":{\"color\":\"#2a3f5f\"}},\"annotationdefaults\":{\"arrowcolor\":\"#2a3f5f\",\"arrowhead\":0,\"arrowwidth\":1},\"geo\":{\"bgcolor\":\"white\",\"landcolor\":\"#E5ECF6\",\"subunitcolor\":\"white\",\"showland\":true,\"showlakes\":true,\"lakecolor\":\"white\"},\"title\":{\"x\":0.05},\"mapbox\":{\"style\":\"light\"}}},\"xaxis\":{\"anchor\":\"y\",\"domain\":[0.0,1.0],\"title\":{\"text\":\"Age\"}},\"yaxis\":{\"anchor\":\"x\",\"domain\":[0.0,1.0],\"title\":{\"text\":\"Fare\"}},\"coloraxis\":{\"colorbar\":{\"title\":{\"text\":\"survived\"}},\"colorscale\":[[0.0,\"#0d0887\"],[0.1111111111111111,\"#46039f\"],[0.2222222222222222,\"#7201a8\"],[0.3333333333333333,\"#9c179e\"],[0.4444444444444444,\"#bd3786\"],[0.5555555555555556,\"#d8576b\"],[0.6666666666666666,\"#ed7953\"],[0.7777777777777778,\"#fb9f3a\"],[0.8888888888888888,\"#fdca26\"],[1.0,\"#f0f921\"]]},\"legend\":{\"tracegroupgap\":0,\"itemsizing\":\"constant\"},\"title\":{\"text\":\"Scatter Plot for Age vs. Fare\"}},                        {\"responsive\": true}                    ).then(function(){\n",
       "                            \n",
       "var gd = document.getElementById('47260396-3cd6-4e83-bbb4-792f8fba0430');\n",
       "var x = new MutationObserver(function (mutations, observer) {{\n",
       "        var display = window.getComputedStyle(gd).display;\n",
       "        if (!display || display === 'none') {{\n",
       "            console.log([gd, 'removed!']);\n",
       "            Plotly.purge(gd);\n",
       "            observer.disconnect();\n",
       "        }}\n",
       "}});\n",
       "\n",
       "// Listen for the removal of the full notebook cells\n",
       "var notebookContainer = gd.closest('#notebook-container');\n",
       "if (notebookContainer) {{\n",
       "    x.observe(notebookContainer, {childList: true});\n",
       "}}\n",
       "\n",
       "// Listen for the clearing of the current output cell\n",
       "var outputEl = gd.closest('.output');\n",
       "if (outputEl) {{\n",
       "    x.observe(outputEl, {childList: true});\n",
       "}}\n",
       "\n",
       "                        })                };                });            </script>        </div>"
      ]
     },
     "metadata": {},
     "output_type": "display_data"
    }
   ],
   "source": [
    "# Plotly Express is a high-level data visualization library that works well with Pandas dataframes and is specifically designed for creating interactive visualizations. To plot a scatter plot for the 'age' and 'fare' columns of the \"titanic\" dataset using Plotly Express, you'll need to first load the dataset using Seaborn's load_dataset function and then use Plotly Express to create the scatter plot. However, please note that Plotly Express and the version of Plotly available at the time of my training might differ from the current version.\n",
    "\n",
    "import seaborn as sns\n",
    "import plotly.express as px\n",
    "\n",
    "# Load the \"titanic\" dataset\n",
    "titanic_data = sns.load_dataset('titanic')\n",
    "\n",
    "# Create a scatter plot using Plotly Express\n",
    "fig = px.scatter(titanic_data, x='age', y='fare', title='Scatter Plot for Age vs. Fare',\n",
    "                 hover_data=['pclass', 'sex', 'embarked', 'survived'],\n",
    "                 labels={'age': 'Age', 'fare': 'Fare'},\n",
    "                 color='survived', size='pclass', opacity=0.7)\n",
    "\n",
    "# Show the plot\n",
    "fig.show()\n",
    "\n",
    "# In this code, we used px.scatter from Plotly Express to create the scatter plot. The x and y parameters are set to 'age' and 'fare', respectively, to specify the columns for the x-axis and y-axis of the scatter plot. The hover_data parameter allows you to include additional columns in the tooltip that will appear when you hover over each data point. We've included 'pclass', 'sex', 'embarked', and 'survived' as additional information.\n",
    "\n",
    "# The color parameter is set to 'survived' to differentiate data points by whether the passenger survived or not. The size parameter is set to 'pclass' to adjust the size of the data points based on the passenger class. The opacity parameter sets the transparency level of the data points.\n",
    "\n",
    "# The labels parameter is used to provide custom labels for the x and y axes. The title parameter sets the title of the plot.\n",
    "\n",
    "# Running this code will create an interactive scatter plot showing the relationship between the 'age' and 'fare' columns in the \"titanic\" dataset. The data points will be colored based on whether the passenger survived or not, and the size of the points will be based on the passenger class. When you hover over each data point, additional information about the passenger's class, sex, embarked location, and survival status will be displayed in the tooltip."
   ]
  },
  {
   "cell_type": "markdown",
   "id": "afc7580f-6aa8-4ca5-b7b1-6ce13a34a4d0",
   "metadata": {},
   "source": [
    "### Question2"
   ]
  },
  {
   "cell_type": "code",
   "execution_count": 11,
   "id": "091c8e3c-3ba7-446d-a775-94821380f007",
   "metadata": {},
   "outputs": [
    {
     "data": {
      "application/vnd.plotly.v1+json": {
       "config": {
        "plotlyServerURL": "https://plot.ly"
       },
       "data": [
        {
         "alignmentgroup": "True",
         "boxpoints": "all",
         "customdata": [
          [
           2,
           1.01
          ],
          [
           4,
           3.61
          ],
          [
           4,
           5
          ],
          [
           2,
           3.02
          ],
          [
           3,
           1.67
          ],
          [
           3,
           3.5
          ],
          [
           2,
           2.75
          ],
          [
           2,
           2.23
          ],
          [
           2,
           3
          ],
          [
           2,
           3
          ],
          [
           4,
           2.45
          ],
          [
           3,
           3.07
          ],
          [
           2,
           2.6
          ],
          [
           4,
           5.2
          ],
          [
           2,
           1.5
          ],
          [
           2,
           2.47
          ],
          [
           1,
           1
          ],
          [
           3,
           3
          ],
          [
           2,
           3.14
          ],
          [
           2,
           5
          ],
          [
           2,
           2.2
          ],
          [
           1,
           1.83
          ],
          [
           4,
           5.17
          ],
          [
           2,
           1
          ],
          [
           2,
           4.3
          ],
          [
           2,
           3.25
          ],
          [
           2,
           2.5
          ],
          [
           2,
           3
          ],
          [
           3,
           2.5
          ],
          [
           2,
           3.48
          ],
          [
           2,
           4.08
          ],
          [
           2,
           4
          ],
          [
           1,
           1
          ],
          [
           3,
           4
          ],
          [
           2,
           3.5
          ],
          [
           2,
           1.5
          ],
          [
           2,
           1.8
          ],
          [
           4,
           2.92
          ],
          [
           2,
           1.68
          ],
          [
           2,
           2.52
          ],
          [
           6,
           4.2
          ],
          [
           2,
           2
          ],
          [
           2,
           2
          ],
          [
           2,
           2.83
          ],
          [
           2,
           1.5
          ],
          [
           2,
           2
          ],
          [
           2,
           3.25
          ],
          [
           2,
           1.25
          ],
          [
           2,
           2
          ],
          [
           2,
           2
          ],
          [
           2,
           2.75
          ],
          [
           2,
           3.5
          ],
          [
           6,
           5
          ],
          [
           2,
           2.3
          ],
          [
           2,
           1.5
          ],
          [
           3,
           1.36
          ],
          [
           2,
           1.63
          ],
          [
           5,
           5.14
          ],
          [
           4,
           3.75
          ],
          [
           2,
           2.61
          ],
          [
           3,
           2
          ],
          [
           2,
           3
          ],
          [
           2,
           1.61
          ],
          [
           2,
           2
          ],
          [
           2,
           4
          ],
          [
           3,
           3.5
          ],
          [
           3,
           3.5
          ],
          [
           2,
           4.19
          ],
          [
           4,
           5
          ],
          [
           2,
           2
          ],
          [
           2,
           2.01
          ],
          [
           2,
           2
          ],
          [
           2,
           2.5
          ],
          [
           3,
           3.23
          ],
          [
           2,
           2.23
          ],
          [
           2,
           2.5
          ],
          [
           3,
           6.5
          ],
          [
           2,
           1.1
          ],
          [
           4,
           3.09
          ],
          [
           2,
           3.48
          ],
          [
           3,
           3
          ],
          [
           2,
           2.5
          ],
          [
           2,
           2
          ],
          [
           2,
           2.88
          ],
          [
           3,
           4.67
          ],
          [
           2,
           2
          ],
          [
           2,
           3
          ]
         ],
         "hovertemplate": "sex=Female<br>Day=%{x}<br>Total Bill=%{y}<br>size=%{customdata[0]}<br>tip=%{customdata[1]}<extra></extra>",
         "legendgroup": "Female",
         "marker": {
          "color": "#636efa"
         },
         "name": "Female",
         "notched": false,
         "offsetgroup": "Female",
         "orientation": "v",
         "showlegend": true,
         "type": "box",
         "x": [
          "Sun",
          "Sun",
          "Sun",
          "Sun",
          "Sun",
          "Sun",
          "Sat",
          "Sat",
          "Sat",
          "Sat",
          "Sat",
          "Sat",
          "Sun",
          "Sun",
          "Sat",
          "Sat",
          "Sat",
          "Sat",
          "Sat",
          "Sat",
          "Sat",
          "Thur",
          "Thur",
          "Fri",
          "Fri",
          "Fri",
          "Fri",
          "Fri",
          "Sat",
          "Sat",
          "Sat",
          "Sat",
          "Sat",
          "Sun",
          "Sun",
          "Thur",
          "Thur",
          "Thur",
          "Thur",
          "Thur",
          "Thur",
          "Thur",
          "Thur",
          "Thur",
          "Thur",
          "Thur",
          "Thur",
          "Thur",
          "Thur",
          "Thur",
          "Thur",
          "Thur",
          "Thur",
          "Thur",
          "Thur",
          "Thur",
          "Thur",
          "Sun",
          "Sun",
          "Sun",
          "Sun",
          "Sun",
          "Sat",
          "Sat",
          "Sun",
          "Sun",
          "Sun",
          "Thur",
          "Thur",
          "Thur",
          "Thur",
          "Thur",
          "Thur",
          "Thur",
          "Sat",
          "Sat",
          "Sat",
          "Sat",
          "Sat",
          "Fri",
          "Fri",
          "Fri",
          "Fri",
          "Sat",
          "Sat",
          "Sat",
          "Thur"
         ],
         "x0": " ",
         "xaxis": "x",
         "y": [
          16.99,
          24.59,
          35.26,
          14.83,
          10.33,
          16.97,
          20.29,
          15.77,
          19.65,
          15.06,
          20.69,
          16.93,
          10.29,
          34.81,
          26.41,
          16.45,
          3.07,
          17.07,
          26.86,
          25.28,
          14.73,
          10.07,
          34.83,
          5.75,
          16.32,
          22.75,
          11.35,
          15.38,
          44.3,
          22.42,
          20.92,
          14.31,
          7.25,
          25.71,
          17.31,
          10.65,
          12.43,
          24.08,
          13.42,
          12.48,
          29.8,
          14.52,
          11.38,
          20.27,
          11.17,
          12.26,
          18.26,
          8.51,
          10.33,
          14.15,
          13.16,
          17.47,
          27.05,
          16.43,
          8.35,
          18.64,
          11.87,
          29.85,
          25,
          13.39,
          16.21,
          17.51,
          10.59,
          10.63,
          9.6,
          20.9,
          18.15,
          19.81,
          43.11,
          13,
          12.74,
          13,
          16.4,
          16.47,
          12.76,
          13.27,
          28.17,
          12.9,
          30.14,
          13.42,
          15.98,
          16.27,
          10.09,
          22.12,
          35.83,
          27.18,
          18.78
         ],
         "y0": " ",
         "yaxis": "y"
        },
        {
         "alignmentgroup": "True",
         "boxpoints": "all",
         "customdata": [
          [
           3,
           1.66
          ],
          [
           3,
           3.5
          ],
          [
           2,
           3.31
          ],
          [
           4,
           4.71
          ],
          [
           2,
           2
          ],
          [
           4,
           3.12
          ],
          [
           2,
           1.96
          ],
          [
           2,
           3.23
          ],
          [
           2,
           1.71
          ],
          [
           2,
           1.57
          ],
          [
           4,
           3
          ],
          [
           2,
           3.92
          ],
          [
           3,
           3.71
          ],
          [
           3,
           3.35
          ],
          [
           2,
           4.08
          ],
          [
           4,
           7.58
          ],
          [
           2,
           3.18
          ],
          [
           4,
           2.34
          ],
          [
           2,
           2
          ],
          [
           2,
           2
          ],
          [
           2,
           4.3
          ],
          [
           2,
           1.45
          ],
          [
           4,
           2.5
          ],
          [
           2,
           3.27
          ],
          [
           3,
           3.6
          ],
          [
           3,
           2
          ],
          [
           3,
           2.31
          ],
          [
           3,
           5
          ],
          [
           3,
           2.24
          ],
          [
           2,
           2.54
          ],
          [
           2,
           3.06
          ],
          [
           2,
           1.32
          ],
          [
           4,
           5.6
          ],
          [
           2,
           3
          ],
          [
           2,
           5
          ],
          [
           4,
           6
          ],
          [
           3,
           2.05
          ],
          [
           2,
           3
          ],
          [
           2,
           2.5
          ],
          [
           2,
           1.56
          ],
          [
           4,
           4.34
          ],
          [
           2,
           3.51
          ],
          [
           4,
           3
          ],
          [
           2,
           1.76
          ],
          [
           4,
           6.73
          ],
          [
           2,
           3.21
          ],
          [
           2,
           2
          ],
          [
           2,
           1.98
          ],
          [
           4,
           3.76
          ],
          [
           3,
           2.64
          ],
          [
           3,
           3.15
          ],
          [
           2,
           2.01
          ],
          [
           2,
           2.09
          ],
          [
           2,
           1.97
          ],
          [
           2,
           1.25
          ],
          [
           2,
           3.08
          ],
          [
           4,
           4
          ],
          [
           2,
           3
          ],
          [
           2,
           2.71
          ],
          [
           2,
           3
          ],
          [
           2,
           3.4
          ],
          [
           2,
           5
          ],
          [
           2,
           2.03
          ],
          [
           2,
           2
          ],
          [
           2,
           4
          ],
          [
           2,
           5.85
          ],
          [
           2,
           3
          ],
          [
           2,
           3
          ],
          [
           2,
           3.5
          ],
          [
           4,
           4.73
          ],
          [
           2,
           4
          ],
          [
           2,
           1.5
          ],
          [
           2,
           3
          ],
          [
           2,
           1.5
          ],
          [
           2,
           1.64
          ],
          [
           2,
           4.06
          ],
          [
           2,
           4.29
          ],
          [
           2,
           3.76
          ],
          [
           2,
           3
          ],
          [
           3,
           4
          ],
          [
           2,
           2.55
          ],
          [
           4,
           5.07
          ],
          [
           2,
           2.31
          ],
          [
           2,
           2.5
          ],
          [
           2,
           2
          ],
          [
           2,
           1.48
          ],
          [
           3,
           2.18
          ],
          [
           2,
           1.5
          ],
          [
           2,
           2
          ],
          [
           6,
           6.7
          ],
          [
           5,
           5
          ],
          [
           2,
           1.73
          ],
          [
           2,
           2
          ],
          [
           2,
           2.5
          ],
          [
           2,
           2
          ],
          [
           3,
           2.74
          ],
          [
           4,
           2
          ],
          [
           4,
           2
          ],
          [
           6,
           5
          ],
          [
           4,
           2
          ],
          [
           4,
           3.5
          ],
          [
           2,
           2.5
          ],
          [
           2,
           2
          ],
          [
           3,
           3.48
          ],
          [
           2,
           2.24
          ],
          [
           4,
           4.5
          ],
          [
           3,
           10
          ],
          [
           2,
           3.16
          ],
          [
           2,
           5.15
          ],
          [
           2,
           3.18
          ],
          [
           2,
           4
          ],
          [
           2,
           3.11
          ],
          [
           2,
           2
          ],
          [
           2,
           2
          ],
          [
           2,
           3.55
          ],
          [
           4,
           3.68
          ],
          [
           2,
           5.65
          ],
          [
           3,
           3.5
          ],
          [
           4,
           6.5
          ],
          [
           2,
           3
          ],
          [
           5,
           5
          ],
          [
           5,
           2
          ],
          [
           3,
           4
          ],
          [
           2,
           1.5
          ],
          [
           2,
           2.56
          ],
          [
           2,
           2.02
          ],
          [
           2,
           4
          ],
          [
           2,
           1.44
          ],
          [
           2,
           2
          ],
          [
           2,
           2
          ],
          [
           3,
           4
          ],
          [
           4,
           4
          ],
          [
           3,
           3.41
          ],
          [
           4,
           3
          ],
          [
           2,
           2.03
          ],
          [
           3,
           2
          ],
          [
           4,
           5.16
          ],
          [
           4,
           9
          ],
          [
           5,
           3
          ],
          [
           2,
           1.5
          ],
          [
           2,
           1.44
          ],
          [
           2,
           2.2
          ],
          [
           1,
           1.92
          ],
          [
           2,
           1.58
          ],
          [
           4,
           3
          ],
          [
           2,
           2.72
          ],
          [
           4,
           2
          ],
          [
           3,
           3
          ],
          [
           2,
           3.39
          ],
          [
           2,
           1.47
          ],
          [
           2,
           3
          ],
          [
           2,
           1.25
          ],
          [
           2,
           1
          ],
          [
           2,
           1.17
          ],
          [
           3,
           5.92
          ],
          [
           2,
           2
          ],
          [
           2,
           1.75
          ]
         ],
         "hovertemplate": "sex=Male<br>Day=%{x}<br>Total Bill=%{y}<br>size=%{customdata[0]}<br>tip=%{customdata[1]}<extra></extra>",
         "legendgroup": "Male",
         "marker": {
          "color": "#EF553B"
         },
         "name": "Male",
         "notched": false,
         "offsetgroup": "Male",
         "orientation": "v",
         "showlegend": true,
         "type": "box",
         "x": [
          "Sun",
          "Sun",
          "Sun",
          "Sun",
          "Sun",
          "Sun",
          "Sun",
          "Sun",
          "Sun",
          "Sun",
          "Sun",
          "Sun",
          "Sun",
          "Sat",
          "Sat",
          "Sat",
          "Sat",
          "Sat",
          "Sat",
          "Sat",
          "Sat",
          "Sat",
          "Sat",
          "Sat",
          "Sat",
          "Sat",
          "Sat",
          "Sat",
          "Sat",
          "Sun",
          "Sun",
          "Sun",
          "Sun",
          "Sun",
          "Sun",
          "Sun",
          "Sun",
          "Sun",
          "Sun",
          "Sun",
          "Sun",
          "Sun",
          "Sat",
          "Sat",
          "Sat",
          "Sat",
          "Sat",
          "Sat",
          "Sat",
          "Sat",
          "Sat",
          "Sat",
          "Sat",
          "Sat",
          "Sat",
          "Sat",
          "Thur",
          "Thur",
          "Thur",
          "Thur",
          "Thur",
          "Thur",
          "Thur",
          "Thur",
          "Thur",
          "Thur",
          "Thur",
          "Fri",
          "Fri",
          "Fri",
          "Fri",
          "Fri",
          "Fri",
          "Fri",
          "Sat",
          "Sat",
          "Sat",
          "Sat",
          "Sat",
          "Sun",
          "Sun",
          "Sun",
          "Thur",
          "Thur",
          "Thur",
          "Thur",
          "Thur",
          "Thur",
          "Thur",
          "Thur",
          "Thur",
          "Thur",
          "Thur",
          "Sun",
          "Sun",
          "Sun",
          "Sun",
          "Sun",
          "Sun",
          "Sun",
          "Sun",
          "Sun",
          "Sun",
          "Sun",
          "Sun",
          "Sun",
          "Sat",
          "Sat",
          "Sun",
          "Sun",
          "Sun",
          "Sun",
          "Sun",
          "Sun",
          "Sun",
          "Sun",
          "Sun",
          "Sun",
          "Sun",
          "Sun",
          "Sun",
          "Sun",
          "Sun",
          "Sun",
          "Thur",
          "Thur",
          "Thur",
          "Thur",
          "Thur",
          "Thur",
          "Thur",
          "Thur",
          "Sat",
          "Sat",
          "Sat",
          "Sat",
          "Sat",
          "Sat",
          "Sat",
          "Sat",
          "Sat",
          "Fri",
          "Fri",
          "Fri",
          "Sat",
          "Sat",
          "Sat",
          "Sat",
          "Sat",
          "Sat",
          "Sat",
          "Sat",
          "Sat",
          "Sat",
          "Sat",
          "Sat",
          "Sat"
         ],
         "x0": " ",
         "xaxis": "x",
         "y": [
          10.34,
          21.01,
          23.68,
          25.29,
          8.77,
          26.88,
          15.04,
          14.78,
          10.27,
          15.42,
          18.43,
          21.58,
          16.29,
          20.65,
          17.92,
          39.42,
          19.82,
          17.81,
          13.37,
          12.69,
          21.7,
          9.55,
          18.35,
          17.78,
          24.06,
          16.31,
          18.69,
          31.27,
          16.04,
          17.46,
          13.94,
          9.68,
          30.4,
          18.29,
          22.23,
          32.4,
          28.55,
          18.04,
          12.54,
          9.94,
          25.56,
          19.49,
          38.01,
          11.24,
          48.27,
          20.29,
          13.81,
          11.02,
          18.29,
          17.59,
          20.08,
          20.23,
          15.01,
          12.02,
          10.51,
          17.92,
          27.2,
          22.76,
          17.29,
          19.44,
          16.66,
          32.68,
          15.98,
          13.03,
          18.28,
          24.71,
          21.16,
          28.97,
          22.49,
          40.17,
          27.28,
          12.03,
          21.01,
          12.46,
          15.36,
          20.49,
          25.21,
          18.24,
          14,
          38.07,
          23.95,
          29.93,
          11.69,
          14.26,
          15.95,
          8.52,
          22.82,
          19.08,
          16,
          34.3,
          41.19,
          9.78,
          7.51,
          14.07,
          13.13,
          17.26,
          24.55,
          19.77,
          48.17,
          16.49,
          21.5,
          12.66,
          13.81,
          24.52,
          20.76,
          31.71,
          50.81,
          15.81,
          7.25,
          31.85,
          16.82,
          32.9,
          17.89,
          14.48,
          34.63,
          34.65,
          23.33,
          45.35,
          23.17,
          40.55,
          20.69,
          30.46,
          23.1,
          15.69,
          28.44,
          15.48,
          16.58,
          7.56,
          10.34,
          13.51,
          18.71,
          20.53,
          26.59,
          38.73,
          24.27,
          30.06,
          25.89,
          48.33,
          28.15,
          11.59,
          7.74,
          12.16,
          8.58,
          13.42,
          20.45,
          13.28,
          24.01,
          15.69,
          11.61,
          10.77,
          15.53,
          10.07,
          12.6,
          32.83,
          29.03,
          22.67,
          17.82
         ],
         "y0": " ",
         "yaxis": "y"
        }
       ],
       "layout": {
        "autosize": true,
        "boxmode": "group",
        "legend": {
         "title": {
          "text": "sex"
         },
         "tracegroupgap": 0
        },
        "template": {
         "data": {
          "bar": [
           {
            "error_x": {
             "color": "#2a3f5f"
            },
            "error_y": {
             "color": "#2a3f5f"
            },
            "marker": {
             "line": {
              "color": "#E5ECF6",
              "width": 0.5
             },
             "pattern": {
              "fillmode": "overlay",
              "size": 10,
              "solidity": 0.2
             }
            },
            "type": "bar"
           }
          ],
          "barpolar": [
           {
            "marker": {
             "line": {
              "color": "#E5ECF6",
              "width": 0.5
             },
             "pattern": {
              "fillmode": "overlay",
              "size": 10,
              "solidity": 0.2
             }
            },
            "type": "barpolar"
           }
          ],
          "carpet": [
           {
            "aaxis": {
             "endlinecolor": "#2a3f5f",
             "gridcolor": "white",
             "linecolor": "white",
             "minorgridcolor": "white",
             "startlinecolor": "#2a3f5f"
            },
            "baxis": {
             "endlinecolor": "#2a3f5f",
             "gridcolor": "white",
             "linecolor": "white",
             "minorgridcolor": "white",
             "startlinecolor": "#2a3f5f"
            },
            "type": "carpet"
           }
          ],
          "choropleth": [
           {
            "colorbar": {
             "outlinewidth": 0,
             "ticks": ""
            },
            "type": "choropleth"
           }
          ],
          "contour": [
           {
            "colorbar": {
             "outlinewidth": 0,
             "ticks": ""
            },
            "colorscale": [
             [
              0,
              "#0d0887"
             ],
             [
              0.1111111111111111,
              "#46039f"
             ],
             [
              0.2222222222222222,
              "#7201a8"
             ],
             [
              0.3333333333333333,
              "#9c179e"
             ],
             [
              0.4444444444444444,
              "#bd3786"
             ],
             [
              0.5555555555555556,
              "#d8576b"
             ],
             [
              0.6666666666666666,
              "#ed7953"
             ],
             [
              0.7777777777777778,
              "#fb9f3a"
             ],
             [
              0.8888888888888888,
              "#fdca26"
             ],
             [
              1,
              "#f0f921"
             ]
            ],
            "type": "contour"
           }
          ],
          "contourcarpet": [
           {
            "colorbar": {
             "outlinewidth": 0,
             "ticks": ""
            },
            "type": "contourcarpet"
           }
          ],
          "heatmap": [
           {
            "colorbar": {
             "outlinewidth": 0,
             "ticks": ""
            },
            "colorscale": [
             [
              0,
              "#0d0887"
             ],
             [
              0.1111111111111111,
              "#46039f"
             ],
             [
              0.2222222222222222,
              "#7201a8"
             ],
             [
              0.3333333333333333,
              "#9c179e"
             ],
             [
              0.4444444444444444,
              "#bd3786"
             ],
             [
              0.5555555555555556,
              "#d8576b"
             ],
             [
              0.6666666666666666,
              "#ed7953"
             ],
             [
              0.7777777777777778,
              "#fb9f3a"
             ],
             [
              0.8888888888888888,
              "#fdca26"
             ],
             [
              1,
              "#f0f921"
             ]
            ],
            "type": "heatmap"
           }
          ],
          "heatmapgl": [
           {
            "colorbar": {
             "outlinewidth": 0,
             "ticks": ""
            },
            "colorscale": [
             [
              0,
              "#0d0887"
             ],
             [
              0.1111111111111111,
              "#46039f"
             ],
             [
              0.2222222222222222,
              "#7201a8"
             ],
             [
              0.3333333333333333,
              "#9c179e"
             ],
             [
              0.4444444444444444,
              "#bd3786"
             ],
             [
              0.5555555555555556,
              "#d8576b"
             ],
             [
              0.6666666666666666,
              "#ed7953"
             ],
             [
              0.7777777777777778,
              "#fb9f3a"
             ],
             [
              0.8888888888888888,
              "#fdca26"
             ],
             [
              1,
              "#f0f921"
             ]
            ],
            "type": "heatmapgl"
           }
          ],
          "histogram": [
           {
            "marker": {
             "pattern": {
              "fillmode": "overlay",
              "size": 10,
              "solidity": 0.2
             }
            },
            "type": "histogram"
           }
          ],
          "histogram2d": [
           {
            "colorbar": {
             "outlinewidth": 0,
             "ticks": ""
            },
            "colorscale": [
             [
              0,
              "#0d0887"
             ],
             [
              0.1111111111111111,
              "#46039f"
             ],
             [
              0.2222222222222222,
              "#7201a8"
             ],
             [
              0.3333333333333333,
              "#9c179e"
             ],
             [
              0.4444444444444444,
              "#bd3786"
             ],
             [
              0.5555555555555556,
              "#d8576b"
             ],
             [
              0.6666666666666666,
              "#ed7953"
             ],
             [
              0.7777777777777778,
              "#fb9f3a"
             ],
             [
              0.8888888888888888,
              "#fdca26"
             ],
             [
              1,
              "#f0f921"
             ]
            ],
            "type": "histogram2d"
           }
          ],
          "histogram2dcontour": [
           {
            "colorbar": {
             "outlinewidth": 0,
             "ticks": ""
            },
            "colorscale": [
             [
              0,
              "#0d0887"
             ],
             [
              0.1111111111111111,
              "#46039f"
             ],
             [
              0.2222222222222222,
              "#7201a8"
             ],
             [
              0.3333333333333333,
              "#9c179e"
             ],
             [
              0.4444444444444444,
              "#bd3786"
             ],
             [
              0.5555555555555556,
              "#d8576b"
             ],
             [
              0.6666666666666666,
              "#ed7953"
             ],
             [
              0.7777777777777778,
              "#fb9f3a"
             ],
             [
              0.8888888888888888,
              "#fdca26"
             ],
             [
              1,
              "#f0f921"
             ]
            ],
            "type": "histogram2dcontour"
           }
          ],
          "mesh3d": [
           {
            "colorbar": {
             "outlinewidth": 0,
             "ticks": ""
            },
            "type": "mesh3d"
           }
          ],
          "parcoords": [
           {
            "line": {
             "colorbar": {
              "outlinewidth": 0,
              "ticks": ""
             }
            },
            "type": "parcoords"
           }
          ],
          "pie": [
           {
            "automargin": true,
            "type": "pie"
           }
          ],
          "scatter": [
           {
            "fillpattern": {
             "fillmode": "overlay",
             "size": 10,
             "solidity": 0.2
            },
            "type": "scatter"
           }
          ],
          "scatter3d": [
           {
            "line": {
             "colorbar": {
              "outlinewidth": 0,
              "ticks": ""
             }
            },
            "marker": {
             "colorbar": {
              "outlinewidth": 0,
              "ticks": ""
             }
            },
            "type": "scatter3d"
           }
          ],
          "scattercarpet": [
           {
            "marker": {
             "colorbar": {
              "outlinewidth": 0,
              "ticks": ""
             }
            },
            "type": "scattercarpet"
           }
          ],
          "scattergeo": [
           {
            "marker": {
             "colorbar": {
              "outlinewidth": 0,
              "ticks": ""
             }
            },
            "type": "scattergeo"
           }
          ],
          "scattergl": [
           {
            "marker": {
             "colorbar": {
              "outlinewidth": 0,
              "ticks": ""
             }
            },
            "type": "scattergl"
           }
          ],
          "scattermapbox": [
           {
            "marker": {
             "colorbar": {
              "outlinewidth": 0,
              "ticks": ""
             }
            },
            "type": "scattermapbox"
           }
          ],
          "scatterpolar": [
           {
            "marker": {
             "colorbar": {
              "outlinewidth": 0,
              "ticks": ""
             }
            },
            "type": "scatterpolar"
           }
          ],
          "scatterpolargl": [
           {
            "marker": {
             "colorbar": {
              "outlinewidth": 0,
              "ticks": ""
             }
            },
            "type": "scatterpolargl"
           }
          ],
          "scatterternary": [
           {
            "marker": {
             "colorbar": {
              "outlinewidth": 0,
              "ticks": ""
             }
            },
            "type": "scatterternary"
           }
          ],
          "surface": [
           {
            "colorbar": {
             "outlinewidth": 0,
             "ticks": ""
            },
            "colorscale": [
             [
              0,
              "#0d0887"
             ],
             [
              0.1111111111111111,
              "#46039f"
             ],
             [
              0.2222222222222222,
              "#7201a8"
             ],
             [
              0.3333333333333333,
              "#9c179e"
             ],
             [
              0.4444444444444444,
              "#bd3786"
             ],
             [
              0.5555555555555556,
              "#d8576b"
             ],
             [
              0.6666666666666666,
              "#ed7953"
             ],
             [
              0.7777777777777778,
              "#fb9f3a"
             ],
             [
              0.8888888888888888,
              "#fdca26"
             ],
             [
              1,
              "#f0f921"
             ]
            ],
            "type": "surface"
           }
          ],
          "table": [
           {
            "cells": {
             "fill": {
              "color": "#EBF0F8"
             },
             "line": {
              "color": "white"
             }
            },
            "header": {
             "fill": {
              "color": "#C8D4E3"
             },
             "line": {
              "color": "white"
             }
            },
            "type": "table"
           }
          ]
         },
         "layout": {
          "annotationdefaults": {
           "arrowcolor": "#2a3f5f",
           "arrowhead": 0,
           "arrowwidth": 1
          },
          "autotypenumbers": "strict",
          "coloraxis": {
           "colorbar": {
            "outlinewidth": 0,
            "ticks": ""
           }
          },
          "colorscale": {
           "diverging": [
            [
             0,
             "#8e0152"
            ],
            [
             0.1,
             "#c51b7d"
            ],
            [
             0.2,
             "#de77ae"
            ],
            [
             0.3,
             "#f1b6da"
            ],
            [
             0.4,
             "#fde0ef"
            ],
            [
             0.5,
             "#f7f7f7"
            ],
            [
             0.6,
             "#e6f5d0"
            ],
            [
             0.7,
             "#b8e186"
            ],
            [
             0.8,
             "#7fbc41"
            ],
            [
             0.9,
             "#4d9221"
            ],
            [
             1,
             "#276419"
            ]
           ],
           "sequential": [
            [
             0,
             "#0d0887"
            ],
            [
             0.1111111111111111,
             "#46039f"
            ],
            [
             0.2222222222222222,
             "#7201a8"
            ],
            [
             0.3333333333333333,
             "#9c179e"
            ],
            [
             0.4444444444444444,
             "#bd3786"
            ],
            [
             0.5555555555555556,
             "#d8576b"
            ],
            [
             0.6666666666666666,
             "#ed7953"
            ],
            [
             0.7777777777777778,
             "#fb9f3a"
            ],
            [
             0.8888888888888888,
             "#fdca26"
            ],
            [
             1,
             "#f0f921"
            ]
           ],
           "sequentialminus": [
            [
             0,
             "#0d0887"
            ],
            [
             0.1111111111111111,
             "#46039f"
            ],
            [
             0.2222222222222222,
             "#7201a8"
            ],
            [
             0.3333333333333333,
             "#9c179e"
            ],
            [
             0.4444444444444444,
             "#bd3786"
            ],
            [
             0.5555555555555556,
             "#d8576b"
            ],
            [
             0.6666666666666666,
             "#ed7953"
            ],
            [
             0.7777777777777778,
             "#fb9f3a"
            ],
            [
             0.8888888888888888,
             "#fdca26"
            ],
            [
             1,
             "#f0f921"
            ]
           ]
          },
          "colorway": [
           "#636efa",
           "#EF553B",
           "#00cc96",
           "#ab63fa",
           "#FFA15A",
           "#19d3f3",
           "#FF6692",
           "#B6E880",
           "#FF97FF",
           "#FECB52"
          ],
          "font": {
           "color": "#2a3f5f"
          },
          "geo": {
           "bgcolor": "white",
           "lakecolor": "white",
           "landcolor": "#E5ECF6",
           "showlakes": true,
           "showland": true,
           "subunitcolor": "white"
          },
          "hoverlabel": {
           "align": "left"
          },
          "hovermode": "closest",
          "mapbox": {
           "style": "light"
          },
          "paper_bgcolor": "white",
          "plot_bgcolor": "#E5ECF6",
          "polar": {
           "angularaxis": {
            "gridcolor": "white",
            "linecolor": "white",
            "ticks": ""
           },
           "bgcolor": "#E5ECF6",
           "radialaxis": {
            "gridcolor": "white",
            "linecolor": "white",
            "ticks": ""
           }
          },
          "scene": {
           "xaxis": {
            "backgroundcolor": "#E5ECF6",
            "gridcolor": "white",
            "gridwidth": 2,
            "linecolor": "white",
            "showbackground": true,
            "ticks": "",
            "zerolinecolor": "white"
           },
           "yaxis": {
            "backgroundcolor": "#E5ECF6",
            "gridcolor": "white",
            "gridwidth": 2,
            "linecolor": "white",
            "showbackground": true,
            "ticks": "",
            "zerolinecolor": "white"
           },
           "zaxis": {
            "backgroundcolor": "#E5ECF6",
            "gridcolor": "white",
            "gridwidth": 2,
            "linecolor": "white",
            "showbackground": true,
            "ticks": "",
            "zerolinecolor": "white"
           }
          },
          "shapedefaults": {
           "line": {
            "color": "#2a3f5f"
           }
          },
          "ternary": {
           "aaxis": {
            "gridcolor": "white",
            "linecolor": "white",
            "ticks": ""
           },
           "baxis": {
            "gridcolor": "white",
            "linecolor": "white",
            "ticks": ""
           },
           "bgcolor": "#E5ECF6",
           "caxis": {
            "gridcolor": "white",
            "linecolor": "white",
            "ticks": ""
           }
          },
          "title": {
           "x": 0.05
          },
          "xaxis": {
           "automargin": true,
           "gridcolor": "white",
           "linecolor": "white",
           "ticks": "",
           "title": {
            "standoff": 15
           },
           "zerolinecolor": "white",
           "zerolinewidth": 2
          },
          "yaxis": {
           "automargin": true,
           "gridcolor": "white",
           "linecolor": "white",
           "ticks": "",
           "title": {
            "standoff": 15
           },
           "zerolinecolor": "white",
           "zerolinewidth": 2
          }
         }
        },
        "title": {
         "text": "Box Plot of Total Bill by Day and Sex"
        },
        "xaxis": {
         "anchor": "y",
         "autorange": true,
         "categoryarray": [
          "Thur",
          "Fri",
          "Sat",
          "Sun"
         ],
         "categoryorder": "array",
         "domain": [
          0,
          1
         ],
         "range": [
          -0.7757809038267874,
          3.72504110020141
         ],
         "title": {
          "text": "Day"
         },
         "type": "category"
        },
        "yaxis": {
         "anchor": "x",
         "autorange": true,
         "domain": [
          0,
          1
         ],
         "range": [
          0.41777777777777736,
          53.46222222222222
         ],
         "title": {
          "text": "Total Bill"
         },
         "type": "linear"
        }
       }
      },
      "text/html": [
       "<div>                            <div id=\"d2496fa2-e8a6-4616-9d80-203b85407cda\" class=\"plotly-graph-div\" style=\"height:525px; width:100%;\"></div>            <script type=\"text/javascript\">                require([\"plotly\"], function(Plotly) {                    window.PLOTLYENV=window.PLOTLYENV || {};                                    if (document.getElementById(\"d2496fa2-e8a6-4616-9d80-203b85407cda\")) {                    Plotly.newPlot(                        \"d2496fa2-e8a6-4616-9d80-203b85407cda\",                        [{\"alignmentgroup\":\"True\",\"boxpoints\":\"all\",\"customdata\":[[2.0,1.01],[4.0,3.61],[4.0,5.0],[2.0,3.02],[3.0,1.67],[3.0,3.5],[2.0,2.75],[2.0,2.23],[2.0,3.0],[2.0,3.0],[4.0,2.45],[3.0,3.07],[2.0,2.6],[4.0,5.2],[2.0,1.5],[2.0,2.47],[1.0,1.0],[3.0,3.0],[2.0,3.14],[2.0,5.0],[2.0,2.2],[1.0,1.83],[4.0,5.17],[2.0,1.0],[2.0,4.3],[2.0,3.25],[2.0,2.5],[2.0,3.0],[3.0,2.5],[2.0,3.48],[2.0,4.08],[2.0,4.0],[1.0,1.0],[3.0,4.0],[2.0,3.5],[2.0,1.5],[2.0,1.8],[4.0,2.92],[2.0,1.68],[2.0,2.52],[6.0,4.2],[2.0,2.0],[2.0,2.0],[2.0,2.83],[2.0,1.5],[2.0,2.0],[2.0,3.25],[2.0,1.25],[2.0,2.0],[2.0,2.0],[2.0,2.75],[2.0,3.5],[6.0,5.0],[2.0,2.3],[2.0,1.5],[3.0,1.36],[2.0,1.63],[5.0,5.14],[4.0,3.75],[2.0,2.61],[3.0,2.0],[2.0,3.0],[2.0,1.61],[2.0,2.0],[2.0,4.0],[3.0,3.5],[3.0,3.5],[2.0,4.19],[4.0,5.0],[2.0,2.0],[2.0,2.01],[2.0,2.0],[2.0,2.5],[3.0,3.23],[2.0,2.23],[2.0,2.5],[3.0,6.5],[2.0,1.1],[4.0,3.09],[2.0,3.48],[3.0,3.0],[2.0,2.5],[2.0,2.0],[2.0,2.88],[3.0,4.67],[2.0,2.0],[2.0,3.0]],\"hovertemplate\":\"sex=Female\\u003cbr\\u003eDay=%{x}\\u003cbr\\u003eTotal Bill=%{y}\\u003cbr\\u003esize=%{customdata[0]}\\u003cbr\\u003etip=%{customdata[1]}\\u003cextra\\u003e\\u003c\\u002fextra\\u003e\",\"legendgroup\":\"Female\",\"marker\":{\"color\":\"#636efa\"},\"name\":\"Female\",\"notched\":false,\"offsetgroup\":\"Female\",\"orientation\":\"v\",\"showlegend\":true,\"x\":[\"Sun\",\"Sun\",\"Sun\",\"Sun\",\"Sun\",\"Sun\",\"Sat\",\"Sat\",\"Sat\",\"Sat\",\"Sat\",\"Sat\",\"Sun\",\"Sun\",\"Sat\",\"Sat\",\"Sat\",\"Sat\",\"Sat\",\"Sat\",\"Sat\",\"Thur\",\"Thur\",\"Fri\",\"Fri\",\"Fri\",\"Fri\",\"Fri\",\"Sat\",\"Sat\",\"Sat\",\"Sat\",\"Sat\",\"Sun\",\"Sun\",\"Thur\",\"Thur\",\"Thur\",\"Thur\",\"Thur\",\"Thur\",\"Thur\",\"Thur\",\"Thur\",\"Thur\",\"Thur\",\"Thur\",\"Thur\",\"Thur\",\"Thur\",\"Thur\",\"Thur\",\"Thur\",\"Thur\",\"Thur\",\"Thur\",\"Thur\",\"Sun\",\"Sun\",\"Sun\",\"Sun\",\"Sun\",\"Sat\",\"Sat\",\"Sun\",\"Sun\",\"Sun\",\"Thur\",\"Thur\",\"Thur\",\"Thur\",\"Thur\",\"Thur\",\"Thur\",\"Sat\",\"Sat\",\"Sat\",\"Sat\",\"Sat\",\"Fri\",\"Fri\",\"Fri\",\"Fri\",\"Sat\",\"Sat\",\"Sat\",\"Thur\"],\"x0\":\" \",\"xaxis\":\"x\",\"y\":[16.99,24.59,35.26,14.83,10.33,16.97,20.29,15.77,19.65,15.06,20.69,16.93,10.29,34.81,26.41,16.45,3.07,17.07,26.86,25.28,14.73,10.07,34.83,5.75,16.32,22.75,11.35,15.38,44.3,22.42,20.92,14.31,7.25,25.71,17.31,10.65,12.43,24.08,13.42,12.48,29.8,14.52,11.38,20.27,11.17,12.26,18.26,8.51,10.33,14.15,13.16,17.47,27.05,16.43,8.35,18.64,11.87,29.85,25.0,13.39,16.21,17.51,10.59,10.63,9.6,20.9,18.15,19.81,43.11,13.0,12.74,13.0,16.4,16.47,12.76,13.27,28.17,12.9,30.14,13.42,15.98,16.27,10.09,22.12,35.83,27.18,18.78],\"y0\":\" \",\"yaxis\":\"y\",\"type\":\"box\"},{\"alignmentgroup\":\"True\",\"boxpoints\":\"all\",\"customdata\":[[3.0,1.66],[3.0,3.5],[2.0,3.31],[4.0,4.71],[2.0,2.0],[4.0,3.12],[2.0,1.96],[2.0,3.23],[2.0,1.71],[2.0,1.57],[4.0,3.0],[2.0,3.92],[3.0,3.71],[3.0,3.35],[2.0,4.08],[4.0,7.58],[2.0,3.18],[4.0,2.34],[2.0,2.0],[2.0,2.0],[2.0,4.3],[2.0,1.45],[4.0,2.5],[2.0,3.27],[3.0,3.6],[3.0,2.0],[3.0,2.31],[3.0,5.0],[3.0,2.24],[2.0,2.54],[2.0,3.06],[2.0,1.32],[4.0,5.6],[2.0,3.0],[2.0,5.0],[4.0,6.0],[3.0,2.05],[2.0,3.0],[2.0,2.5],[2.0,1.56],[4.0,4.34],[2.0,3.51],[4.0,3.0],[2.0,1.76],[4.0,6.73],[2.0,3.21],[2.0,2.0],[2.0,1.98],[4.0,3.76],[3.0,2.64],[3.0,3.15],[2.0,2.01],[2.0,2.09],[2.0,1.97],[2.0,1.25],[2.0,3.08],[4.0,4.0],[2.0,3.0],[2.0,2.71],[2.0,3.0],[2.0,3.4],[2.0,5.0],[2.0,2.03],[2.0,2.0],[2.0,4.0],[2.0,5.85],[2.0,3.0],[2.0,3.0],[2.0,3.5],[4.0,4.73],[2.0,4.0],[2.0,1.5],[2.0,3.0],[2.0,1.5],[2.0,1.64],[2.0,4.06],[2.0,4.29],[2.0,3.76],[2.0,3.0],[3.0,4.0],[2.0,2.55],[4.0,5.07],[2.0,2.31],[2.0,2.5],[2.0,2.0],[2.0,1.48],[3.0,2.18],[2.0,1.5],[2.0,2.0],[6.0,6.7],[5.0,5.0],[2.0,1.73],[2.0,2.0],[2.0,2.5],[2.0,2.0],[3.0,2.74],[4.0,2.0],[4.0,2.0],[6.0,5.0],[4.0,2.0],[4.0,3.5],[2.0,2.5],[2.0,2.0],[3.0,3.48],[2.0,2.24],[4.0,4.5],[3.0,10.0],[2.0,3.16],[2.0,5.15],[2.0,3.18],[2.0,4.0],[2.0,3.11],[2.0,2.0],[2.0,2.0],[2.0,3.55],[4.0,3.68],[2.0,5.65],[3.0,3.5],[4.0,6.5],[2.0,3.0],[5.0,5.0],[5.0,2.0],[3.0,4.0],[2.0,1.5],[2.0,2.56],[2.0,2.02],[2.0,4.0],[2.0,1.44],[2.0,2.0],[2.0,2.0],[3.0,4.0],[4.0,4.0],[3.0,3.41],[4.0,3.0],[2.0,2.03],[3.0,2.0],[4.0,5.16],[4.0,9.0],[5.0,3.0],[2.0,1.5],[2.0,1.44],[2.0,2.2],[1.0,1.92],[2.0,1.58],[4.0,3.0],[2.0,2.72],[4.0,2.0],[3.0,3.0],[2.0,3.39],[2.0,1.47],[2.0,3.0],[2.0,1.25],[2.0,1.0],[2.0,1.17],[3.0,5.92],[2.0,2.0],[2.0,1.75]],\"hovertemplate\":\"sex=Male\\u003cbr\\u003eDay=%{x}\\u003cbr\\u003eTotal Bill=%{y}\\u003cbr\\u003esize=%{customdata[0]}\\u003cbr\\u003etip=%{customdata[1]}\\u003cextra\\u003e\\u003c\\u002fextra\\u003e\",\"legendgroup\":\"Male\",\"marker\":{\"color\":\"#EF553B\"},\"name\":\"Male\",\"notched\":false,\"offsetgroup\":\"Male\",\"orientation\":\"v\",\"showlegend\":true,\"x\":[\"Sun\",\"Sun\",\"Sun\",\"Sun\",\"Sun\",\"Sun\",\"Sun\",\"Sun\",\"Sun\",\"Sun\",\"Sun\",\"Sun\",\"Sun\",\"Sat\",\"Sat\",\"Sat\",\"Sat\",\"Sat\",\"Sat\",\"Sat\",\"Sat\",\"Sat\",\"Sat\",\"Sat\",\"Sat\",\"Sat\",\"Sat\",\"Sat\",\"Sat\",\"Sun\",\"Sun\",\"Sun\",\"Sun\",\"Sun\",\"Sun\",\"Sun\",\"Sun\",\"Sun\",\"Sun\",\"Sun\",\"Sun\",\"Sun\",\"Sat\",\"Sat\",\"Sat\",\"Sat\",\"Sat\",\"Sat\",\"Sat\",\"Sat\",\"Sat\",\"Sat\",\"Sat\",\"Sat\",\"Sat\",\"Sat\",\"Thur\",\"Thur\",\"Thur\",\"Thur\",\"Thur\",\"Thur\",\"Thur\",\"Thur\",\"Thur\",\"Thur\",\"Thur\",\"Fri\",\"Fri\",\"Fri\",\"Fri\",\"Fri\",\"Fri\",\"Fri\",\"Sat\",\"Sat\",\"Sat\",\"Sat\",\"Sat\",\"Sun\",\"Sun\",\"Sun\",\"Thur\",\"Thur\",\"Thur\",\"Thur\",\"Thur\",\"Thur\",\"Thur\",\"Thur\",\"Thur\",\"Thur\",\"Thur\",\"Sun\",\"Sun\",\"Sun\",\"Sun\",\"Sun\",\"Sun\",\"Sun\",\"Sun\",\"Sun\",\"Sun\",\"Sun\",\"Sun\",\"Sun\",\"Sat\",\"Sat\",\"Sun\",\"Sun\",\"Sun\",\"Sun\",\"Sun\",\"Sun\",\"Sun\",\"Sun\",\"Sun\",\"Sun\",\"Sun\",\"Sun\",\"Sun\",\"Sun\",\"Sun\",\"Sun\",\"Thur\",\"Thur\",\"Thur\",\"Thur\",\"Thur\",\"Thur\",\"Thur\",\"Thur\",\"Sat\",\"Sat\",\"Sat\",\"Sat\",\"Sat\",\"Sat\",\"Sat\",\"Sat\",\"Sat\",\"Fri\",\"Fri\",\"Fri\",\"Sat\",\"Sat\",\"Sat\",\"Sat\",\"Sat\",\"Sat\",\"Sat\",\"Sat\",\"Sat\",\"Sat\",\"Sat\",\"Sat\",\"Sat\"],\"x0\":\" \",\"xaxis\":\"x\",\"y\":[10.34,21.01,23.68,25.29,8.77,26.88,15.04,14.78,10.27,15.42,18.43,21.58,16.29,20.65,17.92,39.42,19.82,17.81,13.37,12.69,21.7,9.55,18.35,17.78,24.06,16.31,18.69,31.27,16.04,17.46,13.94,9.68,30.4,18.29,22.23,32.4,28.55,18.04,12.54,9.94,25.56,19.49,38.01,11.24,48.27,20.29,13.81,11.02,18.29,17.59,20.08,20.23,15.01,12.02,10.51,17.92,27.2,22.76,17.29,19.44,16.66,32.68,15.98,13.03,18.28,24.71,21.16,28.97,22.49,40.17,27.28,12.03,21.01,12.46,15.36,20.49,25.21,18.24,14.0,38.07,23.95,29.93,11.69,14.26,15.95,8.52,22.82,19.08,16.0,34.3,41.19,9.78,7.51,14.07,13.13,17.26,24.55,19.77,48.17,16.49,21.5,12.66,13.81,24.52,20.76,31.71,50.81,15.81,7.25,31.85,16.82,32.9,17.89,14.48,34.63,34.65,23.33,45.35,23.17,40.55,20.69,30.46,23.1,15.69,28.44,15.48,16.58,7.56,10.34,13.51,18.71,20.53,26.59,38.73,24.27,30.06,25.89,48.33,28.15,11.59,7.74,12.16,8.58,13.42,20.45,13.28,24.01,15.69,11.61,10.77,15.53,10.07,12.6,32.83,29.03,22.67,17.82],\"y0\":\" \",\"yaxis\":\"y\",\"type\":\"box\"}],                        {\"template\":{\"data\":{\"histogram2dcontour\":[{\"type\":\"histogram2dcontour\",\"colorbar\":{\"outlinewidth\":0,\"ticks\":\"\"},\"colorscale\":[[0.0,\"#0d0887\"],[0.1111111111111111,\"#46039f\"],[0.2222222222222222,\"#7201a8\"],[0.3333333333333333,\"#9c179e\"],[0.4444444444444444,\"#bd3786\"],[0.5555555555555556,\"#d8576b\"],[0.6666666666666666,\"#ed7953\"],[0.7777777777777778,\"#fb9f3a\"],[0.8888888888888888,\"#fdca26\"],[1.0,\"#f0f921\"]]}],\"choropleth\":[{\"type\":\"choropleth\",\"colorbar\":{\"outlinewidth\":0,\"ticks\":\"\"}}],\"histogram2d\":[{\"type\":\"histogram2d\",\"colorbar\":{\"outlinewidth\":0,\"ticks\":\"\"},\"colorscale\":[[0.0,\"#0d0887\"],[0.1111111111111111,\"#46039f\"],[0.2222222222222222,\"#7201a8\"],[0.3333333333333333,\"#9c179e\"],[0.4444444444444444,\"#bd3786\"],[0.5555555555555556,\"#d8576b\"],[0.6666666666666666,\"#ed7953\"],[0.7777777777777778,\"#fb9f3a\"],[0.8888888888888888,\"#fdca26\"],[1.0,\"#f0f921\"]]}],\"heatmap\":[{\"type\":\"heatmap\",\"colorbar\":{\"outlinewidth\":0,\"ticks\":\"\"},\"colorscale\":[[0.0,\"#0d0887\"],[0.1111111111111111,\"#46039f\"],[0.2222222222222222,\"#7201a8\"],[0.3333333333333333,\"#9c179e\"],[0.4444444444444444,\"#bd3786\"],[0.5555555555555556,\"#d8576b\"],[0.6666666666666666,\"#ed7953\"],[0.7777777777777778,\"#fb9f3a\"],[0.8888888888888888,\"#fdca26\"],[1.0,\"#f0f921\"]]}],\"heatmapgl\":[{\"type\":\"heatmapgl\",\"colorbar\":{\"outlinewidth\":0,\"ticks\":\"\"},\"colorscale\":[[0.0,\"#0d0887\"],[0.1111111111111111,\"#46039f\"],[0.2222222222222222,\"#7201a8\"],[0.3333333333333333,\"#9c179e\"],[0.4444444444444444,\"#bd3786\"],[0.5555555555555556,\"#d8576b\"],[0.6666666666666666,\"#ed7953\"],[0.7777777777777778,\"#fb9f3a\"],[0.8888888888888888,\"#fdca26\"],[1.0,\"#f0f921\"]]}],\"contourcarpet\":[{\"type\":\"contourcarpet\",\"colorbar\":{\"outlinewidth\":0,\"ticks\":\"\"}}],\"contour\":[{\"type\":\"contour\",\"colorbar\":{\"outlinewidth\":0,\"ticks\":\"\"},\"colorscale\":[[0.0,\"#0d0887\"],[0.1111111111111111,\"#46039f\"],[0.2222222222222222,\"#7201a8\"],[0.3333333333333333,\"#9c179e\"],[0.4444444444444444,\"#bd3786\"],[0.5555555555555556,\"#d8576b\"],[0.6666666666666666,\"#ed7953\"],[0.7777777777777778,\"#fb9f3a\"],[0.8888888888888888,\"#fdca26\"],[1.0,\"#f0f921\"]]}],\"surface\":[{\"type\":\"surface\",\"colorbar\":{\"outlinewidth\":0,\"ticks\":\"\"},\"colorscale\":[[0.0,\"#0d0887\"],[0.1111111111111111,\"#46039f\"],[0.2222222222222222,\"#7201a8\"],[0.3333333333333333,\"#9c179e\"],[0.4444444444444444,\"#bd3786\"],[0.5555555555555556,\"#d8576b\"],[0.6666666666666666,\"#ed7953\"],[0.7777777777777778,\"#fb9f3a\"],[0.8888888888888888,\"#fdca26\"],[1.0,\"#f0f921\"]]}],\"mesh3d\":[{\"type\":\"mesh3d\",\"colorbar\":{\"outlinewidth\":0,\"ticks\":\"\"}}],\"scatter\":[{\"fillpattern\":{\"fillmode\":\"overlay\",\"size\":10,\"solidity\":0.2},\"type\":\"scatter\"}],\"parcoords\":[{\"type\":\"parcoords\",\"line\":{\"colorbar\":{\"outlinewidth\":0,\"ticks\":\"\"}}}],\"scatterpolargl\":[{\"type\":\"scatterpolargl\",\"marker\":{\"colorbar\":{\"outlinewidth\":0,\"ticks\":\"\"}}}],\"bar\":[{\"error_x\":{\"color\":\"#2a3f5f\"},\"error_y\":{\"color\":\"#2a3f5f\"},\"marker\":{\"line\":{\"color\":\"#E5ECF6\",\"width\":0.5},\"pattern\":{\"fillmode\":\"overlay\",\"size\":10,\"solidity\":0.2}},\"type\":\"bar\"}],\"scattergeo\":[{\"type\":\"scattergeo\",\"marker\":{\"colorbar\":{\"outlinewidth\":0,\"ticks\":\"\"}}}],\"scatterpolar\":[{\"type\":\"scatterpolar\",\"marker\":{\"colorbar\":{\"outlinewidth\":0,\"ticks\":\"\"}}}],\"histogram\":[{\"marker\":{\"pattern\":{\"fillmode\":\"overlay\",\"size\":10,\"solidity\":0.2}},\"type\":\"histogram\"}],\"scattergl\":[{\"type\":\"scattergl\",\"marker\":{\"colorbar\":{\"outlinewidth\":0,\"ticks\":\"\"}}}],\"scatter3d\":[{\"type\":\"scatter3d\",\"line\":{\"colorbar\":{\"outlinewidth\":0,\"ticks\":\"\"}},\"marker\":{\"colorbar\":{\"outlinewidth\":0,\"ticks\":\"\"}}}],\"scattermapbox\":[{\"type\":\"scattermapbox\",\"marker\":{\"colorbar\":{\"outlinewidth\":0,\"ticks\":\"\"}}}],\"scatterternary\":[{\"type\":\"scatterternary\",\"marker\":{\"colorbar\":{\"outlinewidth\":0,\"ticks\":\"\"}}}],\"scattercarpet\":[{\"type\":\"scattercarpet\",\"marker\":{\"colorbar\":{\"outlinewidth\":0,\"ticks\":\"\"}}}],\"carpet\":[{\"aaxis\":{\"endlinecolor\":\"#2a3f5f\",\"gridcolor\":\"white\",\"linecolor\":\"white\",\"minorgridcolor\":\"white\",\"startlinecolor\":\"#2a3f5f\"},\"baxis\":{\"endlinecolor\":\"#2a3f5f\",\"gridcolor\":\"white\",\"linecolor\":\"white\",\"minorgridcolor\":\"white\",\"startlinecolor\":\"#2a3f5f\"},\"type\":\"carpet\"}],\"table\":[{\"cells\":{\"fill\":{\"color\":\"#EBF0F8\"},\"line\":{\"color\":\"white\"}},\"header\":{\"fill\":{\"color\":\"#C8D4E3\"},\"line\":{\"color\":\"white\"}},\"type\":\"table\"}],\"barpolar\":[{\"marker\":{\"line\":{\"color\":\"#E5ECF6\",\"width\":0.5},\"pattern\":{\"fillmode\":\"overlay\",\"size\":10,\"solidity\":0.2}},\"type\":\"barpolar\"}],\"pie\":[{\"automargin\":true,\"type\":\"pie\"}]},\"layout\":{\"autotypenumbers\":\"strict\",\"colorway\":[\"#636efa\",\"#EF553B\",\"#00cc96\",\"#ab63fa\",\"#FFA15A\",\"#19d3f3\",\"#FF6692\",\"#B6E880\",\"#FF97FF\",\"#FECB52\"],\"font\":{\"color\":\"#2a3f5f\"},\"hovermode\":\"closest\",\"hoverlabel\":{\"align\":\"left\"},\"paper_bgcolor\":\"white\",\"plot_bgcolor\":\"#E5ECF6\",\"polar\":{\"bgcolor\":\"#E5ECF6\",\"angularaxis\":{\"gridcolor\":\"white\",\"linecolor\":\"white\",\"ticks\":\"\"},\"radialaxis\":{\"gridcolor\":\"white\",\"linecolor\":\"white\",\"ticks\":\"\"}},\"ternary\":{\"bgcolor\":\"#E5ECF6\",\"aaxis\":{\"gridcolor\":\"white\",\"linecolor\":\"white\",\"ticks\":\"\"},\"baxis\":{\"gridcolor\":\"white\",\"linecolor\":\"white\",\"ticks\":\"\"},\"caxis\":{\"gridcolor\":\"white\",\"linecolor\":\"white\",\"ticks\":\"\"}},\"coloraxis\":{\"colorbar\":{\"outlinewidth\":0,\"ticks\":\"\"}},\"colorscale\":{\"sequential\":[[0.0,\"#0d0887\"],[0.1111111111111111,\"#46039f\"],[0.2222222222222222,\"#7201a8\"],[0.3333333333333333,\"#9c179e\"],[0.4444444444444444,\"#bd3786\"],[0.5555555555555556,\"#d8576b\"],[0.6666666666666666,\"#ed7953\"],[0.7777777777777778,\"#fb9f3a\"],[0.8888888888888888,\"#fdca26\"],[1.0,\"#f0f921\"]],\"sequentialminus\":[[0.0,\"#0d0887\"],[0.1111111111111111,\"#46039f\"],[0.2222222222222222,\"#7201a8\"],[0.3333333333333333,\"#9c179e\"],[0.4444444444444444,\"#bd3786\"],[0.5555555555555556,\"#d8576b\"],[0.6666666666666666,\"#ed7953\"],[0.7777777777777778,\"#fb9f3a\"],[0.8888888888888888,\"#fdca26\"],[1.0,\"#f0f921\"]],\"diverging\":[[0,\"#8e0152\"],[0.1,\"#c51b7d\"],[0.2,\"#de77ae\"],[0.3,\"#f1b6da\"],[0.4,\"#fde0ef\"],[0.5,\"#f7f7f7\"],[0.6,\"#e6f5d0\"],[0.7,\"#b8e186\"],[0.8,\"#7fbc41\"],[0.9,\"#4d9221\"],[1,\"#276419\"]]},\"xaxis\":{\"gridcolor\":\"white\",\"linecolor\":\"white\",\"ticks\":\"\",\"title\":{\"standoff\":15},\"zerolinecolor\":\"white\",\"automargin\":true,\"zerolinewidth\":2},\"yaxis\":{\"gridcolor\":\"white\",\"linecolor\":\"white\",\"ticks\":\"\",\"title\":{\"standoff\":15},\"zerolinecolor\":\"white\",\"automargin\":true,\"zerolinewidth\":2},\"scene\":{\"xaxis\":{\"backgroundcolor\":\"#E5ECF6\",\"gridcolor\":\"white\",\"linecolor\":\"white\",\"showbackground\":true,\"ticks\":\"\",\"zerolinecolor\":\"white\",\"gridwidth\":2},\"yaxis\":{\"backgroundcolor\":\"#E5ECF6\",\"gridcolor\":\"white\",\"linecolor\":\"white\",\"showbackground\":true,\"ticks\":\"\",\"zerolinecolor\":\"white\",\"gridwidth\":2},\"zaxis\":{\"backgroundcolor\":\"#E5ECF6\",\"gridcolor\":\"white\",\"linecolor\":\"white\",\"showbackground\":true,\"ticks\":\"\",\"zerolinecolor\":\"white\",\"gridwidth\":2}},\"shapedefaults\":{\"line\":{\"color\":\"#2a3f5f\"}},\"annotationdefaults\":{\"arrowcolor\":\"#2a3f5f\",\"arrowhead\":0,\"arrowwidth\":1},\"geo\":{\"bgcolor\":\"white\",\"landcolor\":\"#E5ECF6\",\"subunitcolor\":\"white\",\"showland\":true,\"showlakes\":true,\"lakecolor\":\"white\"},\"title\":{\"x\":0.05},\"mapbox\":{\"style\":\"light\"}}},\"xaxis\":{\"anchor\":\"y\",\"domain\":[0.0,1.0],\"title\":{\"text\":\"Day\"},\"categoryorder\":\"array\",\"categoryarray\":[\"Thur\",\"Fri\",\"Sat\",\"Sun\"]},\"yaxis\":{\"anchor\":\"x\",\"domain\":[0.0,1.0],\"title\":{\"text\":\"Total Bill\"}},\"legend\":{\"title\":{\"text\":\"sex\"},\"tracegroupgap\":0},\"title\":{\"text\":\"Box Plot of Total Bill by Day and Sex\"},\"boxmode\":\"group\"},                        {\"responsive\": true}                    ).then(function(){\n",
       "                            \n",
       "var gd = document.getElementById('d2496fa2-e8a6-4616-9d80-203b85407cda');\n",
       "var x = new MutationObserver(function (mutations, observer) {{\n",
       "        var display = window.getComputedStyle(gd).display;\n",
       "        if (!display || display === 'none') {{\n",
       "            console.log([gd, 'removed!']);\n",
       "            Plotly.purge(gd);\n",
       "            observer.disconnect();\n",
       "        }}\n",
       "}});\n",
       "\n",
       "// Listen for the removal of the full notebook cells\n",
       "var notebookContainer = gd.closest('#notebook-container');\n",
       "if (notebookContainer) {{\n",
       "    x.observe(notebookContainer, {childList: true});\n",
       "}}\n",
       "\n",
       "// Listen for the clearing of the current output cell\n",
       "var outputEl = gd.closest('.output');\n",
       "if (outputEl) {{\n",
       "    x.observe(outputEl, {childList: true});\n",
       "}}\n",
       "\n",
       "                        })                };                });            </script>        </div>"
      ]
     },
     "metadata": {},
     "output_type": "display_data"
    }
   ],
   "source": [
    "# Plotly Express provides a wide range of high-level functions to create interactive visualizations. To plot a box plot using the \"tips\" dataset in Plotly Express, you'll first need to import the Plotly library and load the \"tips\" dataset. Then, you can use Plotly Express to create the box plot.\n",
    "\n",
    "# Please make sure you have Plotly installed. If you don't have it, you can install it using the following command:\n",
    "\n",
    "# Here's how you can create the box plot:\n",
    "\n",
    "import plotly.express as px\n",
    "\n",
    "# Load the \"tips\" dataset\n",
    "tips_data = px.data.tips()\n",
    "\n",
    "# Create a box plot using Plotly Express\n",
    "fig = px.box(tips_data, x='day', y='total_bill', color='sex', title='Box Plot of Total Bill by Day and Sex',\n",
    "             labels={'day': 'Day', 'total_bill': 'Total Bill'},\n",
    "             category_orders={'day': ['Thur', 'Fri', 'Sat', 'Sun']},\n",
    "             points='all', # 'all' shows individual data points; False shows only whiskers and box\n",
    "             hover_data=['size', 'tip'])\n",
    "\n",
    "# Show the plot\n",
    "fig.show()\n",
    "\n",
    "# In this code, we used px.box from Plotly Express to create the box plot. The x and y parameters are set to 'day' and 'total_bill', respectively, to specify the columns for the x-axis and y-axis of the box plot. The color parameter is set to 'sex' to differentiate the boxes by the 'sex' column.\n",
    "\n",
    "# The labels parameter is used to provide custom labels for the x and y axes. The title parameter sets the title of the plot. The category_orders parameter is used to set the order of the 'day' categories for better control of the x-axis labels.\n",
    "\n",
    "# The points parameter is set to 'all' to show individual data points along with the boxes. If you set it to False, only the whiskers and box will be shown without individual data points.\n",
    "\n",
    "# The hover_data parameter allows you to include additional columns in the tooltip that will appear when you hover over each box.\n",
    "\n",
    "# Running this code will create an interactive box plot showing the distribution of total bills by day and sex in the \"tips\" dataset. Each box represents the data distribution for a specific day and sex combination, and individual data points are displayed along with the boxes for further exploration."
   ]
  },
  {
   "cell_type": "markdown",
   "id": "10af17d3-a024-46c9-ab04-3fc6825be8e0",
   "metadata": {},
   "source": [
    "### Question3"
   ]
  },
  {
   "cell_type": "code",
   "execution_count": 12,
   "id": "2fd655db-1284-46d6-9123-6b253447eddf",
   "metadata": {},
   "outputs": [
    {
     "data": {
      "application/vnd.plotly.v1+json": {
       "config": {
        "plotlyServerURL": "https://plot.ly"
       },
       "data": [
        {
         "alignmentgroup": "True",
         "bingroup": "x",
         "histfunc": "sum",
         "hovertemplate": "day=Thur<br>smoker=No<br>Sex=%{x}<br>sum of Total Bill=%{y}<extra></extra>",
         "legendgroup": "Thur, No",
         "marker": {
          "color": "#636efa",
          "pattern": {
           "shape": ""
          }
         },
         "name": "Thur, No",
         "nbinsx": 20,
         "offsetgroup": "Thur, No",
         "orientation": "v",
         "showlegend": true,
         "type": "histogram",
         "x": [
          "Male",
          "Male",
          "Male",
          "Male",
          "Female",
          "Male",
          "Female",
          "Male",
          "Male",
          "Male",
          "Male",
          "Female",
          "Female",
          "Female",
          "Male",
          "Female",
          "Male",
          "Male",
          "Female",
          "Female",
          "Male",
          "Female",
          "Female",
          "Male",
          "Male",
          "Female",
          "Female",
          "Female",
          "Female",
          "Female",
          "Female",
          "Female",
          "Female",
          "Female",
          "Male",
          "Male",
          "Female",
          "Female",
          "Female",
          "Female",
          "Female",
          "Male",
          "Male",
          "Male",
          "Female"
         ],
         "xaxis": "x",
         "y": [
          27.2,
          22.76,
          17.29,
          16.66,
          10.07,
          15.98,
          34.83,
          13.03,
          18.28,
          24.71,
          21.16,
          10.65,
          12.43,
          24.08,
          11.69,
          13.42,
          14.26,
          15.95,
          12.48,
          29.8,
          8.52,
          14.52,
          11.38,
          22.82,
          19.08,
          20.27,
          11.17,
          12.26,
          18.26,
          8.51,
          10.33,
          14.15,
          13.16,
          17.47,
          34.3,
          41.19,
          27.05,
          16.43,
          8.35,
          18.64,
          11.87,
          9.78,
          7.51,
          7.56,
          18.78
         ],
         "yaxis": "y"
        },
        {
         "alignmentgroup": "True",
         "bingroup": "x",
         "histfunc": "sum",
         "hovertemplate": "day=Thur<br>smoker=Yes<br>Sex=%{x}<br>sum of Total Bill=%{y}<extra></extra>",
         "legendgroup": "Thur, Yes",
         "marker": {
          "color": "#636efa",
          "pattern": {
           "shape": "/"
          }
         },
         "name": "Thur, Yes",
         "nbinsx": 20,
         "offsetgroup": "Thur, Yes",
         "orientation": "v",
         "showlegend": true,
         "type": "histogram",
         "x": [
          "Male",
          "Male",
          "Male",
          "Female",
          "Male",
          "Male",
          "Male",
          "Male",
          "Female",
          "Female",
          "Male",
          "Male",
          "Female",
          "Female",
          "Female",
          "Male",
          "Female"
         ],
         "xaxis": "x",
         "y": [
          19.44,
          32.68,
          16,
          19.81,
          28.44,
          15.48,
          16.58,
          10.34,
          43.11,
          13,
          13.51,
          18.71,
          12.74,
          13,
          16.4,
          20.53,
          16.47
         ],
         "yaxis": "y"
        },
        {
         "alignmentgroup": "True",
         "bingroup": "x",
         "histfunc": "sum",
         "hovertemplate": "day=Fri<br>smoker=No<br>Sex=%{x}<br>sum of Total Bill=%{y}<extra></extra>",
         "legendgroup": "Fri, No",
         "marker": {
          "color": "#EF553B",
          "pattern": {
           "shape": ""
          }
         },
         "name": "Fri, No",
         "nbinsx": 20,
         "offsetgroup": "Fri, No",
         "orientation": "v",
         "showlegend": true,
         "type": "histogram",
         "x": [
          "Male",
          "Female",
          "Male",
          "Female"
         ],
         "xaxis": "x",
         "y": [
          22.49,
          22.75,
          12.46,
          15.98
         ],
         "yaxis": "y"
        },
        {
         "alignmentgroup": "True",
         "bingroup": "x",
         "histfunc": "sum",
         "hovertemplate": "day=Fri<br>smoker=Yes<br>Sex=%{x}<br>sum of Total Bill=%{y}<extra></extra>",
         "legendgroup": "Fri, Yes",
         "marker": {
          "color": "#EF553B",
          "pattern": {
           "shape": "/"
          }
         },
         "name": "Fri, Yes",
         "nbinsx": 20,
         "offsetgroup": "Fri, Yes",
         "orientation": "v",
         "showlegend": true,
         "type": "histogram",
         "x": [
          "Male",
          "Female",
          "Female",
          "Male",
          "Male",
          "Male",
          "Male",
          "Female",
          "Female",
          "Male",
          "Female",
          "Male",
          "Male",
          "Female",
          "Female"
         ],
         "xaxis": "x",
         "y": [
          28.97,
          5.75,
          16.32,
          40.17,
          27.28,
          12.03,
          21.01,
          11.35,
          15.38,
          12.16,
          13.42,
          8.58,
          13.42,
          16.27,
          10.09
         ],
         "yaxis": "y"
        },
        {
         "alignmentgroup": "True",
         "bingroup": "x",
         "histfunc": "sum",
         "hovertemplate": "day=Sat<br>smoker=No<br>Sex=%{x}<br>sum of Total Bill=%{y}<extra></extra>",
         "legendgroup": "Sat, No",
         "marker": {
          "color": "#00cc96",
          "pattern": {
           "shape": ""
          }
         },
         "name": "Sat, No",
         "nbinsx": 20,
         "offsetgroup": "Sat, No",
         "orientation": "v",
         "showlegend": true,
         "type": "histogram",
         "x": [
          "Male",
          "Male",
          "Female",
          "Female",
          "Male",
          "Male",
          "Male",
          "Male",
          "Male",
          "Male",
          "Female",
          "Male",
          "Male",
          "Female",
          "Female",
          "Male",
          "Male",
          "Male",
          "Female",
          "Male",
          "Male",
          "Male",
          "Female",
          "Male",
          "Male",
          "Male",
          "Female",
          "Male",
          "Male",
          "Female",
          "Female",
          "Male",
          "Female",
          "Male",
          "Male",
          "Female",
          "Male",
          "Male",
          "Male",
          "Male",
          "Male",
          "Male",
          "Female",
          "Male",
          "Male"
         ],
         "xaxis": "x",
         "y": [
          20.65,
          17.92,
          20.29,
          15.77,
          39.42,
          19.82,
          17.81,
          13.37,
          12.69,
          21.7,
          19.65,
          9.55,
          18.35,
          15.06,
          20.69,
          17.78,
          24.06,
          16.31,
          16.93,
          18.69,
          31.27,
          16.04,
          26.41,
          48.27,
          17.59,
          20.08,
          16.45,
          20.23,
          12.02,
          17.07,
          14.73,
          10.51,
          20.92,
          18.24,
          14,
          7.25,
          48.33,
          20.45,
          13.28,
          11.61,
          10.77,
          10.07,
          35.83,
          29.03,
          17.82
         ],
         "yaxis": "y"
        },
        {
         "alignmentgroup": "True",
         "bingroup": "x",
         "histfunc": "sum",
         "hovertemplate": "day=Sat<br>smoker=Yes<br>Sex=%{x}<br>sum of Total Bill=%{y}<extra></extra>",
         "legendgroup": "Sat, Yes",
         "marker": {
          "color": "#00cc96",
          "pattern": {
           "shape": "/"
          }
         },
         "name": "Sat, Yes",
         "nbinsx": 20,
         "offsetgroup": "Sat, Yes",
         "orientation": "v",
         "showlegend": true,
         "type": "histogram",
         "x": [
          "Male",
          "Male",
          "Male",
          "Male",
          "Male",
          "Male",
          "Female",
          "Male",
          "Female",
          "Female",
          "Male",
          "Female",
          "Female",
          "Male",
          "Male",
          "Male",
          "Female",
          "Female",
          "Female",
          "Male",
          "Male",
          "Male",
          "Male",
          "Male",
          "Female",
          "Male",
          "Male",
          "Female",
          "Female",
          "Female",
          "Male",
          "Male",
          "Male",
          "Female",
          "Female",
          "Male",
          "Male",
          "Male",
          "Male",
          "Male",
          "Female",
          "Male"
         ],
         "xaxis": "x",
         "y": [
          38.01,
          11.24,
          20.29,
          13.81,
          11.02,
          18.29,
          3.07,
          15.01,
          26.86,
          25.28,
          17.92,
          44.3,
          22.42,
          15.36,
          20.49,
          25.21,
          14.31,
          10.59,
          10.63,
          50.81,
          15.81,
          26.59,
          38.73,
          24.27,
          12.76,
          30.06,
          25.89,
          13.27,
          28.17,
          12.9,
          28.15,
          11.59,
          7.74,
          30.14,
          22.12,
          24.01,
          15.69,
          15.53,
          12.6,
          32.83,
          27.18,
          22.67
         ],
         "yaxis": "y"
        },
        {
         "alignmentgroup": "True",
         "bingroup": "x",
         "histfunc": "sum",
         "hovertemplate": "day=Sun<br>smoker=No<br>Sex=%{x}<br>sum of Total Bill=%{y}<extra></extra>",
         "legendgroup": "Sun, No",
         "marker": {
          "color": "#ab63fa",
          "pattern": {
           "shape": ""
          }
         },
         "name": "Sun, No",
         "nbinsx": 20,
         "offsetgroup": "Sun, No",
         "orientation": "v",
         "showlegend": true,
         "type": "histogram",
         "x": [
          "Female",
          "Male",
          "Male",
          "Male",
          "Female",
          "Male",
          "Male",
          "Male",
          "Male",
          "Male",
          "Male",
          "Female",
          "Male",
          "Male",
          "Female",
          "Male",
          "Female",
          "Male",
          "Female",
          "Male",
          "Male",
          "Male",
          "Male",
          "Male",
          "Male",
          "Male",
          "Male",
          "Male",
          "Male",
          "Female",
          "Female",
          "Male",
          "Male",
          "Male",
          "Male",
          "Male",
          "Female",
          "Female",
          "Male",
          "Male",
          "Male",
          "Male",
          "Male",
          "Male",
          "Female",
          "Male",
          "Female",
          "Female",
          "Male",
          "Male",
          "Male",
          "Female",
          "Male",
          "Male",
          "Male",
          "Male",
          "Male"
         ],
         "xaxis": "x",
         "y": [
          16.99,
          10.34,
          21.01,
          23.68,
          24.59,
          25.29,
          8.77,
          26.88,
          15.04,
          14.78,
          10.27,
          35.26,
          15.42,
          18.43,
          14.83,
          21.58,
          10.33,
          16.29,
          16.97,
          17.46,
          13.94,
          9.68,
          30.4,
          18.29,
          22.23,
          32.4,
          28.55,
          18.04,
          12.54,
          10.29,
          34.81,
          9.94,
          25.56,
          19.49,
          38.07,
          23.95,
          25.71,
          17.31,
          29.93,
          14.07,
          13.13,
          17.26,
          24.55,
          19.77,
          29.85,
          48.17,
          25,
          13.39,
          16.49,
          21.5,
          12.66,
          16.21,
          13.81,
          24.52,
          20.76,
          31.71,
          20.69
         ],
         "yaxis": "y"
        },
        {
         "alignmentgroup": "True",
         "bingroup": "x",
         "histfunc": "sum",
         "hovertemplate": "day=Sun<br>smoker=Yes<br>Sex=%{x}<br>sum of Total Bill=%{y}<extra></extra>",
         "legendgroup": "Sun, Yes",
         "marker": {
          "color": "#ab63fa",
          "pattern": {
           "shape": "/"
          }
         },
         "name": "Sun, Yes",
         "nbinsx": 20,
         "offsetgroup": "Sun, Yes",
         "orientation": "v",
         "showlegend": true,
         "type": "histogram",
         "x": [
          "Female",
          "Male",
          "Male",
          "Male",
          "Male",
          "Male",
          "Male",
          "Female",
          "Male",
          "Male",
          "Male",
          "Male",
          "Male",
          "Male",
          "Female",
          "Male",
          "Female",
          "Male",
          "Male"
         ],
         "xaxis": "x",
         "y": [
          17.51,
          7.25,
          31.85,
          16.82,
          32.9,
          17.89,
          14.48,
          9.6,
          34.63,
          34.65,
          23.33,
          45.35,
          23.17,
          40.55,
          20.9,
          30.46,
          18.15,
          23.1,
          15.69
         ],
         "yaxis": "y"
        }
       ],
       "layout": {
        "autosize": true,
        "barmode": "relative",
        "legend": {
         "title": {
          "text": "day, smoker"
         },
         "tracegroupgap": 0
        },
        "template": {
         "data": {
          "bar": [
           {
            "error_x": {
             "color": "#2a3f5f"
            },
            "error_y": {
             "color": "#2a3f5f"
            },
            "marker": {
             "line": {
              "color": "#E5ECF6",
              "width": 0.5
             },
             "pattern": {
              "fillmode": "overlay",
              "size": 10,
              "solidity": 0.2
             }
            },
            "type": "bar"
           }
          ],
          "barpolar": [
           {
            "marker": {
             "line": {
              "color": "#E5ECF6",
              "width": 0.5
             },
             "pattern": {
              "fillmode": "overlay",
              "size": 10,
              "solidity": 0.2
             }
            },
            "type": "barpolar"
           }
          ],
          "carpet": [
           {
            "aaxis": {
             "endlinecolor": "#2a3f5f",
             "gridcolor": "white",
             "linecolor": "white",
             "minorgridcolor": "white",
             "startlinecolor": "#2a3f5f"
            },
            "baxis": {
             "endlinecolor": "#2a3f5f",
             "gridcolor": "white",
             "linecolor": "white",
             "minorgridcolor": "white",
             "startlinecolor": "#2a3f5f"
            },
            "type": "carpet"
           }
          ],
          "choropleth": [
           {
            "colorbar": {
             "outlinewidth": 0,
             "ticks": ""
            },
            "type": "choropleth"
           }
          ],
          "contour": [
           {
            "colorbar": {
             "outlinewidth": 0,
             "ticks": ""
            },
            "colorscale": [
             [
              0,
              "#0d0887"
             ],
             [
              0.1111111111111111,
              "#46039f"
             ],
             [
              0.2222222222222222,
              "#7201a8"
             ],
             [
              0.3333333333333333,
              "#9c179e"
             ],
             [
              0.4444444444444444,
              "#bd3786"
             ],
             [
              0.5555555555555556,
              "#d8576b"
             ],
             [
              0.6666666666666666,
              "#ed7953"
             ],
             [
              0.7777777777777778,
              "#fb9f3a"
             ],
             [
              0.8888888888888888,
              "#fdca26"
             ],
             [
              1,
              "#f0f921"
             ]
            ],
            "type": "contour"
           }
          ],
          "contourcarpet": [
           {
            "colorbar": {
             "outlinewidth": 0,
             "ticks": ""
            },
            "type": "contourcarpet"
           }
          ],
          "heatmap": [
           {
            "colorbar": {
             "outlinewidth": 0,
             "ticks": ""
            },
            "colorscale": [
             [
              0,
              "#0d0887"
             ],
             [
              0.1111111111111111,
              "#46039f"
             ],
             [
              0.2222222222222222,
              "#7201a8"
             ],
             [
              0.3333333333333333,
              "#9c179e"
             ],
             [
              0.4444444444444444,
              "#bd3786"
             ],
             [
              0.5555555555555556,
              "#d8576b"
             ],
             [
              0.6666666666666666,
              "#ed7953"
             ],
             [
              0.7777777777777778,
              "#fb9f3a"
             ],
             [
              0.8888888888888888,
              "#fdca26"
             ],
             [
              1,
              "#f0f921"
             ]
            ],
            "type": "heatmap"
           }
          ],
          "heatmapgl": [
           {
            "colorbar": {
             "outlinewidth": 0,
             "ticks": ""
            },
            "colorscale": [
             [
              0,
              "#0d0887"
             ],
             [
              0.1111111111111111,
              "#46039f"
             ],
             [
              0.2222222222222222,
              "#7201a8"
             ],
             [
              0.3333333333333333,
              "#9c179e"
             ],
             [
              0.4444444444444444,
              "#bd3786"
             ],
             [
              0.5555555555555556,
              "#d8576b"
             ],
             [
              0.6666666666666666,
              "#ed7953"
             ],
             [
              0.7777777777777778,
              "#fb9f3a"
             ],
             [
              0.8888888888888888,
              "#fdca26"
             ],
             [
              1,
              "#f0f921"
             ]
            ],
            "type": "heatmapgl"
           }
          ],
          "histogram": [
           {
            "marker": {
             "pattern": {
              "fillmode": "overlay",
              "size": 10,
              "solidity": 0.2
             }
            },
            "type": "histogram"
           }
          ],
          "histogram2d": [
           {
            "colorbar": {
             "outlinewidth": 0,
             "ticks": ""
            },
            "colorscale": [
             [
              0,
              "#0d0887"
             ],
             [
              0.1111111111111111,
              "#46039f"
             ],
             [
              0.2222222222222222,
              "#7201a8"
             ],
             [
              0.3333333333333333,
              "#9c179e"
             ],
             [
              0.4444444444444444,
              "#bd3786"
             ],
             [
              0.5555555555555556,
              "#d8576b"
             ],
             [
              0.6666666666666666,
              "#ed7953"
             ],
             [
              0.7777777777777778,
              "#fb9f3a"
             ],
             [
              0.8888888888888888,
              "#fdca26"
             ],
             [
              1,
              "#f0f921"
             ]
            ],
            "type": "histogram2d"
           }
          ],
          "histogram2dcontour": [
           {
            "colorbar": {
             "outlinewidth": 0,
             "ticks": ""
            },
            "colorscale": [
             [
              0,
              "#0d0887"
             ],
             [
              0.1111111111111111,
              "#46039f"
             ],
             [
              0.2222222222222222,
              "#7201a8"
             ],
             [
              0.3333333333333333,
              "#9c179e"
             ],
             [
              0.4444444444444444,
              "#bd3786"
             ],
             [
              0.5555555555555556,
              "#d8576b"
             ],
             [
              0.6666666666666666,
              "#ed7953"
             ],
             [
              0.7777777777777778,
              "#fb9f3a"
             ],
             [
              0.8888888888888888,
              "#fdca26"
             ],
             [
              1,
              "#f0f921"
             ]
            ],
            "type": "histogram2dcontour"
           }
          ],
          "mesh3d": [
           {
            "colorbar": {
             "outlinewidth": 0,
             "ticks": ""
            },
            "type": "mesh3d"
           }
          ],
          "parcoords": [
           {
            "line": {
             "colorbar": {
              "outlinewidth": 0,
              "ticks": ""
             }
            },
            "type": "parcoords"
           }
          ],
          "pie": [
           {
            "automargin": true,
            "type": "pie"
           }
          ],
          "scatter": [
           {
            "fillpattern": {
             "fillmode": "overlay",
             "size": 10,
             "solidity": 0.2
            },
            "type": "scatter"
           }
          ],
          "scatter3d": [
           {
            "line": {
             "colorbar": {
              "outlinewidth": 0,
              "ticks": ""
             }
            },
            "marker": {
             "colorbar": {
              "outlinewidth": 0,
              "ticks": ""
             }
            },
            "type": "scatter3d"
           }
          ],
          "scattercarpet": [
           {
            "marker": {
             "colorbar": {
              "outlinewidth": 0,
              "ticks": ""
             }
            },
            "type": "scattercarpet"
           }
          ],
          "scattergeo": [
           {
            "marker": {
             "colorbar": {
              "outlinewidth": 0,
              "ticks": ""
             }
            },
            "type": "scattergeo"
           }
          ],
          "scattergl": [
           {
            "marker": {
             "colorbar": {
              "outlinewidth": 0,
              "ticks": ""
             }
            },
            "type": "scattergl"
           }
          ],
          "scattermapbox": [
           {
            "marker": {
             "colorbar": {
              "outlinewidth": 0,
              "ticks": ""
             }
            },
            "type": "scattermapbox"
           }
          ],
          "scatterpolar": [
           {
            "marker": {
             "colorbar": {
              "outlinewidth": 0,
              "ticks": ""
             }
            },
            "type": "scatterpolar"
           }
          ],
          "scatterpolargl": [
           {
            "marker": {
             "colorbar": {
              "outlinewidth": 0,
              "ticks": ""
             }
            },
            "type": "scatterpolargl"
           }
          ],
          "scatterternary": [
           {
            "marker": {
             "colorbar": {
              "outlinewidth": 0,
              "ticks": ""
             }
            },
            "type": "scatterternary"
           }
          ],
          "surface": [
           {
            "colorbar": {
             "outlinewidth": 0,
             "ticks": ""
            },
            "colorscale": [
             [
              0,
              "#0d0887"
             ],
             [
              0.1111111111111111,
              "#46039f"
             ],
             [
              0.2222222222222222,
              "#7201a8"
             ],
             [
              0.3333333333333333,
              "#9c179e"
             ],
             [
              0.4444444444444444,
              "#bd3786"
             ],
             [
              0.5555555555555556,
              "#d8576b"
             ],
             [
              0.6666666666666666,
              "#ed7953"
             ],
             [
              0.7777777777777778,
              "#fb9f3a"
             ],
             [
              0.8888888888888888,
              "#fdca26"
             ],
             [
              1,
              "#f0f921"
             ]
            ],
            "type": "surface"
           }
          ],
          "table": [
           {
            "cells": {
             "fill": {
              "color": "#EBF0F8"
             },
             "line": {
              "color": "white"
             }
            },
            "header": {
             "fill": {
              "color": "#C8D4E3"
             },
             "line": {
              "color": "white"
             }
            },
            "type": "table"
           }
          ]
         },
         "layout": {
          "annotationdefaults": {
           "arrowcolor": "#2a3f5f",
           "arrowhead": 0,
           "arrowwidth": 1
          },
          "autotypenumbers": "strict",
          "coloraxis": {
           "colorbar": {
            "outlinewidth": 0,
            "ticks": ""
           }
          },
          "colorscale": {
           "diverging": [
            [
             0,
             "#8e0152"
            ],
            [
             0.1,
             "#c51b7d"
            ],
            [
             0.2,
             "#de77ae"
            ],
            [
             0.3,
             "#f1b6da"
            ],
            [
             0.4,
             "#fde0ef"
            ],
            [
             0.5,
             "#f7f7f7"
            ],
            [
             0.6,
             "#e6f5d0"
            ],
            [
             0.7,
             "#b8e186"
            ],
            [
             0.8,
             "#7fbc41"
            ],
            [
             0.9,
             "#4d9221"
            ],
            [
             1,
             "#276419"
            ]
           ],
           "sequential": [
            [
             0,
             "#0d0887"
            ],
            [
             0.1111111111111111,
             "#46039f"
            ],
            [
             0.2222222222222222,
             "#7201a8"
            ],
            [
             0.3333333333333333,
             "#9c179e"
            ],
            [
             0.4444444444444444,
             "#bd3786"
            ],
            [
             0.5555555555555556,
             "#d8576b"
            ],
            [
             0.6666666666666666,
             "#ed7953"
            ],
            [
             0.7777777777777778,
             "#fb9f3a"
            ],
            [
             0.8888888888888888,
             "#fdca26"
            ],
            [
             1,
             "#f0f921"
            ]
           ],
           "sequentialminus": [
            [
             0,
             "#0d0887"
            ],
            [
             0.1111111111111111,
             "#46039f"
            ],
            [
             0.2222222222222222,
             "#7201a8"
            ],
            [
             0.3333333333333333,
             "#9c179e"
            ],
            [
             0.4444444444444444,
             "#bd3786"
            ],
            [
             0.5555555555555556,
             "#d8576b"
            ],
            [
             0.6666666666666666,
             "#ed7953"
            ],
            [
             0.7777777777777778,
             "#fb9f3a"
            ],
            [
             0.8888888888888888,
             "#fdca26"
            ],
            [
             1,
             "#f0f921"
            ]
           ]
          },
          "colorway": [
           "#636efa",
           "#EF553B",
           "#00cc96",
           "#ab63fa",
           "#FFA15A",
           "#19d3f3",
           "#FF6692",
           "#B6E880",
           "#FF97FF",
           "#FECB52"
          ],
          "font": {
           "color": "#2a3f5f"
          },
          "geo": {
           "bgcolor": "white",
           "lakecolor": "white",
           "landcolor": "#E5ECF6",
           "showlakes": true,
           "showland": true,
           "subunitcolor": "white"
          },
          "hoverlabel": {
           "align": "left"
          },
          "hovermode": "closest",
          "mapbox": {
           "style": "light"
          },
          "paper_bgcolor": "white",
          "plot_bgcolor": "#E5ECF6",
          "polar": {
           "angularaxis": {
            "gridcolor": "white",
            "linecolor": "white",
            "ticks": ""
           },
           "bgcolor": "#E5ECF6",
           "radialaxis": {
            "gridcolor": "white",
            "linecolor": "white",
            "ticks": ""
           }
          },
          "scene": {
           "xaxis": {
            "backgroundcolor": "#E5ECF6",
            "gridcolor": "white",
            "gridwidth": 2,
            "linecolor": "white",
            "showbackground": true,
            "ticks": "",
            "zerolinecolor": "white"
           },
           "yaxis": {
            "backgroundcolor": "#E5ECF6",
            "gridcolor": "white",
            "gridwidth": 2,
            "linecolor": "white",
            "showbackground": true,
            "ticks": "",
            "zerolinecolor": "white"
           },
           "zaxis": {
            "backgroundcolor": "#E5ECF6",
            "gridcolor": "white",
            "gridwidth": 2,
            "linecolor": "white",
            "showbackground": true,
            "ticks": "",
            "zerolinecolor": "white"
           }
          },
          "shapedefaults": {
           "line": {
            "color": "#2a3f5f"
           }
          },
          "ternary": {
           "aaxis": {
            "gridcolor": "white",
            "linecolor": "white",
            "ticks": ""
           },
           "baxis": {
            "gridcolor": "white",
            "linecolor": "white",
            "ticks": ""
           },
           "bgcolor": "#E5ECF6",
           "caxis": {
            "gridcolor": "white",
            "linecolor": "white",
            "ticks": ""
           }
          },
          "title": {
           "x": 0.05
          },
          "xaxis": {
           "automargin": true,
           "gridcolor": "white",
           "linecolor": "white",
           "ticks": "",
           "title": {
            "standoff": 15
           },
           "zerolinecolor": "white",
           "zerolinewidth": 2
          },
          "yaxis": {
           "automargin": true,
           "gridcolor": "white",
           "linecolor": "white",
           "ticks": "",
           "title": {
            "standoff": 15
           },
           "zerolinecolor": "white",
           "zerolinewidth": 2
          }
         }
        },
        "title": {
         "text": "Histogram of Total Bill by Sex with Smoker Pattern and Day Color"
        },
        "xaxis": {
         "anchor": "y",
         "autorange": true,
         "domain": [
          0,
          1
         ],
         "range": [
          -0.5,
          1.5
         ],
         "title": {
          "text": "Sex"
         },
         "type": "category"
        },
        "yaxis": {
         "anchor": "x",
         "autorange": true,
         "domain": [
          0,
          1
         ],
         "range": [
          0,
          3428.2315789473687
         ],
         "title": {
          "text": "sum of Total Bill"
         },
         "type": "linear"
        }
       }
      },
      "image/png": "[encoded data removed]",
      "text/html": [
       "<div>                            <div id=\"26e4f8ab-ad6b-451e-9df5-a13ee2658067\" class=\"plotly-graph-div\" style=\"height:525px; width:100%;\"></div>            <script type=\"text/javascript\">                require([\"plotly\"], function(Plotly) {                    window.PLOTLYENV=window.PLOTLYENV || {};                                    if (document.getElementById(\"26e4f8ab-ad6b-451e-9df5-a13ee2658067\")) {                    Plotly.newPlot(                        \"26e4f8ab-ad6b-451e-9df5-a13ee2658067\",                        [{\"alignmentgroup\":\"True\",\"bingroup\":\"x\",\"histfunc\":\"sum\",\"hovertemplate\":\"day=Thur\\u003cbr\\u003esmoker=No\\u003cbr\\u003eSex=%{x}\\u003cbr\\u003esum of Total Bill=%{y}\\u003cextra\\u003e\\u003c\\u002fextra\\u003e\",\"legendgroup\":\"Thur, No\",\"marker\":{\"color\":\"#636efa\",\"pattern\":{\"shape\":\"\"}},\"name\":\"Thur, No\",\"nbinsx\":20,\"offsetgroup\":\"Thur, No\",\"orientation\":\"v\",\"showlegend\":true,\"x\":[\"Male\",\"Male\",\"Male\",\"Male\",\"Female\",\"Male\",\"Female\",\"Male\",\"Male\",\"Male\",\"Male\",\"Female\",\"Female\",\"Female\",\"Male\",\"Female\",\"Male\",\"Male\",\"Female\",\"Female\",\"Male\",\"Female\",\"Female\",\"Male\",\"Male\",\"Female\",\"Female\",\"Female\",\"Female\",\"Female\",\"Female\",\"Female\",\"Female\",\"Female\",\"Male\",\"Male\",\"Female\",\"Female\",\"Female\",\"Female\",\"Female\",\"Male\",\"Male\",\"Male\",\"Female\"],\"xaxis\":\"x\",\"y\":[27.2,22.76,17.29,16.66,10.07,15.98,34.83,13.03,18.28,24.71,21.16,10.65,12.43,24.08,11.69,13.42,14.26,15.95,12.48,29.8,8.52,14.52,11.38,22.82,19.08,20.27,11.17,12.26,18.26,8.51,10.33,14.15,13.16,17.47,34.3,41.19,27.05,16.43,8.35,18.64,11.87,9.78,7.51,7.56,18.78],\"yaxis\":\"y\",\"type\":\"histogram\"},{\"alignmentgroup\":\"True\",\"bingroup\":\"x\",\"histfunc\":\"sum\",\"hovertemplate\":\"day=Thur\\u003cbr\\u003esmoker=Yes\\u003cbr\\u003eSex=%{x}\\u003cbr\\u003esum of Total Bill=%{y}\\u003cextra\\u003e\\u003c\\u002fextra\\u003e\",\"legendgroup\":\"Thur, Yes\",\"marker\":{\"color\":\"#636efa\",\"pattern\":{\"shape\":\"\\u002f\"}},\"name\":\"Thur, Yes\",\"nbinsx\":20,\"offsetgroup\":\"Thur, Yes\",\"orientation\":\"v\",\"showlegend\":true,\"x\":[\"Male\",\"Male\",\"Male\",\"Female\",\"Male\",\"Male\",\"Male\",\"Male\",\"Female\",\"Female\",\"Male\",\"Male\",\"Female\",\"Female\",\"Female\",\"Male\",\"Female\"],\"xaxis\":\"x\",\"y\":[19.44,32.68,16.0,19.81,28.44,15.48,16.58,10.34,43.11,13.0,13.51,18.71,12.74,13.0,16.4,20.53,16.47],\"yaxis\":\"y\",\"type\":\"histogram\"},{\"alignmentgroup\":\"True\",\"bingroup\":\"x\",\"histfunc\":\"sum\",\"hovertemplate\":\"day=Fri\\u003cbr\\u003esmoker=No\\u003cbr\\u003eSex=%{x}\\u003cbr\\u003esum of Total Bill=%{y}\\u003cextra\\u003e\\u003c\\u002fextra\\u003e\",\"legendgroup\":\"Fri, No\",\"marker\":{\"color\":\"#EF553B\",\"pattern\":{\"shape\":\"\"}},\"name\":\"Fri, No\",\"nbinsx\":20,\"offsetgroup\":\"Fri, No\",\"orientation\":\"v\",\"showlegend\":true,\"x\":[\"Male\",\"Female\",\"Male\",\"Female\"],\"xaxis\":\"x\",\"y\":[22.49,22.75,12.46,15.98],\"yaxis\":\"y\",\"type\":\"histogram\"},{\"alignmentgroup\":\"True\",\"bingroup\":\"x\",\"histfunc\":\"sum\",\"hovertemplate\":\"day=Fri\\u003cbr\\u003esmoker=Yes\\u003cbr\\u003eSex=%{x}\\u003cbr\\u003esum of Total Bill=%{y}\\u003cextra\\u003e\\u003c\\u002fextra\\u003e\",\"legendgroup\":\"Fri, Yes\",\"marker\":{\"color\":\"#EF553B\",\"pattern\":{\"shape\":\"\\u002f\"}},\"name\":\"Fri, Yes\",\"nbinsx\":20,\"offsetgroup\":\"Fri, Yes\",\"orientation\":\"v\",\"showlegend\":true,\"x\":[\"Male\",\"Female\",\"Female\",\"Male\",\"Male\",\"Male\",\"Male\",\"Female\",\"Female\",\"Male\",\"Female\",\"Male\",\"Male\",\"Female\",\"Female\"],\"xaxis\":\"x\",\"y\":[28.97,5.75,16.32,40.17,27.28,12.03,21.01,11.35,15.38,12.16,13.42,8.58,13.42,16.27,10.09],\"yaxis\":\"y\",\"type\":\"histogram\"},{\"alignmentgroup\":\"True\",\"bingroup\":\"x\",\"histfunc\":\"sum\",\"hovertemplate\":\"day=Sat\\u003cbr\\u003esmoker=No\\u003cbr\\u003eSex=%{x}\\u003cbr\\u003esum of Total Bill=%{y}\\u003cextra\\u003e\\u003c\\u002fextra\\u003e\",\"legendgroup\":\"Sat, No\",\"marker\":{\"color\":\"#00cc96\",\"pattern\":{\"shape\":\"\"}},\"name\":\"Sat, No\",\"nbinsx\":20,\"offsetgroup\":\"Sat, No\",\"orientation\":\"v\",\"showlegend\":true,\"x\":[\"Male\",\"Male\",\"Female\",\"Female\",\"Male\",\"Male\",\"Male\",\"Male\",\"Male\",\"Male\",\"Female\",\"Male\",\"Male\",\"Female\",\"Female\",\"Male\",\"Male\",\"Male\",\"Female\",\"Male\",\"Male\",\"Male\",\"Female\",\"Male\",\"Male\",\"Male\",\"Female\",\"Male\",\"Male\",\"Female\",\"Female\",\"Male\",\"Female\",\"Male\",\"Male\",\"Female\",\"Male\",\"Male\",\"Male\",\"Male\",\"Male\",\"Male\",\"Female\",\"Male\",\"Male\"],\"xaxis\":\"x\",\"y\":[20.65,17.92,20.29,15.77,39.42,19.82,17.81,13.37,12.69,21.7,19.65,9.55,18.35,15.06,20.69,17.78,24.06,16.31,16.93,18.69,31.27,16.04,26.41,48.27,17.59,20.08,16.45,20.23,12.02,17.07,14.73,10.51,20.92,18.24,14.0,7.25,48.33,20.45,13.28,11.61,10.77,10.07,35.83,29.03,17.82],\"yaxis\":\"y\",\"type\":\"histogram\"},{\"alignmentgroup\":\"True\",\"bingroup\":\"x\",\"histfunc\":\"sum\",\"hovertemplate\":\"day=Sat\\u003cbr\\u003esmoker=Yes\\u003cbr\\u003eSex=%{x}\\u003cbr\\u003esum of Total Bill=%{y}\\u003cextra\\u003e\\u003c\\u002fextra\\u003e\",\"legendgroup\":\"Sat, Yes\",\"marker\":{\"color\":\"#00cc96\",\"pattern\":{\"shape\":\"\\u002f\"}},\"name\":\"Sat, Yes\",\"nbinsx\":20,\"offsetgroup\":\"Sat, Yes\",\"orientation\":\"v\",\"showlegend\":true,\"x\":[\"Male\",\"Male\",\"Male\",\"Male\",\"Male\",\"Male\",\"Female\",\"Male\",\"Female\",\"Female\",\"Male\",\"Female\",\"Female\",\"Male\",\"Male\",\"Male\",\"Female\",\"Female\",\"Female\",\"Male\",\"Male\",\"Male\",\"Male\",\"Male\",\"Female\",\"Male\",\"Male\",\"Female\",\"Female\",\"Female\",\"Male\",\"Male\",\"Male\",\"Female\",\"Female\",\"Male\",\"Male\",\"Male\",\"Male\",\"Male\",\"Female\",\"Male\"],\"xaxis\":\"x\",\"y\":[38.01,11.24,20.29,13.81,11.02,18.29,3.07,15.01,26.86,25.28,17.92,44.3,22.42,15.36,20.49,25.21,14.31,10.59,10.63,50.81,15.81,26.59,38.73,24.27,12.76,30.06,25.89,13.27,28.17,12.9,28.15,11.59,7.74,30.14,22.12,24.01,15.69,15.53,12.6,32.83,27.18,22.67],\"yaxis\":\"y\",\"type\":\"histogram\"},{\"alignmentgroup\":\"True\",\"bingroup\":\"x\",\"histfunc\":\"sum\",\"hovertemplate\":\"day=Sun\\u003cbr\\u003esmoker=No\\u003cbr\\u003eSex=%{x}\\u003cbr\\u003esum of Total Bill=%{y}\\u003cextra\\u003e\\u003c\\u002fextra\\u003e\",\"legendgroup\":\"Sun, No\",\"marker\":{\"color\":\"#ab63fa\",\"pattern\":{\"shape\":\"\"}},\"name\":\"Sun, No\",\"nbinsx\":20,\"offsetgroup\":\"Sun, No\",\"orientation\":\"v\",\"showlegend\":true,\"x\":[\"Female\",\"Male\",\"Male\",\"Male\",\"Female\",\"Male\",\"Male\",\"Male\",\"Male\",\"Male\",\"Male\",\"Female\",\"Male\",\"Male\",\"Female\",\"Male\",\"Female\",\"Male\",\"Female\",\"Male\",\"Male\",\"Male\",\"Male\",\"Male\",\"Male\",\"Male\",\"Male\",\"Male\",\"Male\",\"Female\",\"Female\",\"Male\",\"Male\",\"Male\",\"Male\",\"Male\",\"Female\",\"Female\",\"Male\",\"Male\",\"Male\",\"Male\",\"Male\",\"Male\",\"Female\",\"Male\",\"Female\",\"Female\",\"Male\",\"Male\",\"Male\",\"Female\",\"Male\",\"Male\",\"Male\",\"Male\",\"Male\"],\"xaxis\":\"x\",\"y\":[16.99,10.34,21.01,23.68,24.59,25.29,8.77,26.88,15.04,14.78,10.27,35.26,15.42,18.43,14.83,21.58,10.33,16.29,16.97,17.46,13.94,9.68,30.4,18.29,22.23,32.4,28.55,18.04,12.54,10.29,34.81,9.94,25.56,19.49,38.07,23.95,25.71,17.31,29.93,14.07,13.13,17.26,24.55,19.77,29.85,48.17,25.0,13.39,16.49,21.5,12.66,16.21,13.81,24.52,20.76,31.71,20.69],\"yaxis\":\"y\",\"type\":\"histogram\"},{\"alignmentgroup\":\"True\",\"bingroup\":\"x\",\"histfunc\":\"sum\",\"hovertemplate\":\"day=Sun\\u003cbr\\u003esmoker=Yes\\u003cbr\\u003eSex=%{x}\\u003cbr\\u003esum of Total Bill=%{y}\\u003cextra\\u003e\\u003c\\u002fextra\\u003e\",\"legendgroup\":\"Sun, Yes\",\"marker\":{\"color\":\"#ab63fa\",\"pattern\":{\"shape\":\"\\u002f\"}},\"name\":\"Sun, Yes\",\"nbinsx\":20,\"offsetgroup\":\"Sun, Yes\",\"orientation\":\"v\",\"showlegend\":true,\"x\":[\"Female\",\"Male\",\"Male\",\"Male\",\"Male\",\"Male\",\"Male\",\"Female\",\"Male\",\"Male\",\"Male\",\"Male\",\"Male\",\"Male\",\"Female\",\"Male\",\"Female\",\"Male\",\"Male\"],\"xaxis\":\"x\",\"y\":[17.51,7.25,31.85,16.82,32.9,17.89,14.48,9.6,34.63,34.65,23.33,45.35,23.17,40.55,20.9,30.46,18.15,23.1,15.69],\"yaxis\":\"y\",\"type\":\"histogram\"}],                        {\"template\":{\"data\":{\"histogram2dcontour\":[{\"type\":\"histogram2dcontour\",\"colorbar\":{\"outlinewidth\":0,\"ticks\":\"\"},\"colorscale\":[[0.0,\"#0d0887\"],[0.1111111111111111,\"#46039f\"],[0.2222222222222222,\"#7201a8\"],[0.3333333333333333,\"#9c179e\"],[0.4444444444444444,\"#bd3786\"],[0.5555555555555556,\"#d8576b\"],[0.6666666666666666,\"#ed7953\"],[0.7777777777777778,\"#fb9f3a\"],[0.8888888888888888,\"#fdca26\"],[1.0,\"#f0f921\"]]}],\"choropleth\":[{\"type\":\"choropleth\",\"colorbar\":{\"outlinewidth\":0,\"ticks\":\"\"}}],\"histogram2d\":[{\"type\":\"histogram2d\",\"colorbar\":{\"outlinewidth\":0,\"ticks\":\"\"},\"colorscale\":[[0.0,\"#0d0887\"],[0.1111111111111111,\"#46039f\"],[0.2222222222222222,\"#7201a8\"],[0.3333333333333333,\"#9c179e\"],[0.4444444444444444,\"#bd3786\"],[0.5555555555555556,\"#d8576b\"],[0.6666666666666666,\"#ed7953\"],[0.7777777777777778,\"#fb9f3a\"],[0.8888888888888888,\"#fdca26\"],[1.0,\"#f0f921\"]]}],\"heatmap\":[{\"type\":\"heatmap\",\"colorbar\":{\"outlinewidth\":0,\"ticks\":\"\"},\"colorscale\":[[0.0,\"#0d0887\"],[0.1111111111111111,\"#46039f\"],[0.2222222222222222,\"#7201a8\"],[0.3333333333333333,\"#9c179e\"],[0.4444444444444444,\"#bd3786\"],[0.5555555555555556,\"#d8576b\"],[0.6666666666666666,\"#ed7953\"],[0.7777777777777778,\"#fb9f3a\"],[0.8888888888888888,\"#fdca26\"],[1.0,\"#f0f921\"]]}],\"heatmapgl\":[{\"type\":\"heatmapgl\",\"colorbar\":{\"outlinewidth\":0,\"ticks\":\"\"},\"colorscale\":[[0.0,\"#0d0887\"],[0.1111111111111111,\"#46039f\"],[0.2222222222222222,\"#7201a8\"],[0.3333333333333333,\"#9c179e\"],[0.4444444444444444,\"#bd3786\"],[0.5555555555555556,\"#d8576b\"],[0.6666666666666666,\"#ed7953\"],[0.7777777777777778,\"#fb9f3a\"],[0.8888888888888888,\"#fdca26\"],[1.0,\"#f0f921\"]]}],\"contourcarpet\":[{\"type\":\"contourcarpet\",\"colorbar\":{\"outlinewidth\":0,\"ticks\":\"\"}}],\"contour\":[{\"type\":\"contour\",\"colorbar\":{\"outlinewidth\":0,\"ticks\":\"\"},\"colorscale\":[[0.0,\"#0d0887\"],[0.1111111111111111,\"#46039f\"],[0.2222222222222222,\"#7201a8\"],[0.3333333333333333,\"#9c179e\"],[0.4444444444444444,\"#bd3786\"],[0.5555555555555556,\"#d8576b\"],[0.6666666666666666,\"#ed7953\"],[0.7777777777777778,\"#fb9f3a\"],[0.8888888888888888,\"#fdca26\"],[1.0,\"#f0f921\"]]}],\"surface\":[{\"type\":\"surface\",\"colorbar\":{\"outlinewidth\":0,\"ticks\":\"\"},\"colorscale\":[[0.0,\"#0d0887\"],[0.1111111111111111,\"#46039f\"],[0.2222222222222222,\"#7201a8\"],[0.3333333333333333,\"#9c179e\"],[0.4444444444444444,\"#bd3786\"],[0.5555555555555556,\"#d8576b\"],[0.6666666666666666,\"#ed7953\"],[0.7777777777777778,\"#fb9f3a\"],[0.8888888888888888,\"#fdca26\"],[1.0,\"#f0f921\"]]}],\"mesh3d\":[{\"type\":\"mesh3d\",\"colorbar\":{\"outlinewidth\":0,\"ticks\":\"\"}}],\"scatter\":[{\"fillpattern\":{\"fillmode\":\"overlay\",\"size\":10,\"solidity\":0.2},\"type\":\"scatter\"}],\"parcoords\":[{\"type\":\"parcoords\",\"line\":{\"colorbar\":{\"outlinewidth\":0,\"ticks\":\"\"}}}],\"scatterpolargl\":[{\"type\":\"scatterpolargl\",\"marker\":{\"colorbar\":{\"outlinewidth\":0,\"ticks\":\"\"}}}],\"bar\":[{\"error_x\":{\"color\":\"#2a3f5f\"},\"error_y\":{\"color\":\"#2a3f5f\"},\"marker\":{\"line\":{\"color\":\"#E5ECF6\",\"width\":0.5},\"pattern\":{\"fillmode\":\"overlay\",\"size\":10,\"solidity\":0.2}},\"type\":\"bar\"}],\"scattergeo\":[{\"type\":\"scattergeo\",\"marker\":{\"colorbar\":{\"outlinewidth\":0,\"ticks\":\"\"}}}],\"scatterpolar\":[{\"type\":\"scatterpolar\",\"marker\":{\"colorbar\":{\"outlinewidth\":0,\"ticks\":\"\"}}}],\"histogram\":[{\"marker\":{\"pattern\":{\"fillmode\":\"overlay\",\"size\":10,\"solidity\":0.2}},\"type\":\"histogram\"}],\"scattergl\":[{\"type\":\"scattergl\",\"marker\":{\"colorbar\":{\"outlinewidth\":0,\"ticks\":\"\"}}}],\"scatter3d\":[{\"type\":\"scatter3d\",\"line\":{\"colorbar\":{\"outlinewidth\":0,\"ticks\":\"\"}},\"marker\":{\"colorbar\":{\"outlinewidth\":0,\"ticks\":\"\"}}}],\"scattermapbox\":[{\"type\":\"scattermapbox\",\"marker\":{\"colorbar\":{\"outlinewidth\":0,\"ticks\":\"\"}}}],\"scatterternary\":[{\"type\":\"scatterternary\",\"marker\":{\"colorbar\":{\"outlinewidth\":0,\"ticks\":\"\"}}}],\"scattercarpet\":[{\"type\":\"scattercarpet\",\"marker\":{\"colorbar\":{\"outlinewidth\":0,\"ticks\":\"\"}}}],\"carpet\":[{\"aaxis\":{\"endlinecolor\":\"#2a3f5f\",\"gridcolor\":\"white\",\"linecolor\":\"white\",\"minorgridcolor\":\"white\",\"startlinecolor\":\"#2a3f5f\"},\"baxis\":{\"endlinecolor\":\"#2a3f5f\",\"gridcolor\":\"white\",\"linecolor\":\"white\",\"minorgridcolor\":\"white\",\"startlinecolor\":\"#2a3f5f\"},\"type\":\"carpet\"}],\"table\":[{\"cells\":{\"fill\":{\"color\":\"#EBF0F8\"},\"line\":{\"color\":\"white\"}},\"header\":{\"fill\":{\"color\":\"#C8D4E3\"},\"line\":{\"color\":\"white\"}},\"type\":\"table\"}],\"barpolar\":[{\"marker\":{\"line\":{\"color\":\"#E5ECF6\",\"width\":0.5},\"pattern\":{\"fillmode\":\"overlay\",\"size\":10,\"solidity\":0.2}},\"type\":\"barpolar\"}],\"pie\":[{\"automargin\":true,\"type\":\"pie\"}]},\"layout\":{\"autotypenumbers\":\"strict\",\"colorway\":[\"#636efa\",\"#EF553B\",\"#00cc96\",\"#ab63fa\",\"#FFA15A\",\"#19d3f3\",\"#FF6692\",\"#B6E880\",\"#FF97FF\",\"#FECB52\"],\"font\":{\"color\":\"#2a3f5f\"},\"hovermode\":\"closest\",\"hoverlabel\":{\"align\":\"left\"},\"paper_bgcolor\":\"white\",\"plot_bgcolor\":\"#E5ECF6\",\"polar\":{\"bgcolor\":\"#E5ECF6\",\"angularaxis\":{\"gridcolor\":\"white\",\"linecolor\":\"white\",\"ticks\":\"\"},\"radialaxis\":{\"gridcolor\":\"white\",\"linecolor\":\"white\",\"ticks\":\"\"}},\"ternary\":{\"bgcolor\":\"#E5ECF6\",\"aaxis\":{\"gridcolor\":\"white\",\"linecolor\":\"white\",\"ticks\":\"\"},\"baxis\":{\"gridcolor\":\"white\",\"linecolor\":\"white\",\"ticks\":\"\"},\"caxis\":{\"gridcolor\":\"white\",\"linecolor\":\"white\",\"ticks\":\"\"}},\"coloraxis\":{\"colorbar\":{\"outlinewidth\":0,\"ticks\":\"\"}},\"colorscale\":{\"sequential\":[[0.0,\"#0d0887\"],[0.1111111111111111,\"#46039f\"],[0.2222222222222222,\"#7201a8\"],[0.3333333333333333,\"#9c179e\"],[0.4444444444444444,\"#bd3786\"],[0.5555555555555556,\"#d8576b\"],[0.6666666666666666,\"#ed7953\"],[0.7777777777777778,\"#fb9f3a\"],[0.8888888888888888,\"#fdca26\"],[1.0,\"#f0f921\"]],\"sequentialminus\":[[0.0,\"#0d0887\"],[0.1111111111111111,\"#46039f\"],[0.2222222222222222,\"#7201a8\"],[0.3333333333333333,\"#9c179e\"],[0.4444444444444444,\"#bd3786\"],[0.5555555555555556,\"#d8576b\"],[0.6666666666666666,\"#ed7953\"],[0.7777777777777778,\"#fb9f3a\"],[0.8888888888888888,\"#fdca26\"],[1.0,\"#f0f921\"]],\"diverging\":[[0,\"#8e0152\"],[0.1,\"#c51b7d\"],[0.2,\"#de77ae\"],[0.3,\"#f1b6da\"],[0.4,\"#fde0ef\"],[0.5,\"#f7f7f7\"],[0.6,\"#e6f5d0\"],[0.7,\"#b8e186\"],[0.8,\"#7fbc41\"],[0.9,\"#4d9221\"],[1,\"#276419\"]]},\"xaxis\":{\"gridcolor\":\"white\",\"linecolor\":\"white\",\"ticks\":\"\",\"title\":{\"standoff\":15},\"zerolinecolor\":\"white\",\"automargin\":true,\"zerolinewidth\":2},\"yaxis\":{\"gridcolor\":\"white\",\"linecolor\":\"white\",\"ticks\":\"\",\"title\":{\"standoff\":15},\"zerolinecolor\":\"white\",\"automargin\":true,\"zerolinewidth\":2},\"scene\":{\"xaxis\":{\"backgroundcolor\":\"#E5ECF6\",\"gridcolor\":\"white\",\"linecolor\":\"white\",\"showbackground\":true,\"ticks\":\"\",\"zerolinecolor\":\"white\",\"gridwidth\":2},\"yaxis\":{\"backgroundcolor\":\"#E5ECF6\",\"gridcolor\":\"white\",\"linecolor\":\"white\",\"showbackground\":true,\"ticks\":\"\",\"zerolinecolor\":\"white\",\"gridwidth\":2},\"zaxis\":{\"backgroundcolor\":\"#E5ECF6\",\"gridcolor\":\"white\",\"linecolor\":\"white\",\"showbackground\":true,\"ticks\":\"\",\"zerolinecolor\":\"white\",\"gridwidth\":2}},\"shapedefaults\":{\"line\":{\"color\":\"#2a3f5f\"}},\"annotationdefaults\":{\"arrowcolor\":\"#2a3f5f\",\"arrowhead\":0,\"arrowwidth\":1},\"geo\":{\"bgcolor\":\"white\",\"landcolor\":\"#E5ECF6\",\"subunitcolor\":\"white\",\"showland\":true,\"showlakes\":true,\"lakecolor\":\"white\"},\"title\":{\"x\":0.05},\"mapbox\":{\"style\":\"light\"}}},\"xaxis\":{\"anchor\":\"y\",\"domain\":[0.0,1.0],\"title\":{\"text\":\"Sex\"}},\"yaxis\":{\"anchor\":\"x\",\"domain\":[0.0,1.0],\"title\":{\"text\":\"sum of Total Bill\"}},\"legend\":{\"title\":{\"text\":\"day, smoker\"},\"tracegroupgap\":0},\"title\":{\"text\":\"Histogram of Total Bill by Sex with Smoker Pattern and Day Color\"},\"barmode\":\"relative\"},                        {\"responsive\": true}                    ).then(function(){\n",
       "                            \n",
       "var gd = document.getElementById('26e4f8ab-ad6b-451e-9df5-a13ee2658067');\n",
       "var x = new MutationObserver(function (mutations, observer) {{\n",
       "        var display = window.getComputedStyle(gd).display;\n",
       "        if (!display || display === 'none') {{\n",
       "            console.log([gd, 'removed!']);\n",
       "            Plotly.purge(gd);\n",
       "            observer.disconnect();\n",
       "        }}\n",
       "}});\n",
       "\n",
       "// Listen for the removal of the full notebook cells\n",
       "var notebookContainer = gd.closest('#notebook-container');\n",
       "if (notebookContainer) {{\n",
       "    x.observe(notebookContainer, {childList: true});\n",
       "}}\n",
       "\n",
       "// Listen for the clearing of the current output cell\n",
       "var outputEl = gd.closest('.output');\n",
       "if (outputEl) {{\n",
       "    x.observe(outputEl, {childList: true});\n",
       "}}\n",
       "\n",
       "                        })                };                });            </script>        </div>"
      ]
     },
     "metadata": {},
     "output_type": "display_data"
    }
   ],
   "source": [
    "# To plot a histogram for the \"sex\" and \"total_bill\" columns in the \"tips\" dataset using Plotly Express, and to use the \"smoker\" column with the \"pattern_shape\" parameter and the \"day\" column with the \"color\" parameter, you can use the px.histogram function. Here's how you can do it:\n",
    "\n",
    "import plotly.express as px\n",
    "\n",
    "# Load the \"tips\" dataset\n",
    "tips_data = px.data.tips()\n",
    "\n",
    "# Create the histogram with pattern_shape and color parameters\n",
    "fig = px.histogram(tips_data, x='sex', y='total_bill', color='day', pattern_shape='smoker',\n",
    "                   title='Histogram of Total Bill by Sex with Smoker Pattern and Day Color',\n",
    "                   labels={'sex': 'Sex', 'total_bill': 'Total Bill'},\n",
    "                   category_orders={'day': ['Thur', 'Fri', 'Sat', 'Sun']},\n",
    "                   histfunc='sum', # sum total_bill values for each category\n",
    "                   nbins=20)\n",
    "\n",
    "# Show the plot\n",
    "fig.show()\n",
    "\n",
    "# In this code, we used px.histogram from Plotly Express to create the histogram. The x parameter is set to 'sex' to specify the column for the x-axis, and the y parameter is set to 'total_bill' to specify the numerical column for the y-axis.\n",
    "\n",
    "# The color parameter is set to 'day' to differentiate the bars by the 'day' column, and the pattern_shape parameter is set to 'smoker' to use different patterns for the bars based on the 'smoker' column.\n",
    "\n",
    "# The labels parameter is used to provide custom labels for the x and y axes. The title parameter sets the title of the plot. The category_orders parameter is used to set the order of the 'day' categories for better control of the color mapping.\n",
    "\n",
    "# The histfunc parameter is set to 'sum' to sum the 'total_bill' values for each category. The nbins parameter specifies the number of bins to use for the histogram.\n",
    "\n",
    "# Running this code will create an interactive histogram showing the distribution of total bills for different sexes in the \"tips\" dataset. The bars will be colored based on the 'day' column, and different patterns will be used to differentiate the bars based on the 'smoker' column."
   ]
  },
  {
   "cell_type": "markdown",
   "id": "515eedf5-154c-48e5-bde5-9ddf9f06a524",
   "metadata": {},
   "source": [
    "### Question4"
   ]
  },
  {
   "cell_type": "code",
   "execution_count": 13,
   "id": "70eff660-18aa-4587-bc17-64caa345f240",
   "metadata": {},
   "outputs": [
    {
     "data": {
      "application/vnd.plotly.v1+json": {
       "config": {
        "plotlyServerURL": "https://plot.ly"
       },
       "data": [
        {
         "hovertemplate": "species=setosa<br>sepal_width=%{x}<br>sepal_length=%{y}<extra></extra>",
         "legendgroup": "setosa",
         "marker": {
          "color": "#636efa",
          "symbol": "circle"
         },
         "mode": "markers",
         "name": "setosa",
         "orientation": "v",
         "showlegend": true,
         "type": "scatter",
         "x": [
          3.5,
          3,
          3.2,
          3.1,
          3.6,
          3.9,
          3.4,
          3.4,
          2.9,
          3.1,
          3.7,
          3.4,
          3,
          3,
          4,
          4.4,
          3.9,
          3.5,
          3.8,
          3.8,
          3.4,
          3.7,
          3.6,
          3.3,
          3.4,
          3,
          3.4,
          3.5,
          3.4,
          3.2,
          3.1,
          3.4,
          4.1,
          4.2,
          3.1,
          3.2,
          3.5,
          3.1,
          3,
          3.4,
          3.5,
          2.3,
          3.2,
          3.5,
          3.8,
          3,
          3.8,
          3.2,
          3.7,
          3.3
         ],
         "xaxis": "x",
         "y": [
          5.1,
          4.9,
          4.7,
          4.6,
          5,
          5.4,
          4.6,
          5,
          4.4,
          4.9,
          5.4,
          4.8,
          4.8,
          4.3,
          5.8,
          5.7,
          5.4,
          5.1,
          5.7,
          5.1,
          5.4,
          5.1,
          4.6,
          5.1,
          4.8,
          5,
          5,
          5.2,
          5.2,
          4.7,
          4.8,
          5.4,
          5.2,
          5.5,
          4.9,
          5,
          5.5,
          4.9,
          4.4,
          5.1,
          5,
          4.5,
          4.4,
          5,
          5.1,
          4.8,
          5.1,
          4.6,
          5.3,
          5
         ],
         "yaxis": "y"
        },
        {
         "hovertemplate": "species=versicolor<br>sepal_width=%{x}<br>sepal_length=%{y}<extra></extra>",
         "legendgroup": "versicolor",
         "marker": {
          "color": "#EF553B",
          "symbol": "circle"
         },
         "mode": "markers",
         "name": "versicolor",
         "orientation": "v",
         "showlegend": true,
         "type": "scatter",
         "x": [
          3.2,
          3.2,
          3.1,
          2.3,
          2.8,
          2.8,
          3.3,
          2.4,
          2.9,
          2.7,
          2,
          3,
          2.2,
          2.9,
          2.9,
          3.1,
          3,
          2.7,
          2.2,
          2.5,
          3.2,
          2.8,
          2.5,
          2.8,
          2.9,
          3,
          2.8,
          3,
          2.9,
          2.6,
          2.4,
          2.4,
          2.7,
          2.7,
          3,
          3.4,
          3.1,
          2.3,
          3,
          2.5,
          2.6,
          3,
          2.6,
          2.3,
          2.7,
          3,
          2.9,
          2.9,
          2.5,
          2.8
         ],
         "xaxis": "x",
         "y": [
          7,
          6.4,
          6.9,
          5.5,
          6.5,
          5.7,
          6.3,
          4.9,
          6.6,
          5.2,
          5,
          5.9,
          6,
          6.1,
          5.6,
          6.7,
          5.6,
          5.8,
          6.2,
          5.6,
          5.9,
          6.1,
          6.3,
          6.1,
          6.4,
          6.6,
          6.8,
          6.7,
          6,
          5.7,
          5.5,
          5.5,
          5.8,
          6,
          5.4,
          6,
          6.7,
          6.3,
          5.6,
          5.5,
          5.5,
          6.1,
          5.8,
          5,
          5.6,
          5.7,
          5.7,
          6.2,
          5.1,
          5.7
         ],
         "yaxis": "y"
        },
        {
         "hovertemplate": "species=virginica<br>sepal_width=%{x}<br>sepal_length=%{y}<extra></extra>",
         "legendgroup": "virginica",
         "marker": {
          "color": "#00cc96",
          "symbol": "circle"
         },
         "mode": "markers",
         "name": "virginica",
         "orientation": "v",
         "showlegend": true,
         "type": "scatter",
         "x": [
          3.3,
          2.7,
          3,
          2.9,
          3,
          3,
          2.5,
          2.9,
          2.5,
          3.6,
          3.2,
          2.7,
          3,
          2.5,
          2.8,
          3.2,
          3,
          3.8,
          2.6,
          2.2,
          3.2,
          2.8,
          2.8,
          2.7,
          3.3,
          3.2,
          2.8,
          3,
          2.8,
          3,
          2.8,
          3.8,
          2.8,
          2.8,
          2.6,
          3,
          3.4,
          3.1,
          3,
          3.1,
          3.1,
          3.1,
          2.7,
          3.2,
          3.3,
          3,
          2.5,
          3,
          3.4,
          3
         ],
         "xaxis": "x",
         "y": [
          6.3,
          5.8,
          7.1,
          6.3,
          6.5,
          7.6,
          4.9,
          7.3,
          6.7,
          7.2,
          6.5,
          6.4,
          6.8,
          5.7,
          5.8,
          6.4,
          6.5,
          7.7,
          7.7,
          6,
          6.9,
          5.6,
          7.7,
          6.3,
          6.7,
          7.2,
          6.2,
          6.1,
          6.4,
          7.2,
          7.4,
          7.9,
          6.4,
          6.3,
          6.1,
          7.7,
          6.3,
          6.4,
          6,
          6.9,
          6.7,
          6.9,
          5.8,
          6.8,
          6.7,
          6.7,
          6.3,
          6.5,
          6.2,
          5.9
         ],
         "yaxis": "y"
        }
       ],
       "layout": {
        "autosize": true,
        "legend": {
         "title": {
          "text": "species"
         },
         "tracegroupgap": 0
        },
        "margin": {
         "t": 60
        },
        "template": {
         "data": {
          "bar": [
           {
            "error_x": {
             "color": "#2a3f5f"
            },
            "error_y": {
             "color": "#2a3f5f"
            },
            "marker": {
             "line": {
              "color": "#E5ECF6",
              "width": 0.5
             },
             "pattern": {
              "fillmode": "overlay",
              "size": 10,
              "solidity": 0.2
             }
            },
            "type": "bar"
           }
          ],
          "barpolar": [
           {
            "marker": {
             "line": {
              "color": "#E5ECF6",
              "width": 0.5
             },
             "pattern": {
              "fillmode": "overlay",
              "size": 10,
              "solidity": 0.2
             }
            },
            "type": "barpolar"
           }
          ],
          "carpet": [
           {
            "aaxis": {
             "endlinecolor": "#2a3f5f",
             "gridcolor": "white",
             "linecolor": "white",
             "minorgridcolor": "white",
             "startlinecolor": "#2a3f5f"
            },
            "baxis": {
             "endlinecolor": "#2a3f5f",
             "gridcolor": "white",
             "linecolor": "white",
             "minorgridcolor": "white",
             "startlinecolor": "#2a3f5f"
            },
            "type": "carpet"
           }
          ],
          "choropleth": [
           {
            "colorbar": {
             "outlinewidth": 0,
             "ticks": ""
            },
            "type": "choropleth"
           }
          ],
          "contour": [
           {
            "colorbar": {
             "outlinewidth": 0,
             "ticks": ""
            },
            "colorscale": [
             [
              0,
              "#0d0887"
             ],
             [
              0.1111111111111111,
              "#46039f"
             ],
             [
              0.2222222222222222,
              "#7201a8"
             ],
             [
              0.3333333333333333,
              "#9c179e"
             ],
             [
              0.4444444444444444,
              "#bd3786"
             ],
             [
              0.5555555555555556,
              "#d8576b"
             ],
             [
              0.6666666666666666,
              "#ed7953"
             ],
             [
              0.7777777777777778,
              "#fb9f3a"
             ],
             [
              0.8888888888888888,
              "#fdca26"
             ],
             [
              1,
              "#f0f921"
             ]
            ],
            "type": "contour"
           }
          ],
          "contourcarpet": [
           {
            "colorbar": {
             "outlinewidth": 0,
             "ticks": ""
            },
            "type": "contourcarpet"
           }
          ],
          "heatmap": [
           {
            "colorbar": {
             "outlinewidth": 0,
             "ticks": ""
            },
            "colorscale": [
             [
              0,
              "#0d0887"
             ],
             [
              0.1111111111111111,
              "#46039f"
             ],
             [
              0.2222222222222222,
              "#7201a8"
             ],
             [
              0.3333333333333333,
              "#9c179e"
             ],
             [
              0.4444444444444444,
              "#bd3786"
             ],
             [
              0.5555555555555556,
              "#d8576b"
             ],
             [
              0.6666666666666666,
              "#ed7953"
             ],
             [
              0.7777777777777778,
              "#fb9f3a"
             ],
             [
              0.8888888888888888,
              "#fdca26"
             ],
             [
              1,
              "#f0f921"
             ]
            ],
            "type": "heatmap"
           }
          ],
          "heatmapgl": [
           {
            "colorbar": {
             "outlinewidth": 0,
             "ticks": ""
            },
            "colorscale": [
             [
              0,
              "#0d0887"
             ],
             [
              0.1111111111111111,
              "#46039f"
             ],
             [
              0.2222222222222222,
              "#7201a8"
             ],
             [
              0.3333333333333333,
              "#9c179e"
             ],
             [
              0.4444444444444444,
              "#bd3786"
             ],
             [
              0.5555555555555556,
              "#d8576b"
             ],
             [
              0.6666666666666666,
              "#ed7953"
             ],
             [
              0.7777777777777778,
              "#fb9f3a"
             ],
             [
              0.8888888888888888,
              "#fdca26"
             ],
             [
              1,
              "#f0f921"
             ]
            ],
            "type": "heatmapgl"
           }
          ],
          "histogram": [
           {
            "marker": {
             "pattern": {
              "fillmode": "overlay",
              "size": 10,
              "solidity": 0.2
             }
            },
            "type": "histogram"
           }
          ],
          "histogram2d": [
           {
            "colorbar": {
             "outlinewidth": 0,
             "ticks": ""
            },
            "colorscale": [
             [
              0,
              "#0d0887"
             ],
             [
              0.1111111111111111,
              "#46039f"
             ],
             [
              0.2222222222222222,
              "#7201a8"
             ],
             [
              0.3333333333333333,
              "#9c179e"
             ],
             [
              0.4444444444444444,
              "#bd3786"
             ],
             [
              0.5555555555555556,
              "#d8576b"
             ],
             [
              0.6666666666666666,
              "#ed7953"
             ],
             [
              0.7777777777777778,
              "#fb9f3a"
             ],
             [
              0.8888888888888888,
              "#fdca26"
             ],
             [
              1,
              "#f0f921"
             ]
            ],
            "type": "histogram2d"
           }
          ],
          "histogram2dcontour": [
           {
            "colorbar": {
             "outlinewidth": 0,
             "ticks": ""
            },
            "colorscale": [
             [
              0,
              "#0d0887"
             ],
             [
              0.1111111111111111,
              "#46039f"
             ],
             [
              0.2222222222222222,
              "#7201a8"
             ],
             [
              0.3333333333333333,
              "#9c179e"
             ],
             [
              0.4444444444444444,
              "#bd3786"
             ],
             [
              0.5555555555555556,
              "#d8576b"
             ],
             [
              0.6666666666666666,
              "#ed7953"
             ],
             [
              0.7777777777777778,
              "#fb9f3a"
             ],
             [
              0.8888888888888888,
              "#fdca26"
             ],
             [
              1,
              "#f0f921"
             ]
            ],
            "type": "histogram2dcontour"
           }
          ],
          "mesh3d": [
           {
            "colorbar": {
             "outlinewidth": 0,
             "ticks": ""
            },
            "type": "mesh3d"
           }
          ],
          "parcoords": [
           {
            "line": {
             "colorbar": {
              "outlinewidth": 0,
              "ticks": ""
             }
            },
            "type": "parcoords"
           }
          ],
          "pie": [
           {
            "automargin": true,
            "type": "pie"
           }
          ],
          "scatter": [
           {
            "fillpattern": {
             "fillmode": "overlay",
             "size": 10,
             "solidity": 0.2
            },
            "type": "scatter"
           }
          ],
          "scatter3d": [
           {
            "line": {
             "colorbar": {
              "outlinewidth": 0,
              "ticks": ""
             }
            },
            "marker": {
             "colorbar": {
              "outlinewidth": 0,
              "ticks": ""
             }
            },
            "type": "scatter3d"
           }
          ],
          "scattercarpet": [
           {
            "marker": {
             "colorbar": {
              "outlinewidth": 0,
              "ticks": ""
             }
            },
            "type": "scattercarpet"
           }
          ],
          "scattergeo": [
           {
            "marker": {
             "colorbar": {
              "outlinewidth": 0,
              "ticks": ""
             }
            },
            "type": "scattergeo"
           }
          ],
          "scattergl": [
           {
            "marker": {
             "colorbar": {
              "outlinewidth": 0,
              "ticks": ""
             }
            },
            "type": "scattergl"
           }
          ],
          "scattermapbox": [
           {
            "marker": {
             "colorbar": {
              "outlinewidth": 0,
              "ticks": ""
             }
            },
            "type": "scattermapbox"
           }
          ],
          "scatterpolar": [
           {
            "marker": {
             "colorbar": {
              "outlinewidth": 0,
              "ticks": ""
             }
            },
            "type": "scatterpolar"
           }
          ],
          "scatterpolargl": [
           {
            "marker": {
             "colorbar": {
              "outlinewidth": 0,
              "ticks": ""
             }
            },
            "type": "scatterpolargl"
           }
          ],
          "scatterternary": [
           {
            "marker": {
             "colorbar": {
              "outlinewidth": 0,
              "ticks": ""
             }
            },
            "type": "scatterternary"
           }
          ],
          "surface": [
           {
            "colorbar": {
             "outlinewidth": 0,
             "ticks": ""
            },
            "colorscale": [
             [
              0,
              "#0d0887"
             ],
             [
              0.1111111111111111,
              "#46039f"
             ],
             [
              0.2222222222222222,
              "#7201a8"
             ],
             [
              0.3333333333333333,
              "#9c179e"
             ],
             [
              0.4444444444444444,
              "#bd3786"
             ],
             [
              0.5555555555555556,
              "#d8576b"
             ],
             [
              0.6666666666666666,
              "#ed7953"
             ],
             [
              0.7777777777777778,
              "#fb9f3a"
             ],
             [
              0.8888888888888888,
              "#fdca26"
             ],
             [
              1,
              "#f0f921"
             ]
            ],
            "type": "surface"
           }
          ],
          "table": [
           {
            "cells": {
             "fill": {
              "color": "#EBF0F8"
             },
             "line": {
              "color": "white"
             }
            },
            "header": {
             "fill": {
              "color": "#C8D4E3"
             },
             "line": {
              "color": "white"
             }
            },
            "type": "table"
           }
          ]
         },
         "layout": {
          "annotationdefaults": {
           "arrowcolor": "#2a3f5f",
           "arrowhead": 0,
           "arrowwidth": 1
          },
          "autotypenumbers": "strict",
          "coloraxis": {
           "colorbar": {
            "outlinewidth": 0,
            "ticks": ""
           }
          },
          "colorscale": {
           "diverging": [
            [
             0,
             "#8e0152"
            ],
            [
             0.1,
             "#c51b7d"
            ],
            [
             0.2,
             "#de77ae"
            ],
            [
             0.3,
             "#f1b6da"
            ],
            [
             0.4,
             "#fde0ef"
            ],
            [
             0.5,
             "#f7f7f7"
            ],
            [
             0.6,
             "#e6f5d0"
            ],
            [
             0.7,
             "#b8e186"
            ],
            [
             0.8,
             "#7fbc41"
            ],
            [
             0.9,
             "#4d9221"
            ],
            [
             1,
             "#276419"
            ]
           ],
           "sequential": [
            [
             0,
             "#0d0887"
            ],
            [
             0.1111111111111111,
             "#46039f"
            ],
            [
             0.2222222222222222,
             "#7201a8"
            ],
            [
             0.3333333333333333,
             "#9c179e"
            ],
            [
             0.4444444444444444,
             "#bd3786"
            ],
            [
             0.5555555555555556,
             "#d8576b"
            ],
            [
             0.6666666666666666,
             "#ed7953"
            ],
            [
             0.7777777777777778,
             "#fb9f3a"
            ],
            [
             0.8888888888888888,
             "#fdca26"
            ],
            [
             1,
             "#f0f921"
            ]
           ],
           "sequentialminus": [
            [
             0,
             "#0d0887"
            ],
            [
             0.1111111111111111,
             "#46039f"
            ],
            [
             0.2222222222222222,
             "#7201a8"
            ],
            [
             0.3333333333333333,
             "#9c179e"
            ],
            [
             0.4444444444444444,
             "#bd3786"
            ],
            [
             0.5555555555555556,
             "#d8576b"
            ],
            [
             0.6666666666666666,
             "#ed7953"
            ],
            [
             0.7777777777777778,
             "#fb9f3a"
            ],
            [
             0.8888888888888888,
             "#fdca26"
            ],
            [
             1,
             "#f0f921"
            ]
           ]
          },
          "colorway": [
           "#636efa",
           "#EF553B",
           "#00cc96",
           "#ab63fa",
           "#FFA15A",
           "#19d3f3",
           "#FF6692",
           "#B6E880",
           "#FF97FF",
           "#FECB52"
          ],
          "font": {
           "color": "#2a3f5f"
          },
          "geo": {
           "bgcolor": "white",
           "lakecolor": "white",
           "landcolor": "#E5ECF6",
           "showlakes": true,
           "showland": true,
           "subunitcolor": "white"
          },
          "hoverlabel": {
           "align": "left"
          },
          "hovermode": "closest",
          "mapbox": {
           "style": "light"
          },
          "paper_bgcolor": "white",
          "plot_bgcolor": "#E5ECF6",
          "polar": {
           "angularaxis": {
            "gridcolor": "white",
            "linecolor": "white",
            "ticks": ""
           },
           "bgcolor": "#E5ECF6",
           "radialaxis": {
            "gridcolor": "white",
            "linecolor": "white",
            "ticks": ""
           }
          },
          "scene": {
           "xaxis": {
            "backgroundcolor": "#E5ECF6",
            "gridcolor": "white",
            "gridwidth": 2,
            "linecolor": "white",
            "showbackground": true,
            "ticks": "",
            "zerolinecolor": "white"
           },
           "yaxis": {
            "backgroundcolor": "#E5ECF6",
            "gridcolor": "white",
            "gridwidth": 2,
            "linecolor": "white",
            "showbackground": true,
            "ticks": "",
            "zerolinecolor": "white"
           },
           "zaxis": {
            "backgroundcolor": "#E5ECF6",
            "gridcolor": "white",
            "gridwidth": 2,
            "linecolor": "white",
            "showbackground": true,
            "ticks": "",
            "zerolinecolor": "white"
           }
          },
          "shapedefaults": {
           "line": {
            "color": "#2a3f5f"
           }
          },
          "ternary": {
           "aaxis": {
            "gridcolor": "white",
            "linecolor": "white",
            "ticks": ""
           },
           "baxis": {
            "gridcolor": "white",
            "linecolor": "white",
            "ticks": ""
           },
           "bgcolor": "#E5ECF6",
           "caxis": {
            "gridcolor": "white",
            "linecolor": "white",
            "ticks": ""
           }
          },
          "title": {
           "x": 0.05
          },
          "xaxis": {
           "automargin": true,
           "gridcolor": "white",
           "linecolor": "white",
           "ticks": "",
           "title": {
            "standoff": 15
           },
           "zerolinecolor": "white",
           "zerolinewidth": 2
          },
          "yaxis": {
           "automargin": true,
           "gridcolor": "white",
           "linecolor": "white",
           "ticks": "",
           "title": {
            "standoff": 15
           },
           "zerolinecolor": "white",
           "zerolinewidth": 2
          }
         }
        },
        "xaxis": {
         "anchor": "y",
         "autorange": true,
         "domain": [
          0,
          1
         ],
         "range": [
          1.8538016209957544,
          4.546198379004246
         ],
         "title": {
          "text": "sepal_width"
         },
         "type": "linear"
        },
        "yaxis": {
         "anchor": "x",
         "autorange": true,
         "domain": [
          0,
          1
         ],
         "range": [
          4.021259842519685,
          8.178740157480316
         ],
         "title": {
          "text": "sepal_length"
         },
         "type": "linear"
        }
       }
      },
      "image/png": "[encoded data removed]",
      "text/html": [
       "<div>                            <div id=\"c9be5e13-312c-40a3-b956-61aafe5d4544\" class=\"plotly-graph-div\" style=\"height:525px; width:100%;\"></div>            <script type=\"text/javascript\">                require([\"plotly\"], function(Plotly) {                    window.PLOTLYENV=window.PLOTLYENV || {};                                    if (document.getElementById(\"c9be5e13-312c-40a3-b956-61aafe5d4544\")) {                    Plotly.newPlot(                        \"c9be5e13-312c-40a3-b956-61aafe5d4544\",                        [{\"hovertemplate\":\"species=setosa\\u003cbr\\u003esepal_width=%{x}\\u003cbr\\u003esepal_length=%{y}\\u003cextra\\u003e\\u003c\\u002fextra\\u003e\",\"legendgroup\":\"setosa\",\"marker\":{\"color\":\"#636efa\",\"symbol\":\"circle\"},\"mode\":\"markers\",\"name\":\"setosa\",\"orientation\":\"v\",\"showlegend\":true,\"x\":[3.5,3.0,3.2,3.1,3.6,3.9,3.4,3.4,2.9,3.1,3.7,3.4,3.0,3.0,4.0,4.4,3.9,3.5,3.8,3.8,3.4,3.7,3.6,3.3,3.4,3.0,3.4,3.5,3.4,3.2,3.1,3.4,4.1,4.2,3.1,3.2,3.5,3.1,3.0,3.4,3.5,2.3,3.2,3.5,3.8,3.0,3.8,3.2,3.7,3.3],\"xaxis\":\"x\",\"y\":[5.1,4.9,4.7,4.6,5.0,5.4,4.6,5.0,4.4,4.9,5.4,4.8,4.8,4.3,5.8,5.7,5.4,5.1,5.7,5.1,5.4,5.1,4.6,5.1,4.8,5.0,5.0,5.2,5.2,4.7,4.8,5.4,5.2,5.5,4.9,5.0,5.5,4.9,4.4,5.1,5.0,4.5,4.4,5.0,5.1,4.8,5.1,4.6,5.3,5.0],\"yaxis\":\"y\",\"type\":\"scatter\"},{\"hovertemplate\":\"species=versicolor\\u003cbr\\u003esepal_width=%{x}\\u003cbr\\u003esepal_length=%{y}\\u003cextra\\u003e\\u003c\\u002fextra\\u003e\",\"legendgroup\":\"versicolor\",\"marker\":{\"color\":\"#EF553B\",\"symbol\":\"circle\"},\"mode\":\"markers\",\"name\":\"versicolor\",\"orientation\":\"v\",\"showlegend\":true,\"x\":[3.2,3.2,3.1,2.3,2.8,2.8,3.3,2.4,2.9,2.7,2.0,3.0,2.2,2.9,2.9,3.1,3.0,2.7,2.2,2.5,3.2,2.8,2.5,2.8,2.9,3.0,2.8,3.0,2.9,2.6,2.4,2.4,2.7,2.7,3.0,3.4,3.1,2.3,3.0,2.5,2.6,3.0,2.6,2.3,2.7,3.0,2.9,2.9,2.5,2.8],\"xaxis\":\"x\",\"y\":[7.0,6.4,6.9,5.5,6.5,5.7,6.3,4.9,6.6,5.2,5.0,5.9,6.0,6.1,5.6,6.7,5.6,5.8,6.2,5.6,5.9,6.1,6.3,6.1,6.4,6.6,6.8,6.7,6.0,5.7,5.5,5.5,5.8,6.0,5.4,6.0,6.7,6.3,5.6,5.5,5.5,6.1,5.8,5.0,5.6,5.7,5.7,6.2,5.1,5.7],\"yaxis\":\"y\",\"type\":\"scatter\"},{\"hovertemplate\":\"species=virginica\\u003cbr\\u003esepal_width=%{x}\\u003cbr\\u003esepal_length=%{y}\\u003cextra\\u003e\\u003c\\u002fextra\\u003e\",\"legendgroup\":\"virginica\",\"marker\":{\"color\":\"#00cc96\",\"symbol\":\"circle\"},\"mode\":\"markers\",\"name\":\"virginica\",\"orientation\":\"v\",\"showlegend\":true,\"x\":[3.3,2.7,3.0,2.9,3.0,3.0,2.5,2.9,2.5,3.6,3.2,2.7,3.0,2.5,2.8,3.2,3.0,3.8,2.6,2.2,3.2,2.8,2.8,2.7,3.3,3.2,2.8,3.0,2.8,3.0,2.8,3.8,2.8,2.8,2.6,3.0,3.4,3.1,3.0,3.1,3.1,3.1,2.7,3.2,3.3,3.0,2.5,3.0,3.4,3.0],\"xaxis\":\"x\",\"y\":[6.3,5.8,7.1,6.3,6.5,7.6,4.9,7.3,6.7,7.2,6.5,6.4,6.8,5.7,5.8,6.4,6.5,7.7,7.7,6.0,6.9,5.6,7.7,6.3,6.7,7.2,6.2,6.1,6.4,7.2,7.4,7.9,6.4,6.3,6.1,7.7,6.3,6.4,6.0,6.9,6.7,6.9,5.8,6.8,6.7,6.7,6.3,6.5,6.2,5.9],\"yaxis\":\"y\",\"type\":\"scatter\"}],                        {\"template\":{\"data\":{\"histogram2dcontour\":[{\"type\":\"histogram2dcontour\",\"colorbar\":{\"outlinewidth\":0,\"ticks\":\"\"},\"colorscale\":[[0.0,\"#0d0887\"],[0.1111111111111111,\"#46039f\"],[0.2222222222222222,\"#7201a8\"],[0.3333333333333333,\"#9c179e\"],[0.4444444444444444,\"#bd3786\"],[0.5555555555555556,\"#d8576b\"],[0.6666666666666666,\"#ed7953\"],[0.7777777777777778,\"#fb9f3a\"],[0.8888888888888888,\"#fdca26\"],[1.0,\"#f0f921\"]]}],\"choropleth\":[{\"type\":\"choropleth\",\"colorbar\":{\"outlinewidth\":0,\"ticks\":\"\"}}],\"histogram2d\":[{\"type\":\"histogram2d\",\"colorbar\":{\"outlinewidth\":0,\"ticks\":\"\"},\"colorscale\":[[0.0,\"#0d0887\"],[0.1111111111111111,\"#46039f\"],[0.2222222222222222,\"#7201a8\"],[0.3333333333333333,\"#9c179e\"],[0.4444444444444444,\"#bd3786\"],[0.5555555555555556,\"#d8576b\"],[0.6666666666666666,\"#ed7953\"],[0.7777777777777778,\"#fb9f3a\"],[0.8888888888888888,\"#fdca26\"],[1.0,\"#f0f921\"]]}],\"heatmap\":[{\"type\":\"heatmap\",\"colorbar\":{\"outlinewidth\":0,\"ticks\":\"\"},\"colorscale\":[[0.0,\"#0d0887\"],[0.1111111111111111,\"#46039f\"],[0.2222222222222222,\"#7201a8\"],[0.3333333333333333,\"#9c179e\"],[0.4444444444444444,\"#bd3786\"],[0.5555555555555556,\"#d8576b\"],[0.6666666666666666,\"#ed7953\"],[0.7777777777777778,\"#fb9f3a\"],[0.8888888888888888,\"#fdca26\"],[1.0,\"#f0f921\"]]}],\"heatmapgl\":[{\"type\":\"heatmapgl\",\"colorbar\":{\"outlinewidth\":0,\"ticks\":\"\"},\"colorscale\":[[0.0,\"#0d0887\"],[0.1111111111111111,\"#46039f\"],[0.2222222222222222,\"#7201a8\"],[0.3333333333333333,\"#9c179e\"],[0.4444444444444444,\"#bd3786\"],[0.5555555555555556,\"#d8576b\"],[0.6666666666666666,\"#ed7953\"],[0.7777777777777778,\"#fb9f3a\"],[0.8888888888888888,\"#fdca26\"],[1.0,\"#f0f921\"]]}],\"contourcarpet\":[{\"type\":\"contourcarpet\",\"colorbar\":{\"outlinewidth\":0,\"ticks\":\"\"}}],\"contour\":[{\"type\":\"contour\",\"colorbar\":{\"outlinewidth\":0,\"ticks\":\"\"},\"colorscale\":[[0.0,\"#0d0887\"],[0.1111111111111111,\"#46039f\"],[0.2222222222222222,\"#7201a8\"],[0.3333333333333333,\"#9c179e\"],[0.4444444444444444,\"#bd3786\"],[0.5555555555555556,\"#d8576b\"],[0.6666666666666666,\"#ed7953\"],[0.7777777777777778,\"#fb9f3a\"],[0.8888888888888888,\"#fdca26\"],[1.0,\"#f0f921\"]]}],\"surface\":[{\"type\":\"surface\",\"colorbar\":{\"outlinewidth\":0,\"ticks\":\"\"},\"colorscale\":[[0.0,\"#0d0887\"],[0.1111111111111111,\"#46039f\"],[0.2222222222222222,\"#7201a8\"],[0.3333333333333333,\"#9c179e\"],[0.4444444444444444,\"#bd3786\"],[0.5555555555555556,\"#d8576b\"],[0.6666666666666666,\"#ed7953\"],[0.7777777777777778,\"#fb9f3a\"],[0.8888888888888888,\"#fdca26\"],[1.0,\"#f0f921\"]]}],\"mesh3d\":[{\"type\":\"mesh3d\",\"colorbar\":{\"outlinewidth\":0,\"ticks\":\"\"}}],\"scatter\":[{\"fillpattern\":{\"fillmode\":\"overlay\",\"size\":10,\"solidity\":0.2},\"type\":\"scatter\"}],\"parcoords\":[{\"type\":\"parcoords\",\"line\":{\"colorbar\":{\"outlinewidth\":0,\"ticks\":\"\"}}}],\"scatterpolargl\":[{\"type\":\"scatterpolargl\",\"marker\":{\"colorbar\":{\"outlinewidth\":0,\"ticks\":\"\"}}}],\"bar\":[{\"error_x\":{\"color\":\"#2a3f5f\"},\"error_y\":{\"color\":\"#2a3f5f\"},\"marker\":{\"line\":{\"color\":\"#E5ECF6\",\"width\":0.5},\"pattern\":{\"fillmode\":\"overlay\",\"size\":10,\"solidity\":0.2}},\"type\":\"bar\"}],\"scattergeo\":[{\"type\":\"scattergeo\",\"marker\":{\"colorbar\":{\"outlinewidth\":0,\"ticks\":\"\"}}}],\"scatterpolar\":[{\"type\":\"scatterpolar\",\"marker\":{\"colorbar\":{\"outlinewidth\":0,\"ticks\":\"\"}}}],\"histogram\":[{\"marker\":{\"pattern\":{\"fillmode\":\"overlay\",\"size\":10,\"solidity\":0.2}},\"type\":\"histogram\"}],\"scattergl\":[{\"type\":\"scattergl\",\"marker\":{\"colorbar\":{\"outlinewidth\":0,\"ticks\":\"\"}}}],\"scatter3d\":[{\"type\":\"scatter3d\",\"line\":{\"colorbar\":{\"outlinewidth\":0,\"ticks\":\"\"}},\"marker\":{\"colorbar\":{\"outlinewidth\":0,\"ticks\":\"\"}}}],\"scattermapbox\":[{\"type\":\"scattermapbox\",\"marker\":{\"colorbar\":{\"outlinewidth\":0,\"ticks\":\"\"}}}],\"scatterternary\":[{\"type\":\"scatterternary\",\"marker\":{\"colorbar\":{\"outlinewidth\":0,\"ticks\":\"\"}}}],\"scattercarpet\":[{\"type\":\"scattercarpet\",\"marker\":{\"colorbar\":{\"outlinewidth\":0,\"ticks\":\"\"}}}],\"carpet\":[{\"aaxis\":{\"endlinecolor\":\"#2a3f5f\",\"gridcolor\":\"white\",\"linecolor\":\"white\",\"minorgridcolor\":\"white\",\"startlinecolor\":\"#2a3f5f\"},\"baxis\":{\"endlinecolor\":\"#2a3f5f\",\"gridcolor\":\"white\",\"linecolor\":\"white\",\"minorgridcolor\":\"white\",\"startlinecolor\":\"#2a3f5f\"},\"type\":\"carpet\"}],\"table\":[{\"cells\":{\"fill\":{\"color\":\"#EBF0F8\"},\"line\":{\"color\":\"white\"}},\"header\":{\"fill\":{\"color\":\"#C8D4E3\"},\"line\":{\"color\":\"white\"}},\"type\":\"table\"}],\"barpolar\":[{\"marker\":{\"line\":{\"color\":\"#E5ECF6\",\"width\":0.5},\"pattern\":{\"fillmode\":\"overlay\",\"size\":10,\"solidity\":0.2}},\"type\":\"barpolar\"}],\"pie\":[{\"automargin\":true,\"type\":\"pie\"}]},\"layout\":{\"autotypenumbers\":\"strict\",\"colorway\":[\"#636efa\",\"#EF553B\",\"#00cc96\",\"#ab63fa\",\"#FFA15A\",\"#19d3f3\",\"#FF6692\",\"#B6E880\",\"#FF97FF\",\"#FECB52\"],\"font\":{\"color\":\"#2a3f5f\"},\"hovermode\":\"closest\",\"hoverlabel\":{\"align\":\"left\"},\"paper_bgcolor\":\"white\",\"plot_bgcolor\":\"#E5ECF6\",\"polar\":{\"bgcolor\":\"#E5ECF6\",\"angularaxis\":{\"gridcolor\":\"white\",\"linecolor\":\"white\",\"ticks\":\"\"},\"radialaxis\":{\"gridcolor\":\"white\",\"linecolor\":\"white\",\"ticks\":\"\"}},\"ternary\":{\"bgcolor\":\"#E5ECF6\",\"aaxis\":{\"gridcolor\":\"white\",\"linecolor\":\"white\",\"ticks\":\"\"},\"baxis\":{\"gridcolor\":\"white\",\"linecolor\":\"white\",\"ticks\":\"\"},\"caxis\":{\"gridcolor\":\"white\",\"linecolor\":\"white\",\"ticks\":\"\"}},\"coloraxis\":{\"colorbar\":{\"outlinewidth\":0,\"ticks\":\"\"}},\"colorscale\":{\"sequential\":[[0.0,\"#0d0887\"],[0.1111111111111111,\"#46039f\"],[0.2222222222222222,\"#7201a8\"],[0.3333333333333333,\"#9c179e\"],[0.4444444444444444,\"#bd3786\"],[0.5555555555555556,\"#d8576b\"],[0.6666666666666666,\"#ed7953\"],[0.7777777777777778,\"#fb9f3a\"],[0.8888888888888888,\"#fdca26\"],[1.0,\"#f0f921\"]],\"sequentialminus\":[[0.0,\"#0d0887\"],[0.1111111111111111,\"#46039f\"],[0.2222222222222222,\"#7201a8\"],[0.3333333333333333,\"#9c179e\"],[0.4444444444444444,\"#bd3786\"],[0.5555555555555556,\"#d8576b\"],[0.6666666666666666,\"#ed7953\"],[0.7777777777777778,\"#fb9f3a\"],[0.8888888888888888,\"#fdca26\"],[1.0,\"#f0f921\"]],\"diverging\":[[0,\"#8e0152\"],[0.1,\"#c51b7d\"],[0.2,\"#de77ae\"],[0.3,\"#f1b6da\"],[0.4,\"#fde0ef\"],[0.5,\"#f7f7f7\"],[0.6,\"#e6f5d0\"],[0.7,\"#b8e186\"],[0.8,\"#7fbc41\"],[0.9,\"#4d9221\"],[1,\"#276419\"]]},\"xaxis\":{\"gridcolor\":\"white\",\"linecolor\":\"white\",\"ticks\":\"\",\"title\":{\"standoff\":15},\"zerolinecolor\":\"white\",\"automargin\":true,\"zerolinewidth\":2},\"yaxis\":{\"gridcolor\":\"white\",\"linecolor\":\"white\",\"ticks\":\"\",\"title\":{\"standoff\":15},\"zerolinecolor\":\"white\",\"automargin\":true,\"zerolinewidth\":2},\"scene\":{\"xaxis\":{\"backgroundcolor\":\"#E5ECF6\",\"gridcolor\":\"white\",\"linecolor\":\"white\",\"showbackground\":true,\"ticks\":\"\",\"zerolinecolor\":\"white\",\"gridwidth\":2},\"yaxis\":{\"backgroundcolor\":\"#E5ECF6\",\"gridcolor\":\"white\",\"linecolor\":\"white\",\"showbackground\":true,\"ticks\":\"\",\"zerolinecolor\":\"white\",\"gridwidth\":2},\"zaxis\":{\"backgroundcolor\":\"#E5ECF6\",\"gridcolor\":\"white\",\"linecolor\":\"white\",\"showbackground\":true,\"ticks\":\"\",\"zerolinecolor\":\"white\",\"gridwidth\":2}},\"shapedefaults\":{\"line\":{\"color\":\"#2a3f5f\"}},\"annotationdefaults\":{\"arrowcolor\":\"#2a3f5f\",\"arrowhead\":0,\"arrowwidth\":1},\"geo\":{\"bgcolor\":\"white\",\"landcolor\":\"#E5ECF6\",\"subunitcolor\":\"white\",\"showland\":true,\"showlakes\":true,\"lakecolor\":\"white\"},\"title\":{\"x\":0.05},\"mapbox\":{\"style\":\"light\"}}},\"xaxis\":{\"anchor\":\"y\",\"domain\":[0.0,1.0],\"title\":{\"text\":\"sepal_width\"}},\"yaxis\":{\"anchor\":\"x\",\"domain\":[0.0,1.0],\"title\":{\"text\":\"sepal_length\"}},\"legend\":{\"title\":{\"text\":\"species\"},\"tracegroupgap\":0},\"margin\":{\"t\":60}},                        {\"responsive\": true}                    ).then(function(){\n",
       "                            \n",
       "var gd = document.getElementById('c9be5e13-312c-40a3-b956-61aafe5d4544');\n",
       "var x = new MutationObserver(function (mutations, observer) {{\n",
       "        var display = window.getComputedStyle(gd).display;\n",
       "        if (!display || display === 'none') {{\n",
       "            console.log([gd, 'removed!']);\n",
       "            Plotly.purge(gd);\n",
       "            observer.disconnect();\n",
       "        }}\n",
       "}});\n",
       "\n",
       "// Listen for the removal of the full notebook cells\n",
       "var notebookContainer = gd.closest('#notebook-container');\n",
       "if (notebookContainer) {{\n",
       "    x.observe(notebookContainer, {childList: true});\n",
       "}}\n",
       "\n",
       "// Listen for the clearing of the current output cell\n",
       "var outputEl = gd.closest('.output');\n",
       "if (outputEl) {{\n",
       "    x.observe(outputEl, {childList: true});\n",
       "}}\n",
       "\n",
       "                        })                };                });            </script>        </div>"
      ]
     },
     "metadata": {},
     "output_type": "display_data"
    },
    {
     "data": {
      "image/png": "[encoded data removed]",
      "text/plain": [
       "<Figure size 1000x1000 with 25 Axes>"
      ]
     },
     "metadata": {},
     "output_type": "display_data"
    }
   ],
   "source": [
    "# Plotly Express does not have a direct function for creating scatter matrix plots. However, you can achieve this by using the scatter_matrix function from the pandas.plotting module to create the scatter plots and then use Plotly Express to customize the visualizations.\n",
    "\n",
    "# Here's how you can create a scatter matrix plot using the \"iris\" dataset with the \"species\" column for the color parameter:\n",
    "\n",
    "import plotly.express as px\n",
    "import pandas as pd\n",
    "from pandas.plotting import scatter_matrix\n",
    "\n",
    "# Load the \"iris\" dataset\n",
    "iris_data = px.data.iris()\n",
    "\n",
    "# Create the scatter matrix using pandas plotting.scatter_matrix\n",
    "scatter_matrix(iris_data, color=iris_data['species'].map({'setosa': 'red', 'versicolor': 'green', 'virginica': 'blue'}),\n",
    "               diagonal='hist', alpha=0.7, figsize=(10, 10))\n",
    "\n",
    "# Show the plot\n",
    "fig = px.scatter(iris_data, x='sepal_width', y='sepal_length', color='species')\n",
    "fig.show()\n",
    "\n",
    "# In this code, we first loaded the \"iris\" dataset using px.data.iris(). Then, we used the scatter_matrix function from pandas.plotting to create the scatter matrix plot. The color parameter is set to map the 'species' column to colors ('setosa' to red, 'versicolor' to green, and 'virginica' to blue) for better differentiation of data points from different species.\n",
    "\n",
    "# The diagonal parameter is set to 'hist' to create histograms on the diagonal of the scatter matrix for each numerical variable. The alpha parameter sets the transparency level of the data points.\n",
    "\n",
    "# However, it's important to note that the scatter matrix plot created by scatter_matrix will not be interactive like those created using Plotly Express. If you specifically need an interactive scatter matrix plot, you can consider using other libraries like Seaborn or Plotly Subplots, which offer interactive capabilities."
   ]
  },
  {
   "cell_type": "markdown",
   "id": "ce485f4e-b59a-475b-8e50-bed6d02d02e0",
   "metadata": {},
   "source": [
    "### Question5"
   ]
  },
  {
   "cell_type": "code",
   "execution_count": 14,
   "id": "4ca56663-29cb-4d4f-bf0f-42d3af1ab6a4",
   "metadata": {},
   "outputs": [
    {
     "data": {
      "application/vnd.plotly.v1+json": {
       "config": {
        "plotlyServerURL": "https://plot.ly"
       },
       "data": [
        {
         "alignmentgroup": "True",
         "bingroup": "x",
         "hovertemplate": "sepal_length=%{x}<br>count=%{y}<extra></extra>",
         "legendgroup": "",
         "marker": {
          "color": "#636efa",
          "opacity": 0.7,
          "pattern": {
           "shape": ""
          }
         },
         "name": "",
         "nbinsx": 30,
         "offsetgroup": "",
         "orientation": "v",
         "showlegend": false,
         "type": "histogram",
         "x": [
          5.1,
          4.9,
          4.7,
          4.6,
          5,
          5.4,
          4.6,
          5,
          4.4,
          4.9,
          5.4,
          4.8,
          4.8,
          4.3,
          5.8,
          5.7,
          5.4,
          5.1,
          5.7,
          5.1,
          5.4,
          5.1,
          4.6,
          5.1,
          4.8,
          5,
          5,
          5.2,
          5.2,
          4.7,
          4.8,
          5.4,
          5.2,
          5.5,
          4.9,
          5,
          5.5,
          4.9,
          4.4,
          5.1,
          5,
          4.5,
          4.4,
          5,
          5.1,
          4.8,
          5.1,
          4.6,
          5.3,
          5,
          7,
          6.4,
          6.9,
          5.5,
          6.5,
          5.7,
          6.3,
          4.9,
          6.6,
          5.2,
          5,
          5.9,
          6,
          6.1,
          5.6,
          6.7,
          5.6,
          5.8,
          6.2,
          5.6,
          5.9,
          6.1,
          6.3,
          6.1,
          6.4,
          6.6,
          6.8,
          6.7,
          6,
          5.7,
          5.5,
          5.5,
          5.8,
          6,
          5.4,
          6,
          6.7,
          6.3,
          5.6,
          5.5,
          5.5,
          6.1,
          5.8,
          5,
          5.6,
          5.7,
          5.7,
          6.2,
          5.1,
          5.7,
          6.3,
          5.8,
          7.1,
          6.3,
          6.5,
          7.6,
          4.9,
          7.3,
          6.7,
          7.2,
          6.5,
          6.4,
          6.8,
          5.7,
          5.8,
          6.4,
          6.5,
          7.7,
          7.7,
          6,
          6.9,
          5.6,
          7.7,
          6.3,
          6.7,
          7.2,
          6.2,
          6.1,
          6.4,
          7.2,
          7.4,
          7.9,
          6.4,
          6.3,
          6.1,
          7.7,
          6.3,
          6.4,
          6,
          6.9,
          6.7,
          6.9,
          5.8,
          6.8,
          6.7,
          6.7,
          6.3,
          6.5,
          6.2,
          5.9
         ],
         "xaxis": "x",
         "yaxis": "y"
        },
        {
         "alignmentgroup": "True",
         "boxpoints": "all",
         "fillcolor": "rgba(255,255,255,0)",
         "hoveron": "points",
         "hovertemplate": "sepal_length=%{x}<extra></extra>",
         "jitter": 0,
         "legendgroup": "",
         "line": {
          "color": "rgba(255,255,255,0)"
         },
         "marker": {
          "color": "#636efa",
          "symbol": "line-ns-open"
         },
         "name": "",
         "offsetgroup": "",
         "showlegend": false,
         "type": "box",
         "x": [
          5.1,
          4.9,
          4.7,
          4.6,
          5,
          5.4,
          4.6,
          5,
          4.4,
          4.9,
          5.4,
          4.8,
          4.8,
          4.3,
          5.8,
          5.7,
          5.4,
          5.1,
          5.7,
          5.1,
          5.4,
          5.1,
          4.6,
          5.1,
          4.8,
          5,
          5,
          5.2,
          5.2,
          4.7,
          4.8,
          5.4,
          5.2,
          5.5,
          4.9,
          5,
          5.5,
          4.9,
          4.4,
          5.1,
          5,
          4.5,
          4.4,
          5,
          5.1,
          4.8,
          5.1,
          4.6,
          5.3,
          5,
          7,
          6.4,
          6.9,
          5.5,
          6.5,
          5.7,
          6.3,
          4.9,
          6.6,
          5.2,
          5,
          5.9,
          6,
          6.1,
          5.6,
          6.7,
          5.6,
          5.8,
          6.2,
          5.6,
          5.9,
          6.1,
          6.3,
          6.1,
          6.4,
          6.6,
          6.8,
          6.7,
          6,
          5.7,
          5.5,
          5.5,
          5.8,
          6,
          5.4,
          6,
          6.7,
          6.3,
          5.6,
          5.5,
          5.5,
          6.1,
          5.8,
          5,
          5.6,
          5.7,
          5.7,
          6.2,
          5.1,
          5.7,
          6.3,
          5.8,
          7.1,
          6.3,
          6.5,
          7.6,
          4.9,
          7.3,
          6.7,
          7.2,
          6.5,
          6.4,
          6.8,
          5.7,
          5.8,
          6.4,
          6.5,
          7.7,
          7.7,
          6,
          6.9,
          5.6,
          7.7,
          6.3,
          6.7,
          7.2,
          6.2,
          6.1,
          6.4,
          7.2,
          7.4,
          7.9,
          6.4,
          6.3,
          6.1,
          7.7,
          6.3,
          6.4,
          6,
          6.9,
          6.7,
          6.9,
          5.8,
          6.8,
          6.7,
          6.7,
          6.3,
          6.5,
          6.2,
          5.9
         ],
         "xaxis": "x2",
         "yaxis": "y2"
        }
       ],
       "layout": {
        "autosize": true,
        "barmode": "relative",
        "legend": {
         "tracegroupgap": 0
        },
        "template": {
         "data": {
          "bar": [
           {
            "error_x": {
             "color": "#2a3f5f"
            },
            "error_y": {
             "color": "#2a3f5f"
            },
            "marker": {
             "line": {
              "color": "#E5ECF6",
              "width": 0.5
             },
             "pattern": {
              "fillmode": "overlay",
              "size": 10,
              "solidity": 0.2
             }
            },
            "type": "bar"
           }
          ],
          "barpolar": [
           {
            "marker": {
             "line": {
              "color": "#E5ECF6",
              "width": 0.5
             },
             "pattern": {
              "fillmode": "overlay",
              "size": 10,
              "solidity": 0.2
             }
            },
            "type": "barpolar"
           }
          ],
          "carpet": [
           {
            "aaxis": {
             "endlinecolor": "#2a3f5f",
             "gridcolor": "white",
             "linecolor": "white",
             "minorgridcolor": "white",
             "startlinecolor": "#2a3f5f"
            },
            "baxis": {
             "endlinecolor": "#2a3f5f",
             "gridcolor": "white",
             "linecolor": "white",
             "minorgridcolor": "white",
             "startlinecolor": "#2a3f5f"
            },
            "type": "carpet"
           }
          ],
          "choropleth": [
           {
            "colorbar": {
             "outlinewidth": 0,
             "ticks": ""
            },
            "type": "choropleth"
           }
          ],
          "contour": [
           {
            "colorbar": {
             "outlinewidth": 0,
             "ticks": ""
            },
            "colorscale": [
             [
              0,
              "#0d0887"
             ],
             [
              0.1111111111111111,
              "#46039f"
             ],
             [
              0.2222222222222222,
              "#7201a8"
             ],
             [
              0.3333333333333333,
              "#9c179e"
             ],
             [
              0.4444444444444444,
              "#bd3786"
             ],
             [
              0.5555555555555556,
              "#d8576b"
             ],
             [
              0.6666666666666666,
              "#ed7953"
             ],
             [
              0.7777777777777778,
              "#fb9f3a"
             ],
             [
              0.8888888888888888,
              "#fdca26"
             ],
             [
              1,
              "#f0f921"
             ]
            ],
            "type": "contour"
           }
          ],
          "contourcarpet": [
           {
            "colorbar": {
             "outlinewidth": 0,
             "ticks": ""
            },
            "type": "contourcarpet"
           }
          ],
          "heatmap": [
           {
            "colorbar": {
             "outlinewidth": 0,
             "ticks": ""
            },
            "colorscale": [
             [
              0,
              "#0d0887"
             ],
             [
              0.1111111111111111,
              "#46039f"
             ],
             [
              0.2222222222222222,
              "#7201a8"
             ],
             [
              0.3333333333333333,
              "#9c179e"
             ],
             [
              0.4444444444444444,
              "#bd3786"
             ],
             [
              0.5555555555555556,
              "#d8576b"
             ],
             [
              0.6666666666666666,
              "#ed7953"
             ],
             [
              0.7777777777777778,
              "#fb9f3a"
             ],
             [
              0.8888888888888888,
              "#fdca26"
             ],
             [
              1,
              "#f0f921"
             ]
            ],
            "type": "heatmap"
           }
          ],
          "heatmapgl": [
           {
            "colorbar": {
             "outlinewidth": 0,
             "ticks": ""
            },
            "colorscale": [
             [
              0,
              "#0d0887"
             ],
             [
              0.1111111111111111,
              "#46039f"
             ],
             [
              0.2222222222222222,
              "#7201a8"
             ],
             [
              0.3333333333333333,
              "#9c179e"
             ],
             [
              0.4444444444444444,
              "#bd3786"
             ],
             [
              0.5555555555555556,
              "#d8576b"
             ],
             [
              0.6666666666666666,
              "#ed7953"
             ],
             [
              0.7777777777777778,
              "#fb9f3a"
             ],
             [
              0.8888888888888888,
              "#fdca26"
             ],
             [
              1,
              "#f0f921"
             ]
            ],
            "type": "heatmapgl"
           }
          ],
          "histogram": [
           {
            "marker": {
             "pattern": {
              "fillmode": "overlay",
              "size": 10,
              "solidity": 0.2
             }
            },
            "type": "histogram"
           }
          ],
          "histogram2d": [
           {
            "colorbar": {
             "outlinewidth": 0,
             "ticks": ""
            },
            "colorscale": [
             [
              0,
              "#0d0887"
             ],
             [
              0.1111111111111111,
              "#46039f"
             ],
             [
              0.2222222222222222,
              "#7201a8"
             ],
             [
              0.3333333333333333,
              "#9c179e"
             ],
             [
              0.4444444444444444,
              "#bd3786"
             ],
             [
              0.5555555555555556,
              "#d8576b"
             ],
             [
              0.6666666666666666,
              "#ed7953"
             ],
             [
              0.7777777777777778,
              "#fb9f3a"
             ],
             [
              0.8888888888888888,
              "#fdca26"
             ],
             [
              1,
              "#f0f921"
             ]
            ],
            "type": "histogram2d"
           }
          ],
          "histogram2dcontour": [
           {
            "colorbar": {
             "outlinewidth": 0,
             "ticks": ""
            },
            "colorscale": [
             [
              0,
              "#0d0887"
             ],
             [
              0.1111111111111111,
              "#46039f"
             ],
             [
              0.2222222222222222,
              "#7201a8"
             ],
             [
              0.3333333333333333,
              "#9c179e"
             ],
             [
              0.4444444444444444,
              "#bd3786"
             ],
             [
              0.5555555555555556,
              "#d8576b"
             ],
             [
              0.6666666666666666,
              "#ed7953"
             ],
             [
              0.7777777777777778,
              "#fb9f3a"
             ],
             [
              0.8888888888888888,
              "#fdca26"
             ],
             [
              1,
              "#f0f921"
             ]
            ],
            "type": "histogram2dcontour"
           }
          ],
          "mesh3d": [
           {
            "colorbar": {
             "outlinewidth": 0,
             "ticks": ""
            },
            "type": "mesh3d"
           }
          ],
          "parcoords": [
           {
            "line": {
             "colorbar": {
              "outlinewidth": 0,
              "ticks": ""
             }
            },
            "type": "parcoords"
           }
          ],
          "pie": [
           {
            "automargin": true,
            "type": "pie"
           }
          ],
          "scatter": [
           {
            "fillpattern": {
             "fillmode": "overlay",
             "size": 10,
             "solidity": 0.2
            },
            "type": "scatter"
           }
          ],
          "scatter3d": [
           {
            "line": {
             "colorbar": {
              "outlinewidth": 0,
              "ticks": ""
             }
            },
            "marker": {
             "colorbar": {
              "outlinewidth": 0,
              "ticks": ""
             }
            },
            "type": "scatter3d"
           }
          ],
          "scattercarpet": [
           {
            "marker": {
             "colorbar": {
              "outlinewidth": 0,
              "ticks": ""
             }
            },
            "type": "scattercarpet"
           }
          ],
          "scattergeo": [
           {
            "marker": {
             "colorbar": {
              "outlinewidth": 0,
              "ticks": ""
             }
            },
            "type": "scattergeo"
           }
          ],
          "scattergl": [
           {
            "marker": {
             "colorbar": {
              "outlinewidth": 0,
              "ticks": ""
             }
            },
            "type": "scattergl"
           }
          ],
          "scattermapbox": [
           {
            "marker": {
             "colorbar": {
              "outlinewidth": 0,
              "ticks": ""
             }
            },
            "type": "scattermapbox"
           }
          ],
          "scatterpolar": [
           {
            "marker": {
             "colorbar": {
              "outlinewidth": 0,
              "ticks": ""
             }
            },
            "type": "scatterpolar"
           }
          ],
          "scatterpolargl": [
           {
            "marker": {
             "colorbar": {
              "outlinewidth": 0,
              "ticks": ""
             }
            },
            "type": "scatterpolargl"
           }
          ],
          "scatterternary": [
           {
            "marker": {
             "colorbar": {
              "outlinewidth": 0,
              "ticks": ""
             }
            },
            "type": "scatterternary"
           }
          ],
          "surface": [
           {
            "colorbar": {
             "outlinewidth": 0,
             "ticks": ""
            },
            "colorscale": [
             [
              0,
              "#0d0887"
             ],
             [
              0.1111111111111111,
              "#46039f"
             ],
             [
              0.2222222222222222,
              "#7201a8"
             ],
             [
              0.3333333333333333,
              "#9c179e"
             ],
             [
              0.4444444444444444,
              "#bd3786"
             ],
             [
              0.5555555555555556,
              "#d8576b"
             ],
             [
              0.6666666666666666,
              "#ed7953"
             ],
             [
              0.7777777777777778,
              "#fb9f3a"
             ],
             [
              0.8888888888888888,
              "#fdca26"
             ],
             [
              1,
              "#f0f921"
             ]
            ],
            "type": "surface"
           }
          ],
          "table": [
           {
            "cells": {
             "fill": {
              "color": "#EBF0F8"
             },
             "line": {
              "color": "white"
             }
            },
            "header": {
             "fill": {
              "color": "#C8D4E3"
             },
             "line": {
              "color": "white"
             }
            },
            "type": "table"
           }
          ]
         },
         "layout": {
          "annotationdefaults": {
           "arrowcolor": "#2a3f5f",
           "arrowhead": 0,
           "arrowwidth": 1
          },
          "autotypenumbers": "strict",
          "coloraxis": {
           "colorbar": {
            "outlinewidth": 0,
            "ticks": ""
           }
          },
          "colorscale": {
           "diverging": [
            [
             0,
             "#8e0152"
            ],
            [
             0.1,
             "#c51b7d"
            ],
            [
             0.2,
             "#de77ae"
            ],
            [
             0.3,
             "#f1b6da"
            ],
            [
             0.4,
             "#fde0ef"
            ],
            [
             0.5,
             "#f7f7f7"
            ],
            [
             0.6,
             "#e6f5d0"
            ],
            [
             0.7,
             "#b8e186"
            ],
            [
             0.8,
             "#7fbc41"
            ],
            [
             0.9,
             "#4d9221"
            ],
            [
             1,
             "#276419"
            ]
           ],
           "sequential": [
            [
             0,
             "#0d0887"
            ],
            [
             0.1111111111111111,
             "#46039f"
            ],
            [
             0.2222222222222222,
             "#7201a8"
            ],
            [
             0.3333333333333333,
             "#9c179e"
            ],
            [
             0.4444444444444444,
             "#bd3786"
            ],
            [
             0.5555555555555556,
             "#d8576b"
            ],
            [
             0.6666666666666666,
             "#ed7953"
            ],
            [
             0.7777777777777778,
             "#fb9f3a"
            ],
            [
             0.8888888888888888,
             "#fdca26"
            ],
            [
             1,
             "#f0f921"
            ]
           ],
           "sequentialminus": [
            [
             0,
             "#0d0887"
            ],
            [
             0.1111111111111111,
             "#46039f"
            ],
            [
             0.2222222222222222,
             "#7201a8"
            ],
            [
             0.3333333333333333,
             "#9c179e"
            ],
            [
             0.4444444444444444,
             "#bd3786"
            ],
            [
             0.5555555555555556,
             "#d8576b"
            ],
            [
             0.6666666666666666,
             "#ed7953"
            ],
            [
             0.7777777777777778,
             "#fb9f3a"
            ],
            [
             0.8888888888888888,
             "#fdca26"
            ],
            [
             1,
             "#f0f921"
            ]
           ]
          },
          "colorway": [
           "#636efa",
           "#EF553B",
           "#00cc96",
           "#ab63fa",
           "#FFA15A",
           "#19d3f3",
           "#FF6692",
           "#B6E880",
           "#FF97FF",
           "#FECB52"
          ],
          "font": {
           "color": "#2a3f5f"
          },
          "geo": {
           "bgcolor": "white",
           "lakecolor": "white",
           "landcolor": "#E5ECF6",
           "showlakes": true,
           "showland": true,
           "subunitcolor": "white"
          },
          "hoverlabel": {
           "align": "left"
          },
          "hovermode": "closest",
          "mapbox": {
           "style": "light"
          },
          "paper_bgcolor": "white",
          "plot_bgcolor": "#E5ECF6",
          "polar": {
           "angularaxis": {
            "gridcolor": "white",
            "linecolor": "white",
            "ticks": ""
           },
           "bgcolor": "#E5ECF6",
           "radialaxis": {
            "gridcolor": "white",
            "linecolor": "white",
            "ticks": ""
           }
          },
          "scene": {
           "xaxis": {
            "backgroundcolor": "#E5ECF6",
            "gridcolor": "white",
            "gridwidth": 2,
            "linecolor": "white",
            "showbackground": true,
            "ticks": "",
            "zerolinecolor": "white"
           },
           "yaxis": {
            "backgroundcolor": "#E5ECF6",
            "gridcolor": "white",
            "gridwidth": 2,
            "linecolor": "white",
            "showbackground": true,
            "ticks": "",
            "zerolinecolor": "white"
           },
           "zaxis": {
            "backgroundcolor": "#E5ECF6",
            "gridcolor": "white",
            "gridwidth": 2,
            "linecolor": "white",
            "showbackground": true,
            "ticks": "",
            "zerolinecolor": "white"
           }
          },
          "shapedefaults": {
           "line": {
            "color": "#2a3f5f"
           }
          },
          "ternary": {
           "aaxis": {
            "gridcolor": "white",
            "linecolor": "white",
            "ticks": ""
           },
           "baxis": {
            "gridcolor": "white",
            "linecolor": "white",
            "ticks": ""
           },
           "bgcolor": "#E5ECF6",
           "caxis": {
            "gridcolor": "white",
            "linecolor": "white",
            "ticks": ""
           }
          },
          "title": {
           "x": 0.05
          },
          "xaxis": {
           "automargin": true,
           "gridcolor": "white",
           "linecolor": "white",
           "ticks": "",
           "title": {
            "standoff": 15
           },
           "zerolinecolor": "white",
           "zerolinewidth": 2
          },
          "yaxis": {
           "automargin": true,
           "gridcolor": "white",
           "linecolor": "white",
           "ticks": "",
           "title": {
            "standoff": 15
           },
           "zerolinecolor": "white",
           "zerolinewidth": 2
          }
         }
        },
        "title": {
         "text": "Distribution of Sepal Length in Iris Dataset"
        },
        "xaxis": {
         "anchor": "y",
         "autorange": true,
         "domain": [
          0,
          1
         ],
         "range": [
          4.1,
          8.1
         ],
         "title": {
          "text": "sepal_length"
         },
         "type": "linear"
        },
        "xaxis2": {
         "anchor": "y2",
         "autorange": true,
         "domain": [
          0,
          1
         ],
         "matches": "x",
         "range": [
          4.1,
          8.1
         ],
         "showgrid": true,
         "showticklabels": false,
         "type": "linear"
        },
        "yaxis": {
         "anchor": "x",
         "autorange": true,
         "domain": [
          0,
          0.8316
         ],
         "range": [
          0,
          20
         ],
         "title": {
          "text": "count"
         }
        },
        "yaxis2": {
         "anchor": "x2",
         "autorange": true,
         "domain": [
          0.8416,
          1
         ],
         "matches": "y2",
         "range": [
          -0.6175917215428034,
          0.5
         ],
         "showgrid": false,
         "showline": false,
         "showticklabels": false,
         "ticks": "",
         "type": "category"
        }
       }
      },
      "image/png": "[encoded data removed]",
      "text/html": [
       "<div>                            <div id=\"445c5df9-8927-4c50-adaf-bd4230ae3cb2\" class=\"plotly-graph-div\" style=\"height:525px; width:100%;\"></div>            <script type=\"text/javascript\">                require([\"plotly\"], function(Plotly) {                    window.PLOTLYENV=window.PLOTLYENV || {};                                    if (document.getElementById(\"445c5df9-8927-4c50-adaf-bd4230ae3cb2\")) {                    Plotly.newPlot(                        \"445c5df9-8927-4c50-adaf-bd4230ae3cb2\",                        [{\"alignmentgroup\":\"True\",\"bingroup\":\"x\",\"hovertemplate\":\"sepal_length=%{x}\\u003cbr\\u003ecount=%{y}\\u003cextra\\u003e\\u003c\\u002fextra\\u003e\",\"legendgroup\":\"\",\"marker\":{\"color\":\"#636efa\",\"opacity\":0.7,\"pattern\":{\"shape\":\"\"}},\"name\":\"\",\"nbinsx\":30,\"offsetgroup\":\"\",\"orientation\":\"v\",\"showlegend\":false,\"x\":[5.1,4.9,4.7,4.6,5.0,5.4,4.6,5.0,4.4,4.9,5.4,4.8,4.8,4.3,5.8,5.7,5.4,5.1,5.7,5.1,5.4,5.1,4.6,5.1,4.8,5.0,5.0,5.2,5.2,4.7,4.8,5.4,5.2,5.5,4.9,5.0,5.5,4.9,4.4,5.1,5.0,4.5,4.4,5.0,5.1,4.8,5.1,4.6,5.3,5.0,7.0,6.4,6.9,5.5,6.5,5.7,6.3,4.9,6.6,5.2,5.0,5.9,6.0,6.1,5.6,6.7,5.6,5.8,6.2,5.6,5.9,6.1,6.3,6.1,6.4,6.6,6.8,6.7,6.0,5.7,5.5,5.5,5.8,6.0,5.4,6.0,6.7,6.3,5.6,5.5,5.5,6.1,5.8,5.0,5.6,5.7,5.7,6.2,5.1,5.7,6.3,5.8,7.1,6.3,6.5,7.6,4.9,7.3,6.7,7.2,6.5,6.4,6.8,5.7,5.8,6.4,6.5,7.7,7.7,6.0,6.9,5.6,7.7,6.3,6.7,7.2,6.2,6.1,6.4,7.2,7.4,7.9,6.4,6.3,6.1,7.7,6.3,6.4,6.0,6.9,6.7,6.9,5.8,6.8,6.7,6.7,6.3,6.5,6.2,5.9],\"xaxis\":\"x\",\"yaxis\":\"y\",\"type\":\"histogram\"},{\"alignmentgroup\":\"True\",\"boxpoints\":\"all\",\"fillcolor\":\"rgba(255,255,255,0)\",\"hoveron\":\"points\",\"hovertemplate\":\"sepal_length=%{x}\\u003cextra\\u003e\\u003c\\u002fextra\\u003e\",\"jitter\":0,\"legendgroup\":\"\",\"line\":{\"color\":\"rgba(255,255,255,0)\"},\"marker\":{\"color\":\"#636efa\",\"symbol\":\"line-ns-open\"},\"name\":\"\",\"offsetgroup\":\"\",\"showlegend\":false,\"x\":[5.1,4.9,4.7,4.6,5.0,5.4,4.6,5.0,4.4,4.9,5.4,4.8,4.8,4.3,5.8,5.7,5.4,5.1,5.7,5.1,5.4,5.1,4.6,5.1,4.8,5.0,5.0,5.2,5.2,4.7,4.8,5.4,5.2,5.5,4.9,5.0,5.5,4.9,4.4,5.1,5.0,4.5,4.4,5.0,5.1,4.8,5.1,4.6,5.3,5.0,7.0,6.4,6.9,5.5,6.5,5.7,6.3,4.9,6.6,5.2,5.0,5.9,6.0,6.1,5.6,6.7,5.6,5.8,6.2,5.6,5.9,6.1,6.3,6.1,6.4,6.6,6.8,6.7,6.0,5.7,5.5,5.5,5.8,6.0,5.4,6.0,6.7,6.3,5.6,5.5,5.5,6.1,5.8,5.0,5.6,5.7,5.7,6.2,5.1,5.7,6.3,5.8,7.1,6.3,6.5,7.6,4.9,7.3,6.7,7.2,6.5,6.4,6.8,5.7,5.8,6.4,6.5,7.7,7.7,6.0,6.9,5.6,7.7,6.3,6.7,7.2,6.2,6.1,6.4,7.2,7.4,7.9,6.4,6.3,6.1,7.7,6.3,6.4,6.0,6.9,6.7,6.9,5.8,6.8,6.7,6.7,6.3,6.5,6.2,5.9],\"xaxis\":\"x2\",\"yaxis\":\"y2\",\"type\":\"box\"}],                        {\"template\":{\"data\":{\"histogram2dcontour\":[{\"type\":\"histogram2dcontour\",\"colorbar\":{\"outlinewidth\":0,\"ticks\":\"\"},\"colorscale\":[[0.0,\"#0d0887\"],[0.1111111111111111,\"#46039f\"],[0.2222222222222222,\"#7201a8\"],[0.3333333333333333,\"#9c179e\"],[0.4444444444444444,\"#bd3786\"],[0.5555555555555556,\"#d8576b\"],[0.6666666666666666,\"#ed7953\"],[0.7777777777777778,\"#fb9f3a\"],[0.8888888888888888,\"#fdca26\"],[1.0,\"#f0f921\"]]}],\"choropleth\":[{\"type\":\"choropleth\",\"colorbar\":{\"outlinewidth\":0,\"ticks\":\"\"}}],\"histogram2d\":[{\"type\":\"histogram2d\",\"colorbar\":{\"outlinewidth\":0,\"ticks\":\"\"},\"colorscale\":[[0.0,\"#0d0887\"],[0.1111111111111111,\"#46039f\"],[0.2222222222222222,\"#7201a8\"],[0.3333333333333333,\"#9c179e\"],[0.4444444444444444,\"#bd3786\"],[0.5555555555555556,\"#d8576b\"],[0.6666666666666666,\"#ed7953\"],[0.7777777777777778,\"#fb9f3a\"],[0.8888888888888888,\"#fdca26\"],[1.0,\"#f0f921\"]]}],\"heatmap\":[{\"type\":\"heatmap\",\"colorbar\":{\"outlinewidth\":0,\"ticks\":\"\"},\"colorscale\":[[0.0,\"#0d0887\"],[0.1111111111111111,\"#46039f\"],[0.2222222222222222,\"#7201a8\"],[0.3333333333333333,\"#9c179e\"],[0.4444444444444444,\"#bd3786\"],[0.5555555555555556,\"#d8576b\"],[0.6666666666666666,\"#ed7953\"],[0.7777777777777778,\"#fb9f3a\"],[0.8888888888888888,\"#fdca26\"],[1.0,\"#f0f921\"]]}],\"heatmapgl\":[{\"type\":\"heatmapgl\",\"colorbar\":{\"outlinewidth\":0,\"ticks\":\"\"},\"colorscale\":[[0.0,\"#0d0887\"],[0.1111111111111111,\"#46039f\"],[0.2222222222222222,\"#7201a8\"],[0.3333333333333333,\"#9c179e\"],[0.4444444444444444,\"#bd3786\"],[0.5555555555555556,\"#d8576b\"],[0.6666666666666666,\"#ed7953\"],[0.7777777777777778,\"#fb9f3a\"],[0.8888888888888888,\"#fdca26\"],[1.0,\"#f0f921\"]]}],\"contourcarpet\":[{\"type\":\"contourcarpet\",\"colorbar\":{\"outlinewidth\":0,\"ticks\":\"\"}}],\"contour\":[{\"type\":\"contour\",\"colorbar\":{\"outlinewidth\":0,\"ticks\":\"\"},\"colorscale\":[[0.0,\"#0d0887\"],[0.1111111111111111,\"#46039f\"],[0.2222222222222222,\"#7201a8\"],[0.3333333333333333,\"#9c179e\"],[0.4444444444444444,\"#bd3786\"],[0.5555555555555556,\"#d8576b\"],[0.6666666666666666,\"#ed7953\"],[0.7777777777777778,\"#fb9f3a\"],[0.8888888888888888,\"#fdca26\"],[1.0,\"#f0f921\"]]}],\"surface\":[{\"type\":\"surface\",\"colorbar\":{\"outlinewidth\":0,\"ticks\":\"\"},\"colorscale\":[[0.0,\"#0d0887\"],[0.1111111111111111,\"#46039f\"],[0.2222222222222222,\"#7201a8\"],[0.3333333333333333,\"#9c179e\"],[0.4444444444444444,\"#bd3786\"],[0.5555555555555556,\"#d8576b\"],[0.6666666666666666,\"#ed7953\"],[0.7777777777777778,\"#fb9f3a\"],[0.8888888888888888,\"#fdca26\"],[1.0,\"#f0f921\"]]}],\"mesh3d\":[{\"type\":\"mesh3d\",\"colorbar\":{\"outlinewidth\":0,\"ticks\":\"\"}}],\"scatter\":[{\"fillpattern\":{\"fillmode\":\"overlay\",\"size\":10,\"solidity\":0.2},\"type\":\"scatter\"}],\"parcoords\":[{\"type\":\"parcoords\",\"line\":{\"colorbar\":{\"outlinewidth\":0,\"ticks\":\"\"}}}],\"scatterpolargl\":[{\"type\":\"scatterpolargl\",\"marker\":{\"colorbar\":{\"outlinewidth\":0,\"ticks\":\"\"}}}],\"bar\":[{\"error_x\":{\"color\":\"#2a3f5f\"},\"error_y\":{\"color\":\"#2a3f5f\"},\"marker\":{\"line\":{\"color\":\"#E5ECF6\",\"width\":0.5},\"pattern\":{\"fillmode\":\"overlay\",\"size\":10,\"solidity\":0.2}},\"type\":\"bar\"}],\"scattergeo\":[{\"type\":\"scattergeo\",\"marker\":{\"colorbar\":{\"outlinewidth\":0,\"ticks\":\"\"}}}],\"scatterpolar\":[{\"type\":\"scatterpolar\",\"marker\":{\"colorbar\":{\"outlinewidth\":0,\"ticks\":\"\"}}}],\"histogram\":[{\"marker\":{\"pattern\":{\"fillmode\":\"overlay\",\"size\":10,\"solidity\":0.2}},\"type\":\"histogram\"}],\"scattergl\":[{\"type\":\"scattergl\",\"marker\":{\"colorbar\":{\"outlinewidth\":0,\"ticks\":\"\"}}}],\"scatter3d\":[{\"type\":\"scatter3d\",\"line\":{\"colorbar\":{\"outlinewidth\":0,\"ticks\":\"\"}},\"marker\":{\"colorbar\":{\"outlinewidth\":0,\"ticks\":\"\"}}}],\"scattermapbox\":[{\"type\":\"scattermapbox\",\"marker\":{\"colorbar\":{\"outlinewidth\":0,\"ticks\":\"\"}}}],\"scatterternary\":[{\"type\":\"scatterternary\",\"marker\":{\"colorbar\":{\"outlinewidth\":0,\"ticks\":\"\"}}}],\"scattercarpet\":[{\"type\":\"scattercarpet\",\"marker\":{\"colorbar\":{\"outlinewidth\":0,\"ticks\":\"\"}}}],\"carpet\":[{\"aaxis\":{\"endlinecolor\":\"#2a3f5f\",\"gridcolor\":\"white\",\"linecolor\":\"white\",\"minorgridcolor\":\"white\",\"startlinecolor\":\"#2a3f5f\"},\"baxis\":{\"endlinecolor\":\"#2a3f5f\",\"gridcolor\":\"white\",\"linecolor\":\"white\",\"minorgridcolor\":\"white\",\"startlinecolor\":\"#2a3f5f\"},\"type\":\"carpet\"}],\"table\":[{\"cells\":{\"fill\":{\"color\":\"#EBF0F8\"},\"line\":{\"color\":\"white\"}},\"header\":{\"fill\":{\"color\":\"#C8D4E3\"},\"line\":{\"color\":\"white\"}},\"type\":\"table\"}],\"barpolar\":[{\"marker\":{\"line\":{\"color\":\"#E5ECF6\",\"width\":0.5},\"pattern\":{\"fillmode\":\"overlay\",\"size\":10,\"solidity\":0.2}},\"type\":\"barpolar\"}],\"pie\":[{\"automargin\":true,\"type\":\"pie\"}]},\"layout\":{\"autotypenumbers\":\"strict\",\"colorway\":[\"#636efa\",\"#EF553B\",\"#00cc96\",\"#ab63fa\",\"#FFA15A\",\"#19d3f3\",\"#FF6692\",\"#B6E880\",\"#FF97FF\",\"#FECB52\"],\"font\":{\"color\":\"#2a3f5f\"},\"hovermode\":\"closest\",\"hoverlabel\":{\"align\":\"left\"},\"paper_bgcolor\":\"white\",\"plot_bgcolor\":\"#E5ECF6\",\"polar\":{\"bgcolor\":\"#E5ECF6\",\"angularaxis\":{\"gridcolor\":\"white\",\"linecolor\":\"white\",\"ticks\":\"\"},\"radialaxis\":{\"gridcolor\":\"white\",\"linecolor\":\"white\",\"ticks\":\"\"}},\"ternary\":{\"bgcolor\":\"#E5ECF6\",\"aaxis\":{\"gridcolor\":\"white\",\"linecolor\":\"white\",\"ticks\":\"\"},\"baxis\":{\"gridcolor\":\"white\",\"linecolor\":\"white\",\"ticks\":\"\"},\"caxis\":{\"gridcolor\":\"white\",\"linecolor\":\"white\",\"ticks\":\"\"}},\"coloraxis\":{\"colorbar\":{\"outlinewidth\":0,\"ticks\":\"\"}},\"colorscale\":{\"sequential\":[[0.0,\"#0d0887\"],[0.1111111111111111,\"#46039f\"],[0.2222222222222222,\"#7201a8\"],[0.3333333333333333,\"#9c179e\"],[0.4444444444444444,\"#bd3786\"],[0.5555555555555556,\"#d8576b\"],[0.6666666666666666,\"#ed7953\"],[0.7777777777777778,\"#fb9f3a\"],[0.8888888888888888,\"#fdca26\"],[1.0,\"#f0f921\"]],\"sequentialminus\":[[0.0,\"#0d0887\"],[0.1111111111111111,\"#46039f\"],[0.2222222222222222,\"#7201a8\"],[0.3333333333333333,\"#9c179e\"],[0.4444444444444444,\"#bd3786\"],[0.5555555555555556,\"#d8576b\"],[0.6666666666666666,\"#ed7953\"],[0.7777777777777778,\"#fb9f3a\"],[0.8888888888888888,\"#fdca26\"],[1.0,\"#f0f921\"]],\"diverging\":[[0,\"#8e0152\"],[0.1,\"#c51b7d\"],[0.2,\"#de77ae\"],[0.3,\"#f1b6da\"],[0.4,\"#fde0ef\"],[0.5,\"#f7f7f7\"],[0.6,\"#e6f5d0\"],[0.7,\"#b8e186\"],[0.8,\"#7fbc41\"],[0.9,\"#4d9221\"],[1,\"#276419\"]]},\"xaxis\":{\"gridcolor\":\"white\",\"linecolor\":\"white\",\"ticks\":\"\",\"title\":{\"standoff\":15},\"zerolinecolor\":\"white\",\"automargin\":true,\"zerolinewidth\":2},\"yaxis\":{\"gridcolor\":\"white\",\"linecolor\":\"white\",\"ticks\":\"\",\"title\":{\"standoff\":15},\"zerolinecolor\":\"white\",\"automargin\":true,\"zerolinewidth\":2},\"scene\":{\"xaxis\":{\"backgroundcolor\":\"#E5ECF6\",\"gridcolor\":\"white\",\"linecolor\":\"white\",\"showbackground\":true,\"ticks\":\"\",\"zerolinecolor\":\"white\",\"gridwidth\":2},\"yaxis\":{\"backgroundcolor\":\"#E5ECF6\",\"gridcolor\":\"white\",\"linecolor\":\"white\",\"showbackground\":true,\"ticks\":\"\",\"zerolinecolor\":\"white\",\"gridwidth\":2},\"zaxis\":{\"backgroundcolor\":\"#E5ECF6\",\"gridcolor\":\"white\",\"linecolor\":\"white\",\"showbackground\":true,\"ticks\":\"\",\"zerolinecolor\":\"white\",\"gridwidth\":2}},\"shapedefaults\":{\"line\":{\"color\":\"#2a3f5f\"}},\"annotationdefaults\":{\"arrowcolor\":\"#2a3f5f\",\"arrowhead\":0,\"arrowwidth\":1},\"geo\":{\"bgcolor\":\"white\",\"landcolor\":\"#E5ECF6\",\"subunitcolor\":\"white\",\"showland\":true,\"showlakes\":true,\"lakecolor\":\"white\"},\"title\":{\"x\":0.05},\"mapbox\":{\"style\":\"light\"}}},\"xaxis\":{\"anchor\":\"y\",\"domain\":[0.0,1.0],\"title\":{\"text\":\"sepal_length\"}},\"yaxis\":{\"anchor\":\"x\",\"domain\":[0.0,0.8316],\"title\":{\"text\":\"count\"}},\"xaxis2\":{\"anchor\":\"y2\",\"domain\":[0.0,1.0],\"matches\":\"x\",\"showticklabels\":false,\"showgrid\":true},\"yaxis2\":{\"anchor\":\"x2\",\"domain\":[0.8416,1.0],\"matches\":\"y2\",\"showticklabels\":false,\"showline\":false,\"ticks\":\"\",\"showgrid\":false},\"legend\":{\"tracegroupgap\":0},\"title\":{\"text\":\"Distribution of Sepal Length in Iris Dataset\"},\"barmode\":\"relative\"},                        {\"responsive\": true}                    ).then(function(){\n",
       "                            \n",
       "var gd = document.getElementById('445c5df9-8927-4c50-adaf-bd4230ae3cb2');\n",
       "var x = new MutationObserver(function (mutations, observer) {{\n",
       "        var display = window.getComputedStyle(gd).display;\n",
       "        if (!display || display === 'none') {{\n",
       "            console.log([gd, 'removed!']);\n",
       "            Plotly.purge(gd);\n",
       "            observer.disconnect();\n",
       "        }}\n",
       "}});\n",
       "\n",
       "// Listen for the removal of the full notebook cells\n",
       "var notebookContainer = gd.closest('#notebook-container');\n",
       "if (notebookContainer) {{\n",
       "    x.observe(notebookContainer, {childList: true});\n",
       "}}\n",
       "\n",
       "// Listen for the clearing of the current output cell\n",
       "var outputEl = gd.closest('.output');\n",
       "if (outputEl) {{\n",
       "    x.observe(outputEl, {childList: true});\n",
       "}}\n",
       "\n",
       "                        })                };                });            </script>        </div>"
      ]
     },
     "metadata": {},
     "output_type": "display_data"
    }
   ],
   "source": [
    "# the distplot function is a part of the Seaborn library, not Plotly Express. It is used to create a histogram along with a kernel density estimate (KDE) plot to visualize the distribution of a single numerical variable. The distplot function combines both a histogram and a KDE curve, providing a smooth representation of the underlying data distribution.\n",
    "\n",
    "# If you want to use Plotly Express to plot a similar type of distribution plot, you can use the histogram function, which can create a histogram with optional KDE curve or probability density function (PDF) curve.\n",
    "\n",
    "# Here's an example of how to plot a distribution using Plotly Express:\n",
    "\n",
    "import plotly.express as px\n",
    "\n",
    "# Load the \"iris\" dataset\n",
    "iris_data = px.data.iris()\n",
    "\n",
    "# Plot a distribution using Plotly Express\n",
    "fig = px.histogram(iris_data, x='sepal_length', nbins=30, opacity=0.7, marginal='rug',\n",
    "                   title='Distribution of Sepal Length in Iris Dataset')\n",
    "\n",
    "# Show the plot\n",
    "fig.show()\n",
    "\n",
    "# In this code, we used px.histogram from Plotly Express to create the distribution plot. The x parameter is set to 'sepal_length' to specify the numerical column for the x-axis. The nbins parameter sets the number of bins for the histogram, and the opacity parameter sets the transparency level of the bars.\n",
    "\n",
    "# The marginal parameter is set to 'rug' to display small vertical lines (rug plot) along the x-axis, which shows individual data points' positions. You can change it to 'box', 'violin', or other options to display additional distribution summaries.\n",
    "\n",
    "# The title parameter sets the title of the plot.\n",
    "\n",
    "# Running this code will create an interactive distribution plot (histogram) of the 'sepal_length' column in the \"iris\" dataset using Plotly Express. The plot will include the histogram and rug plot for individual data points' positions. You can explore the plot by hovering over the bars or data points."
   ]
  },
  {
   "cell_type": "code",
   "execution_count": null,
   "id": "6c638eaf-bb2a-4c82-b308-5201da3527e6",
   "metadata": {},
   "outputs": [],
   "source": []
  }
 ],
 "metadata": {
  "kernelspec": {
   "display_name": "Python 3 (ipykernel)",
   "language": "python",
   "name": "python3"
  },
  "language_info": {
   "codemirror_mode": {
    "name": "ipython",
    "version": 3
   },
   "file_extension": ".py",
   "mimetype": "text/x-python",
   "name": "python",
   "nbconvert_exporter": "python",
   "pygments_lexer": "ipython3",
   "version": "3.10.8"
  }
 },
 "nbformat": 4,
 "nbformat_minor": 5
}
