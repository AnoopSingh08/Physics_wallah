{
 "cells": [
  {
   "cell_type": "markdown",
   "id": "f647efbe-0fa9-4040-8a3d-db705a834797",
   "metadata": {},
   "source": [
    "Question1"
   ]
  },
  {
   "cell_type": "code",
   "execution_count": 4,
   "id": "a93cd09c-edbd-4127-870c-5b2d0db0d9ec",
   "metadata": {},
   "outputs": [],
   "source": [
    "# \"def\" keyword is used to create a function\n",
    "def oddNum():\n",
    "    l1 =[]\n",
    "    for x in range(1,26):\n",
    "        if x%2 != 0:\n",
    "            l1.append(x)\n",
    "    return l1        "
   ]
  },
  {
   "cell_type": "code",
   "execution_count": 5,
   "id": "61657d96-0d38-493f-bf6d-33fd0bce6ae4",
   "metadata": {},
   "outputs": [
    {
     "data": {
      "text/plain": [
       "[1, 3, 5, 7, 9, 11, 13, 15, 17, 19, 21, 23, 25]"
      ]
     },
     "execution_count": 5,
     "metadata": {},
     "output_type": "execute_result"
    }
   ],
   "source": [
    "oddNum()"
   ]
  },
  {
   "cell_type": "markdown",
   "id": "bac5d661-9897-43ba-8993-5a940c9f28e2",
   "metadata": {},
   "source": [
    "Question2"
   ]
  },
  {
   "cell_type": "code",
   "execution_count": 6,
   "id": "b729c40d-243c-4d1b-aaf7-f8d79010a77d",
   "metadata": {},
   "outputs": [
    {
     "name": "stdout",
     "output_type": "stream",
     "text": [
      "1\n",
      "2\n",
      "3\n",
      "Hello\n",
      "[4, 5]\n",
      "name : John\n",
      "age : 25\n",
      "city : New York\n"
     ]
    }
   ],
   "source": [
    "# In Python, *args and **kwargs are used to allow a function to accept a variable number of arguments.\n",
    "# Within the function, *args becomes a tuple containing all the arguments passed.\n",
    "def print_args(*args):\n",
    "    for arg in args:\n",
    "        print(arg)\n",
    "\n",
    "# Calling the function\n",
    "print_args(1, 2, 3, \"Hello\", [4, 5])\n",
    "# In this example, the print_args() function accepts any number of arguments and prints each argument on a new line.\n",
    "# **kwargs allows a function to accept a variable number of keyword arguments, which are passed as a dictionary to the function.\n",
    "# It is useful when you want to pass named arguments to a function without knowing the specific names beforehand\n",
    "def print_kwargs(**kwargs):\n",
    "    for key, value in kwargs.items():\n",
    "        print(key, \":\", value)\n",
    "\n",
    "# Calling the function\n",
    "print_kwargs(name=\"John\", age=25, city=\"New York\")\n"
   ]
  },
  {
   "cell_type": "markdown",
   "id": "6295dc4c-9cd0-4606-b28b-21556e85c745",
   "metadata": {},
   "source": [
    "Question3"
   ]
  },
  {
   "cell_type": "code",
   "execution_count": 1,
   "id": "5f605f5b-58da-475f-b6f3-ab2c9b627ea6",
   "metadata": {},
   "outputs": [
    {
     "name": "stdout",
     "output_type": "stream",
     "text": [
      "2\n",
      "4\n",
      "6\n",
      "8\n",
      "10\n"
     ]
    }
   ],
   "source": [
    "# In Python, an iterator is an object that allows traversal or iteration over a container, such as a list, tuple, or dictionary. \n",
    "# It provides a way to access elements of the container sequentially without exposing the underlying structure. \n",
    "# To initialize an iterator object, you can use the iter() method. This method takes an iterable as an argument and returns an iterator object.\n",
    "# To iterate over the elements of an iterator, you can use the next() method. This method returns the next element in the iterator. \n",
    "# By calling next() repeatedly, you can access each element in sequence until the iterator is exhausted.\n",
    "l1=[2,4,6,8,10,12,14,16,18,20]\n",
    "l2 = iter(l1)\n",
    "for _ in range(5):\n",
    "    iter_element = next(l2)\n",
    "    print(iter_element)"
   ]
  },
  {
   "cell_type": "markdown",
   "id": "ab96162c-6046-4a6a-a53f-b53dbe04e24c",
   "metadata": {},
   "source": [
    "Question4"
   ]
  },
  {
   "cell_type": "code",
   "execution_count": 8,
   "id": "110277d5-d63c-43a2-8884-09bfab72df04",
   "metadata": {},
   "outputs": [
    {
     "name": "stdout",
     "output_type": "stream",
     "text": [
      "0\n",
      "2\n",
      "4\n",
      "6\n",
      "8\n",
      "10\n"
     ]
    }
   ],
   "source": [
    "# In Python, a generator function is a special type of function that returns an iterator. It allows you to define a function that behaves\n",
    "# like an iterator, producing a sequence of values lazily or on-demand, rather than generating all the values at once and storing them in memory.\n",
    "# The yield keyword is used in generator functions to define a value to be yielded (returned) to the caller, without terminating the function. \n",
    "# When a generator function is called, it returns a generator object, which can be iterated over to retrieve the values yielded by the function.\n",
    "# Example of printing the prime numbers using generator function is:-\n",
    "def evenNum(limit):\n",
    "    n = 0\n",
    "    while (n <= limit):\n",
    "        yield(n)\n",
    "        n= n + 2\n",
    "# Using the generator function\n",
    "my_generator = evenNum(10)\n",
    "\n",
    "for number in my_generator:\n",
    "    print(number)        "
   ]
  },
  {
   "cell_type": "markdown",
   "id": "46791721-aca1-46ff-bdfe-840687828f67",
   "metadata": {},
   "source": [
    "Question5"
   ]
  },
  {
   "cell_type": "code",
   "execution_count": 4,
   "id": "3d847e05-3157-48df-9dfc-098d28ad060d",
   "metadata": {},
   "outputs": [
    {
     "name": "stdout",
     "output_type": "stream",
     "text": [
      "2\n",
      "3\n",
      "5\n",
      "7\n",
      "11\n",
      "13\n",
      "17\n",
      "19\n",
      "23\n",
      "29\n",
      "31\n",
      "37\n",
      "41\n",
      "43\n",
      "47\n",
      "53\n",
      "59\n",
      "61\n",
      "67\n",
      "71\n"
     ]
    }
   ],
   "source": [
    "def prime_generator():\n",
    "    primes = []\n",
    "    num = 2\n",
    "    while True:\n",
    "        if all(num % prime != 0 for prime in primes):\n",
    "            primes.append(num)\n",
    "            yield num\n",
    "        num += 1\n",
    "\n",
    "# Using the generator function\n",
    "my_generator = prime_generator()\n",
    "\n",
    "for _ in range(20):\n",
    "    prime_number = next(my_generator)\n",
    "    print(prime_number)\n",
    "   "
   ]
  },
  {
   "cell_type": "markdown",
   "id": "4acde6a0-8150-40ba-817c-0aac733278b0",
   "metadata": {},
   "source": [
    "Question6"
   ]
  },
  {
   "cell_type": "code",
   "execution_count": 7,
   "id": "5ad7549d-7858-4c28-a6f6-15e564946a64",
   "metadata": {},
   "outputs": [
    {
     "name": "stdout",
     "output_type": "stream",
     "text": [
      "1\n",
      "1\n",
      "2\n",
      "3\n",
      "5\n",
      "8\n",
      "13\n",
      "21\n",
      "34\n",
      "55\n"
     ]
    }
   ],
   "source": [
    "n=10\n",
    "a=0\n",
    "b=1\n",
    "while n>0:\n",
    "    a,b = b,a+b\n",
    "    print(a)\n",
    "    n-=1"
   ]
  },
  {
   "cell_type": "markdown",
   "id": "85cb4430-ba89-47e3-9270-92d279fa18f1",
   "metadata": {},
   "source": [
    "Question7"
   ]
  },
  {
   "cell_type": "code",
   "execution_count": 8,
   "id": "b0a521e7-20a2-4c5d-bf71-7dcb8767b848",
   "metadata": {},
   "outputs": [
    {
     "name": "stdout",
     "output_type": "stream",
     "text": [
      "['p', 'w', 's', 'k', 'i', 'l', 'l', 's']\n"
     ]
    }
   ],
   "source": [
    "s='pwskills'\n",
    "l1 = [i for i in s]\n",
    "print(l1)"
   ]
  },
  {
   "cell_type": "markdown",
   "id": "16ef2c4d-fd1b-45e9-b64c-f264744545dd",
   "metadata": {},
   "source": [
    "Question8"
   ]
  },
  {
   "cell_type": "code",
   "execution_count": 24,
   "id": "1d5f2008-44df-4d2f-8590-084acb38d6ee",
   "metadata": {},
   "outputs": [
    {
     "name": "stdin",
     "output_type": "stream",
     "text": [
      "enter a number 1221\n"
     ]
    },
    {
     "name": "stdout",
     "output_type": "stream",
     "text": [
      "No is a palindrome\n"
     ]
    }
   ],
   "source": [
    "n=input(\"enter a number\")\n",
    "ln=len(n)\n",
    "rev=n[::-1]\n",
    "while ln > 0:\n",
    "    ln-=1    \n",
    "    if n[ln] != rev[ln]:\n",
    "        a = False\n",
    "    else:\n",
    "        a = True\n",
    "if a == True:\n",
    "    print(\"No is a palindrome\")\n",
    "else:\n",
    "    print(\"No is not a palindrome\")"
   ]
  },
  {
   "cell_type": "markdown",
   "id": "ef576d32-1e6e-4678-a3b6-00df6a0a506e",
   "metadata": {},
   "source": [
    "Question9"
   ]
  },
  {
   "cell_type": "code",
   "execution_count": 28,
   "id": "78670725-c83f-4199-8816-504b8d3f9764",
   "metadata": {},
   "outputs": [
    {
     "data": {
      "text/plain": [
       "[1,\n",
       " 3,\n",
       " 5,\n",
       " 7,\n",
       " 9,\n",
       " 11,\n",
       " 13,\n",
       " 15,\n",
       " 17,\n",
       " 19,\n",
       " 21,\n",
       " 23,\n",
       " 25,\n",
       " 27,\n",
       " 29,\n",
       " 31,\n",
       " 33,\n",
       " 35,\n",
       " 37,\n",
       " 39,\n",
       " 41,\n",
       " 43,\n",
       " 45,\n",
       " 47,\n",
       " 49,\n",
       " 51,\n",
       " 53,\n",
       " 55,\n",
       " 57,\n",
       " 59,\n",
       " 61,\n",
       " 63,\n",
       " 65,\n",
       " 67,\n",
       " 69,\n",
       " 71,\n",
       " 73,\n",
       " 75,\n",
       " 77,\n",
       " 79,\n",
       " 81,\n",
       " 83,\n",
       " 85,\n",
       " 87,\n",
       " 89,\n",
       " 91,\n",
       " 93,\n",
       " 95,\n",
       " 97,\n",
       " 99]"
      ]
     },
     "execution_count": 28,
     "metadata": {},
     "output_type": "execute_result"
    }
   ],
   "source": [
    "l = [i for i in range(1,101)]\n",
    "l_odd = [j for j in l if j%2 != 0]\n",
    "l_odd"
   ]
  },
  {
   "cell_type": "code",
   "execution_count": null,
   "id": "dc973ddb-1361-48d1-8a76-7e9523ee1cf7",
   "metadata": {},
   "outputs": [],
   "source": []
  }
 ],
 "metadata": {
  "kernelspec": {
   "display_name": "Python 3 (ipykernel)",
   "language": "python",
   "name": "python3"
  },
  "language_info": {
   "codemirror_mode": {
    "name": "ipython",
    "version": 3
   },
   "file_extension": ".py",
   "mimetype": "text/x-python",
   "name": "python",
   "nbconvert_exporter": "python",
   "pygments_lexer": "ipython3",
   "version": "3.10.8"
  }
 },
 "nbformat": 4,
 "nbformat_minor": 5
}
