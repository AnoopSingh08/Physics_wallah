{
 "cells": [
  {
   "cell_type": "markdown",
   "id": "f03a2b2b-1afb-46d6-9435-494f07128790",
   "metadata": {},
   "source": [
    "### Question1"
   ]
  },
  {
   "cell_type": "code",
   "execution_count": 1,
   "id": "61677d0d-811f-4f2c-8ea3-f1d52cad9020",
   "metadata": {},
   "outputs": [
    {
     "name": "stdout",
     "output_type": "stream",
     "text": [
      "0     4\n",
      "1     8\n",
      "2    15\n",
      "3    16\n",
      "4    23\n",
      "5    42\n",
      "dtype: int64\n"
     ]
    }
   ],
   "source": [
    "import pandas as pd\n",
    "\n",
    "data = [4, 8, 15, 16, 23, 42]\n",
    "series = pd.Series(data)\n",
    "\n",
    "print(series)\n"
   ]
  },
  {
   "cell_type": "markdown",
   "id": "d28926db-610e-4cc1-a1cd-85337b363eb8",
   "metadata": {},
   "source": [
    "### Question2"
   ]
  },
  {
   "cell_type": "code",
   "execution_count": 2,
   "id": "6b3fa944-ce68-4057-baf2-3b7292c2456d",
   "metadata": {},
   "outputs": [
    {
     "name": "stdout",
     "output_type": "stream",
     "text": [
      "0     1\n",
      "1     2\n",
      "2     3\n",
      "3     4\n",
      "4     5\n",
      "5     6\n",
      "6     7\n",
      "7     8\n",
      "8     9\n",
      "9    10\n",
      "dtype: int64\n"
     ]
    }
   ],
   "source": [
    "import pandas as pd\n",
    "\n",
    "my_list = [1, 2, 3, 4, 5, 6, 7, 8, 9, 10]\n",
    "series = pd.Series(my_list)\n",
    "\n",
    "print(series)\n"
   ]
  },
  {
   "cell_type": "markdown",
   "id": "a405ca98-9c1f-4aa3-b495-f02f7d299869",
   "metadata": {},
   "source": [
    "### Question3"
   ]
  },
  {
   "cell_type": "code",
   "execution_count": 3,
   "id": "48676c46-893f-44d5-b364-9146dd07c68b",
   "metadata": {},
   "outputs": [
    {
     "name": "stdout",
     "output_type": "stream",
     "text": [
      "     Name  Age  Gender\n",
      "0   Alice   25  Female\n",
      "1     Bob   30    Male\n",
      "2  Claire   27  Female\n"
     ]
    }
   ],
   "source": [
    "import pandas as pd\n",
    "\n",
    "data = {\n",
    "    'Name': ['Alice', 'Bob', 'Claire'],\n",
    "    'Age': [25, 30, 27],\n",
    "    'Gender': ['Female','Male','Female']\n",
    "}\n",
    "\n",
    "df = pd.DataFrame(data)\n",
    "\n",
    "print(df)\n"
   ]
  },
  {
   "cell_type": "markdown",
   "id": "675ab4f4-19c1-4ef5-bae8-5fcd278d626b",
   "metadata": {},
   "source": [
    "### Question4"
   ]
  },
  {
   "cell_type": "code",
   "execution_count": 4,
   "id": "29695892-b387-4515-8f25-116c396b475d",
   "metadata": {},
   "outputs": [
    {
     "name": "stdout",
     "output_type": "stream",
     "text": [
      "      Name  Age      City\n",
      "0     John   25  New York\n",
      "1    Emily   30    London\n",
      "2  Michael   28     Paris\n",
      "3  Jessica   35    Sydney\n",
      "\n",
      "0       John\n",
      "1      Emily\n",
      "2    Michael\n",
      "3    Jessica\n",
      "Name: Name, dtype: object\n"
     ]
    }
   ],
   "source": [
    "# In Pandas, a DataFrame is a two-dimensional data structure that stores data in a tabular format, similar to a table or spreadsheet. \n",
    "# It consists of rows and columns, where each column can have a different data type. It is one of the most commonly used data structures \n",
    "# in Pandas and provides powerful functionality for data manipulation, analysis, and cleaning.\n",
    "\n",
    "# On the other hand, a Series is a one-dimensional data structure in Pandas. It is similar to a column in a DataFrame or a single column of\n",
    "# data in a spreadsheet. It can be thought of as a labeled array or a single column of data with an associated index.\n",
    "\n",
    "# Here's an example to illustrate the difference between a DataFrame and a Series:\n",
    "import pandas as pd\n",
    "\n",
    "# Create a dictionary of data\n",
    "data = {\n",
    "    'Name': ['John', 'Emily', 'Michael', 'Jessica'],\n",
    "    'Age': [25, 30, 28, 35],\n",
    "    'City': ['New York', 'London', 'Paris', 'Sydney']\n",
    "}\n",
    "\n",
    "# Create a DataFrame from the data dictionary\n",
    "df = pd.DataFrame(data)\n",
    "\n",
    "# Create a Series from the 'Name' column of the DataFrame\n",
    "name_series = df['Name']\n",
    "\n",
    "# Print the DataFrame\n",
    "print(df)\n",
    "print()\n",
    "\n",
    "# Print the Series\n",
    "print(name_series)\n"
   ]
  },
  {
   "cell_type": "markdown",
   "id": "3d5479af-a9bb-43a6-ae96-ecd21d7e0b2c",
   "metadata": {},
   "source": [
    "### Question5"
   ]
  },
  {
   "cell_type": "code",
   "execution_count": null,
   "id": "12923ffd-a2e9-4a05-b2f7-24cf82a2489a",
   "metadata": {},
   "outputs": [],
   "source": [
    "# Pandas provides a wide range of functions to manipulate and transform data in a DataFrame. Here are some common functions:\n",
    "\n",
    "#    head(): Returns the first n rows of the DataFrame. It is useful for quickly inspecting the structure and contents of a DataFrame.\n",
    "#    Example:\n",
    "\n",
    "# df.head(5)  # Returns the first 5 rows of the DataFrame\n",
    "\n",
    "# tail(): Returns the last n rows of the DataFrame. It is useful for quickly checking the end of the DataFrame.\n",
    "#  Example:\n",
    "\n",
    "# df.tail(3)  # Returns the last 3 rows of the DataFrame\n",
    "\n",
    "# info(): Provides a summary of the DataFrame, including the data types, column names, and number of non-null values in each column.\n",
    "# Example:\n",
    "\n",
    "# df.info()  # Prints the summary information of the DataFrame\n",
    "\n",
    "# describe(): Generates descriptive statistics of the numerical columns in the DataFrame, such as count, mean, min, max, and quartiles.\n",
    "# Example:\n",
    "\n",
    "# df.describe()  # Generates descriptive statistics for numerical columns\n",
    "\n",
    "# shape: Returns the dimensions of the DataFrame as a tuple (rows, columns). It is useful to check the size of the DataFrame.\n",
    "# Example:\n",
    "\n",
    "# print(df.shape)  # Prints the number of rows and columns in the DataFrame\n",
    "\n",
    "# sort_values(): Sorts the DataFrame based on one or more columns. It is useful for sorting the data in ascending or descending order.\n",
    "# Example:\n",
    "\n",
    "# df_sorted = df.sort_values('Age')  # Sorts the DataFrame by the 'Age' column\n",
    "\n",
    "# groupby(): Groups the DataFrame based on one or more columns and allows applying aggregations or transformations on the groups.\n",
    "# Example:\n",
    "#    groupby_city = df.groupby('City')  # Groups the DataFrame by the 'City' column\n",
    "#    average_age_by_city = groupby_city['Age'].mean()  # Calculates the average age for each city\n",
    " "
   ]
  },
  {
   "cell_type": "markdown",
   "id": "1531b009-ca46-43ac-aeb7-a20c3d0e2ed1",
   "metadata": {},
   "source": [
    "### Question6"
   ]
  },
  {
   "cell_type": "code",
   "execution_count": null,
   "id": "7fb9e15a-2290-4488-91db-4814f7e0a419",
   "metadata": {},
   "outputs": [],
   "source": [
    "# Among the options provided, both the Series and the DataFrame in Pandas are mutable in nature. This means that you can modify their \n",
    "# contents, add or remove elements, or update values within them after they are created. On the other hand, the Panel is not mutable\n",
    "# in nature.\n",
    "\n",
    "# To illustrate this, consider the following example:\n",
    "import pandas as pd\n",
    "\n",
    "# Create a Series\n",
    "series = pd.Series([1, 2, 3])\n",
    "\n",
    "# Create a DataFrame\n",
    "data = {'A': [1, 2, 3], 'B': [4, 5, 6]}\n",
    "df = pd.DataFrame(data)\n",
    "\n",
    "# Create a Panel\n",
    "panel = pd.Panel({'Item1': df, 'Item2': df})\n",
    "\n",
    "# Modifying Series, DataFrame, and Panel\n",
    "series[0] = 10\n",
    "df['A'][1] = 20\n",
    "panel['Item1']['B'][2] = 30\n",
    "\n",
    "print(series)\n",
    "print(df)\n",
    "print(panel)\n"
   ]
  },
  {
   "cell_type": "markdown",
   "id": "bafb3ef9-44ba-45a1-9a52-01557345f9f6",
   "metadata": {},
   "source": [
    "### Question7"
   ]
  },
  {
   "cell_type": "code",
   "execution_count": null,
   "id": "3642381c-a583-4200-9453-a1600333103c",
   "metadata": {},
   "outputs": [],
   "source": [
    "# To create a DataFrame using multiple Series, you can pass a dictionary of Series to the pd.DataFrame() function, where each Series represents a \n",
    "# column of the DataFrame. The dictionary keys will become the column names, and the corresponding Series will form the data within each column. \n",
    "# Here's an example to illustrate this:\n",
    "\n",
    "import pandas as pd\n",
    "\n",
    "# Create the first Series\n",
    "name_series = pd.Series(['John', 'Emily', 'Michael', 'Jessica'])\n",
    "\n",
    "# Create the second Series\n",
    "age_series = pd.Series([25, 30, 28, 35])\n",
    "\n",
    "# Create the third Series\n",
    "city_series = pd.Series(['New York', 'London', 'Paris', 'Sydney'])\n",
    "\n",
    "# Create the DataFrame using the Series\n",
    "data = {\n",
    "    'Name': name_series,\n",
    "    'Age': age_series,\n",
    "    'City': city_series\n",
    "}\n",
    "\n",
    "df = pd.DataFrame(data)\n",
    "\n",
    "print(df)\n",
    "\n",
    "# In this example, we create three Series: name_series, age_series, and city_series. Each Series represents a column of the DataFrame. We then create\n",
    "# a dictionary data where the keys are the column names ('Name', 'Age', 'City') and the values are the corresponding Series. Finally, we pass the data\n",
    "# dictionary to pd.DataFrame() to create the DataFrame df. The resulting DataFrame has three columns ('Name', 'Age', 'City') with the data from the \n",
    "# respective Series.\n",
    "\n",
    "# Using this approach, you can create a DataFrame from multiple Series, where each Series represents a different column of data in the DataFrame."
   ]
  }
 ],
 "metadata": {
  "kernelspec": {
   "display_name": "Python 3 (ipykernel)",
   "language": "python",
   "name": "python3"
  },
  "language_info": {
   "codemirror_mode": {
    "name": "ipython",
    "version": 3
   },
   "file_extension": ".py",
   "mimetype": "text/x-python",
   "name": "python",
   "nbconvert_exporter": "python",
   "pygments_lexer": "ipython3",
   "version": "3.10.8"
  }
 },
 "nbformat": 4,
 "nbformat_minor": 5
}
