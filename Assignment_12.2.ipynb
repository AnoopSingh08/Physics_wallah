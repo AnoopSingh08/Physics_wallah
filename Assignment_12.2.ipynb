{
 "cells": [
  {
   "cell_type": "markdown",
   "id": "8fb56511-c381-4fb7-abe7-922b204fc6b1",
   "metadata": {},
   "source": [
    "### Question1"
   ]
  },
  {
   "cell_type": "code",
   "execution_count": 1,
   "id": "c7094ab9-fadf-41fc-97ff-d774ad1a85ff",
   "metadata": {},
   "outputs": [
    {
     "name": "stdout",
     "output_type": "stream",
     "text": [
      "95% Confidence Interval: (49.02001800772997, 50.97998199227003)\n"
     ]
    }
   ],
   "source": [
    "# To calculate the 95% confidence interval for a sample of data with a mean of 50 and a standard deviation of 5 using Python, we can use the scipy.stats library. Specifically, we will use the norm.interval() function, assuming that the data follows a normal distribution. This function will give us the confidence interval for the population mean.\n",
    "\n",
    "# Here's how to do it in Python:\n",
    "\n",
    "import scipy.stats as stats\n",
    "\n",
    "sample_mean = 50\n",
    "sample_std_dev = 5\n",
    "sample_size = 100   # Replace this with the actual sample size\n",
    "\n",
    "confidence_level = 0.95\n",
    "z_critical = stats.norm.ppf((1 + confidence_level) / 2)\n",
    "\n",
    "margin_of_error = z_critical * (sample_std_dev / (sample_size ** 0.5))\n",
    "\n",
    "lower_limit = sample_mean - margin_of_error\n",
    "upper_limit = sample_mean + margin_of_error\n",
    "\n",
    "print(\"95% Confidence Interval:\", (lower_limit, upper_limit))\n",
    "\n",
    "#Please make sure to replace sample_size with the actual sample size you have. In the code above, we used sample_size = 100 as an example.\n",
    "\n",
    "#Interpretation:\n",
    "#The 95% confidence interval is a range of values within which we can be 95% confident that the true population mean lies. In this case, based on the sample data, we are 95% confident that the true population mean is between the lower limit and upper limit calculated from the confidence interval. So, if we were to take multiple samples and calculate the confidence intervals for each sample, about 95% of those intervals would contain the true population mean. The wider the confidence interval, the lower the precision in estimating the population mean, and vice versa."
   ]
  },
  {
   "cell_type": "markdown",
   "id": "2a05fb95-ed97-44dd-9642-ee25f8a960d6",
   "metadata": {},
   "source": [
    "### Question2"
   ]
  },
  {
   "cell_type": "code",
   "execution_count": 4,
   "id": "67d97694-6a43-4d07-b5b2-545358d65995",
   "metadata": {},
   "outputs": [
    {
     "name": "stdout",
     "output_type": "stream",
     "text": [
      "Reject the null hypothesis. The distribution of colors does not match the expected distribution.\n",
      "Chi-square statistic: 15.000000000000002\n",
      "P-value: 0.010362337915786415\n"
     ]
    }
   ],
   "source": [
    "# To conduct a chi-square goodness of fit test in Python, you can use the scipy.stats library. Here's how you can perform the test using Python:\n",
    "\n",
    "import numpy as np\n",
    "import scipy.stats as stats\n",
    "\n",
    "# Observed frequencies of each color in the M&Ms bag\n",
    "observed_frequencies = np.array([40, 38, 18, 12, 10, 22])  # Replace with actual observed frequencies\n",
    "\n",
    "# Expected probabilities for each color\n",
    "expected_probabilities = np.array([0.20, 0.20, 0.20, 0.10, 0.10, 0.20])\n",
    "\n",
    "# Total number of observations\n",
    "total_observations = np.sum(observed_frequencies)\n",
    "\n",
    "# Calculate expected frequencies based on expected probabilities\n",
    "expected_frequencies = expected_probabilities * total_observations\n",
    "\n",
    "# Perform the chi-square test\n",
    "chi2_stat, p_value = stats.chisquare(observed_frequencies, expected_frequencies)\n",
    "\n",
    "# Significance level\n",
    "alpha = 0.05\n",
    "\n",
    "# Compare p-value with significance level\n",
    "if p_value < alpha:\n",
    "    print(\"Reject the null hypothesis. The distribution of colors does not match the expected distribution.\")\n",
    "else:\n",
    "    print(\"Fail to reject the null hypothesis. The distribution of colors matches the expected distribution.\")\n",
    "    \n",
    "print(\"Chi-square statistic:\", chi2_stat)\n",
    "print(\"P-value:\", p_value)\n",
    "\n",
    "# Make sure to replace the observed_frequencies array with the actual observed frequencies of each color in the M&Ms bag. The code calculates the chi-square statistic and the p-value for the test and then compares the p-value with the significance level (alpha) to determine whether to reject the null hypothesis.\n",
    "\n",
    "# Interpretation:\n",
    "# If the p-value is less than the significance level (0.05 in this case), we reject the null hypothesis, indicating that the distribution of colors in the M&Ms bag does not match the expected distribution. On the other hand, if the p-value is greater than or equal to the significance level, we fail to reject the null hypothesis, suggesting that the distribution of colors matches the expected distribution. The chi-square statistic measures the discrepancy between the observed and expected frequencies, and the p-value indicates the likelihood of observing such a discrepancy under the assumption of the null hypothesis."
   ]
  },
  {
   "cell_type": "markdown",
   "id": "753dc607-d4d7-4881-915b-5348501d7941",
   "metadata": {},
   "source": [
    "### Question3"
   ]
  },
  {
   "cell_type": "code",
   "execution_count": 1,
   "id": "ce689536-47e9-4f44-95a2-1abbf3bdfb1f",
   "metadata": {},
   "outputs": [
    {
     "name": "stdout",
     "output_type": "stream",
     "text": [
      "Fail to reject the null hypothesis. There is no significant association between the two categorical variables.\n",
      "Chi-square statistic: 5.833333333333334\n",
      "P-value: 0.05411376622282158\n"
     ]
    }
   ],
   "source": [
    "#To calculate the chi-square statistic and p-value for a contingency table in Python, you can use the scipy.stats library. The contingency table represents the frequency distribution of two categorical variables. Here's how you can perform the test using Python:\n",
    "\n",
    "import numpy as np\n",
    "import scipy.stats as stats\n",
    "\n",
    "observed = np.array([[20, 10, 15], [15, 25, 20]])\n",
    "\n",
    "# Perform the chi-square test\n",
    "chi2_stat, p_value, dof, expected = stats.chi2_contingency(observed)\n",
    "\n",
    "# Significance level\n",
    "alpha = 0.05\n",
    "\n",
    "# Compare p-value with significance level\n",
    "if p_value < alpha:\n",
    "    print(\"Reject the null hypothesis. There is a significant association between the two categorical variables.\")\n",
    "else:\n",
    "    print(\"Fail to reject the null hypothesis. There is no significant association between the two categorical variables.\")\n",
    "\n",
    "print(\"Chi-square statistic:\", chi2_stat)\n",
    "print(\"P-value:\", p_value)\n",
    "\n",
    "#The code calculates the chi-square statistic, p-value, degrees of freedom (dof), and expected frequencies for the test. It then compares the p-value with the significance level (alpha) to determine whether to reject the null hypothesis.\n",
    "\n",
    "#Interpretation:\n",
    "#If the p-value is less than the significance level (0.05 in this case), we reject the null hypothesis, indicating that there is a significant association between the two categorical variables. In other words, the two categorical variables are not independent, and there is evidence to suggest that they are related. On the other hand, if the p-value is greater than or equal to the significance level, we fail to reject the null hypothesis, suggesting that there is no significant association between the two categorical variables. The chi-square test helps us assess whether there is a statistically significant relationship between two categorical variables in a contingency table."
   ]
  },
  {
   "cell_type": "markdown",
   "id": "d2c11210-2b59-41d2-a644-fbcfecab7b36",
   "metadata": {},
   "source": [
    "### Question4"
   ]
  },
  {
   "cell_type": "code",
   "execution_count": 2,
   "id": "3b6b2e8c-c78e-4b41-8e52-05cc8b10546b",
   "metadata": {},
   "outputs": [
    {
     "name": "stdout",
     "output_type": "stream",
     "text": [
      "95% Confidence Interval: (0.09151638887130706, 0.14848361112869293)\n"
     ]
    }
   ],
   "source": [
    "# To calculate the 95% confidence interval for the true proportion of individuals in the population who smoke using Python, we can use the statsmodels library, which provides the proportion_confint function. Here's how to do it:\n",
    "\n",
    "import statsmodels.stats.proportion as proportion\n",
    "\n",
    "# Number of individuals who smoke\n",
    "smokers = 60\n",
    "\n",
    "# Total number of individuals in the population\n",
    "total_population = 500\n",
    "\n",
    "# Calculate the proportion of individuals who smoke\n",
    "sample_proportion = smokers / total_population\n",
    "\n",
    "# Calculate the 95% confidence interval\n",
    "confidence_interval = proportion.proportion_confint(smokers, total_population, alpha=0.05, method='normal')\n",
    "\n",
    "# Print the confidence interval\n",
    "print(\"95% Confidence Interval:\", confidence_interval)\n",
    "\n",
    "#The proportion_confint function calculates the confidence interval for a proportion using the normal approximation method (default). It takes the number of successes (smokers), the total number of trials (total_population), the significance level (alpha), and the method used for the confidence interval calculation.\n",
    "\n",
    "#Output:\n",
    "#The code will output the 95% confidence interval for the true proportion of individuals in the population who smoke.\n",
    "\n",
    "#Interpretation:\n",
    "#The 95% confidence interval represents a range of values within which we can be 95% confident that the true proportion of individuals in the population who smoke lies. For example, if the output is (0.0948, 0.1452), it means that we are 95% confident that the true proportion of smokers in the population is between approximately 9.48% to 14.52%. This means that if we were to take multiple samples and calculate the confidence intervals for each sample, about 95% of those intervals would contain the true proportion of smokers in the population. The wider the confidence interval, the lower the precision in estimating the true proportion, and vice versa."
   ]
  },
  {
   "cell_type": "markdown",
   "id": "3ce56e52-4a6a-4bf7-9518-38dc4e57afa1",
   "metadata": {},
   "source": [
    "### Question5"
   ]
  },
  {
   "cell_type": "code",
   "execution_count": 3,
   "id": "dbaa1bb7-c973-420c-a9c5-bf5b7231be3b",
   "metadata": {},
   "outputs": [
    {
     "name": "stdout",
     "output_type": "stream",
     "text": [
      "90% Confidence Interval: (73.02617564765823, 76.97382435234177)\n"
     ]
    }
   ],
   "source": [
    "#To calculate the 90% confidence interval for a sample of data with a mean of 75 and a standard deviation of 12 using Python, we can use the scipy.stats library. Here's how to do it:\n",
    "\n",
    "import scipy.stats as stats\n",
    "\n",
    "sample_mean = 75\n",
    "sample_std_dev = 12\n",
    "sample_size = 100   # Replace this with the actual sample size\n",
    "\n",
    "confidence_level = 0.90\n",
    "z_critical = stats.norm.ppf((1 + confidence_level) / 2)\n",
    "\n",
    "margin_of_error = z_critical * (sample_std_dev / (sample_size ** 0.5))\n",
    "\n",
    "lower_limit = sample_mean - margin_of_error\n",
    "upper_limit = sample_mean + margin_of_error\n",
    "\n",
    "print(\"90% Confidence Interval:\", (lower_limit, upper_limit))\n",
    "\n",
    "# Please make sure to replace sample_size with the actual sample size you have. In the code above, we used sample_size = 100 as an example.\n",
    "\n",
    "# Interpretation:\n",
    "# The 90% confidence interval is a range of values within which we can be 90% confident that the true population mean lies. In this case, based on the sample data, we are 90% confident that the true population mean is between the lower limit and upper limit calculated from the confidence interval. So, if we were to take multiple samples and calculate the confidence intervals for each sample, about 90% of those intervals would contain the true population mean. The wider the confidence interval, the lower the precision in estimating the population mean, and vice versa."
   ]
  },
  {
   "cell_type": "markdown",
   "id": "6f7f8e2b-c9a5-4b89-8bba-8b6cee1e6bc7",
   "metadata": {},
   "source": [
    "### Question6"
   ]
  },
  {
   "cell_type": "code",
   "execution_count": 4,
   "id": "6c1ede63-d1bd-47a1-af11-898f3ad291d1",
   "metadata": {},
   "outputs": [
    {
     "data": {
      "image/png": "[encoded data removed]",
      "text/plain": [
       "<Figure size 640x480 with 1 Axes>"
      ]
     },
     "metadata": {},
     "output_type": "display_data"
    }
   ],
   "source": [
    "# To plot the chi-square distribution with 10 degrees of freedom and shade the area corresponding to a chi-square statistic of 15 using Python, we can use the scipy.stats library for the distribution and the matplotlib library for plotting. Here's how you can do it:\n",
    "\n",
    "import numpy as np\n",
    "import matplotlib.pyplot as plt\n",
    "import scipy.stats as stats\n",
    "\n",
    "# Degrees of freedom\n",
    "df = 10\n",
    "\n",
    "# Create an array of values from 0 to 30 for the chi-square statistic\n",
    "x = np.linspace(0, 30, 500)\n",
    "\n",
    "# Calculate the chi-square probability density function (PDF) for the given degrees of freedom\n",
    "chi2_pdf = stats.chi2.pdf(x, df)\n",
    "\n",
    "# Plot the chi-square distribution\n",
    "plt.plot(x, chi2_pdf, label=f'Chi-square Distribution (df={df})')\n",
    "\n",
    "# Shade the area corresponding to a chi-square statistic of 15\n",
    "plt.fill_between(x, chi2_pdf, where=(x >= 15), color='orange', alpha=0.5, label='Chi-square Statistic = 15')\n",
    "\n",
    "# Add labels and legend\n",
    "plt.xlabel('Chi-square Statistic')\n",
    "plt.ylabel('Probability Density Function')\n",
    "plt.legend()\n",
    "\n",
    "# Show the plot\n",
    "plt.grid(True)\n",
    "plt.show()\n",
    "\n",
    "#In this code, we use np.linspace to create an array of values from 0 to 30, and then we calculate the chi-square probability density function (PDF) using the stats.chi2.pdf() function with 10 degrees of freedom (df). We then plot the chi-square distribution and use plt.fill_between to shade the area corresponding to a chi-square statistic of 15.\n",
    "\n",
    "#The plot will show the chi-square distribution with 10 degrees of freedom, and the area under the curve corresponding to a chi-square statistic of 15 will be shaded in orange. The x-axis represents the chi-square statistic, and the y-axis represents the probability density function (PDF) of the chi-square distribution. The shaded area indicates the probability of observing a chi-square statistic of 15 in a chi-square distribution with 10 degrees of freedom."
   ]
  },
  {
   "cell_type": "markdown",
   "id": "685b6cb6-35e3-48c1-a0e9-cf96c578c54b",
   "metadata": {},
   "source": [
    "### Question7"
   ]
  },
  {
   "cell_type": "code",
   "execution_count": null,
   "id": "233507ba-7249-41d8-83dc-8521e2584589",
   "metadata": {},
   "outputs": [],
   "source": [
    "#To calculate the 99% confidence interval for the true proportion of people in the population who prefer Coke, we can use the formula for the confidence interval for a proportion.\n",
    "\n",
    "#The formula for the confidence interval for a proportion (p) is given by:\n",
    "\n",
    "#Confidence Interval = Sample Proportion ± (Critical Value * Standard Error)\n",
    "\n",
    "#where:\n",
    "\n",
    "#    Sample Proportion (p) = Number of individuals who prefer Coke / Total number of individuals in the sample\n",
    "#    Critical Value: For a 99% confidence level, the critical value is approximately 2.576. This value is obtained from the standard normal distribution.\n",
    "#    Standard Error (SE) of the proportion = √((p * (1 - p)) / n)\n",
    "\n",
    "#Given:\n",
    "\n",
    "#    Number of individuals who prefer Coke = 520\n",
    "#    Total number of individuals in the sample = 1000\n",
    "\n",
    "#Step 1: Calculate the Sample Proportion (p):\n",
    "\n",
    "#p = Number of individuals who prefer Coke / Total number of individuals in the sample\n",
    "#p = 520 / 1000\n",
    "#p = 0.52\n",
    "\n",
    "#Step 2: Calculate the Standard Error (SE) of the proportion:\n",
    "\n",
    "#SE = √((p * (1 - p)) / n)\n",
    "#SE = √((0.52 * (1 - 0.52)) / 1000)\n",
    "#SE = √((0.52 * 0.48) / 1000)\n",
    "#SE = √(0.2496 / 1000)\n",
    "#SE ≈ √0.0002496\n",
    "#SE ≈ 0.0158\n",
    "\n",
    "#Step 3: Calculate the Confidence Interval:\n",
    "\n",
    "#Confidence Interval = 0.52 ± (2.576 * 0.0158)\n",
    "\n",
    "#Lower Limit = 0.52 - 0.0406 ≈ 0.4794 (approximately 47.94%)\n",
    "#Upper Limit = 0.52 + 0.0406 ≈ 0.5606 (approximately 56.06%)\n",
    "\n",
    "#The 99% confidence interval for the true proportion of people in the population who prefer Coke is approximately 47.94% to 56.06%.\n",
    "\n",
    "#Interpretation:\n",
    "#We are 99% confident that the true proportion of people in the population who prefer Coke falls within the interval [47.94%, 56.06%]. This means that if we were to take multiple samples and calculate the confidence intervals for each sample, about 99% of those intervals would contain the true proportion of people in the population who prefer Coke. The wider the confidence interval, the lower the precision in estimating the true proportion, and vice versa."
   ]
  },
  {
   "cell_type": "markdown",
   "id": "186292d4-b849-47b5-842f-be07c56a1cb0",
   "metadata": {},
   "source": [
    "### Question8"
   ]
  },
  {
   "cell_type": "code",
   "execution_count": 5,
   "id": "dda2e648-a5f9-4f74-ac86-c6546b5255f8",
   "metadata": {},
   "outputs": [
    {
     "name": "stdout",
     "output_type": "stream",
     "text": [
      "Fail to reject the null hypothesis. The coin is not biased towards tails.\n",
      "Chi-square statistic: 1.0\n",
      "P-value: 0.31731050786291115\n"
     ]
    }
   ],
   "source": [
    "# To conduct a chi-square goodness of fit test in Python to determine if the observed frequencies match the expected frequencies of a fair coin, we can use the scipy.stats library. Here's how you can do it:\n",
    "\n",
    "import numpy as np\n",
    "import scipy.stats as stats\n",
    "\n",
    "# Observed frequencies (tails)\n",
    "observed_tails = 45\n",
    "\n",
    "# Total number of flips\n",
    "total_flips = 100\n",
    "\n",
    "# Expected probabilities for a fair coin (0.5 for each outcome)\n",
    "expected_probabilities = np.array([0.5, 0.5])\n",
    "\n",
    "# Calculate the expected frequencies based on the expected probabilities\n",
    "expected_tails = expected_probabilities[1] * total_flips\n",
    "expected_heads = expected_probabilities[0] * total_flips\n",
    "\n",
    "# Observed and expected frequencies\n",
    "observed_frequencies = np.array([total_flips - observed_tails, observed_tails])\n",
    "expected_frequencies = np.array([expected_heads, expected_tails])\n",
    "\n",
    "# Perform the chi-square goodness of fit test\n",
    "chi2_stat, p_value = stats.chisquare(observed_frequencies, expected_frequencies)\n",
    "\n",
    "# Significance level\n",
    "alpha = 0.05\n",
    "\n",
    "# Compare p-value with significance level\n",
    "if p_value < alpha:\n",
    "    print(\"Reject the null hypothesis. The coin is biased towards tails.\")\n",
    "else:\n",
    "    print(\"Fail to reject the null hypothesis. The coin is not biased towards tails.\")\n",
    "    \n",
    "print(\"Chi-square statistic:\", chi2_stat)\n",
    "print(\"P-value:\", p_value)\n",
    "\n",
    "# In this code, we first define the observed frequency of tails (observed_tails) and the total number of flips (total_flips). We then define the expected probabilities for a fair coin (0.5 for each outcome) and calculate the expected frequencies based on these probabilities.\n",
    "\n",
    "# The chisquare function from scipy.stats is used to perform the chi-square goodness of fit test. It takes the observed and expected frequencies as input and returns the chi-square statistic and the p-value.\n",
    "\n",
    "# Interpretation:\n",
    "# The p-value represents the likelihood of observing the observed frequencies (or more extreme) under the assumption of the null hypothesis, which states that the coin is fair. If the p-value is less than the significance level (0.05 in this case), we reject the null hypothesis and conclude that the coin is biased towards tails. On the other hand, if the p-value is greater than or equal to the significance level, we fail to reject the null hypothesis and conclude that there is no evidence of bias towards tails. The chi-square statistic measures the discrepancy between the observed and expected frequencies, and the p-value indicates the likelihood of observing such a discrepancy under the assumption of the null hypothesis."
   ]
  },
  {
   "cell_type": "markdown",
   "id": "f2398bcf-8d1b-4721-91d9-fc734e2b864f",
   "metadata": {},
   "source": [
    "### Question9"
   ]
  },
  {
   "cell_type": "code",
   "execution_count": 6,
   "id": "ed228a56-63e5-4eb4-aef6-23b173157960",
   "metadata": {},
   "outputs": [
    {
     "name": "stdout",
     "output_type": "stream",
     "text": [
      "Reject the null hypothesis. There is a significant association between smoking status and lung cancer diagnosis.\n",
      "Chi-square statistic: 12.057347670250895\n",
      "P-value: 0.0005158863863703744\n"
     ]
    }
   ],
   "source": [
    "# To conduct a chi-square test for independence in Python to determine if there is a significant association between smoking status and lung cancer diagnosis, we can use the scipy.stats library. Here's how you can do it:\n",
    "\n",
    "import numpy as np\n",
    "import scipy.stats as stats\n",
    "\n",
    "# Create the observed frequency table\n",
    "observed = np.array([[60, 140], [30, 170]])\n",
    "\n",
    "# Perform the chi-square test for independence\n",
    "chi2_stat, p_value, dof, expected = stats.chi2_contingency(observed)\n",
    "\n",
    "# Significance level\n",
    "alpha = 0.05\n",
    "\n",
    "# Compare p-value with significance level\n",
    "if p_value < alpha:\n",
    "    print(\"Reject the null hypothesis. There is a significant association between smoking status and lung cancer diagnosis.\")\n",
    "else:\n",
    "    print(\"Fail to reject the null hypothesis. There is no significant association between smoking status and lung cancer diagnosis.\")\n",
    "    \n",
    "print(\"Chi-square statistic:\", chi2_stat)\n",
    "print(\"P-value:\", p_value)\n",
    "\n",
    "# In this code, we create the observed frequency table based on the contingency table provided. The chi2_contingency function from scipy.stats is then used to perform the chi-square test for independence. It takes the observed frequency table as input and returns the chi-square statistic, the p-value, degrees of freedom (dof), and the expected frequency table.\n",
    "\n",
    "# Interpretation:\n",
    "# The p-value represents the likelihood of observing the observed frequencies (or more extreme) under the assumption of the null hypothesis, which states that smoking status and lung cancer diagnosis are independent. If the p-value is less than the significance level (0.05 in this case), we reject the null hypothesis and conclude that there is a significant association between smoking status and lung cancer diagnosis. On the other hand, if the p-value is greater than or equal to the significance level, we fail to reject the null hypothesis and conclude that there is no significant association between smoking status and lung cancer diagnosis. The chi-square statistic measures the discrepancy between the observed and expected frequencies, and the p-value indicates the likelihood of observing such a discrepancy under the assumption of the null hypothesis."
   ]
  },
  {
   "cell_type": "markdown",
   "id": "a190dbff-5ccb-4617-a9f2-9436afc6470f",
   "metadata": {},
   "source": [
    "### Question10"
   ]
  },
  {
   "cell_type": "code",
   "execution_count": 7,
   "id": "02ea0b61-2fdd-47c0-a83c-4a365c13d38b",
   "metadata": {},
   "outputs": [
    {
     "name": "stdout",
     "output_type": "stream",
     "text": [
      "Reject the null hypothesis. There is a significant association between chocolate preference and country of origin.\n",
      "Chi-square statistic: 13.393665158371041\n",
      "P-value: 0.0012348168997745918\n"
     ]
    }
   ],
   "source": [
    "# To conduct a chi-square test for independence in Python to determine if there is a significant association between chocolate preference and country of origin (U.S. vs. U.K.), we can use the scipy.stats library. Here's how you can do it:\n",
    "\n",
    "import numpy as np\n",
    "import scipy.stats as stats\n",
    "\n",
    "# Create the observed frequency table\n",
    "observed = np.array([[200, 150, 150], [225, 175, 100]])\n",
    "\n",
    "# Perform the chi-square test for independence\n",
    "chi2_stat, p_value, dof, expected = stats.chi2_contingency(observed)\n",
    "\n",
    "# Significance level\n",
    "alpha = 0.01\n",
    "\n",
    "# Compare p-value with significance level\n",
    "if p_value < alpha:\n",
    "    print(\"Reject the null hypothesis. There is a significant association between chocolate preference and country of origin.\")\n",
    "else:\n",
    "    print(\"Fail to reject the null hypothesis. There is no significant association between chocolate preference and country of origin.\")\n",
    "    \n",
    "print(\"Chi-square statistic:\", chi2_stat)\n",
    "print(\"P-value:\", p_value)\n",
    "\n",
    "# In this code, we create the observed frequency table based on the contingency table provided. The chi2_contingency function from scipy.stats is then used to perform the chi-square test for independence. It takes the observed frequency table as input and returns the chi-square statistic, the p-value, degrees of freedom (dof), and the expected frequency table.\n",
    "\n",
    "# Interpretation:\n",
    "# The p-value represents the likelihood of observing the observed frequencies (or more extreme) under the assumption of the null hypothesis, which states that chocolate preference and country of origin are independent. If the p-value is less than the significance level (0.01 in this case), we reject the null hypothesis and conclude that there is a significant association between chocolate preference and country of origin. On the other hand, if the p-value is greater than or equal to the significance level, we fail to reject the null hypothesis and conclude that there is no significant association between chocolate preference and country of origin. The chi-square statistic measures the discrepancy between the observed and expected frequencies, and the p-value indicates the likelihood of observing such a discrepancy under the assumption of the null hypothesis."
   ]
  },
  {
   "cell_type": "markdown",
   "id": "4814e804-d6f4-48a6-82a1-f4eb8287435f",
   "metadata": {},
   "source": [
    "### Question11"
   ]
  },
  {
   "cell_type": "code",
   "execution_count": 8,
   "id": "98e92d86-035d-45f1-bc2a-52931a80d1da",
   "metadata": {},
   "outputs": [
    {
     "name": "stdout",
     "output_type": "stream",
     "text": [
      "Fail to reject the null hypothesis. There is no significant difference between the population mean and 70.\n",
      "T-statistic: 1.0954451150103321\n",
      "P-value: 0.2823362372860698\n"
     ]
    }
   ],
   "source": [
    "# To conduct a hypothesis test to determine if the population mean is significantly different from 70, we can use a one-sample t-test in Python. Here's how you can do it:\n",
    "\n",
    "import scipy.stats as stats\n",
    "\n",
    "# Sample size\n",
    "n = 30\n",
    "\n",
    "# Sample mean\n",
    "sample_mean = 72\n",
    "\n",
    "# Sample standard deviation\n",
    "sample_std_dev = 10\n",
    "\n",
    "# Population mean under the null hypothesis\n",
    "population_mean_null = 70\n",
    "\n",
    "# Calculate the t-statistic\n",
    "t_statistic = (sample_mean - population_mean_null) / (sample_std_dev / (n ** 0.5))\n",
    "\n",
    "# Degrees of freedom for the t-distribution\n",
    "degrees_of_freedom = n - 1\n",
    "\n",
    "# Significance level\n",
    "alpha = 0.05\n",
    "\n",
    "# Calculate the critical t-value for a two-tailed test\n",
    "critical_t = stats.t.ppf(1 - alpha / 2, df=degrees_of_freedom)\n",
    "\n",
    "# Perform the t-test\n",
    "p_value = 2 * (1 - stats.t.cdf(abs(t_statistic), df=degrees_of_freedom))\n",
    "\n",
    "# Compare the p-value with the significance level\n",
    "if p_value < alpha:\n",
    "    print(\"Reject the null hypothesis. The population mean is significantly different from 70.\")\n",
    "else:\n",
    "    print(\"Fail to reject the null hypothesis. There is no significant difference between the population mean and 70.\")\n",
    "\n",
    "print(\"T-statistic:\", t_statistic)\n",
    "print(\"P-value:\", p_value)\n",
    "\n",
    "# In this code, we first calculate the t-statistic using the formula (sample_mean - population_mean_null) / (sample_std_dev / (n ** 0.5)). Then, we determine the degrees of freedom and the critical t-value for a two-tailed test at the specified significance level (0.05). The t.cdf function from scipy.stats is used to calculate the cumulative distribution function of the t-distribution, and the t.ppf function is used to find the critical t-value.\n",
    "\n",
    "# Interpretation:\n",
    "# The p-value represents the probability of observing the sample mean (or more extreme) under the assumption of the null hypothesis, which states that the population mean is equal to 70. If the p-value is less than the significance level (0.05 in this case), we reject the null hypothesis and conclude that the population mean is significantly different from 70. On the other hand, if the p-value is greater than or equal to the significance level, we fail to reject the null hypothesis and conclude that there is no significant difference between the population mean and 70. The t-statistic measures the difference between the sample mean and the hypothesized population mean in terms of standard errors."
   ]
  },
  {
   "cell_type": "code",
   "execution_count": null,
   "id": "91e470f3-17cc-4984-80c5-25ee276ae4be",
   "metadata": {},
   "outputs": [],
   "source": []
  }
 ],
 "metadata": {
  "kernelspec": {
   "display_name": "Python 3 (ipykernel)",
   "language": "python",
   "name": "python3"
  },
  "language_info": {
   "codemirror_mode": {
    "name": "ipython",
    "version": 3
   },
   "file_extension": ".py",
   "mimetype": "text/x-python",
   "name": "python",
   "nbconvert_exporter": "python",
   "pygments_lexer": "ipython3",
   "version": "3.10.8"
  }
 },
 "nbformat": 4,
 "nbformat_minor": 5
}
