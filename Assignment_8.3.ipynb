{
 "cells": [
  {
   "cell_type": "markdown",
   "id": "179d6432-58b3-4d43-ba60-02d95d66ef87",
   "metadata": {},
   "source": [
    "### Question1"
   ]
  },
  {
   "cell_type": "code",
   "execution_count": 1,
   "id": "282dcf96-8e72-4cca-8461-9a47dd5a1357",
   "metadata": {},
   "outputs": [
    {
     "name": "stdout",
     "output_type": "stream",
     "text": [
      "course_name    Machine Learning\n",
      "duration                      3\n",
      "Name: 1, dtype: object\n"
     ]
    }
   ],
   "source": [
    "import pandas as pd\n",
    "\n",
    "course_name = ['Data Science', 'Machine Learning', 'Big Data', 'Data Engineer']\n",
    "duration = [2, 3, 6, 4]\n",
    "\n",
    "df = pd.DataFrame(data={'course_name': course_name, 'duration': duration})\n",
    "\n",
    "# Print the data in the second row\n",
    "second_row = df.iloc[1]\n",
    "print(second_row)\n"
   ]
  },
  {
   "cell_type": "markdown",
   "id": "9cc2428e-85d4-4ec3-8f38-f869b23b1248",
   "metadata": {},
   "source": [
    "### Question2"
   ]
  },
  {
   "cell_type": "code",
   "execution_count": null,
   "id": "d9ab6c3b-ed7b-45f3-a747-b5177f840787",
   "metadata": {},
   "outputs": [],
   "source": [
    "# The functions loc and iloc are used in Pandas to access data in a DataFrame, but they have different ways of referencing and retrieving\n",
    "# data:\n",
    "\n",
    "#    loc:\n",
    "#    The loc function is primarily label-based and is used to access data using labels or conditions based on the row and column names. It \n",
    "#    allows you to access data by specifying explicit row and column labels.\n",
    "\n",
    "# Syntax: df.loc[row_label, column_label]\n",
    "\n",
    "# Example: df.loc[2, 'column_name']\n",
    "\n",
    "#    iloc:\n",
    "#    The iloc function is primarily integer-based and is used to access data using integer positions or conditions based on the integer \n",
    "#    index. It allows you to access data by specifying explicit row and column indices.\n",
    "\n",
    "#Syntax: df.iloc[row_index, column_index]\n",
    "\n",
    "#Example: df.iloc[2, 1]\n",
    "\n",
    "# Key differences between loc and iloc:\n",
    "\n",
    "#    The loc function works with labels, while the iloc function works with integer-based positions.\n",
    "#    loc uses inclusive slicing, meaning the range includes both the start and end positions, whereas iloc uses exclusive slicing.\n",
    "#    With loc, you can use conditional expressions to filter rows or columns based on labels, while iloc only supports integer-based \n",
    "#    indexing.\n",
    "#    loc is more intuitive and easier to understand when working with labeled data, while iloc is useful for numerical indexing and when \n",
    "#    the row and column labels are integers or not explicitly defined.\n",
    "\n",
    "# In summary, loc is primarily used for label-based indexing and referencing using explicit row and column labels, while iloc is primarily\n",
    "# used for integer-based indexing and referencing using explicit row and column indices."
   ]
  },
  {
   "cell_type": "markdown",
   "id": "2767c19c-83cc-4057-b582-51adb4176395",
   "metadata": {},
   "source": [
    "### Question3"
   ]
  },
  {
   "cell_type": "code",
   "execution_count": 4,
   "id": "62e33235-0aa1-40e4-ba77-8df5bf2947fd",
   "metadata": {},
   "outputs": [
    {
     "name": "stdout",
     "output_type": "stream",
     "text": [
      "Output of new df is\n",
      "        course_name  duration\n",
      "3     Data Engineer         4\n",
      "0      Data Science         2\n",
      "1  Machine Learning         3\n",
      "2          Big Data         6\n",
      "\n",
      "Output for new_df.loc[2]:\n",
      "course_name    Big Data\n",
      "duration              6\n",
      "Name: 2, dtype: object\n",
      "\n",
      "Output for new_df.iloc[2]:\n",
      "course_name    Machine Learning\n",
      "duration                      3\n",
      "Name: 1, dtype: object\n"
     ]
    }
   ],
   "source": [
    "import pandas as pd\n",
    "\n",
    "course_name = ['Data Science', 'Machine Learning', 'Big Data', 'Data Engineer']\n",
    "duration = [2, 3, 6, 4]\n",
    "\n",
    "df = pd.DataFrame(data={'course_name': course_name, 'duration': duration})\n",
    "\n",
    "reindex = [3, 0, 1, 2]\n",
    "\n",
    "new_df = df.reindex(reindex)\n",
    "print(\"Output of new df is\")\n",
    "print(new_df)\n",
    "print(\"\\nOutput for new_df.loc[2]:\")\n",
    "print(new_df.loc[2])\n",
    "\n",
    "print(\"\\nOutput for new_df.iloc[2]:\")\n",
    "print(new_df.iloc[2])\n",
    "\n",
    "# we print the output for new_df.loc[2], which uses label-based indexing to access the row with label/index '2' in the reindexed DataFrame\n",
    "# new_df.\n",
    "\n",
    "# Similarly, we print the output for new_df.iloc[2], which uses integer-based indexing to access the row at the integer index '2' in the\n",
    "# reindexed DataFrame new_df."
   ]
  },
  {
   "cell_type": "markdown",
   "id": "a6a268f9-1a1c-4106-8142-3aa22887f2df",
   "metadata": {},
   "source": [
    "### Question4"
   ]
  },
  {
   "cell_type": "code",
   "execution_count": 5,
   "id": "466afd25-7eef-4986-987e-29af0804e994",
   "metadata": {},
   "outputs": [
    {
     "name": "stdout",
     "output_type": "stream",
     "text": [
      "   column_1  column_2  column_3  column_4  column_5  column_6\n",
      "1  0.963995  0.859593  0.169459  0.509102  0.136301  0.106516\n",
      "2  0.411833  0.365872  0.766930  0.259529  0.441675  0.928998\n",
      "3  0.761074  0.009692  0.143478  0.830063  0.747629  0.777935\n",
      "4  0.625033  0.052361  0.500196  0.968670  0.158500  0.595375\n",
      "5  0.779292  0.040192  0.763402  0.317095  0.167989  0.927612\n",
      "6  0.741753  0.273055  0.154804  0.768245  0.175050  0.206323\n",
      "\n",
      "Mean of each column:\n",
      "column_1    0.713830\n",
      "column_2    0.266794\n",
      "column_3    0.416378\n",
      "column_4    0.608784\n",
      "column_5    0.304524\n",
      "column_6    0.590460\n",
      "dtype: float64\n",
      "\n",
      "Standard deviation of 'column_2':\n",
      "0.323943789345209\n"
     ]
    }
   ],
   "source": [
    "import pandas as pd\n",
    "import numpy as np\n",
    "\n",
    "columns = ['column_1', 'column_2', 'column_3', 'column_4', 'column_5', 'column_6']\n",
    "indices = [1, 2, 3, 4, 5, 6]\n",
    "\n",
    "# Creating a DataFrame\n",
    "df1 = pd.DataFrame(np.random.rand(6, 6), columns=columns, index=indices)\n",
    "print(df1)\n",
    "# (i) Mean of each column\n",
    "column_means = df1.mean()\n",
    "print(\"\\nMean of each column:\")\n",
    "print(column_means)\n",
    "\n",
    "# (ii) Standard deviation of 'column_2'\n",
    "column_2_std = df1['column_2'].std()\n",
    "print(\"\\nStandard deviation of 'column_2':\")\n",
    "print(column_2_std)\n"
   ]
  },
  {
   "cell_type": "markdown",
   "id": "f3833a16-d23e-44f1-9c62-5e83c6986624",
   "metadata": {},
   "source": [
    "### Question5"
   ]
  },
  {
   "cell_type": "code",
   "execution_count": null,
   "id": "b2e33900-f9fa-43ec-ba9b-e8c30de48549",
   "metadata": {},
   "outputs": [],
   "source": [
    "# To replace the data present in the second row of the column 'column_2' in DataFrame df1 with a string variable, and then find the mean\n",
    "# of the updated column 'column_2', you can use the df1.loc[] accessor to modify the specific value and the mean() function to calculate\n",
    "# the mean. However, there is an issue with replacing the data in the column with a string variable. The mean calculation will also be \n",
    "# affected by this inconsistency since the column type will be mixed (string and numeric). Pandas requires a consistent data type within a\n",
    "# column to perform mathematical operations such as mean calculation.\n",
    "\n",
    "# Here's the code with an explanation of the issue:\n",
    "\n",
    "import pandas as pd\n",
    "import numpy as np\n",
    "\n",
    "columns = ['column_1', 'column_2', 'column_3', 'column_4', 'column_5', 'column_6']\n",
    "indices = [1, 2, 3, 4, 5, 6]\n",
    "\n",
    "# Creating a DataFrame\n",
    "df1 = pd.DataFrame(np.random.rand(6, 6), columns=columns, index=indices)\n",
    "\n",
    "# Replacing the data in the second row of 'column_2' with a string variable\n",
    "df1.loc[2, 'column_2'] = 'string_value'\n",
    "\n",
    "# Finding the mean of 'column_2'\n",
    "column_2_mean = df1['column_2'].mean()\n",
    "print(\"Mean of 'column_2':\", column_2_mean)\n",
    "\n",
    "# In this code, we first import the necessary libraries and define the columns and indices for the DataFrame df1 as you specified.\n",
    "\n",
    "# To replace the data in the second row of 'column_2' with a string variable, we use df1.loc[2, 'column_2'] and assign it the desired \n",
    "# string value. However, since the column 'column_2' is originally of numeric data type (float), replacing a value with a string creates a\n",
    "# mixed data type column. This can cause errors or unexpected behavior when performing numerical operations, including calculating the mean.\n",
    "\n",
    "# Therefore, when calculating the mean of 'column_2' using df1['column_2'].mean(), you might encounter a TypeError due to the mixed data \n",
    "# types in the column.\n",
    "\n",
    "# To avoid this issue, it's recommended to ensure consistent data types within a column for meaningful statistical computations.\n"
   ]
  },
  {
   "cell_type": "markdown",
   "id": "4da835d3-8404-43de-8d03-af261b30e0a1",
   "metadata": {},
   "source": [
    "### Question6"
   ]
  },
  {
   "cell_type": "code",
   "execution_count": null,
   "id": "0fb658d0-8e3c-410a-89ec-45a4d1ecdeab",
   "metadata": {},
   "outputs": [],
   "source": [
    "# In pandas, the \"window\" functions are used to perform calculations on a sliding or rolling window of data. These functions are applied to a\n",
    "# specified window of values and can be useful for various analytical tasks such as calculating moving averages, cumulative sums, or other \n",
    "# aggregations over a defined period.\n",
    "\n",
    "# Pandas provides several types of window functions that can be applied using the .rolling() method or the .expanding() method on a DataFrame or \n",
    "#  Series object. Here are some common types of window functions:\n",
    "\n",
    "#    Rolling Window Functions:\n",
    "#        .rolling().mean(): Calculates the mean of values in a rolling window.\n",
    "#        .rolling().sum(): Calculates the sum of values in a rolling window.\n",
    "#        .rolling().min(): Finds the minimum value in a rolling window.\n",
    "#        .rolling().max(): Finds the maximum value in a rolling window.\n",
    "#        .rolling().std(): Calculates the standard deviation of values in a rolling window.\n",
    "#        .rolling().var(): Calculates the variance of values in a rolling window.\n",
    "#        .rolling().apply(): Applies a custom function to values in a rolling window.\n",
    "#    Expanding Window Functions:\n",
    "#        .expanding().mean(): Calculates the mean of values in an expanding window.\n",
    "#        .expanding().sum(): Calculates the sum of values in an expanding window.\n",
    "#        .expanding().min(): Finds the minimum value in an expanding window.\n",
    "#        .expanding().max(): Finds the maximum value in an expanding window.\n",
    "#        .expanding().std(): Calculates the standard deviation of values in an expanding window.\n",
    "#        .expanding().var(): Calculates the variance of values in an expanding window.\n",
    "#        .expanding().apply(): Applies a custom function to values in an expanding window.\n",
    "\n",
    "# These window functions can be combined with other pandas operations to perform complex calculations and analysis on time series or other sequential\n",
    "# data.\n"
   ]
  },
  {
   "cell_type": "markdown",
   "id": "974901a9-196b-4aee-9358-3945da9544f6",
   "metadata": {},
   "source": [
    "### Question7"
   ]
  },
  {
   "cell_type": "code",
   "execution_count": 1,
   "id": "aaf8a2df-0eec-4666-975b-667350511764",
   "metadata": {},
   "outputs": [
    {
     "name": "stdout",
     "output_type": "stream",
     "text": [
      "Current month and year: July 2023\n"
     ]
    }
   ],
   "source": [
    "import pandas as pd\n",
    "from datetime import datetime\n",
    "\n",
    "current_date = datetime.now()\n",
    "current_month_year = pd.Timestamp(current_date).strftime(\"%B %Y\")\n",
    "\n",
    "print(\"Current month and year:\", current_month_year)\n"
   ]
  },
  {
   "cell_type": "markdown",
   "id": "ca640322-1f4e-4861-b3f5-e3d7595f2b11",
   "metadata": {},
   "source": [
    "### Question8"
   ]
  },
  {
   "cell_type": "code",
   "execution_count": 2,
   "id": "d6fa8a3b-b1bb-46a9-99b8-56eb6bca284a",
   "metadata": {},
   "outputs": [
    {
     "name": "stdin",
     "output_type": "stream",
     "text": [
      "Enter the first date (YYYY-MM-DD):  2023-01-01\n",
      "Enter the second date (YYYY-MM-DD):  2023-07-14\n"
     ]
    },
    {
     "name": "stdout",
     "output_type": "stream",
     "text": [
      "Difference between the dates:\n",
      "Days: 194\n",
      "Hours: 0\n",
      "Minutes: 0\n"
     ]
    }
   ],
   "source": [
    "import pandas as pd\n",
    "\n",
    "# Prompt the user to enter the first date\n",
    "date1 = input(\"Enter the first date (YYYY-MM-DD): \")\n",
    "\n",
    "# Prompt the user to enter the second date\n",
    "date2 = input(\"Enter the second date (YYYY-MM-DD): \")\n",
    "\n",
    "# Convert the input dates to Pandas Timestamp objects\n",
    "date1 = pd.to_datetime(date1)\n",
    "date2 = pd.to_datetime(date2)\n",
    "\n",
    "# Calculate the difference between the dates\n",
    "time_diff = date2 - date1\n",
    "\n",
    "# Extract the number of days, hours, and minutes from the timedelta\n",
    "days = time_diff.days\n",
    "hours = time_diff.seconds // 3600\n",
    "minutes = (time_diff.seconds // 60) % 60\n",
    "\n",
    "# Display the result\n",
    "print(\"Difference between the dates:\")\n",
    "print(f\"Days: {days}\")\n",
    "print(f\"Hours: {hours}\")\n",
    "print(f\"Minutes: {minutes}\")\n"
   ]
  },
  {
   "cell_type": "markdown",
   "id": "1d64e83b-a13a-46d0-a1f6-46f00653c4ee",
   "metadata": {},
   "source": [
    "### Question9"
   ]
  },
  {
   "cell_type": "code",
   "execution_count": null,
   "id": "ab72f864-c7bd-4949-8018-38a019ddf97d",
   "metadata": {},
   "outputs": [],
   "source": [
    "import pandas as pd\n",
    "\n",
    "# Prompt the user to enter the file path\n",
    "file_path = input(\"Enter the file path: \")\n",
    "\n",
    "# Prompt the user to enter the column name\n",
    "column_name = input(\"Enter the column name: \")\n",
    "\n",
    "# Prompt the user to enter the category order\n",
    "category_order = input(\"Enter the category order (comma-separated): \").split(\",\")\n",
    "\n",
    "# Read the CSV file into a DataFrame\n",
    "data = pd.read_csv(file_path)\n",
    "\n",
    "# Convert the specified column to categorical data type with the specified category order\n",
    "data[column_name] = pd.Categorical(data[column_name], categories=category_order, ordered=True)\n",
    "\n",
    "# Sort the data based on the specified column\n",
    "sorted_data = data.sort_values(column_name)\n",
    "\n",
    "# Display the sorted data\n",
    "print(sorted_data)\n",
    "\n",
    "#In this program, the user is prompted to enter the file path, column name, and category order.\n",
    "\n",
    "#The CSV file is then read into a DataFrame using pd.read_csv().\n",
    "\n",
    "#The specified column is converted to a categorical data type using pd.Categorical(). The categories parameter is set to the category_order\n",
    "# input provided by the user, and ordered is set to True to maintain the specified order of categories.\n",
    "\n",
    "# The data is sorted based on the specified column using data.sort_values() and stored in the sorted_data variable.\n",
    "\n",
    "# Finally, the sorted data is displayed using print().\n",
    "\n",
    "# When you run this program, it will prompt you to enter the file path, column name, and category order. After entering the inputs,\n",
    "# it will display the sorted data based on the specified column."
   ]
  },
  {
   "cell_type": "markdown",
   "id": "16380649-54d0-4107-8770-4c77deeb6fd5",
   "metadata": {},
   "source": [
    "### Question10"
   ]
  },
  {
   "cell_type": "code",
   "execution_count": null,
   "id": "7d6afd7f-0b44-480b-b86d-7b9bde5bfbb9",
   "metadata": {},
   "outputs": [],
   "source": [
    "import pandas as pd\n",
    "import matplotlib.pyplot as plt\n",
    "\n",
    "# Prompt the user to enter the file path\n",
    "file_path = input(\"Enter the file path: \")\n",
    "\n",
    "# Read the CSV file into a DataFrame\n",
    "data = pd.read_csv(file_path)\n",
    "\n",
    "# Convert the 'Date' column to datetime\n",
    "data['Date'] = pd.to_datetime(data['Date'])\n",
    "\n",
    "# Group the data by 'Date' and 'Category' and calculate the total sales\n",
    "grouped_data = data.groupby(['Date', 'Category']).sum()['Sales'].unstack()\n",
    "\n",
    "# Plot the stacked bar chart\n",
    "fig, ax = plt.subplots()\n",
    "grouped_data.plot(kind='bar', stacked=True, ax=ax)\n",
    "\n",
    "# Set labels and title\n",
    "ax.set_xlabel('Date')\n",
    "ax.set_ylabel('Sales')\n",
    "ax.set_title('Sales of Each Product Category Over Time')\n",
    "\n",
    "# Display the chart\n",
    "plt.show()\n",
    "\n",
    "# the user is prompted to enter the file path by using the input() function and assigning the input to the file_path variable.\n",
    "# It reads the CSV file into a DataFrame, converts the 'Date' column to datetime, groups the data by 'Date' and 'Category', calculates the \n",
    "# total sales for each category, and plots the stacked bar chart.\n",
    "\n",
    "# When you run this program, it will prompt you to enter the file path of the CSV file. After entering the file path, it will process the \n",
    "# data and display a stacked bar chart showing the sales of each product category over time."
   ]
  },
  {
   "cell_type": "markdown",
   "id": "6eecb61d-7224-4ce3-ab5b-4257a051a10a",
   "metadata": {},
   "source": [
    "### Question11"
   ]
  },
  {
   "cell_type": "code",
   "execution_count": null,
   "id": "32c955bf-6b3b-4154-919f-c89b38045c6e",
   "metadata": {},
   "outputs": [],
   "source": [
    "import pandas as pd\n",
    "\n",
    "# Prompt the user to enter the file path\n",
    "file_path = input(\"Enter the file path of the CSV file containing the student data: \")\n",
    "\n",
    "# Read the CSV file into a DataFrame\n",
    "data = pd.read_csv(file_path)\n",
    "\n",
    "# Calculate the mean, median, and mode of the test scores\n",
    "mean_score = data['Test Score'].mean()\n",
    "median_score = data['Test Score'].median()\n",
    "mode_scores = data['Test Score'].mode().tolist()\n",
    "\n",
    "# Create a table to display the results\n",
    "results = pd.DataFrame({'Statistic': ['Mean', 'Median', 'Mode'],\n",
    "                        'Value': [mean_score, median_score, ', '.join(map(str, mode_scores))]})\n",
    "\n",
    "# Display the results table\n",
    "print(results.to_string(index=False))\n",
    "# When you run this program, it will prompt you to enter the file path of the CSV file containing the student data. After entering the file path, the\n",
    "# program will read the CSV file into a Pandas DataFrame using pd.read_csv().\n",
    "\n",
    "# Next, the program calculates the mean, median, and mode of the test scores using the corresponding Pandas functions: mean(), median(), and mode().\n",
    "\n",
    "# A results table is created using a dictionary to store the statistic names and their corresponding values. The mode scores are converted to a string\n",
    "# using ', '.join(map(str, mode_scores)) to display multiple mode values as a comma-separated string.\n",
    "\n",
    "# Finally, the program displays the results table using print(results.to_string(index=False)), ensuring that the index is not included in \n",
    "# the table output.\n",
    "\n",
    "# When you run the program and provide the file path to the CSV file, it will calculate the mean, median, and mode of the test scores and display the\n",
    "# results in a table format, as shown in the example usage you provided."
   ]
  }
 ],
 "metadata": {
  "kernelspec": {
   "display_name": "Python 3 (ipykernel)",
   "language": "python",
   "name": "python3"
  },
  "language_info": {
   "codemirror_mode": {
    "name": "ipython",
    "version": 3
   },
   "file_extension": ".py",
   "mimetype": "text/x-python",
   "name": "python",
   "nbconvert_exporter": "python",
   "pygments_lexer": "ipython3",
   "version": "3.10.8"
  }
 },
 "nbformat": 4,
 "nbformat_minor": 5
}
