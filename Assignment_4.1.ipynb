{
 "cells": [
  {
   "cell_type": "markdown",
   "id": "ad1c08e9-38e8-4d33-996d-b6e414f80439",
   "metadata": {},
   "source": [
    "Question1"
   ]
  },
  {
   "cell_type": "code",
   "execution_count": 1,
   "id": "f4391a6c-8948-4a13-9253-7a7a5e49d8cc",
   "metadata": {},
   "outputs": [
    {
     "name": "stdout",
     "output_type": "stream",
     "text": [
      "5\n",
      "3\n",
      "15\n",
      "7\n",
      "4\n",
      "28\n"
     ]
    }
   ],
   "source": [
    "# In object-oriented programming (OOP), a class is a blueprint or a template that defines the structure and behavior of objects. \n",
    "# It encapsulates data (attributes) and functions (methods) that operate on that data. A class serves as a blueprint for creating \n",
    "# multiple instances of objects with similar characteristics.\n",
    "# An object, on the other hand, is an instance of a class. It is a concrete realization of the class, representing a specific entity\n",
    "# with its own unique state and behavior. Objects are created from classes, and they can have their own data and perform operations\n",
    "# based on the methods defined in the class.\n",
    "class Rectangle:\n",
    "    def __init__(self, length, width):\n",
    "        self.length = length\n",
    "        self.width = width\n",
    "\n",
    "    def calculate_area(self):\n",
    "        return self.length * self.width\n",
    "\n",
    "# Creating objects of the Rectangle class\n",
    "rect1 = Rectangle(5, 3)\n",
    "rect2 = Rectangle(7, 4)\n",
    "\n",
    "# Accessing attributes and invoking methods on objects\n",
    "print(rect1.length)               # Output: 5\n",
    "print(rect1.width)                # Output: 3\n",
    "print(rect1.calculate_area())     # Output: 15\n",
    "\n",
    "print(rect2.length)               # Output: 7\n",
    "print(rect2.width)                # Output: 4\n",
    "print(rect2.calculate_area())     # Output: 28\n"
   ]
  },
  {
   "cell_type": "markdown",
   "id": "2d44b274-d1c0-4939-972a-bfd49f82ebcf",
   "metadata": {},
   "source": [
    "Question2"
   ]
  },
  {
   "cell_type": "code",
   "execution_count": null,
   "id": "d8b3427e-4406-4817-860e-98e215b5c712",
   "metadata": {},
   "outputs": [],
   "source": [
    "# The four pillars of Object-Oriented Programming (OOP) in Python (and many other languages) are:\n",
    "\n",
    "  #  Encapsulation: Encapsulation refers to the bundling of data and methods within a class. It involves hiding the internal details\n",
    "  #  of an object and providing external access only through well-defined interfaces. Encapsulation allows for better control over \n",
    "  # the access and modification of data, ensuring data integrity and code organization.\n",
    "\n",
    "  # Inheritance: Inheritance allows classes to inherit attributes and methods from other classes. It promotes code reuse and the \n",
    "  # creation of hierarchical relationships between classes. A subclass inherits the properties of its superclass and can extend or \n",
    " # override its behavior. Inheritance facilitates the creation of specialized classes based on more general ones.\n",
    "\n",
    "  # Polymorphism: Polymorphism means the ability of objects of different classes to respond to the same message or method call. \n",
    "  # It allows objects of different types to be treated as interchangeable, as long as they support a common interface or superclass.\n",
    "  # Polymorphism enables code flexibility and extensibility by writing code that can work with objects of different types without knowing\n",
    "  #  their specific classes.\n",
    "\n",
    "  # Abstraction: Abstraction involves representing essential features of an object while hiding unnecessary or complex details. \n",
    "  #  It provides a simplified view of an object or system, focusing on the relevant aspects and ignoring irrelevant implementation details.\n",
    "  # Abstraction allows programmers to work at a higher level of complexity, making code more modular, maintainable, and easier to understand.\n",
    "\n",
    "# These four pillars form the foundation of object-oriented programming and help in designing and implementing modular, reusable, \n",
    "# and maintainable code structures.\n"
   ]
  },
  {
   "cell_type": "markdown",
   "id": "2438b90a-e9c6-4daa-bd4c-d36273b6ffcf",
   "metadata": {},
   "source": [
    "Question3"
   ]
  },
  {
   "cell_type": "code",
   "execution_count": 2,
   "id": "eb1d2ac3-9de9-4290-9b96-5d0c8654303e",
   "metadata": {},
   "outputs": [
    {
     "name": "stdout",
     "output_type": "stream",
     "text": [
      "Hello, my name is Alice and I am 25 years old.\n",
      "Hello, my name is Bob and I am 30 years old.\n"
     ]
    }
   ],
   "source": [
    "# The __init__() function is a special method in Python that is automatically called when an object is created from a class. \n",
    "# It is used to initialize or set up the initial state of an object. The primary purpose of the __init__() function is to provide\n",
    "# a convenient way to initialize the attributes of an object with values specified at the time of object creation.\n",
    "class Person:\n",
    "    def __init__(self, name, age):\n",
    "        self.name = name\n",
    "        self.age = age\n",
    "\n",
    "    def introduce(self):\n",
    "        print(f\"Hello, my name is {self.name} and I am {self.age} years old.\")\n",
    "\n",
    "# Creating objects of the Person class\n",
    "person1 = Person(\"Alice\", 25)\n",
    "person2 = Person(\"Bob\", 30)\n",
    "\n",
    "# Accessing attributes and invoking methods on objects\n",
    "person1.introduce()  # Output: Hello, my name is Alice and I am 25 years old.\n",
    "person2.introduce()  # Output: Hello, my name is Bob and I am 30 years old.\n"
   ]
  },
  {
   "cell_type": "markdown",
   "id": "8a882452-a30c-4262-aa22-fbf96fadcf1d",
   "metadata": {},
   "source": [
    "Question4"
   ]
  },
  {
   "cell_type": "code",
   "execution_count": 3,
   "id": "0af1846e-3fd9-4cc3-9bd5-bc5abe72cff4",
   "metadata": {},
   "outputs": [
    {
     "name": "stdout",
     "output_type": "stream",
     "text": [
      "Hello, my name is Alice and I am 25 years old.\n"
     ]
    }
   ],
   "source": [
    "# In object-oriented programming (OOP), self is a convention used as the first parameter in method definitions within a class. \n",
    "# It is a reference to the instance of the class that the method is being called on. It allows the method to access and manipulate \n",
    "# the attributes and methods of that specific instance.\n",
    "\n",
    "# Using self as the first parameter in method definitions helps differentiate between instance variables (attributes specific to each object)\n",
    "# and local variables (temporary variables within a method). It ensures that the correct instance is referenced when accessing or \n",
    "# modifying the attributes of an object.\n",
    "class Person:\n",
    "    def __init__(self, name, age):\n",
    "        self.name = name\n",
    "        self.age = age\n",
    "\n",
    "    def introduce(self):\n",
    "        print(f\"Hello, my name is {self.name} and I am {self.age} years old.\")\n",
    "\n",
    "person = Person(\"Alice\", 25)\n",
    "person.introduce()\n"
   ]
  },
  {
   "cell_type": "markdown",
   "id": "915b3cef-1ec0-43b1-8979-06762e4e07e9",
   "metadata": {},
   "source": [
    "Question5"
   ]
  },
  {
   "cell_type": "code",
   "execution_count": null,
   "id": "25112e7d-a656-49fe-b6b7-6c49d8e75d7b",
   "metadata": {},
   "outputs": [],
   "source": [
    "# Inheritance is a fundamental concept in object-oriented programming (OOP) that allows a class to inherit attributes and methods from \n",
    "# another class. The class that inherits from another class is called a subclass or derived class, and the class being inherited from\n",
    "# is called a superclass or base class. Inheritance promotes code reuse and facilitates the creation of hierarchical relationships \n",
    "# between classes.\n",
    "#There are several types of inheritance:\n",
    "\n",
    " #   Single Inheritance:\n",
    " #   In single inheritance, a subclass inherits from a single superclass. It forms a one-level inheritance hierarchy.\n",
    " class Vehicle:\n",
    "    def drive(self):\n",
    "        print(\"Driving a vehicle.\")\n",
    "\n",
    "class Car(Vehicle):\n",
    "    def accelerate(self):\n",
    "        print(\"Car accelerating.\")\n",
    "\n",
    "car = Car()\n",
    "car.drive()       # Output: Driving a vehicle.\n",
    "car.accelerate()  # Output: Car accelerating.\n",
    "# Multiple Inheritance:\n",
    "# Multiple inheritance occurs when a subclass inherits from multiple superclasses. It allows the subclass to inherit attributes \n",
    "# and methods from multiple sources.\n",
    "class Animal:\n",
    "    def speak(self):\n",
    "        print(\"Animal speaks.\")\n",
    "\n",
    "class Mammal:\n",
    "    def run(self):\n",
    "        print(\"Mammal runs.\")\n",
    "\n",
    "class Cat(Animal, Mammal):\n",
    "    pass\n",
    "\n",
    "cat = Cat()\n",
    "cat.speak()  # Output: Animal speaks.\n",
    "cat.run()    # Output: Mammal runs.\n",
    "# Multilevel Inheritance:\n",
    "# Multilevel inheritance involves a subclass inheriting from a superclass, which in turn inherits from another superclass. \n",
    "# It forms a multi-level inheritance hierarchy.\n",
    "class Animal:\n",
    "    def speak(self):\n",
    "        print(\"Animal speaks.\")\n",
    "\n",
    "class Mammal(Animal):\n",
    "    def run(self):\n",
    "        print(\"Mammal runs.\")\n",
    "\n",
    "class Cat(Mammal):\n",
    "    pass\n",
    "\n",
    "cat = Cat()\n",
    "cat.speak()  # Output: Animal speaks.\n",
    "cat.run()    # Output: Mammal runs.\n",
    "# Hierarchical Inheritance:\n",
    "# Hierarchical inheritance occurs when multiple subclasses inherit from the same superclass. It creates a hierarchical inheritance structure.\n",
    "class Animal:\n",
    "    def speak(self):\n",
    "        print(\"Animal speaks.\")\n",
    "\n",
    "class Dog(Animal):\n",
    "    def bark(self):\n",
    "        print(\"Dog barks.\")\n",
    "\n",
    "class Cat(Animal):\n",
    "    def meow(self):\n",
    "        print(\"Cat meows.\")\n",
    "\n",
    "dog = Dog()\n",
    "dog.speak()  # Output: Animal speaks.\n",
    "dog.bark()   # Output: Dog barks.\n",
    "\n",
    "cat = Cat()\n",
    "cat.speak()  # Output: Animal speaks.\n",
    "cat.meow()   # Output: Cat meows.\n"
   ]
  }
 ],
 "metadata": {
  "kernelspec": {
   "display_name": "Python 3 (ipykernel)",
   "language": "python",
   "name": "python3"
  },
  "language_info": {
   "codemirror_mode": {
    "name": "ipython",
    "version": 3
   },
   "file_extension": ".py",
   "mimetype": "text/x-python",
   "name": "python",
   "nbconvert_exporter": "python",
   "pygments_lexer": "ipython3",
   "version": "3.10.8"
  }
 },
 "nbformat": 4,
 "nbformat_minor": 5
}
