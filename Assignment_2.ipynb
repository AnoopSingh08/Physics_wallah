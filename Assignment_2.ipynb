{
 "cells": [
  {
   "cell_type": "markdown",
   "id": "5ec4a8e1-c4b6-43de-b92e-390da595f58b",
   "metadata": {},
   "source": [
    "Question1"
   ]
  },
  {
   "cell_type": "code",
   "execution_count": 10,
   "id": "f31ac828-e5fb-4a7f-9353-ac11642d089a",
   "metadata": {},
   "outputs": [
    {
     "data": {
      "text/plain": [
       "'\\nthis is a multi line comment\\nmulti line comment \\n'"
      ]
     },
     "execution_count": 10,
     "metadata": {},
     "output_type": "execute_result"
    }
   ],
   "source": [
    "# Comments are lines of text that are ignored by the Python interpreter and are intended for human readers.\n",
    "# They provide explanations, notes, or descriptions of the code's functionality.\n",
    "# In Python, there are two types of comments:\n",
    "# 1)Single line comments (#)\n",
    "#        Single-line comments start with the hash character (#) and continue until the end of the line.\n",
    "# Example # This is a single line comment\n",
    "# 2)Multi Line comments (\"\"\" or ''')\n",
    "#        Multi-line comments, also known as block comments, are used to document larger sections of code \n",
    "#        or provide more detailed explanations.\n",
    "# Example \n",
    "\"\"\"\n",
    "this is a multi line comment\n",
    "multi line comment \n",
    "\"\"\""
   ]
  },
  {
   "cell_type": "markdown",
   "id": "f697acfb-28ee-439e-98df-f631462b04cc",
   "metadata": {},
   "source": [
    "Question2"
   ]
  },
  {
   "cell_type": "code",
   "execution_count": 6,
   "id": "8283a088-b43f-458f-a2c4-b16c7a8b8c4a",
   "metadata": {},
   "outputs": [
    {
     "name": "stdout",
     "output_type": "stream",
     "text": [
      "5\n",
      "20.25\n",
      "ANOOP SINGH\n"
     ]
    }
   ],
   "source": [
    "# A variable is like a container that holds a value, which can be of various types such as numbers, strings, lists, or other objects. \n",
    "# Python is a dynamically typed language, which means you don't need to explicitly declare the type of a variable.\n",
    "# The type of a variable is determined by the value it holds.\n",
    "# example Var_name = value\n",
    "# variable of integer type\n",
    "a=5\n",
    "print(a)\n",
    "# variable of floating type\n",
    "a=20.25\n",
    "print(a)\n",
    "# variable of string type\n",
    "a=\"ANOOP SINGH\"\n",
    "print(a)"
   ]
  },
  {
   "cell_type": "markdown",
   "id": "b64097b7-84eb-4c6d-9877-51bf6254db93",
   "metadata": {},
   "source": [
    "Question3"
   ]
  },
  {
   "cell_type": "code",
   "execution_count": 9,
   "id": "da85d708-b440-4356-b411-ac0aaa5d4618",
   "metadata": {},
   "outputs": [
    {
     "name": "stdout",
     "output_type": "stream",
     "text": [
      "13.14\n",
      "3\n",
      "10.0\n",
      "42\n",
      "['h', 'e', 'l', 'l', 'o']\n",
      "42\n"
     ]
    }
   ],
   "source": [
    "# In Python, one can convert one data type to another using type conversion functions or techniques.\n",
    "# 1) Implicit Conversion: Python automatically performs implicit type conversion (also known as coercion) in certain situations\n",
    "# Example\n",
    "x = 10  # integer\n",
    "y = 3.14  # float\n",
    "\n",
    "result = x + y  # The integer x is implicitly converted to a float before addition\n",
    "print(result)  # Output: 13.14\n",
    "# 2) Explicit Conversion: You can explicitly convert one data type to another using built-in functions.\n",
    "# Example\n",
    "x = 3.14\n",
    "y = int(x)\n",
    "print(y)  # Output: 3\n",
    "x = 10\n",
    "y = float(x)\n",
    "print(y)  # Output: 10.0\n",
    "x = 42\n",
    "y = str(x)\n",
    "print(y)  # Output: \"42\"\n",
    "x = \"hello\"\n",
    "y = list(x)\n",
    "print(y)  # Output: ['h', 'e', 'l', 'l', 'o']\n",
    "# 3) Type-specific Conversion: Some data types provide specific methods to convert values to other types.\n",
    "# For instance, the str type has methods like int(), float(), list(), etc., which can be used to convert a string to an integer, \n",
    "# float, or list, respectively.\n",
    "# Example\n",
    "x = \"42\"\n",
    "y = int(x)  # Convert string to integer using the int() function\n",
    "print(y)  # Output: 42\n"
   ]
  },
  {
   "cell_type": "markdown",
   "id": "f27c7a9c-2dd9-4977-8cbf-1349306755d4",
   "metadata": {},
   "source": [
    "# Question4"
   ]
  },
  {
   "cell_type": "code",
   "execution_count": 1,
   "id": "d1771538-c2ee-442d-b320-31bc206e4ed3",
   "metadata": {},
   "outputs": [],
   "source": [
    "# 1) Open a text editor and create a new file. This file will contain your Python script.\n",
    "# 2) Write your Python code in the text editor and save the file with a .py extension.\n",
    "# 3) Open a command-line interface, such as the terminal or command prompt, and navigate to the directory where you saved the Python script.\n",
    "#    Use the cd command to change directories.\n",
    "# 4) Once you are in the correct directory, you can execute the Python script by running the python command followed by the name \n",
    "#    of the script file.\n",
    "# 5) Press Enter, and the Python script will be executed. The output, if any, will be displayed in the command-line interface."
   ]
  },
  {
   "cell_type": "markdown",
   "id": "e87e1d01-7dfa-4541-bc1c-dba8eb5d9bae",
   "metadata": {},
   "source": [
    "Question5"
   ]
  },
  {
   "cell_type": "code",
   "execution_count": 2,
   "id": "9deed3f5-975a-425a-9e21-bc02cc03a9ec",
   "metadata": {},
   "outputs": [
    {
     "name": "stdout",
     "output_type": "stream",
     "text": [
      "[2, 3]\n"
     ]
    }
   ],
   "source": [
    "my_list = [1, 2, 3, 4, 5]\n",
    "sub_list = my_list[1:3]\n",
    "print(sub_list)\n"
   ]
  },
  {
   "cell_type": "markdown",
   "id": "526d04a1-05a0-4a90-beba-ab51f67396e7",
   "metadata": {},
   "source": [
    "Question6"
   ]
  },
  {
   "cell_type": "code",
   "execution_count": 3,
   "id": "65eda887-bad8-4347-bf7b-d7e3a6579488",
   "metadata": {},
   "outputs": [],
   "source": [
    "# In mathematics, a complex number is a number that can be expressed in the form a + bi, where a and b are real numbers, \n",
    "# and i represents the imaginary unit, defined as the square root of -1.\n",
    "# Complex numbers in Python are represented by using the j or J suffix to indicate the imaginary part. The real and imaginary parts\n",
    "# are separated by the + or - operator.\n",
    "# Example\n",
    "z1 = 3 + 2j\n",
    "z2 = 1.5 - 4j\n",
    "z3 = -2j"
   ]
  },
  {
   "cell_type": "markdown",
   "id": "65259679-fcce-45fc-a192-7e89f357ba9f",
   "metadata": {},
   "source": [
    "Question7"
   ]
  },
  {
   "cell_type": "code",
   "execution_count": 4,
   "id": "775f6780-3fce-47c5-8d44-51dab85a78c4",
   "metadata": {},
   "outputs": [],
   "source": [
    "age = 25\n"
   ]
  },
  {
   "cell_type": "markdown",
   "id": "61cdeb54-e3b9-4753-9b0c-517164fb9de1",
   "metadata": {},
   "source": [
    "Question8"
   ]
  },
  {
   "cell_type": "code",
   "execution_count": 5,
   "id": "36180192-a682-4d63-9c79-a68fe0d6c13d",
   "metadata": {},
   "outputs": [
    {
     "data": {
      "text/plain": [
       "float"
      ]
     },
     "execution_count": 5,
     "metadata": {},
     "output_type": "execute_result"
    }
   ],
   "source": [
    "# When you declare a variable named price and assign the value 9.99 to it in Python, the variable price belongs to the data type float.\n",
    "price = 9.99\n",
    "type(price)"
   ]
  },
  {
   "cell_type": "markdown",
   "id": "f12f5a1a-fad8-424e-b5e3-e8c82bf75420",
   "metadata": {},
   "source": [
    "Question9"
   ]
  },
  {
   "cell_type": "code",
   "execution_count": 6,
   "id": "616b6762-671c-49f1-ae66-8cfc5677902d",
   "metadata": {},
   "outputs": [
    {
     "name": "stdout",
     "output_type": "stream",
     "text": [
      "ANOOP SINGH\n"
     ]
    }
   ],
   "source": [
    "name = \"ANOOP SINGH\"\n",
    "print(name)"
   ]
  },
  {
   "cell_type": "markdown",
   "id": "19307281-ac47-45ff-bd36-5a9ba7111f5b",
   "metadata": {},
   "source": [
    "Question10"
   ]
  },
  {
   "cell_type": "code",
   "execution_count": 7,
   "id": "561ea754-7680-4829-bc35-526823556a38",
   "metadata": {},
   "outputs": [
    {
     "name": "stdout",
     "output_type": "stream",
     "text": [
      "World\n"
     ]
    }
   ],
   "source": [
    "string = \"Hello, World!\"\n",
    "substring = string[7:12]\n",
    "print(substring)\n"
   ]
  },
  {
   "cell_type": "markdown",
   "id": "8cff2e35-cbe6-4da4-93e7-3daea02cabc2",
   "metadata": {},
   "source": [
    "Question11"
   ]
  },
  {
   "cell_type": "code",
   "execution_count": 8,
   "id": "729e0ff2-07ba-4938-af21-94caf69751c3",
   "metadata": {},
   "outputs": [],
   "source": [
    "is_student = True\n"
   ]
  }
 ],
 "metadata": {
  "kernelspec": {
   "display_name": "Python 3 (ipykernel)",
   "language": "python",
   "name": "python3"
  },
  "language_info": {
   "codemirror_mode": {
    "name": "ipython",
    "version": 3
   },
   "file_extension": ".py",
   "mimetype": "text/x-python",
   "name": "python",
   "nbconvert_exporter": "python",
   "pygments_lexer": "ipython3",
   "version": "3.10.8"
  }
 },
 "nbformat": 4,
 "nbformat_minor": 5
}
