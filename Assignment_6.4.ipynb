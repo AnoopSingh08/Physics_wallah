{
 "cells": [
  {
   "cell_type": "markdown",
   "id": "e228367b-b864-46f9-b45f-818562b34d6c",
   "metadata": {},
   "source": [
    "### Question1"
   ]
  },
  {
   "cell_type": "code",
   "execution_count": null,
   "id": "a0570d14-21b0-4614-a97a-8dc500c876a0",
   "metadata": {},
   "outputs": [],
   "source": [
    "# Flask is a lightweight web framework for Python that allows developers to build web applications quickly and with ease. It is known for \n",
    "# its simplicity, flexibility, and extensibility. Flask follows the \"micro\" design principle, providing only the essential components \n",
    "# needed for web development while allowing developers to choose and integrate additional libraries or tools as per their requirements.\n",
    "\n",
    "# Advantages of Flask Framework:\n",
    "\n",
    "#    Simplicity: Flask has a simple and intuitive syntax that is easy to understand and learn. Its minimalistic approach allows developers\n",
    "#    to quickly get started with building web applications without being overwhelmed by unnecessary complexity.\n",
    "\n",
    "#    Flexibility: Flask provides great flexibility, allowing developers to customize and tailor their applications according to their \n",
    "#    specific needs. It does not impose strict conventions, giving developers the freedom to structure their projects as desired.\n",
    "\n",
    "#    Lightweight and Minimalistic: Flask is lightweight, meaning it has a small codebase and minimal dependencies. This results in faster\n",
    "#    application startup times and reduced overhead, making it suitable for both small and large-scale applications.\n",
    "\n",
    "#    Modularity: Flask follows a modular design, allowing developers to use only the necessary components for their projects. This \n",
    "#    modularity makes it easy to add or remove functionality as needed, enhancing maintainability and reducing unnecessary bloat.\n",
    "\n",
    "#    Extensibility: Flask provides a vast ecosystem of extensions and libraries that can be easily integrated into applications. \n",
    "#    These extensions cover various functionalities like database integration, authentication, form handling, caching, and more, enabling \n",
    "#    developers to leverage existing solutions and save development time.\n",
    "\n",
    "#    Built-in Development Server: Flask comes with a built-in development server, making it convenient for developers to run and test their\n",
    "#    applications locally without requiring additional server setup.\n",
    "\n",
    "#    Active Community and Documentation: Flask has a large and active community of developers who contribute to its development, provide \n",
    "#    support, and create helpful resources. The framework has comprehensive documentation that guides developers through various aspects of\n",
    "#    Flask development.\n",
    "\n",
    "# Overall, Flask offers a straightforward and efficient way to build web applications in Python, providing developers with the flexibility\n",
    "# and control they need while maintaining a minimalistic and lightweight approach."
   ]
  },
  {
   "cell_type": "markdown",
   "id": "975a9968-d5ab-4d2e-936d-52a555ebb726",
   "metadata": {},
   "source": [
    "### Question2"
   ]
  },
  {
   "cell_type": "code",
   "execution_count": null,
   "id": "a00d4561-b5a1-420c-a4af-0a9b6bff9902",
   "metadata": {},
   "outputs": [],
   "source": [
    "from flask import Flask\n",
    "\n",
    "app = Flask(__name__)\n",
    "\n",
    "@app.route('/')\n",
    "def hello():\n",
    "    return 'Hello World!!'\n",
    "\n",
    "if __name__ == '__main__':\n",
    "    app.run()\n"
   ]
  },
  {
   "cell_type": "markdown",
   "id": "94d2cd43-47c4-4460-abe9-2fa1848f737b",
   "metadata": {},
   "source": [
    "### Question3"
   ]
  },
  {
   "cell_type": "code",
   "execution_count": null,
   "id": "f96d16fd-3923-4922-bf8c-3f86900de424",
   "metadata": {},
   "outputs": [],
   "source": [
    "# In Flask, app routing refers to the process of mapping URLs (or routes) to specific functions in your application. It allows you to\n",
    "# define different endpoints for your web application and specify the corresponding actions or responses when those endpoints are accessed.\n",
    "\n",
    "# App routing in Flask is accomplished using the @app.route() decorator, which is used to associate a URL pattern with a view function. \n",
    "# The decorator is placed above a function definition, indicating the URL route that will trigger the function when accessed.\n",
    "\n",
    "# Here's an example of app routing in Flask:\n",
    "\n",
    "from flask import Flask\n",
    "\n",
    "app = Flask(__name__)\n",
    "\n",
    "@app.route('/')\n",
    "def home():\n",
    "    return 'This is the home page'\n",
    "\n",
    "@app.route('/about')\n",
    "def about():\n",
    "    return 'This is the about page'\n",
    "\n",
    "@app.route('/contact')\n",
    "def contact():\n",
    "    return 'This is the contact page'\n",
    "\n",
    "if __name__ == '__main__':\n",
    "    app.run()\n",
    "\n",
    "# In the above code, we define three routes using the @app.route() decorator. The home() function will be executed when the root URL '/' is\n",
    "# accessed, the about() function will be executed when the URL '/about' is accessed, and the contact() function will be executed when the\n",
    "# URL '/contact' is accessed.\n",
    "\n",
    "# We use app routes in Flask for the following reasons:\n",
    "\n",
    "#    URL Mapping: App routes allow us to map specific URLs to corresponding functions in our application. This helps define the structure\n",
    "#    and behavior of our web application.\n",
    "\n",
    "#    Request Handling: App routes handle incoming requests from clients and determine the appropriate response to send back. By associating\n",
    "#    routes with specific functions, we can define the actions or operations to be performed for each URL.\n",
    "\n",
    "#    Modularity: App routes make it easy to organize and modularize our application by defining separate routes and functions for different\n",
    "#    sections or functionalities. This enhances code maintainability and readability.\n",
    "\n",
    "#    Dynamic URLs: App routes can include variables and dynamic segments in the URL patterns, allowing us to handle different parameters\n",
    "#    or values passed in the URL and respond accordingly.\n",
    "\n",
    "#    RESTful APIs: App routes are commonly used in building RESTful APIs. Each route corresponds to a specific API endpoint, and the\n",
    "#    associated functions handle the corresponding API operations, such as GET, POST, PUT, or DELETE.\n",
    "\n",
    "# Overall, app routes in Flask provide a way to define the routing logic of our web application, enabling us to handle different URLs and\n",
    "# respond with the appropriate content or actions.\n"
   ]
  },
  {
   "cell_type": "markdown",
   "id": "b111a5db-fb45-429e-a24d-8fafc3ad7e36",
   "metadata": {},
   "source": [
    "### Question4"
   ]
  },
  {
   "cell_type": "code",
   "execution_count": null,
   "id": "075da0a4-b3c7-4707-877c-29a7a4ff4887",
   "metadata": {},
   "outputs": [],
   "source": [
    "from flask import Flask\n",
    "\n",
    "app = Flask(__name__)\n",
    "\n",
    "@app.route('/welcome')\n",
    "def welcome():\n",
    "    return 'Welcome to ABC Corporation'\n",
    "\n",
    "@app.route('/')\n",
    "def company_details():\n",
    "    return '''Company Name: ABC Corporation\n",
    "Location: India\n",
    "Contact Detail: 999-999-9999'''\n",
    "\n",
    "if __name__ == '__main__':\n",
    "    app.run()\n"
   ]
  },
  {
   "cell_type": "markdown",
   "id": "06b0d41a-c460-4e3a-adfe-1ecc4c6fc584",
   "metadata": {},
   "source": [
    "### Question5"
   ]
  },
  {
   "cell_type": "code",
   "execution_count": null,
   "id": "5c616bec-2e40-49fd-adf9-95d26de4f7f7",
   "metadata": {},
   "outputs": [],
   "source": [
    "# In Flask, the url_for() function is used for URL building. It is a built-in function that generates a URL for a given view function based\n",
    "# on its name and any arguments or parameters it requires.\n",
    "\n",
    "# Here's an example code snippet to demonstrate the usage of the url_for() function in Flask:\n",
    "\n",
    "from flask import Flask, url_for\n",
    "\n",
    "app = Flask(__name__)\n",
    "\n",
    "@app.route('/')\n",
    "def home():\n",
    "    return 'This is the home page'\n",
    "\n",
    "@app.route('/about')\n",
    "def about():\n",
    "    return 'This is the about page'\n",
    "\n",
    "@app.route('/contact')\n",
    "def contact():\n",
    "    return 'This is the contact page'\n",
    "\n",
    "@app.route('/user/<username>')\n",
    "def user_profile(username):\n",
    "    return f'This is the profile page of {username}'\n",
    "\n",
    "if __name__ == '__main__':\n",
    "    with app.test_request_context():\n",
    "        print(url_for('home'))              # Output: /\n",
    "        print(url_for('about'))             # Output: /about\n",
    "        print(url_for('contact'))           # Output: /contact\n",
    "        print(url_for('user_profile', username='John'))   # Output: /user/John\n",
    "\n",
    "# In this code, we have defined four routes: /, /about, /contact, and /user/<username>, each associated with a different view function.\n",
    "\n",
    "# Within the if __name__ == '__main__': block, we use the url_for() function to generate URLs for each view function. The function takes \n",
    "# the name of the view function as the first argument and any additional keyword arguments representing the values for any variable parts\n",
    "# in the route.\n",
    "\n",
    "# When you run the code, it will print the generated URLs for each view function using the url_for() function. The output will be the \n",
    "# corresponding URLs for the defined routes, including the dynamic route /user/<username>.\n",
    "\n",
    "# The url_for() function helps in decoupling the URL generation from the actual URLs in the code, making it easier to update or change URLs\n",
    "# without having to modify multiple places in the code. It also handles URL encoding and supports generating URLs with query parameters.\n",
    "\n",
    "#Note: The url_for() function is typically used within templates to generate URLs dynamically, but in the example above, we use it within the\n",
    "# test_request_context() to demonstrate its usage."
   ]
  }
 ],
 "metadata": {
  "kernelspec": {
   "display_name": "Python 3 (ipykernel)",
   "language": "python",
   "name": "python3"
  },
  "language_info": {
   "codemirror_mode": {
    "name": "ipython",
    "version": 3
   },
   "file_extension": ".py",
   "mimetype": "text/x-python",
   "name": "python",
   "nbconvert_exporter": "python",
   "pygments_lexer": "ipython3",
   "version": "3.10.8"
  }
 },
 "nbformat": 4,
 "nbformat_minor": 5
}
