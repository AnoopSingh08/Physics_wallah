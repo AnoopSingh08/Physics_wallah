{
 "cells": [
  {
   "cell_type": "markdown",
   "id": "681b43b3-2fce-451b-bb28-67728978f0d5",
   "metadata": {},
   "source": [
    "Question1"
   ]
  },
  {
   "cell_type": "code",
   "execution_count": 1,
   "id": "fe2dbc31-f4f9-4b4c-9492-9028a18c72a9",
   "metadata": {},
   "outputs": [
    {
     "name": "stdout",
     "output_type": "stream",
     "text": [
      "This is a circle with radius 5.\n",
      "78.5\n",
      "This is a rectangle with length 3 and width 4.\n",
      "12\n"
     ]
    }
   ],
   "source": [
    "# Abstraction is a fundamental concept in object-oriented programming (OOP) that focuses on representing essential features and \n",
    "# behaviors while hiding unnecessary or complex details. It provides a simplified view of objects or systems, allowing users to \n",
    "# interact with them at a higher level of abstraction without worrying about the underlying implementation.\n",
    "\n",
    "# In OOP, abstraction is achieved by creating abstract classes or interfaces that define a set of methods or behaviors without \n",
    "# providing the implementation details. Concrete classes that inherit from the abstract class or implement the interface are \n",
    "# responsible for implementing those methods.\n",
    "from abc import ABC, abstractmethod\n",
    "\n",
    "class Shape(ABC):\n",
    "    @abstractmethod\n",
    "    def calculate_area(self):\n",
    "        pass\n",
    "\n",
    "    @abstractmethod\n",
    "    def display(self):\n",
    "        pass\n",
    "\n",
    "class Circle(Shape):\n",
    "    def __init__(self, radius):\n",
    "        self.radius = radius\n",
    "\n",
    "    def calculate_area(self):\n",
    "        return 3.14 * self.radius ** 2\n",
    "\n",
    "    def display(self):\n",
    "        print(f\"This is a circle with radius {self.radius}.\")\n",
    "\n",
    "class Rectangle(Shape):\n",
    "    def __init__(self, length, width):\n",
    "        self.length = length\n",
    "        self.width = width\n",
    "\n",
    "    def calculate_area(self):\n",
    "        return self.length * self.width\n",
    "\n",
    "    def display(self):\n",
    "        print(f\"This is a rectangle with length {self.length} and width {self.width}.\")\n",
    "\n",
    "# Creating objects and invoking methods\n",
    "circle = Circle(5)\n",
    "circle.display()                # Output: This is a circle with radius 5.\n",
    "print(circle.calculate_area())  # Output: 78.5\n",
    "\n",
    "rectangle = Rectangle(3, 4)\n",
    "rectangle.display()                # Output: This is a rectangle with length 3 and width 4.\n",
    "print(rectangle.calculate_area())  # Output: 12\n"
   ]
  },
  {
   "cell_type": "markdown",
   "id": "f29e87b2-cd99-48d7-b647-07de0981c4db",
   "metadata": {},
   "source": [
    "Question2"
   ]
  },
  {
   "cell_type": "code",
   "execution_count": 1,
   "id": "a8126cd5-8453-4319-ba59-ef56a3f6db13",
   "metadata": {},
   "outputs": [
    {
     "name": "stdout",
     "output_type": "stream",
     "text": [
      "Account Number: 123456789\n",
      "Balance: 1000\n",
      "Account Number: 123456789\n",
      "Balance: 1500\n",
      "Insufficient funds.\n",
      "Account Number: 123456789\n",
      "Balance: 1500\n"
     ]
    }
   ],
   "source": [
    "# Abstraction and encapsulation are two fundamental concepts in object-oriented programming (OOP), but they serve different purposes.\n",
    "\n",
    "# Abstraction focuses on providing a simplified view of objects or systems by hiding unnecessary or complex details. It emphasizes\n",
    "# defining essential features and behaviors while abstracting away implementation specifics. Abstraction allows users to interact \n",
    "# with objects at a higher level of understanding without worrying about the internal workings.\n",
    "\n",
    "# Encapsulation, on the other hand, is about bundling data and methods together within a class and controlling access to them.\n",
    "# It involves hiding the internal details of an object and providing external access only through well-defined interfaces. \n",
    "# Encapsulation ensures that the internal state of an object is accessed and modified through controlled methods, maintaining data \n",
    "# integrity and code organization.\n",
    "class BankAccount:\n",
    "    def __init__(self, account_number, balance):\n",
    "        self.account_number = account_number\n",
    "        self.balance = balance\n",
    "\n",
    "    def deposit(self, amount):\n",
    "        self.balance += amount\n",
    "\n",
    "    def withdraw(self, amount):\n",
    "        if amount <= self.balance:\n",
    "            self.balance -= amount\n",
    "        else:\n",
    "            print(\"Insufficient funds.\")\n",
    "\n",
    "    def display_balance(self):\n",
    "        print(f\"Account Number: {self.account_number}\")\n",
    "        print(f\"Balance: {self.balance}\")\n",
    "\n",
    "\n",
    "account = BankAccount(\"123456789\", 1000)\n",
    "account.display_balance()  # Output: Account Number: 123456789\n",
    "                           #         Balance: 1000\n",
    "\n",
    "account.deposit(500)\n",
    "account.display_balance()  # Output: Account Number: 123456789\n",
    "                           #         Balance: 1500\n",
    "\n",
    "account.withdraw(2000)     # Output: Insufficient funds.\n",
    "account.display_balance()  # Output: Account Number: 123456789\n",
    "                           #         Balance: 1500\n",
    "# In summary, encapsulation focuses on data hiding and controlled access, ensuring that the internal state of an object is protected. \n",
    "# Abstraction, on the other hand, emphasizes providing a simplified view and hiding unnecessary details, allowing users to interact\n",
    "# with objects at a higher level of understanding. Both concepts contribute to creating modular, maintainable, and reusable code in \n",
    "# object-oriented programming.\n"
   ]
  },
  {
   "cell_type": "markdown",
   "id": "dbbfb53a-96aa-48ec-933d-0fd9663644db",
   "metadata": {},
   "source": [
    "Question3"
   ]
  },
  {
   "cell_type": "code",
   "execution_count": 2,
   "id": "b96a1dc3-dea8-4e15-8578-929320403f95",
   "metadata": {},
   "outputs": [
    {
     "name": "stdout",
     "output_type": "stream",
     "text": [
      "15\n",
      "16\n"
     ]
    }
   ],
   "source": [
    "# In Python, the abc module stands for \"Abstract Base Classes.\" It is part of the standard library and provides mechanisms for defining \n",
    "# abstract base classes in Python. An abstract base class is a class that cannot be instantiated directly but serves as a blueprint for\n",
    "# other classes.\n",
    "\n",
    "# The abc module is used to implement and work with abstract base classes and provides the ABC class and the abstractmethod decorator. \n",
    "# Here's a brief overview of their purpose:\n",
    "\n",
    "#    ABC class: It is a helper class that has to be inherited by a class to make it an abstract base class. It allows you to define \n",
    "#    abstract methods within the class using the abstractmethod decorator. An abstract method is a method that has a declaration but no \n",
    "#    implementation in the abstract base class.\n",
    "\n",
    "#    abstractmethod decorator: It is used to mark a method as abstract within an abstract base class. Any class inheriting from the \n",
    "#    abstract base class must implement all the abstract methods defined in it.\n",
    "\n",
    "# The abc module is used to enforce a certain structure or behavior in subclasses. It provides a way to define common interfaces or\n",
    "# contracts that derived classes should adhere to. By defining abstract base classes, you can create a consistent and predictable \n",
    "# structure for related classes, ensuring that they implement specific methods or properties.\n",
    "from abc import ABC, abstractmethod\n",
    "\n",
    "class Shape(ABC):\n",
    "    @abstractmethod\n",
    "    def area(self):\n",
    "        pass\n",
    "\n",
    "    @abstractmethod\n",
    "    def perimeter(self):\n",
    "        pass\n",
    "\n",
    "class Rectangle(Shape):\n",
    "    def __init__(self, length, width):\n",
    "        self.length = length\n",
    "        self.width = width\n",
    "\n",
    "    def area(self):\n",
    "        return self.length * self.width\n",
    "\n",
    "    def perimeter(self):\n",
    "        return 2 * (self.length + self.width)\n",
    "\n",
    "r = Rectangle(5, 3)\n",
    "print(r.area())       # Output: 15\n",
    "print(r.perimeter())  # Output: 16\n"
   ]
  },
  {
   "cell_type": "markdown",
   "id": "8b43ed9a-1b42-4f97-9054-94e53a74ad7a",
   "metadata": {},
   "source": [
    "Question4"
   ]
  },
  {
   "cell_type": "code",
   "execution_count": 7,
   "id": "e06e82f6-15e4-44ce-88b8-9ded06f4d646",
   "metadata": {},
   "outputs": [
    {
     "name": "stdout",
     "output_type": "stream",
     "text": [
      "1300\n",
      "1234567890\n"
     ]
    }
   ],
   "source": [
    "# In Python, data abstraction can be achieved through the use of classes and encapsulation. Encapsulation is a fundamental concept of \n",
    "# object-oriented programming that allows you to hide the internal implementation details of a class and expose only the necessary \n",
    "# information or function.\n",
    "\n",
    "# Here are the key steps to achieve data abstraction in Python:\n",
    "\n",
    "  #  Define a Class: Create a class that represents the abstraction you want to achieve. The class should encapsulate the data and\n",
    "  #  methods related to that abstraction. Consider what information and operations are essential to the abstraction and define them \n",
    "  #  within the class.\n",
    "\n",
    "  #  Access Modifiers: Use access modifiers such as public, private, and protected to control the visibility of class members \n",
    "  #  (attributes and methods). In Python, there is a naming convention to indicate privacy: attributes or methods starting with \n",
    "  #  a single underscore (_) are considered private, while attributes or methods starting with double underscore (__) are considered \n",
    "  #  name-mangled and provide a stronger level of privacy.\n",
    "\n",
    "  #  Encapsulation: Encapsulate the data and methods within the class by making the internal details private or protected.\n",
    "  #  This prevents direct access to the internal state of the object from outside the class, ensuring that external code interacts \n",
    "  #  with the object only through the defined public interface.\n",
    "\n",
    "  #  Public Interface: Define a public interface by exposing only the necessary methods and attributes that provide meaningful \n",
    "  #  interaction with the object. These public methods serve as a bridge between the external code and the internal implementation \n",
    "  #  of the abstraction.\n",
    "    \n",
    "class BankAccount:\n",
    "    def __init__(self, account_number, balance):\n",
    "        self._account_number = account_number  # Private attribute\n",
    "        self._balance = balance                # Private attribute\n",
    "\n",
    "    def deposit(self, amount):\n",
    "        self._balance += amount\n",
    "\n",
    "    def withdraw(self, amount):\n",
    "        if self._balance >= amount:\n",
    "            self._balance -= amount\n",
    "        else:\n",
    "            print(\"Insufficient balance.\")\n",
    "\n",
    "    def get_balance(self):\n",
    "        return self._balance\n",
    "\n",
    "    def get_account_number(self):\n",
    "        return self._account_number\n",
    "\n",
    "\n",
    "# Creating an instance of the class\n",
    "account = BankAccount(\"1234567890\", 1000)\n",
    "\n",
    "# Accessing public interface\n",
    "account.deposit(500)\n",
    "account.withdraw(200)\n",
    "print(account.get_balance())          # Output: 1300\n",
    "print(account.get_account_number())   # Output: 1234567890\n",
    "   \n"
   ]
  },
  {
   "cell_type": "markdown",
   "id": "1697fa6f-86e5-4bda-bc3c-d5424f64b5d8",
   "metadata": {},
   "source": [
    "Question5"
   ]
  },
  {
   "cell_type": "code",
   "execution_count": 8,
   "id": "9c901e51-765c-4ff8-873a-bc184ffbe465",
   "metadata": {},
   "outputs": [
    {
     "ename": "TypeError",
     "evalue": "Can't instantiate abstract class AbstractClass with abstract method abstract_method",
     "output_type": "error",
     "traceback": [
      "\u001b[0;31m---------------------------------------------------------------------------\u001b[0m",
      "\u001b[0;31mTypeError\u001b[0m                                 Traceback (most recent call last)",
      "Cell \u001b[0;32mIn[8], line 13\u001b[0m\n\u001b[1;32m     10\u001b[0m         \u001b[38;5;28;01mpass\u001b[39;00m\n\u001b[1;32m     12\u001b[0m \u001b[38;5;66;03m# Trying to create an instance of the abstract class\u001b[39;00m\n\u001b[0;32m---> 13\u001b[0m instance \u001b[38;5;241m=\u001b[39m \u001b[43mAbstractClass\u001b[49m\u001b[43m(\u001b[49m\u001b[43m)\u001b[49m\n\u001b[1;32m     14\u001b[0m \u001b[38;5;66;03m# Output: TypeError: Can't instantiate abstract class AbstractClass with abstract methods abstract_method\u001b[39;00m\n",
      "\u001b[0;31mTypeError\u001b[0m: Can't instantiate abstract class AbstractClass with abstract method abstract_method"
     ]
    }
   ],
   "source": [
    "# No, you cannot create an instance of an abstract class in Python. Abstract classes are meant to be incomplete and serve as blueprints\n",
    "# for other classes to inherit from. They are designed to be subclassed, providing a common interface and defining a set of methods that \n",
    "# derived classes must implement\n",
    "# Attempting to create an instance of an abstract class will result in a TypeError being raised.\n",
    "from abc import ABC, abstractmethod\n",
    "\n",
    "class AbstractClass(ABC):\n",
    "    @abstractmethod\n",
    "    def abstract_method(self):\n",
    "        pass\n",
    "\n",
    "# Trying to create an instance of the abstract class\n",
    "instance = AbstractClass()\n",
    "# Output: TypeError: Can't instantiate abstract class AbstractClass with abstract methods abstract_method\n"
   ]
  },
  {
   "cell_type": "code",
   "execution_count": null,
   "id": "b7f7b3a6-d2e0-49ad-b84a-c084a80c477e",
   "metadata": {},
   "outputs": [],
   "source": []
  }
 ],
 "metadata": {
  "kernelspec": {
   "display_name": "Python 3 (ipykernel)",
   "language": "python",
   "name": "python3"
  },
  "language_info": {
   "codemirror_mode": {
    "name": "ipython",
    "version": 3
   },
   "file_extension": ".py",
   "mimetype": "text/x-python",
   "name": "python",
   "nbconvert_exporter": "python",
   "pygments_lexer": "ipython3",
   "version": "3.10.8"
  }
 },
 "nbformat": 4,
 "nbformat_minor": 5
}
