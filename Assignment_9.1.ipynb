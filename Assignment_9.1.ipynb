{
 "cells": [
  {
   "cell_type": "markdown",
   "id": "0f7170d6-5f1a-4b5e-9c45-879404accdb2",
   "metadata": {},
   "source": [
    "### Question1"
   ]
  },
  {
   "cell_type": "code",
   "execution_count": 4,
   "id": "07e33f67-6b77-4980-a82c-14baff271033",
   "metadata": {},
   "outputs": [
    {
     "name": "stdout",
     "output_type": "stream",
     "text": [
      "Data type of list_: <class 'str'>\n",
      "Data type of array_list: <class 'numpy.str_'>\n"
     ]
    }
   ],
   "source": [
    "# Yes, there is a difference in the data types of the variables list_ and array_list. list_ is a Python list containing strings, while \n",
    "# array_list is a NumPy array. The elements in list_ are of type str, whereas the elements in array_list will be of type numpy.str_ or \n",
    "# numpy.object_.\n",
    "\n",
    "# To print the data types of both variables, you can use the type() function. Here's the code:\n",
    "\n",
    "import numpy as np\n",
    "\n",
    "list_ = ['1', '2', '3', '4', '5']\n",
    "array_list = np.array(object=list_)\n",
    "\n",
    "print(\"Data type of list_:\", type(list_[0]))\n",
    "print(\"Data type of array_list:\", type(array_list[0]))\n",
    "\n",
    "# The above code will output the data types of the first element of list_ and array_list. Since all elements in list_ have the same data\n",
    "# type, printing the data type of the first element is sufficient."
   ]
  },
  {
   "cell_type": "markdown",
   "id": "99e778e9-c8a4-4c1a-a5de-ddfbe706991f",
   "metadata": {},
   "source": [
    "### Question2"
   ]
  },
  {
   "cell_type": "code",
   "execution_count": 1,
   "id": "f205e3bd-a733-4c21-b6d6-f32a673834e6",
   "metadata": {},
   "outputs": [
    {
     "name": "stdout",
     "output_type": "stream",
     "text": [
      "Data types of elements in list_:\n",
      "<class 'str'>\n",
      "<class 'str'>\n",
      "<class 'str'>\n",
      "<class 'str'>\n",
      "<class 'str'>\n",
      "\n",
      "Data types of elements in array_list:\n",
      "<class 'numpy.str_'>\n",
      "<class 'numpy.str_'>\n",
      "<class 'numpy.str_'>\n",
      "<class 'numpy.str_'>\n",
      "<class 'numpy.str_'>\n"
     ]
    }
   ],
   "source": [
    "# To print the data type of each element in both list_ and array_list, you can iterate over the elements and use the type() function to\n",
    "# determine the data type. Here's the code:\n",
    "\n",
    "import numpy as np\n",
    "\n",
    "list_ = ['1', '2', '3', '4', '5']\n",
    "array_list = np.array(object=list_)\n",
    "\n",
    "print(\"Data types of elements in list_:\")\n",
    "for element in list_:\n",
    "    print(type(element))\n",
    "\n",
    "print(\"\\nData types of elements in array_list:\")\n",
    "for element in array_list:\n",
    "    print(type(element))\n",
    "\n",
    "# The above code will iterate over each element in list_ and array_list respectively and print the data type of each element. It will\n",
    "# output the data types of elements in list_ first, followed by the data types of elements in array_list."
   ]
  },
  {
   "cell_type": "markdown",
   "id": "08331141-010a-4745-b0c8-0d6dd803b6e0",
   "metadata": {},
   "source": [
    "### Question3"
   ]
  },
  {
   "cell_type": "code",
   "execution_count": 2,
   "id": "a03d2338-6153-4769-acef-4a8c5f2de48d",
   "metadata": {},
   "outputs": [
    {
     "name": "stdout",
     "output_type": "stream",
     "text": [
      "Data types of elements in list_:\n",
      "<class 'str'>\n",
      "<class 'str'>\n",
      "<class 'str'>\n",
      "<class 'str'>\n",
      "<class 'str'>\n",
      "\n",
      "Data types of elements in array_list:\n",
      "<class 'numpy.int64'>\n",
      "<class 'numpy.int64'>\n",
      "<class 'numpy.int64'>\n",
      "<class 'numpy.int64'>\n",
      "<class 'numpy.int64'>\n"
     ]
    }
   ],
   "source": [
    "# Yes, there will be a difference in the data types of the elements present in list_ and array_list when the dtype parameter is set to int\n",
    "# during the creation of array_list. The elements in list_ are originally strings, while array_list will be explicitly converted to \n",
    "# integers.\n",
    "\n",
    "# To print the data types of each element in both list_ and array_list after the changes, you can iterate over the elements and use the\n",
    "# type() function. Here's the updated code:\n",
    "\n",
    "import numpy as np\n",
    "\n",
    "list_ = ['1', '2', '3', '4', '5']\n",
    "array_list = np.array(object=list_, dtype=int)\n",
    "\n",
    "print(\"Data types of elements in list_:\")\n",
    "for element in list_:\n",
    "    print(type(element))\n",
    "\n",
    "print(\"\\nData types of elements in array_list:\")\n",
    "for element in array_list:\n",
    "    print(type(element))\n",
    "\n",
    "# The above code will iterate over each element in list_ and array_list, respectively, and print the data type of each element. It will \n",
    "# output the data types of elements in list_ first, followed by the data types of elements in the converted array_list, which will be of \n",
    "# type int."
   ]
  },
  {
   "cell_type": "markdown",
   "id": "5c6e3bb7-75bd-4c03-a262-9710bf71bff1",
   "metadata": {},
   "source": [
    "### Question4"
   ]
  },
  {
   "cell_type": "code",
   "execution_count": 3,
   "id": "066a2323-468f-4008-8c5a-e254c23655e4",
   "metadata": {},
   "outputs": [
    {
     "name": "stdout",
     "output_type": "stream",
     "text": [
      "Shape of num_array: (2, 3)\n",
      "Size of num_array: 6\n"
     ]
    }
   ],
   "source": [
    "import numpy as np\n",
    "\n",
    "num_list = [[1, 2, 3], [4, 5, 6]]\n",
    "num_array = np.array(object=num_list)\n",
    "\n",
    "# (i) Shape\n",
    "shape = num_array.shape\n",
    "print(\"Shape of num_array:\", shape)\n",
    "\n",
    "# (ii) Size\n",
    "size = num_array.size\n",
    "print(\"Size of num_array:\", size)\n",
    "\n",
    "# In the code above, we first import the NumPy library as np. Then, we create the num_list variable as a nested list. Next, we convert\n",
    "# num_list into a NumPy array called num_array.\n",
    "\n",
    "# To find the shape, we use the shape attribute of num_array and store it in the shape variable. The shape attribute returns a tuple \n",
    "# representing the dimensions of the array.\n",
    "\n",
    "# To find the size, we use the size attribute of num_array and store it in the size variable. The size attribute returns the total number\n",
    "# of elements in the array."
   ]
  },
  {
   "cell_type": "markdown",
   "id": "7d1e5384-c5ed-4501-acbc-3f299a423d05",
   "metadata": {},
   "source": [
    "### Question5"
   ]
  },
  {
   "cell_type": "code",
   "execution_count": 4,
   "id": "55b068c2-801b-4cde-b251-3adeedc8516e",
   "metadata": {},
   "outputs": [
    {
     "name": "stdout",
     "output_type": "stream",
     "text": [
      "[[0. 0. 0.]\n",
      " [0. 0. 0.]\n",
      " [0. 0. 0.]]\n"
     ]
    }
   ],
   "source": [
    "# To create a NumPy array of a 3x3 matrix containing only zeros, you can use the np.zeros() function. Here's the code:\n",
    "\n",
    "import numpy as np\n",
    "\n",
    "zeros_array = np.zeros((3, 3))\n",
    "\n",
    "print(zeros_array)\n",
    "\n",
    "# In the code above, we import the NumPy library as np. We then use the np.zeros() function to create an array of zeros. The function takes\n",
    "# the desired shape of the array as a tuple (3, 3).\n",
    "\n",
    "# The resulting zeros_array will be a 3x3 NumPy array filled with zeros. When we print zeros_array, it will output: "
   ]
  },
  {
   "cell_type": "markdown",
   "id": "b6b0694b-c633-40ef-81ff-59248f6e26cd",
   "metadata": {},
   "source": [
    "### Question6"
   ]
  },
  {
   "cell_type": "code",
   "execution_count": 5,
   "id": "36b0ff0c-1535-4a2c-bd26-86dccb9b270a",
   "metadata": {},
   "outputs": [
    {
     "name": "stdout",
     "output_type": "stream",
     "text": [
      "[[1. 0. 0. 0. 0.]\n",
      " [0. 1. 0. 0. 0.]\n",
      " [0. 0. 1. 0. 0.]\n",
      " [0. 0. 0. 1. 0.]\n",
      " [0. 0. 0. 0. 1.]]\n"
     ]
    }
   ],
   "source": [
    "# To create an identity matrix of shape (5,5) using NumPy functions, you can use the np.eye() function. Here's the code:\n",
    "\n",
    "import numpy as np\n",
    "\n",
    "identity_matrix = np.eye(5)\n",
    "\n",
    "print(identity_matrix)\n",
    "\n",
    "# In the code above, we import the NumPy library as np. We then use the np.eye() function to create an identity matrix. The function takes \n",
    "# the desired size of the matrix as an argument, in this case, 5.\n",
    "\n",
    "# The resulting identity_matrix will be a 5x5 NumPy array representing the identity matrix.\n",
    "\n",
    "\n",
    "# The identity matrix is a square matrix where all the diagonal elements are 1 and all other elements are 0.\n"
   ]
  },
  {
   "cell_type": "code",
   "execution_count": null,
   "id": "32e76ea8-80aa-4256-91a9-0dc7f9c9db3e",
   "metadata": {},
   "outputs": [],
   "source": []
  }
 ],
 "metadata": {
  "kernelspec": {
   "display_name": "Python 3 (ipykernel)",
   "language": "python",
   "name": "python3"
  },
  "language_info": {
   "codemirror_mode": {
    "name": "ipython",
    "version": 3
   },
   "file_extension": ".py",
   "mimetype": "text/x-python",
   "name": "python",
   "nbconvert_exporter": "python",
   "pygments_lexer": "ipython3",
   "version": "3.10.8"
  }
 },
 "nbformat": 4,
 "nbformat_minor": 5
}
