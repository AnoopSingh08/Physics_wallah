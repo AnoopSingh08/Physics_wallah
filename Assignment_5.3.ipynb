{
 "cells": [
  {
   "cell_type": "markdown",
   "id": "ab34da3c-b3b4-43de-9f5c-9583ce195460",
   "metadata": {},
   "source": [
    "### Question1"
   ]
  },
  {
   "cell_type": "code",
   "execution_count": null,
   "id": "28d5bdae-5996-48f9-a480-af52dfa2d129",
   "metadata": {},
   "outputs": [],
   "source": [
    "# Multithreading in Python refers to the ability of a program to concurrently execute multiple threads of execution within a single process.\n",
    "# A thread is a sequence of instructions that can run independently, allowing multiple tasks to be performed concurrently.\n",
    "\n",
    "# Multithreading is used to achieve parallelism and to take advantage of multiple CPU cores or processors. By dividing a program into\n",
    "# multiple threads, different parts of the program can execute simultaneously, resulting in improved performance and responsiveness. It is\n",
    "# particularly beneficial when dealing with tasks that involve waiting for input/output operations, such as network requests or file \n",
    "# operations, as it allows the program to continue executing other threads while waiting for the completion of those operations.\n",
    "\n",
    "# The threading module is used to handle threads in Python. It provides a high-level interface for creating, controlling, and synchronizing\n",
    "# threads. This module allows you to define and start new threads, control their execution, and share data between them. It also provides \n",
    "# mechanisms like locks, conditions, semaphores, and event objects to facilitate coordination and synchronization between threads."
   ]
  },
  {
   "cell_type": "markdown",
   "id": "1d7b3673-2904-4087-a09c-3f20e7ffe218",
   "metadata": {},
   "source": [
    "### Question2"
   ]
  },
  {
   "cell_type": "code",
   "execution_count": null,
   "id": "3f6bf669-840a-420b-8722-353528e542f2",
   "metadata": {},
   "outputs": [],
   "source": [
    "# The threading module is used in Python for handling threads. It provides a high-level interface to work with threads, allowing you to \n",
    "# create, control, and synchronize them. Here are the uses of the following functions in the threading module:\n",
    "\n",
    "#    activeCount(): This function is used to retrieve the number of currently active threads in the program. It returns the count of Thread \n",
    "#    objects that are currently alive (i.e., not terminated) and managed by the threading module.\n",
    "\n",
    "#    currentThread(): This function returns the Thread object representing the current thread of execution. It allows you to obtain a \n",
    "#    reference to the currently running thread, which can be useful for various purposes like identifying the thread, obtaining its name, \n",
    "#    or accessing thread-specific data.\n",
    "\n",
    "#    enumerate(): The enumerate() function returns a list of all active Thread objects currently managed by the threading module. \n",
    "#    It provides a convenient way to obtain a list of all threads in the program, allowing you to inspect their properties, perform\n",
    "#    operations on them, or check their status.\n",
    "\n",
    "# These functions are useful for monitoring and managing threads in a Python program. They provide information about the active threads\n",
    "# and allow you to access and manipulate them as needed."
   ]
  },
  {
   "cell_type": "markdown",
   "id": "c2357707-7697-4340-8e00-c3fe1a21d2c0",
   "metadata": {},
   "source": [
    "### Question3"
   ]
  },
  {
   "cell_type": "code",
   "execution_count": null,
   "id": "ae3f9026-291a-41b8-b589-9084f4c90636",
   "metadata": {},
   "outputs": [],
   "source": [
    "#    run(): The run() method is the entry point for the thread's activity. It defines the behavior of the thread when it is executed.\n",
    "#    When a Thread object's run() method is invoked, the code specified in the run() method is executed in a separate thread of execution.\n",
    "\n",
    "#    start(): The start() method is used to start a thread's execution. It creates a new thread of execution and calls the run() method\n",
    "#    internally. When start() is called on a Thread object, the new thread begins executing concurrently with the current thread. \n",
    "#    It is important to note that the start() method can only be called once for a given Thread object. If start() is called multiple times,\n",
    "#    it will raise a RuntimeError.\n",
    "\n",
    "#    join(): The join() method is used to wait for a thread to complete its execution. When join() is called on a Thread object, the \n",
    "#    calling thread (usually the main thread) will block and wait until the target thread finishes its execution. This allows for \n",
    "#    synchronization between threads, ensuring that the main thread does not proceed before the target thread has completed its task.\n",
    "\n",
    "#    isAlive(): The isAlive() method is used to check whether a thread is currently executing or not. It returns a boolean value indicating\n",
    "#    the thread's status. If the thread is actively executing, isAlive() returns True; otherwise, if the thread has completed its execution\n",
    "#    or has not yet been started, it returns False. This method is often used to determine if a thread is still running or if it has\n",
    "#    finished its task."
   ]
  },
  {
   "cell_type": "markdown",
   "id": "dab31347-1bf5-4e9a-9de9-f5bbd670407a",
   "metadata": {},
   "source": [
    "### Question4"
   ]
  },
  {
   "cell_type": "code",
   "execution_count": 1,
   "id": "aa411a28-4929-40fd-8a62-4fa329bfd180",
   "metadata": {},
   "outputs": [
    {
     "name": "stdout",
     "output_type": "stream",
     "text": [
      "1\n",
      "4\n",
      "9\n",
      "16\n",
      "25\n",
      "36\n",
      "49\n",
      "64\n",
      "81\n",
      "100\n",
      "1\n",
      "8\n",
      "27\n",
      "64\n",
      "125\n",
      "216\n",
      "343\n",
      "512\n",
      "729\n",
      "1000\n",
      "Done!\n"
     ]
    }
   ],
   "source": [
    "import threading\n",
    "\n",
    "def print_squares():\n",
    "    squares = [x ** 2 for x in range(1, 11)]\n",
    "    for square in squares:\n",
    "        print(square)\n",
    "\n",
    "def print_cubes():\n",
    "    cubes = [x ** 3 for x in range(1, 11)]\n",
    "    for cube in cubes:\n",
    "        print(cube)\n",
    "\n",
    "# Create the first thread for printing squares\n",
    "thread1 = threading.Thread(target=print_squares)\n",
    "\n",
    "# Create the second thread for printing cubes\n",
    "thread2 = threading.Thread(target=print_cubes)\n",
    "\n",
    "# Start both threads\n",
    "thread1.start()\n",
    "thread2.start()\n",
    "\n",
    "# Wait for both threads to complete their execution\n",
    "thread1.join()\n",
    "thread2.join()\n",
    "\n",
    "print(\"Done!\")\n"
   ]
  },
  {
   "cell_type": "markdown",
   "id": "fd4ef9c1-d4b1-4098-9d36-40cae7fd2bba",
   "metadata": {},
   "source": [
    "### Question5"
   ]
  },
  {
   "cell_type": "code",
   "execution_count": null,
   "id": "06a14bd1-2004-4657-8bd5-0540f9b936d2",
   "metadata": {},
   "outputs": [],
   "source": [
    "# Advantages of multithreading in Python:\n",
    "\n",
    "#    Concurrency and Responsiveness: Multithreading allows concurrent execution of multiple threads, enabling a program to perform multiple\n",
    "#    tasks simultaneously. This improves the responsiveness of the program, especially when dealing with I/O-bound tasks or tasks that \n",
    "#    involve waiting for external resources.\n",
    "\n",
    "#    Improved Performance: By leveraging multiple CPU cores or processors, multithreading can enhance the performance of a program.\n",
    "#    It allows for parallel execution of different parts of the program, effectively utilizing available resources and reducing overall \n",
    "#    execution time.\n",
    "\n",
    "#    Shared Memory: Threads in Python can share memory space, which means they can directly access and modify shared data structures \n",
    "#    without the need for explicit inter-process communication mechanisms. This facilitates efficient communication and data sharing \n",
    "#    between threads.\n",
    "\n",
    "#    Resource Efficiency: Threads are lightweight compared to processes, as they share the same memory space and other resources of the \n",
    "#    parent process. Creating and managing threads typically require fewer system resources compared to processes, resulting in more \n",
    "#    efficient resource utilization.\n",
    "\n",
    "# Disadvantages of multithreading in Python:\n",
    "\n",
    "#    Global Interpreter Lock (GIL): Python has a Global Interpreter Lock (GIL) that allows only one thread to execute Python bytecodes at a \n",
    "#    time, even in a multi-threaded program. This means that although multiple threads may exist, they cannot fully utilize multiple \n",
    "#    CPU cores for CPU-bound tasks. The GIL can limit the performance gains that could be achieved through multithreading in certain \n",
    "#    scenarios.\n",
    "\n",
    "#    Complexity of Synchronization: When multiple threads access and modify shared data concurrently, proper synchronization mechanisms \n",
    "#    must be employed to prevent race conditions and ensure data integrity. Implementing thread synchronization, such as locks, conditions,\n",
    "#    and semaphores, adds complexity to the code and can introduce potential issues like deadlocks or thread contention.\n",
    "\n",
    "#    Debugging and Testing: Multithreaded programs can be more challenging to debug and test compared to single-threaded programs. Due to \n",
    "#    the non-deterministic nature of thread execution, it becomes harder to reproduce and analyze certain types of bugs, such as race \n",
    "#    conditions or timing-related issues.\n",
    "\n",
    "#    Overhead and Complexity: Creating and managing threads incurs some overhead, both in terms of memory and processing. Additionally, \n",
    "#    designing and implementing a multithreaded program requires careful consideration and synchronization mechanisms to avoid issues like\n",
    "#    data corruption, deadlocks, or performance degradation. Writing correct and efficient multithreaded code can be more complex compared \n",
    "#    to single-threaded code.\n",
    "\n"
   ]
  },
  {
   "cell_type": "markdown",
   "id": "4a49bedb-4377-4a90-b293-b941a2c311b5",
   "metadata": {},
   "source": [
    "### Question6"
   ]
  },
  {
   "cell_type": "code",
   "execution_count": null,
   "id": "bd52270b-e0cd-4c4a-980d-039058dfd4cd",
   "metadata": {},
   "outputs": [],
   "source": [
    "# Deadlocks and race conditions are two common synchronization issues that can occur in multi-threaded programs, including those written \n",
    "# in Python.\n",
    "\n",
    "#Deadlocks:\n",
    "# A deadlock is a situation where two or more threads are unable to proceed because each is waiting for a resource held by another thread\n",
    "# in the same group. In other words, it's a situation where threads are stuck in a circular dependency, leading to a state of permanent \n",
    "# waiting.\n",
    "\n",
    "#Deadlocks occur when the following four conditions are met:\n",
    "\n",
    "#    Mutual Exclusion: The resources involved are non-shareable and can be used by only one thread at a time.\n",
    "#    Hold and Wait: A thread holds a resource while waiting for another resource.\n",
    "#    No Preemption: The resources cannot be forcefully taken away from the thread holding them.\n",
    "#    Circular Wait: A circular chain of two or more threads exists, where each thread is waiting for a resource held by another thread in\n",
    "#    the chain.\n",
    "\n",
    "# Deadlocks can lead to a program freezing or becoming unresponsive, requiring intervention to resolve the deadlock situation. Proper \n",
    "# resource allocation and careful synchronization mechanisms, such as avoiding circular dependencies and using resource locking strategies,\n",
    "# are necessary to prevent deadlocks.\n",
    "\n",
    "#Race Conditions:\n",
    "#A race condition occurs when two or more threads access a shared resource concurrently, and the final outcome of the program depends on \n",
    "# the relative timing or interleaving of their execution. The result of a race condition is unpredictable and can lead to incorrect \n",
    "# program behavior or data corruption.\n",
    "\n",
    "#Race conditions typically arise when the following conditions are met:\n",
    "\n",
    "#    Shared Resource: Two or more threads access a shared resource or data structure.\n",
    "#    Non-Atomic Operations: The shared resource is modified by multiple threads through non-atomic operations, meaning that the operations\n",
    "#    are not executed as a single, indivisible step.\n",
    "#    Uncontrolled Access: The threads are not properly synchronized or coordinated to access the shared resource.\n",
    "\n",
    "#Race conditions can be difficult to detect and reproduce as they are often dependent on the timing and interleaving of thread execution,\n",
    "# making them non-deterministic. To prevent race conditions, synchronization mechanisms like locks, mutexes, or semaphores should be used to\n",
    "# control access to shared resources and ensure thread safety.\n"
   ]
  }
 ],
 "metadata": {
  "kernelspec": {
   "display_name": "Python 3 (ipykernel)",
   "language": "python",
   "name": "python3"
  },
  "language_info": {
   "codemirror_mode": {
    "name": "ipython",
    "version": 3
   },
   "file_extension": ".py",
   "mimetype": "text/x-python",
   "name": "python",
   "nbconvert_exporter": "python",
   "pygments_lexer": "ipython3",
   "version": "3.10.8"
  }
 },
 "nbformat": 4,
 "nbformat_minor": 5
}
