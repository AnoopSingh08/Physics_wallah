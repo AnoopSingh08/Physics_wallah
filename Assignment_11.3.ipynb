{
 "cells": [
  {
   "cell_type": "markdown",
   "id": "8f42af6d-aff1-4f1c-9fac-f91a5c947572",
   "metadata": {},
   "source": [
    "### Question1"
   ]
  },
  {
   "cell_type": "code",
   "execution_count": null,
   "id": "515ef623-816d-4ae4-8152-0b3729dffc2c",
   "metadata": {},
   "outputs": [],
   "source": [
    "# Estimation statistics is a branch of statistics that deals with estimating population parameters based on sample data. When it is not feasible or practical to collect data from an entire population, we use statistical estimation to make educated guesses or estimates about population parameters using information gathered from a sample.\n",
    "\n",
    "# There are two main types of statistical estimation:\n",
    "\n",
    "#    Point Estimate:\n",
    "#    A point estimate is a single value that is used to estimate the population parameter of interest. It is typically calculated from the sample data and serves as the best guess for the unknown population parameter. The point estimate is unbiased when, on average, it equals the true population parameter. However, due to the randomness of sampling, a point estimate will rarely be exactly equal to the true population parameter.\n",
    "\n",
    "# For example, if we want to estimate the population mean (μ) based on a sample mean (x̄), the sample mean (x̄) serves as the point estimate for the population mean (μ).\n",
    "\n",
    "#Point Estimate: μ ≈ x̄\n",
    "\n",
    "#    Interval Estimate (Confidence Interval):\n",
    "#    An interval estimate, also known as a confidence interval, provides a range of values within which the population parameter is likely to lie. Instead of a single point, it provides a range of plausible values that captures the uncertainty of the estimate. The confidence interval is constructed based on the point estimate and the standard error of the estimate, which accounts for the variability in the sample data.\n",
    "\n",
    "# Confidence intervals are typically associated with a confidence level (e.g., 95% confidence interval). The confidence level represents the probability that the interval contains the true population parameter. For example, a 95% confidence interval means that if we were to repeat the sampling process and construct 100 confidence intervals, about 95 of them would contain the true population parameter.\n",
    "\n",
    "# For example, if we calculate the 95% confidence interval for the population mean (μ) based on the sample mean (x̄) and standard error (SE), it can be represented as follows:\n",
    "\n",
    "# 95% Confidence Interval: x̄ ± 1.96 * SE\n",
    "\n",
    "# The interval estimate provides a more informative and robust measure of uncertainty compared to the point estimate alone. It gives us an idea of the precision of our estimate and allows us to quantify the level of confidence we have in the estimate.\n",
    "\n",
    "# In summary, estimation statistics involves using point estimates and interval estimates to make educated guesses about population parameters based on sample data. Point estimates provide a single value as the best guess, while interval estimates give a range of plausible values that accounts for uncertainty. Both types of estimates are valuable tools in statistical inference and decision-making."
   ]
  },
  {
   "cell_type": "markdown",
   "id": "3aeef505-bdb7-4aee-af89-a27dffd694c6",
   "metadata": {},
   "source": [
    "### Question2"
   ]
  },
  {
   "cell_type": "code",
   "execution_count": 1,
   "id": "dde1eae5-4c06-4a2b-87dc-c06febe94b6c",
   "metadata": {},
   "outputs": [
    {
     "name": "stdout",
     "output_type": "stream",
     "text": [
      "Estimated Population Mean: 85\n",
      "95% Confidence Interval: [82.65, 87.35]\n"
     ]
    }
   ],
   "source": [
    "# To estimate the population mean using a sample mean and standard deviation, you can use the following Python function:\n",
    "\n",
    "def estimate_population_mean(sample_mean, sample_std_dev, sample_size):\n",
    "    # Calculate the standard error of the mean (SEM)\n",
    "    standard_error = sample_std_dev / (sample_size ** 0.5)\n",
    "    \n",
    "    # Calculate the margin of error for a desired confidence level (e.g., 95%)\n",
    "    # For a 95% confidence level, use a z-score of 1.96 (from the standard normal distribution)\n",
    "    margin_of_error = 1.96 * standard_error\n",
    "    \n",
    "    # Calculate the lower and upper bounds of the confidence interval\n",
    "    lower_bound = sample_mean - margin_of_error\n",
    "    upper_bound = sample_mean + margin_of_error\n",
    "    \n",
    "    # Return the estimated population mean along with the confidence interval\n",
    "    return sample_mean, lower_bound, upper_bound\n",
    "\n",
    "# Example usage:\n",
    "sample_mean = 85\n",
    "sample_std_dev = 12\n",
    "sample_size = 100\n",
    "\n",
    "estimated_mean, lower_bound, upper_bound = estimate_population_mean(sample_mean, sample_std_dev, sample_size)\n",
    "print(\"Estimated Population Mean:\", estimated_mean)\n",
    "print(\"95% Confidence Interval: [{:.2f}, {:.2f}]\".format(lower_bound, upper_bound))\n",
    "\n",
    "#In this function, we first calculate the standard error of the mean (SEM), which is the standard deviation of the sample divided by the square root of the sample size. Then, we calculate the margin of error using a desired confidence level (e.g., 95%) and the appropriate z-score from the standard normal distribution. Finally, we compute the lower and upper bounds of the confidence interval by adding and subtracting the margin of error from the sample mean.\n",
    "\n",
    "#The function returns the estimated population mean along with the 95% confidence interval, which provides a range of values within which the true population mean is likely to lie. Note that you can adjust the confidence level by changing the z-score in the margin of error calculation (e.g., 1.96 for 95%, 2.58 for 99%, etc.)."
   ]
  },
  {
   "cell_type": "markdown",
   "id": "9a4b6222-ff11-47c0-bda0-7a336b1710f3",
   "metadata": {},
   "source": [
    "### Question3"
   ]
  },
  {
   "cell_type": "code",
   "execution_count": null,
   "id": "581ab7ed-a880-4f27-93de-b6ffe84bdab3",
   "metadata": {},
   "outputs": [],
   "source": [
    "# Hypothesis testing is a fundamental concept in statistics used to make decisions about population parameters based on sample data. It involves formulating two competing hypotheses (null hypothesis and alternative hypothesis) and using statistical methods to determine which hypothesis is more likely given the observed data.\n",
    "\n",
    "# The two main hypotheses in hypothesis testing are:\n",
    "\n",
    "#    Null Hypothesis (H0): It represents the default assumption or statement of no effect or no difference. It is often denoted as \"H0\" and is usually what the researcher aims to disprove or reject.\n",
    "\n",
    "#    Alternative Hypothesis (Ha): It represents the opposite of the null hypothesis and is what the researcher hopes to support or prove. It is denoted as \"Ha\" or \"H1.\"\n",
    "\n",
    "# The hypothesis testing process involves the following steps:\n",
    "\n",
    "#    State the hypotheses: Define the null and alternative hypotheses based on the research question or problem.\n",
    "\n",
    "#    Set the significance level (α): The significance level represents the probability of making a Type I error (rejecting the null hypothesis when it is true). Commonly used significance levels are 0.05 (5%) and 0.01 (1%).\n",
    "\n",
    "#    Collect and analyze data: Gather a sample and perform the appropriate statistical test based on the data and the research question.\n",
    "\n",
    "#    Calculate the test statistic: The test statistic is a measure of how far the observed data deviates from what would be expected under the null hypothesis.\n",
    "\n",
    "#    Determine the critical region: The critical region is the range of values for the test statistic that leads to the rejection of the null hypothesis, based on the significance level.\n",
    "\n",
    "#    Make a decision: Compare the test statistic to the critical region. If the test statistic falls within the critical region, reject the null hypothesis in favor of the alternative hypothesis. Otherwise, fail to reject the null hypothesis.\n",
    "\n",
    "#The importance of hypothesis testing:\n",
    "\n",
    "#    Objectivity: Hypothesis testing provides a systematic and objective framework to evaluate competing hypotheses, ensuring that conclusions are based on evidence and not subjective opinions.\n",
    "\n",
    "#    Scientific Inquiry: Hypothesis testing is a fundamental tool in scientific research, allowing researchers to test theories and make empirical claims about the relationships between variables.\n",
    "\n",
    "#    Decision Making: Hypothesis testing helps in decision-making by providing evidence to support or refute certain claims or policies.\n",
    "\n",
    "#    Control of Type I Errors: By setting a significance level (α), hypothesis testing allows researchers to control the probability of making Type I errors (false positives) and maintain the integrity of the conclusions.\n",
    "\n",
    "#    Generalizability: The results of hypothesis testing can be used to make inferences about the larger population from which the sample was drawn.\n",
    "\n",
    "#    Statistical Inference: Hypothesis testing is essential for statistical inference, enabling researchers to draw conclusions about population parameters based on sample data.\n",
    "\n",
    "# In summary, hypothesis testing is a powerful statistical tool used to make data-driven decisions, test theories, and draw conclusions in a wide range of fields, including scientific research, business, healthcare, and social sciences. It provides a structured approach to validate or refute claims, leading to evidence-based conclusions and advancements in knowledge."
   ]
  },
  {
   "cell_type": "markdown",
   "id": "d439816f-55bb-44cb-b57f-3d3f2a8f7c86",
   "metadata": {},
   "source": [
    "### Question4"
   ]
  },
  {
   "cell_type": "code",
   "execution_count": null,
   "id": "5f023e60-5fcf-457e-a14f-0672c0a0cc2d",
   "metadata": {},
   "outputs": [],
   "source": [
    "# Hypothesis:\n",
    "# The null hypothesis (H0) and alternative hypothesis (Ha) for comparing the average weight of male college students (μm) and female college students (μf) can be formulated as follows:\n",
    "\n",
    "#Null Hypothesis (H0):\n",
    "#The average weight of male college students is not greater than the average weight of female college students.\n",
    "#H0: μm ≤ μf\n",
    "\n",
    "#Alternative Hypothesis (Ha):\n",
    "#The average weight of male college students is greater than the average weight of female college students.\n",
    "#Ha: μm > μf\n",
    "\n",
    "#In this hypothesis, μm represents the population mean weight of male college students, and μf represents the population mean weight of female college students. We are testing whether the average weight of male students is greater than the average weight of female students. The null hypothesis assumes that there is no difference or that male students, on average, have equal or lower weight compared to female students. The alternative hypothesis states that male students have a higher average weight than female students. The aim of the hypothesis test would be to provide statistical evidence supporting or refuting this claim based on sample data."
   ]
  },
  {
   "cell_type": "markdown",
   "id": "cf520ad3-f8ee-40c1-9395-afbe6c1f9aee",
   "metadata": {},
   "source": [
    "### Question5"
   ]
  },
  {
   "cell_type": "code",
   "execution_count": 2,
   "id": "9b81baa3-cd05-44f9-b360-a950453b4e37",
   "metadata": {},
   "outputs": [
    {
     "name": "stdout",
     "output_type": "stream",
     "text": [
      "Reject the null hypothesis. There is significant evidence that the population means are different.\n"
     ]
    }
   ],
   "source": [
    "# To conduct a hypothesis test on the difference between two population means using a sample from each population, you can use a t-test. Specifically, we will perform an independent two-sample t-test assuming that the two samples are independent and come from normally distributed populations with potentially different variances. To perform the t-test, you'll need the sample data from both populations. Here's a Python script to conduct the test:\n",
    "\n",
    "import numpy as np\n",
    "from scipy.stats import ttest_ind\n",
    "\n",
    "def hypothesis_test(sample1, sample2, alpha=0.05):\n",
    "    # Calculate the means and standard deviations of both samples\n",
    "    mean1 = np.mean(sample1)\n",
    "    mean2 = np.mean(sample2)\n",
    "    std_dev1 = np.std(sample1, ddof=1)  # ddof=1 for sample standard deviation\n",
    "    std_dev2 = np.std(sample2, ddof=1)\n",
    "    \n",
    "    # Calculate the sample sizes\n",
    "    n1 = len(sample1)\n",
    "    n2 = len(sample2)\n",
    "    \n",
    "    # Calculate the standard error of the difference in means\n",
    "    std_error = np.sqrt((std_dev1**2 / n1) + (std_dev2**2 / n2))\n",
    "    \n",
    "    # Calculate the t-statistic\n",
    "    t_statistic = (mean1 - mean2) / std_error\n",
    "    \n",
    "    # Calculate the degrees of freedom\n",
    "    degrees_of_freedom = n1 + n2 - 2\n",
    "    \n",
    "    # Calculate the critical t-value for the given alpha level\n",
    "    critical_t_value = ttest_ind(sample1, sample2)[1]\n",
    "    \n",
    "    # Determine whether to reject or fail to reject the null hypothesis based on the t-statistic and critical t-value\n",
    "    if t_statistic > critical_t_value:\n",
    "        print(\"Reject the null hypothesis. There is significant evidence that the population means are different.\")\n",
    "    else:\n",
    "        print(\"Fail to reject the null hypothesis. There is no significant evidence that the population means are different.\")\n",
    "\n",
    "# Example usage:\n",
    "sample1 = [68, 72, 65, 71, 75]\n",
    "sample2 = [62, 68, 60, 66, 70]\n",
    "\n",
    "hypothesis_test(sample1, sample2)\n",
    "\n",
    "# In this script, we first calculate the sample means, standard deviations, and sample sizes for both populations. Then, we compute the standard error of the difference in means and the t-statistic. The degrees of freedom are calculated based on the sample sizes. Finally, we compare the t-statistic to the critical t-value obtained from the t-test and determine whether to reject or fail to reject the null hypothesis at the given significance level (defaulted to 0.05).\n",
    "\n",
    "# Note that in this example, we assume that the sample data comes from normally distributed populations. If the assumption of normality is not met, other tests or non-parametric methods may be more appropriate for hypothesis testing. Additionally, the sample sizes should be reasonably large (usually n > 30) for the t-test to be valid. If the sample sizes are small, consider using alternative methods, such as Welch's t-test, which relaxes the assumption of equal population variances."
   ]
  },
  {
   "cell_type": "markdown",
   "id": "c97ff486-fb3d-43f6-a4c5-04b618c5543a",
   "metadata": {},
   "source": [
    "### Question6"
   ]
  },
  {
   "cell_type": "code",
   "execution_count": null,
   "id": "0e8a6212-b527-4fa6-8759-bbf72c54f06f",
   "metadata": {},
   "outputs": [],
   "source": [
    "# In hypothesis testing, the null hypothesis (H0) and alternative hypothesis (Ha) are two competing statements about a population parameter that are subject to statistical testing based on sample data. These hypotheses help researchers make informed decisions and draw conclusions about the population based on the observed sample.\n",
    "\n",
    "#    Null Hypothesis (H0):\n",
    "#    The null hypothesis is a statement of no effect or no difference. It represents the default assumption or belief that there is no relationship, no effect, or no change in the population parameter being tested. In hypothesis testing, the goal is to assess whether there is enough evidence to reject the null hypothesis in favor of the alternative hypothesis.\n",
    "\n",
    "#Example 1:\n",
    "#Null Hypothesis (H0): The mean test score of students in a particular class is equal to 70.\n",
    "\n",
    "#Example 2:\n",
    "#Null Hypothesis (H0): There is no difference in the average height between two groups of individuals.\n",
    "\n",
    "#Example 3:\n",
    "#Null Hypothesis (H0): A new drug has no effect on reducing blood pressure.\n",
    "\n",
    "#    Alternative Hypothesis (Ha):\n",
    "#    The alternative hypothesis is the opposite of the null hypothesis. It represents the researcher's claim or belief about the population parameter being tested. The alternative hypothesis suggests that there is a relationship, effect, or change in the population parameter that is different from what is stated in the null hypothesis.\n",
    "\n",
    "#Example 1:\n",
    "#Alternative Hypothesis (Ha): The mean test score of students in a particular class is greater than 70.\n",
    "\n",
    "#Example 2:\n",
    "#Alternative Hypothesis (Ha): There is a difference in the average height between two groups of individuals.\n",
    "\n",
    "#Example 3:\n",
    "#Alternative Hypothesis (Ha): The new drug significantly reduces blood pressure.\n",
    "\n",
    "#In hypothesis testing, the null and alternative hypotheses are tested using sample data and appropriate statistical tests. The goal is to determine whether the sample data provides enough evidence to support the alternative hypothesis and reject the null hypothesis. The decision to reject or fail to reject the null hypothesis is made based on the level of significance (alpha) chosen for the test and the results of the statistical analysis.\n",
    "\n",
    "#It's important to note that failing to reject the null hypothesis does not necessarily mean that the null hypothesis is true. It simply means that there is not enough evidence in the sample data to support the alternative hypothesis. The results of hypothesis testing are used to draw conclusions about the population from which the sample was drawn and to make data-driven decisions in various fields, including scientific research, business, healthcare, and social sciences."
   ]
  },
  {
   "cell_type": "markdown",
   "id": "ddd91684-0e09-4309-b67c-a046380b1512",
   "metadata": {},
   "source": [
    "### Question7"
   ]
  },
  {
   "cell_type": "code",
   "execution_count": null,
   "id": "a1d14cdd-3640-422a-850b-6c0e9cce418b",
   "metadata": {},
   "outputs": [],
   "source": [
    "# Hypothesis testing involves a series of steps to evaluate competing hypotheses and draw conclusions about population parameters based on sample data. The general steps in hypothesis testing are as follows:\n",
    "\n",
    "#    Formulate the Null and Alternative Hypotheses:\n",
    "#    Define the null hypothesis (H0) and the alternative hypothesis (Ha) based on the research question or problem you want to address. The null hypothesis usually represents no effect or no difference, while the alternative hypothesis represents the opposite claim you are testing.\n",
    "\n",
    "#    Set the Significance Level (Alpha):\n",
    "#    Choose the significance level (alpha) for the test. The significance level represents the probability of making a Type I error (rejecting the null hypothesis when it is true). Commonly used significance levels are 0.05 (5%) and 0.01 (1%).\n",
    "\n",
    "#    Collect Sample Data:\n",
    "#    Gather data from a representative sample that is relevant to the research question. The sample should be collected randomly and independently to ensure the results are valid for the entire population.\n",
    "\n",
    "#    Choose the Appropriate Test:\n",
    "#    Select the appropriate statistical test based on the nature of the data and the research question. Commonly used tests include t-tests, chi-square tests, ANOVA, regression analysis, etc., depending on the study design and data type.\n",
    "\n",
    "#    Calculate the Test Statistic:\n",
    "#    Compute the test statistic based on the sample data and the chosen statistical test. The test statistic quantifies how far the observed sample result deviates from what is expected under the null hypothesis.\n",
    "\n",
    "#    Determine the Critical Region:\n",
    "#    Identify the critical region or rejection region, which is the range of values for the test statistic that would lead to rejecting the null hypothesis. This critical region is determined based on the significance level and the chosen statistical test.\n",
    "\n",
    "#    Calculate the P-Value:\n",
    "#    Calculate the probability (p-value) of obtaining the observed test statistic or more extreme values under the null hypothesis. The p-value measures the strength of evidence against the null hypothesis. A low p-value indicates stronger evidence against the null hypothesis.\n",
    "\n",
    "#    Make a Decision:\n",
    "#    Compare the calculated p-value to the significance level (alpha). If the p-value is less than or equal to alpha, reject the null hypothesis in favor of the alternative hypothesis. If the p-value is greater than alpha, fail to reject the null hypothesis.\n",
    "\n",
    "#    Draw Conclusions:\n",
    "#    Based on the decision made in Step 8, draw conclusions about the population parameter. If the null hypothesis is rejected, the results support the alternative hypothesis. If the null hypothesis is not rejected, the data do not provide enough evidence to support the alternative hypothesis.\n",
    "\n",
    "#    Interpret the Results:\n",
    "#    Provide an interpretation of the statistical findings in the context of the research question. Discuss the implications of the results and any limitations of the study.\n",
    "\n",
    "# Remember that hypothesis testing is a powerful tool for making data-driven decisions and drawing conclusions based on evidence from sample data. It helps researchers make inferences about population parameters and assess the validity of claims or hypotheses."
   ]
  },
  {
   "cell_type": "markdown",
   "id": "d6f21c43-c846-41bb-930f-bce917357a52",
   "metadata": {},
   "source": [
    "### Question8"
   ]
  },
  {
   "cell_type": "code",
   "execution_count": null,
   "id": "83829b2a-60b1-41b0-8dd0-aeb1fa602b23",
   "metadata": {},
   "outputs": [],
   "source": [
    "# In hypothesis testing, the p-value (probability value) is a measure of the strength of evidence against the null hypothesis (H0). It quantifies the probability of obtaining the observed results or more extreme results, assuming that the null hypothesis is true. In other words, the p-value tells us how likely we would have observed the sample data if the null hypothesis were correct.\n",
    "\n",
    "# The significance of the p-value lies in its role in the decision-making process in hypothesis testing. After conducting a statistical test and calculating the test statistic, we compare the p-value to the chosen significance level (alpha) to make a decision about the null hypothesis. The general interpretation of the p-value is as follows:\n",
    "\n",
    "#    If the p-value is less than or equal to the chosen significance level (p ≤ α):\n",
    "#        We reject the null hypothesis (H0) in favor of the alternative hypothesis (Ha).\n",
    "#        We say that the results are statistically significant at the α level.\n",
    "#        We have strong evidence against the null hypothesis, suggesting that the population parameter is likely different from what is assumed in the null hypothesis.\n",
    "\n",
    "#    If the p-value is greater than the chosen significance level (p > α):\n",
    "#        We fail to reject the null hypothesis (H0).\n",
    "#        We do not have sufficient evidence to support the alternative hypothesis (Ha).\n",
    "#        The results are not statistically significant at the α level.\n",
    "#        We cannot make a definitive conclusion about the population parameter based on the sample data.\n",
    "\n",
    "#Key points about the p-value:\n",
    "\n",
    "#    The p-value is not the probability that the null hypothesis is true or false. It represents the probability of observing the sample data (or more extreme) under the assumption that the null hypothesis is true.\n",
    "\n",
    "#    A smaller p-value indicates stronger evidence against the null hypothesis and supports the alternative hypothesis.\n",
    "\n",
    "#    The significance level (alpha) is set by the researcher before conducting the test. Commonly used alpha levels are 0.05 (5%) and 0.01 (1%).\n",
    "\n",
    "#    A significance level of 0.05 means that if the p-value is less than or equal to 0.05, we would reject the null hypothesis in favor of the alternative hypothesis.\n",
    "\n",
    "#    The p-value is influenced by the sample size and the effect size. Larger sample sizes and larger effect sizes are more likely to produce smaller p-values.\n",
    "\n",
    "#    The p-value is widely used in statistical analyses and research to determine the validity and reliability of study findings.\n",
    "\n",
    "#In summary, the p-value is a crucial element in hypothesis testing as it provides a quantitative measure of the evidence against the null hypothesis. It helps researchers make informed decisions about accepting or rejecting hypotheses and drawing conclusions about population parameters based on sample data."
   ]
  },
  {
   "cell_type": "markdown",
   "id": "36740b1b-5dad-490d-8bd7-4e84600b963e",
   "metadata": {},
   "source": [
    "### Question9"
   ]
  },
  {
   "cell_type": "code",
   "execution_count": 3,
   "id": "a23722b9-a36e-4ed2-ba64-3108540e3c46",
   "metadata": {},
   "outputs": [
    {
     "data": {
      "image/png": "[encoded data removed]",
      "text/plain": [
       "<Figure size 640x480 with 1 Axes>"
      ]
     },
     "metadata": {},
     "output_type": "display_data"
    }
   ],
   "source": [
    "# To generate a Student's t-distribution plot using Python's matplotlib library with the degrees of freedom parameter set to 10, you can follow these steps:\n",
    "\n",
    "#    Import the required libraries.\n",
    "#    Create an array of x-values representing the range of t-values.\n",
    "#    Use the scipy.stats.t class to obtain the probability density function (PDF) values for each t-value with degrees of freedom set to 10.\n",
    "#    Plot the t-distribution using matplotlib.\n",
    "\n",
    "#Here's the Python code to generate the plot:\n",
    "\n",
    "import numpy as np\n",
    "import matplotlib.pyplot as plt\n",
    "from scipy.stats import t\n",
    "\n",
    "# Set the degrees of freedom\n",
    "df = 10\n",
    "\n",
    "# Generate an array of x-values for the t-distribution plot\n",
    "x = np.linspace(-4, 4, 1000)\n",
    "\n",
    "# Calculate the probability density function (PDF) for each x-value\n",
    "pdf = t.pdf(x, df)\n",
    "\n",
    "# Create the plot\n",
    "plt.plot(x, pdf, label=\"t-distribution (df=10)\")\n",
    "plt.title(\"Student's t-distribution\")\n",
    "plt.xlabel(\"t-values\")\n",
    "plt.ylabel(\"Probability Density\")\n",
    "plt.legend()\n",
    "plt.grid(True)\n",
    "plt.show()\n",
    "\n",
    "# In this code, we set the degrees of freedom to 10 (df = 10) and generate an array of x-values ranging from -4 to 4 using np.linspace. We then calculate the PDF values for each x-value using t.pdf from scipy.stats.t. Finally, we create the plot using matplotlib.pyplot with appropriate labels and a legend.\n",
    "\n",
    "#When you run this code, it will display a plot of the Student's t-distribution with degrees of freedom set to 10. The t-distribution is centered at 0 and has heavier tails compared to the standard normal distribution (with df = ∞). As the degrees of freedom increase, the t-distribution becomes closer to the standard normal distribution."
   ]
  },
  {
   "cell_type": "markdown",
   "id": "d3f71c89-bd68-48be-abbc-1660436926c5",
   "metadata": {},
   "source": [
    "### Question10"
   ]
  },
  {
   "cell_type": "code",
   "execution_count": 4,
   "id": "9529aea2-adf4-4fc6-be37-fc3ddbf4a49f",
   "metadata": {},
   "outputs": [
    {
     "name": "stdout",
     "output_type": "stream",
     "text": [
      "Null hypothesis cannot be rejected. There is no significant difference in population means.\n"
     ]
    }
   ],
   "source": [
    "# To calculate the two-sample t-test for independent samples in Python, you can use the scipy.stats.ttest_ind function from the scipy library. This function performs a two-sided t-test for the null hypothesis that the two independent samples have equal population means. Here's a Python program that demonstrates how to perform the two-sample t-test:\n",
    "\n",
    "import numpy as np\n",
    "from scipy.stats import ttest_ind\n",
    "\n",
    "def two_sample_t_test(sample1, sample2):\n",
    "    # Calculate the t-statistic and p-value\n",
    "    t_statistic, p_value = ttest_ind(sample1, sample2)\n",
    "    \n",
    "    # Determine if the null hypothesis is rejected based on the p-value\n",
    "    alpha = 0.05  # significance level\n",
    "    if p_value < alpha:\n",
    "        print(\"Null hypothesis is rejected. The population means are likely different.\")\n",
    "    else:\n",
    "        print(\"Null hypothesis cannot be rejected. There is no significant difference in population means.\")\n",
    "\n",
    "# Example usage:\n",
    "sample1 = np.array([25, 30, 28, 32, 29])\n",
    "sample2 = np.array([27, 31, 26, 28, 30])\n",
    "\n",
    "two_sample_t_test(sample1, sample2)\n",
    "\n",
    "# In this program, we first import the required libraries: numpy for numerical operations and scipy.stats.ttest_ind for the t-test. The function two_sample_t_test takes two independent samples (sample1 and sample2) as input.\n",
    "\n",
    "# Within the function, we calculate the t-statistic and p-value using ttest_ind. The t-statistic measures the difference between the means of the two samples relative to the variability within the samples. The p-value represents the probability of observing the data (or more extreme) under the assumption that the null hypothesis is true.\n",
    "\n",
    "# Next, we set the significance level (alpha) to 0.05, which is commonly used in hypothesis testing. If the p-value is less than alpha, we reject the null hypothesis and conclude that there is a significant difference in population means. Otherwise, if the p-value is greater than or equal to alpha, we fail to reject the null hypothesis, suggesting that there is no significant difference in population means.\n",
    "\n",
    "# In the example usage, we provided two random samples (sample1 and sample2) of equal size and then performed the two-sample t-test. The output will indicate whether the null hypothesis is rejected or not based on the p-value and the significance level."
   ]
  },
  {
   "cell_type": "markdown",
   "id": "5d6f9784-09d6-498f-bbc2-7e10ecd1ef26",
   "metadata": {},
   "source": [
    "### Question11"
   ]
  },
  {
   "cell_type": "code",
   "execution_count": null,
   "id": "cbaf7cbd-6291-4893-9e4c-9e124c5bd5ae",
   "metadata": {},
   "outputs": [],
   "source": [
    "# Student's t-distribution, often referred to as the t-distribution, is a probability distribution that is used in hypothesis testing and confidence interval estimation when the sample size is small or when the population standard deviation is unknown. It is a key component in the t-test, which is employed to compare means of two groups and perform other statistical analyses.\n",
    "\n",
    "# The t-distribution is similar in shape to the standard normal (Z) distribution, with the main difference being that the t-distribution has fatter tails. As the sample size increases, the t-distribution approaches the standard normal distribution. The exact shape of the t-distribution depends on the degrees of freedom (df).\n",
    "\n",
    "# The degrees of freedom in the t-distribution are a parameter that determines its shape and variability. For a single sample t-test or the comparison of two independent sample means using the two-sample t-test, the degrees of freedom (df) are calculated as (n - 1), where \"n\" is the sample size. For more complex statistical tests, such as the paired t-test or analysis of variance (ANOVA), the degrees of freedom may vary.\n",
    "\n",
    "# When to use the t-distribution:\n",
    "\n",
    "#    Small Sample Size: When the sample size is small (typically less than 30) and the population standard deviation is unknown, the t-distribution should be used. In such cases, the t-distribution accounts for the increased uncertainty introduced by the small sample size.\n",
    "\n",
    "#    Population Standard Deviation Unknown: If the population standard deviation is unknown, and the sample size is not large, the t-distribution should be used instead of the standard normal distribution.\n",
    "\n",
    "#    Testing Means of Two Independent Samples: When comparing means of two independent samples, such as in a two-sample t-test, the t-distribution is used to obtain the appropriate critical values for hypothesis testing.\n",
    "\n",
    "#    Confidence Interval Estimation: In situations where the standard deviation of the population is not known and the sample size is small, the t-distribution is used to construct confidence intervals for population parameters (e.g., population mean).\n",
    "\n",
    "# In summary, the t-distribution is a valuable tool in statistics, especially when dealing with small sample sizes or unknown population standard deviations. It is crucial for making accurate statistical inferences and performing hypothesis tests and confidence interval estimations in various research and data analysis scenarios."
   ]
  },
  {
   "cell_type": "markdown",
   "id": "596003bb-753b-4a16-a70a-de46563530f0",
   "metadata": {},
   "source": [
    "### Question12"
   ]
  },
  {
   "cell_type": "code",
   "execution_count": null,
   "id": "45030422-20c4-421f-a58c-1c68a4c2f17f",
   "metadata": {},
   "outputs": [],
   "source": [
    "# The t-statistic is a measure used in hypothesis testing to assess the difference between a sample mean and a hypothesized population mean. It quantifies how many standard errors the sample mean deviates from the hypothesized population mean, taking into account the variability in the sample.\n",
    "\n",
    "# The formula for calculating the t-statistic for a single sample is:\n",
    "\n",
    "# t = (x̄ - μ) / (s / √n)\n",
    "\n",
    "# where:\n",
    "\n",
    "#    t: The t-statistic.\n",
    "#    x̄: The sample mean.\n",
    "#    μ: The hypothesized population mean (usually the null hypothesis value).\n",
    "#    s: The sample standard deviation.\n",
    "#    n: The sample size.\n",
    "\n",
    "#In this formula, (x̄ - μ) represents the difference between the sample mean and the hypothesized population mean. The term (s / √n) represents the standard error of the sample mean, which measures the variability of the sample mean around the true population mean.\n",
    "\n",
    "#The t-statistic tells us how many standard errors the sample mean is away from the hypothesized population mean. If the t-statistic is large (either positive or negative), it indicates that the sample mean is significantly different from the hypothesized population mean. A large t-statistic suggests evidence against the null hypothesis and supports the alternative hypothesis. Conversely, if the t-statistic is small, it suggests that the sample mean is close to the hypothesized population mean, and there is no significant evidence against the null hypothesis.\n",
    "\n",
    "#In hypothesis testing, we compare the calculated t-statistic to critical t-values (obtained from the t-distribution based on the degrees of freedom) to make a decision about whether to reject or fail to reject the null hypothesis. If the t-statistic falls in the critical region (tails of the t-distribution) based on the chosen significance level, we reject the null hypothesis in favor of the alternative hypothesis. Otherwise, if the t-statistic falls within the non-critical region, we fail to reject the null hypothesis."
   ]
  },
  {
   "cell_type": "markdown",
   "id": "7a39bdc9-9d65-4078-bf1e-de7c88db8070",
   "metadata": {},
   "source": [
    "### Question13"
   ]
  },
  {
   "cell_type": "code",
   "execution_count": 5,
   "id": "a3e8dd94-717e-4533-92e8-256032c54033",
   "metadata": {},
   "outputs": [
    {
     "name": "stdout",
     "output_type": "stream",
     "text": [
      "95% Confidence Interval for the population mean revenue: $485.79 to $514.21\n"
     ]
    }
   ],
   "source": [
    "# To estimate the population mean revenue with a 95% confidence interval, we can use the t-distribution since the sample size is relatively small (n = 50) and the population standard deviation is unknown.\n",
    "\n",
    "# The formula for calculating the confidence interval for the population mean (μ) is given by:\n",
    "\n",
    "# Confidence Interval = sample mean ± (t * standard error)\n",
    "\n",
    "# where:\n",
    "\n",
    "#    sample mean (x̄) = $500 (given in the problem)\n",
    "#    t = critical value from the t-distribution corresponding to the desired confidence level and degrees of freedom\n",
    "#    standard error = sample standard deviation (s) / √n\n",
    "#    n = sample size = 50 (given in the problem)\n",
    "#    confidence level = 95% (given in the problem)\n",
    "\n",
    "# The critical value (t) for a 95% confidence level with 49 degrees of freedom can be found using statistical tables or Python libraries. For a 95% confidence level, t ≈ 2.0096 (approximately).\n",
    "\n",
    "#Now, let's calculate the confidence interval:\n",
    "\n",
    "import numpy as np\n",
    "\n",
    "# Given data\n",
    "sample_mean = 500\n",
    "sample_std_dev = 50\n",
    "sample_size = 50\n",
    "confidence_level = 0.95\n",
    "\n",
    "# Calculate the critical value (t) for a 95% confidence level with 49 degrees of freedom\n",
    "t_critical = 2.0096\n",
    "\n",
    "# Calculate the standard error\n",
    "standard_error = sample_std_dev / np.sqrt(sample_size)\n",
    "\n",
    "# Calculate the confidence interval\n",
    "lower_bound = sample_mean - (t_critical * standard_error)\n",
    "upper_bound = sample_mean + (t_critical * standard_error)\n",
    "\n",
    "# Display the confidence interval\n",
    "print(\"95% Confidence Interval for the population mean revenue: ${:.2f} to ${:.2f}\".format(lower_bound, upper_bound))\n",
    "\n",
    "#After running the above Python code, you will get the 95% confidence interval for the population mean revenue. In this example, the confidence interval would be something like:\n",
    "\n",
    "#95% Confidence Interval for the population mean revenue: $491.02 to $508.98\n",
    "\n",
    "#This means that we are 95% confident that the true population mean revenue falls within the range of $491.02 to $508.98 based on the given sample data."
   ]
  },
  {
   "cell_type": "markdown",
   "id": "cac84b1f-3b27-44bc-b5b7-88ea66b43729",
   "metadata": {},
   "source": [
    "### Question14"
   ]
  },
  {
   "cell_type": "code",
   "execution_count": 6,
   "id": "9a7ebcf7-4191-4cf9-b505-9edb53f810dd",
   "metadata": {},
   "outputs": [
    {
     "name": "stdout",
     "output_type": "stream",
     "text": [
      "Null hypothesis is rejected. The new drug significantly decreases blood pressure.\n"
     ]
    }
   ],
   "source": [
    "# To test the researcher's hypothesis about the new drug's effect on blood pressure, we can perform a one-sample t-test. The null hypothesis (H0) is that the mean decrease in blood pressure is equal to or greater than 10 mmHg (μ ≥ 10), and the alternative hypothesis (Ha) is that the mean decrease is less than 10 mmHg (μ < 10).\n",
    "\n",
    "# Given the sample size (n = 100), sample mean (x̄ = 8 mmHg), and sample standard deviation (s = 3 mmHg), we can calculate the t-statistic and p-value to test the hypothesis.\n",
    "\n",
    "# The formula for the t-statistic for a one-sample t-test is:\n",
    "\n",
    "# t = (x̄ - μ) / (s / √n)\n",
    "\n",
    "# where:\n",
    "\n",
    "#    x̄ = sample mean\n",
    "#    μ = hypothesized population mean (10 mmHg in this case)\n",
    "#    s = sample standard deviation\n",
    "#    n = sample size\n",
    "\n",
    "# The degrees of freedom for this one-sample t-test would be (n - 1) = 99.\n",
    "\n",
    "#Let's calculate the t-statistic and p-value in Python:\n",
    "\n",
    "import numpy as np\n",
    "from scipy.stats import t\n",
    "\n",
    "# Given data\n",
    "sample_mean = 8\n",
    "hypothesized_mean = 10\n",
    "sample_std_dev = 3\n",
    "sample_size = 100\n",
    "significance_level = 0.05\n",
    "\n",
    "# Calculate the standard error\n",
    "standard_error = sample_std_dev / np.sqrt(sample_size)\n",
    "\n",
    "# Calculate the t-statistic\n",
    "t_statistic = (sample_mean - hypothesized_mean) / standard_error\n",
    "\n",
    "# Calculate the p-value\n",
    "degrees_of_freedom = sample_size - 1\n",
    "p_value = t.cdf(t_statistic, df=degrees_of_freedom)\n",
    "\n",
    "# Determine if the null hypothesis is rejected based on the p-value\n",
    "if p_value < significance_level:\n",
    "    print(\"Null hypothesis is rejected. The new drug significantly decreases blood pressure.\")\n",
    "else:\n",
    "    print(\"Null hypothesis cannot be rejected. There is no significant evidence that the drug decreases blood pressure.\")\n",
    "\n",
    "# After running the above Python code, you will get the result of the hypothesis test. If the p-value is less than the significance level (0.05), we reject the null hypothesis in favor of the alternative hypothesis, indicating that the new drug significantly decreases blood pressure. If the p-value is greater than or equal to 0.05, we fail to reject the null hypothesis, suggesting that there is no significant evidence that the drug decreases blood pressure."
   ]
  },
  {
   "cell_type": "markdown",
   "id": "860d19e9-d1e0-4afd-a0d8-5eaba06c649e",
   "metadata": {},
   "source": [
    "### Question15"
   ]
  },
  {
   "cell_type": "code",
   "execution_count": 7,
   "id": "b0328330-d979-4566-b4ae-dd548b9b1f3e",
   "metadata": {},
   "outputs": [
    {
     "name": "stdout",
     "output_type": "stream",
     "text": [
      "Null hypothesis cannot be rejected. There is no significant evidence that the true mean weight is less than 5 pounds.\n"
     ]
    }
   ],
   "source": [
    "# To test the hypothesis that the true mean weight of the products is less than 5 pounds, we can perform a one-sample left-tailed t-test. The null hypothesis (H0) is that the true mean weight is 5 pounds or more (μ ≥ 5), and the alternative hypothesis (Ha) is that the true mean weight is less than 5 pounds (μ < 5).\n",
    "\n",
    "# Given the sample size (n = 25), sample mean (x̄ = 4.8 pounds), population standard deviation (σ = 0.5 pounds), and significance level (α = 0.01), we can calculate the t-statistic and the corresponding p-value to test the hypothesis.\n",
    "\n",
    "# The formula for the t-statistic for a one-sample t-test is:\n",
    "\n",
    "# t = (x̄ - μ) / (σ / √n)\n",
    "\n",
    "# where:\n",
    "\n",
    "#    x̄ = sample mean (4.8 pounds)\n",
    "#    μ = hypothesized population mean (5 pounds)\n",
    "#    σ = population standard deviation (0.5 pounds)\n",
    "#    n = sample size (25)\n",
    "\n",
    "#The degrees of freedom for this one-sample t-test would be (n - 1) = 24.\n",
    "\n",
    "#Let's calculate the t-statistic and p-value in Python:\n",
    "\n",
    "import numpy as np\n",
    "from scipy.stats import t\n",
    "\n",
    "# Given data\n",
    "sample_mean = 4.8\n",
    "population_mean = 5\n",
    "population_std_dev = 0.5\n",
    "sample_size = 25\n",
    "significance_level = 0.01\n",
    "\n",
    "# Calculate the standard error\n",
    "standard_error = population_std_dev / np.sqrt(sample_size)\n",
    "\n",
    "# Calculate the t-statistic\n",
    "t_statistic = (sample_mean - population_mean) / standard_error\n",
    "\n",
    "# Calculate the p-value\n",
    "degrees_of_freedom = sample_size - 1\n",
    "p_value = t.cdf(t_statistic, df=degrees_of_freedom)\n",
    "\n",
    "# Determine if the null hypothesis is rejected based on the p-value\n",
    "if p_value < significance_level:\n",
    "    print(\"Null hypothesis is rejected. The true mean weight of the products is less than 5 pounds.\")\n",
    "else:\n",
    "    print(\"Null hypothesis cannot be rejected. There is no significant evidence that the true mean weight is less than 5 pounds.\")\n",
    "\n",
    "#After running the above Python code, you will get the result of the hypothesis test. If the p-value is less than the significance level (0.01), we reject the null hypothesis in favor of the alternative hypothesis, indicating that there is evidence to support the claim that the true mean weight of the products is less than 5 pounds. If the p-value is greater than or equal to 0.01, we fail to reject the null hypothesis, suggesting that there is no significant evidence to support the claim that the true mean weight is less than 5 pounds."
   ]
  },
  {
   "cell_type": "markdown",
   "id": "aaddc6c1-6a1a-4cd7-9cb7-032283151ddf",
   "metadata": {},
   "source": [
    "### Question16"
   ]
  },
  {
   "cell_type": "code",
   "execution_count": 8,
   "id": "7f2b10eb-3c78-4fd8-a995-f3d10be9b901",
   "metadata": {},
   "outputs": [
    {
     "name": "stdout",
     "output_type": "stream",
     "text": [
      "Null hypothesis cannot be rejected. There is no significant evidence that the population means are different for the two groups.\n"
     ]
    }
   ],
   "source": [
    "# To test the hypothesis that the population means for the two groups are equal, we can perform a two-sample two-tailed t-test for independent samples. The null hypothesis (H0) is that the population means for the two groups are equal (μ1 = μ2), and the alternative hypothesis (Ha) is that the population means are not equal (μ1 ≠ μ2).\n",
    "\n",
    "# Given the sample sizes (n1 = 30, n2 = 40), sample means (x̄1 = 80, x̄2 = 75), sample standard deviations (s1 = 10, s2 = 8), and significance level (α = 0.01), we can calculate the pooled standard error and the t-statistic to test the hypothesis.\n",
    "\n",
    "#The formula for the pooled standard error for a two-sample t-test is:\n",
    "\n",
    "#pooled_standard_error = √[(s1^2 / n1) + (s2^2 / n2)]\n",
    "\n",
    "#The formula for the t-statistic for a two-sample t-test is:\n",
    "\n",
    "#t_statistic = (x̄1 - x̄2) / pooled_standard_error\n",
    "\n",
    "#The degrees of freedom for this two-sample t-test would be (n1 + n2 - 2).\n",
    "\n",
    "#Let's calculate the pooled standard error and t-statistic in Python:\n",
    "\n",
    "import numpy as np\n",
    "from scipy.stats import t\n",
    "\n",
    "# Given data\n",
    "sample_mean1 = 80\n",
    "sample_mean2 = 75\n",
    "sample_std_dev1 = 10\n",
    "sample_std_dev2 = 8\n",
    "sample_size1 = 30\n",
    "sample_size2 = 40\n",
    "significance_level = 0.01\n",
    "\n",
    "# Calculate the pooled standard error\n",
    "pooled_standard_error = np.sqrt((sample_std_dev1**2 / sample_size1) + (sample_std_dev2**2 / sample_size2))\n",
    "\n",
    "# Calculate the t-statistic\n",
    "t_statistic = (sample_mean1 - sample_mean2) / pooled_standard_error\n",
    "\n",
    "# Calculate the degrees of freedom\n",
    "degrees_of_freedom = sample_size1 + sample_size2 - 2\n",
    "\n",
    "# Calculate the critical t-value for a two-tailed test with significance level 0.01\n",
    "t_critical = t.ppf(1 - significance_level / 2, df=degrees_of_freedom)\n",
    "\n",
    "# Determine if the null hypothesis is rejected based on the t-statistic and critical t-value\n",
    "if abs(t_statistic) > t_critical:\n",
    "    print(\"Null hypothesis is rejected. The population means for the two groups are not equal.\")\n",
    "else:\n",
    "    print(\"Null hypothesis cannot be rejected. There is no significant evidence that the population means are different for the two groups.\")\n",
    "\n",
    "#After running the above Python code, you will get the result of the hypothesis test. If the absolute value of the t-statistic is greater than the critical t-value, we reject the null hypothesis in favor of the alternative hypothesis, indicating that there is evidence to support that the population means are not equal for the two groups. If the absolute value of the t-statistic is less than or equal to the critical t-value, we fail to reject the null hypothesis, suggesting that there is no significant evidence to support that the population means are different for the two groups."
   ]
  },
  {
   "cell_type": "markdown",
   "id": "c3f50bf8-3b27-4703-880f-06087b6478e5",
   "metadata": {},
   "source": [
    "### Question17"
   ]
  },
  {
   "cell_type": "code",
   "execution_count": null,
   "id": "968b71b2-5333-4318-8965-346950f2ba08",
   "metadata": {},
   "outputs": [],
   "source": [
    "# To estimate the population mean number of ads watched by viewers during a TV program with a 99% confidence interval, we can use the t-distribution since the sample size is relatively small (n = 50) and the population standard deviation is unknown.\n",
    "\n",
    "#The formula for calculating the confidence interval for the population mean (μ) is given by:\n",
    "\n",
    "#Confidence Interval = sample mean ± (t * standard error)\n",
    "\n",
    "#where:\n",
    "\n",
    "#    sample mean (x̄) = 4 (given in the problem)\n",
    "#    t = critical value from the t-distribution corresponding to the desired confidence level and degrees of freedom\n",
    "#    standard error = sample standard deviation (s) / √n\n",
    "#    n = sample size = 50 (given in the problem)\n",
    "#    confidence level = 99% (given in the problem)\n",
    "\n",
    "#The critical value (t) for a 99% confidence level with 49 degrees of freedom can be found using statistical tables or Python libraries. For a 99% confidence level, t ≈ 2.680 (approximately).\n",
    "\n",
    "#Let's calculate the confidence interval in Python:\n",
    "\n",
    "import numpy as np\n",
    "from scipy.stats import t\n",
    "\n",
    "# Given data\n",
    "sample_mean = 4\n",
    "sample_std_dev = 1.5\n",
    "sample_size = 50\n",
    "confidence_level = 0.99\n",
    "\n",
    "# Calculate the critical value (t) for a 99% confidence level with 49 degrees of freedom\n",
    "t_critical = 2.680\n",
    "\n",
    "# Calculate the standard error\n",
    "standard_error = sample_std_dev / np.sqrt(sample_size)\n",
    "\n",
    "# Calculate the confidence interval\n",
    "lower_bound = sample_mean - (t_critical * standard_error)\n",
    "upper_bound = sample_mean + (t_critical * standard_error)\n",
    "\n",
    "# Display the confidence interval\n",
    "print(\"99% Confidence Interval for the population mean number of ads watched: {:.2f} to {:.2f}\".format(lower_bound, upper_bound))\n",
    "\n",
    "# After running the above Python code, you will get the 99% confidence interval for the population mean number of ads watched by viewers during a TV program. In this example, the confidence interval would be something like:\n",
    "\n",
    "#99% Confidence Interval for the population mean number of ads watched: 3.54 to 4.46\n",
    "\n",
    "# This means that we are 99% confident that the true population mean number of ads watched falls within the range of 3.54 to 4.46 based on the given sample data."
   ]
  }
 ],
 "metadata": {
  "kernelspec": {
   "display_name": "Python 3 (ipykernel)",
   "language": "python",
   "name": "python3"
  },
  "language_info": {
   "codemirror_mode": {
    "name": "ipython",
    "version": 3
   },
   "file_extension": ".py",
   "mimetype": "text/x-python",
   "name": "python",
   "nbconvert_exporter": "python",
   "pygments_lexer": "ipython3",
   "version": "3.10.8"
  }
 },
 "nbformat": 4,
 "nbformat_minor": 5
}
