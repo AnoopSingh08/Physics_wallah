{
 "cells": [
  {
   "cell_type": "markdown",
   "id": "f5cab59f-3277-4d00-869f-b331c20ac814",
   "metadata": {},
   "source": [
    "### Question1"
   ]
  },
  {
   "cell_type": "code",
   "execution_count": null,
   "id": "72ed40a6-6df9-4b88-89ee-379b97c4e306",
   "metadata": {},
   "outputs": [],
   "source": [
    "# To calculate the Pearson correlation coefficient between two variables (studying time and exam scores), you need the actual data values for both variables. Once you have the data, you can use the following formula to calculate the Pearson correlation coefficient:\n",
    "\n",
    "# r=∑i=1 to n(xi−xˉ)(yi−yˉ)/∑i=1 to n(xi−xˉ)^2 * ∑i=1 to n(yi−yˉ)^2\n",
    "\n",
    "# Where:\n",
    "\n",
    "#    n is the number of data points.\n",
    "#    xi and yi are the individual data points for studying time and exam scores, respectively.\n",
    "#    xˉ and yˉ are the means of the studying time and exam scores, respectively.\n",
    "\n",
    "#The Pearson correlation coefficient (rr) ranges from -1 to 1, where:\n",
    "\n",
    "#    r=1: Perfect positive linear correlation (as one variable increases, the other variable increases proportionally).\n",
    "#    r=−1: Perfect negative linear correlation (as one variable increases, the other variable decreases proportionally).\n",
    "#    r=0: No linear correlation (variables are not linearly related).\n",
    "\n",
    "#Interpretation:\n",
    "\n",
    "#    If r is close to 1, it indicates a strong positive linear relationship between studying time and exam scores. This means that as students spend more time studying, their exam scores tend to increase.\n",
    "#    If r is close to -1, it indicates a strong negative linear relationship. This might suggest that as studying time increases, exam scores tend to decrease, which could be counterintuitive.\n",
    "#    If r is close to 0, it indicates no strong linear relationship between studying time and exam scores. In this case, the amount of time spent studying does not show a consistent pattern of influencing exam scores.\n",
    "\n",
    "# Keep in mind that while the Pearson correlation coefficient measures linear relationships, it does not capture non-linear relationships between variables. Additionally, correlation does not imply causation, so even if a strong correlation is observed, it's important to consider other factors that might be influencing the relationship between studying time and exam scores."
   ]
  },
  {
   "cell_type": "markdown",
   "id": "3babfd70-fffc-4d0f-97b9-538f82387286",
   "metadata": {},
   "source": [
    "### Question2"
   ]
  },
  {
   "cell_type": "code",
   "execution_count": null,
   "id": "61104a0d-28a6-49a8-bec5-8da1823f9a06",
   "metadata": {},
   "outputs": [],
   "source": [
    "# Spearman's rank correlation is used to measure the strength and direction of the monotonic relationship between two variables. Monotonic relationships are those in which the variables tend to move together in the same direction, but not necessarily at a constant rate. This makes Spearman's rank correlation suitable for variables with non-linear relationships.\n",
    "\n",
    "# To calculate Spearman's rank correlation, you need to rank the data points of both variables and then compute the correlation based on the ranks. Here's how you can calculate it:\n",
    "\n",
    "#    Rank the Data:\n",
    "#        Rank both the sleep data and the job satisfaction data independently, assigning ranks from 1 to nn (number of data points) based on their values, where the smallest value gets a rank of 1.\n",
    "\n",
    "#    Calculate the Difference in Ranks (dd):\n",
    "#        For each data point, calculate the difference in ranks between the two variables (d=Rank of Sleep−Rank of Job Satisfactiond=Rank of Sleep−Rank of Job Satisfaction).\n",
    "\n",
    "#    Calculate Spearman's Rank Correlation (rs):\n",
    "#        Use the formula rs=1−6∑d^2/n(n^2−1), where n is the number of data points.\n",
    "\n",
    "#Interpretation:\n",
    "\n",
    "#    If rs is close to 1, it indicates a strong positive monotonic relationship between the amount of sleep individuals get each night and their overall job satisfaction. This means that as the amount of sleep increases, job satisfaction tends to increase as well, and vice versa.\n",
    "#    If rs is close to -1, it indicates a strong negative monotonic relationship. In this case, as the amount of sleep increases, job satisfaction tends to decrease, and vice versa.\n",
    "#    If rs is close to 0, it indicates little to no monotonic relationship between the variables.\n",
    "\n",
    "# Spearman's rank correlation is a non-parametric measure, which means it doesn't assume any specific distribution for the data and is suitable for variables that may not follow a linear pattern. However, like other correlation measures, it doesn't imply causation. If a significant correlation is found, further analysis and domain knowledge are needed to understand the nature of the relationship."
   ]
  },
  {
   "cell_type": "markdown",
   "id": "929001ca-2a3c-45f8-836f-d0e910be188e",
   "metadata": {},
   "source": [
    "### Question3"
   ]
  },
  {
   "cell_type": "code",
   "execution_count": null,
   "id": "d04a5f73-9cbf-41dd-8b80-dffbc14c5548",
   "metadata": {},
   "outputs": [],
   "source": [
    "# To calculate both the Pearson correlation coefficient and the Spearman's rank correlation between the number of hours of exercise per week and body mass index (BMI) for a sample of 50 participants, you need the actual data values for both variables. Let's assume you have the following data:\n",
    "\n",
    "# Number of Hours of Exercise: [5, 3, 7, 2, 6, ...] (50 values)\n",
    "# BMI: [22.5, 25.1, 30.0, 26.8, 28.5, ...] (50 values)\n",
    "\n",
    "# Here's how you can calculate both correlations and compare the results:\n",
    "\n",
    "import numpy as np\n",
    "from scipy.stats import pearsonr, spearmanr\n",
    "\n",
    "# Sample data (replace with actual data)\n",
    "exercise_hours = [5, 3, 7, 2, 6, ...]\n",
    "bmi = [22.5, 25.1, 30.0, 26.8, 28.5, ...]\n",
    "\n",
    "# Calculate Pearson correlation coefficient\n",
    "pearson_corr, _ = pearsonr(exercise_hours, bmi)\n",
    "\n",
    "# Calculate Spearman's rank correlation\n",
    "spearman_corr, _ = spearmanr(exercise_hours, bmi)\n",
    "\n",
    "print(\"Pearson Correlation:\", pearson_corr)\n",
    "print(\"Spearman's Rank Correlation:\", spearman_corr)\n",
    "\n",
    "#Comparison and Interpretation:\n",
    "\n",
    "#    Pearson Correlation:\n",
    "#        Pearson correlation measures the linear relationship between two continuous variables. It's suitable for assessing the strength and direction of a linear relationship.\n",
    "#        If the Pearson correlation coefficient is close to 1, it indicates a strong positive linear relationship between exercise hours and BMI, implying that as exercise hours increase, BMI tends to increase.\n",
    "#        If it's close to -1, it indicates a strong negative linear relationship, suggesting that as exercise hours increase, BMI tends to decrease.\n",
    "#        If it's close to 0, there's little to no linear relationship between the variables.\n",
    "\n",
    "#    Spearman's Rank Correlation:\n",
    "#        Spearman's rank correlation measures the strength and direction of a monotonic relationship. It's suitable for assessing non-linear relationships as well.\n",
    "#        A positive Spearman's rank correlation suggests that as exercise hours increase, BMI tends to increase monotonically.\n",
    "#        A negative Spearman's rank correlation suggests the opposite: as exercise hours increase, BMI tends to decrease monotonically.\n",
    "#        A Spearman's rank correlation close to 0 indicates little to no monotonic relationship.\n",
    "\n",
    "# Comparing the Results:\n",
    "\n",
    "#    If both Pearson and Spearman correlations have similar values and directions, it suggests a consistent linear or monotonic relationship between exercise hours and BMI.\n",
    "#    If they have different values or directions, it might indicate a non-linear relationship or the presence of outliers that affect the linear relationship but not the monotonic relationship.\n",
    "\n",
    "# In summary, calculating both the Pearson correlation coefficient and Spearman's rank correlation provides a comprehensive understanding of the relationship between exercise hours and BMI, considering both linear and monotonic aspects."
   ]
  },
  {
   "cell_type": "markdown",
   "id": "7b013703-2bbf-4f36-b06f-92d76533982c",
   "metadata": {},
   "source": [
    "### Question4"
   ]
  },
  {
   "cell_type": "code",
   "execution_count": null,
   "id": "b6b9a8e5-8dff-46d7-bfea-108334d942ab",
   "metadata": {},
   "outputs": [],
   "source": [
    "# To calculate the Pearson correlation coefficient between the number of hours individuals spend watching television per day and their level of physical activity, you need the actual data values for both variables. Let's assume you have the following data:\n",
    "\n",
    "# Hours of TV Watching: [2, 3, 4, 5, 1, ...] (50 values)\n",
    "# Physical Activity Level: [120, 90, 80, 60, 150, ...] (50 values)\n",
    "\n",
    "# Here's how you can calculate the Pearson correlation coefficient using Python:\n",
    "\n",
    "import numpy as np\n",
    "from scipy.stats import pearsonr\n",
    "\n",
    "# Sample data (replace with actual data)\n",
    "tv_hours = [2, 3, 4, 5, 1, ...]\n",
    "physical_activity = [120, 90, 80, 60, 150, ...]\n",
    "\n",
    "# Calculate Pearson correlation coefficient\n",
    "pearson_corr, _ = pearsonr(tv_hours, physical_activity)\n",
    "\n",
    "print(\"Pearson Correlation:\", pearson_corr)\n",
    "\n",
    "# Interpretation:\n",
    "\n",
    "#    The Pearson correlation coefficient will be a value between -1 and 1.\n",
    "#    If the Pearson correlation coefficient is close to 1, it suggests a strong positive linear relationship between the number of hours individuals spend watching television per day and their level of physical activity. This means that as TV watching hours increase, physical activity tends to increase.\n",
    "#    If the coefficient is close to -1, it suggests a strong negative linear relationship. This would imply that as TV watching hours increase, physical activity tends to decrease.\n",
    "#    If the coefficient is close to 0, it suggests little to no linear relationship between the two variables.\n",
    "\n",
    "# Keep in mind that correlation does not imply causation. While a significant correlation might indicate a relationship between TV watching and physical activity, it doesn't necessarily mean that one variable is causing changes in the other. Other factors could be influencing the observed relationship. Further analysis and interpretation are required to draw meaningful conclusions."
   ]
  },
  {
   "cell_type": "markdown",
   "id": "592be711-77ee-4031-aedb-f5b3538a53d1",
   "metadata": {},
   "source": [
    "### Question5"
   ]
  },
  {
   "cell_type": "code",
   "execution_count": null,
   "id": "81926fc4-c245-43af-a17a-00921259a022",
   "metadata": {},
   "outputs": [],
   "source": [
    "# let's analyze the relationship between age and preference for a particular brand of soft drink.\n",
    "\n",
    "# The dataset:\n",
    "\n",
    "| Age | Soft Drink Preference |\n",
    "|-----|-----------------------|\n",
    "| 25  | Coke                  |\n",
    "| 42  | Pepsi                 |\n",
    "| 37  | Mountain Dew          |\n",
    "| 19  | Coke                  |\n",
    "| 31  | Pepsi                 |\n",
    "| 28  | Coke                  |\n",
    "\n",
    "# To analyze this data, we can follow these steps:\n",
    "\n",
    "#    Visualize the Data:\n",
    "#        Create a bar plot or any suitable visualization to show the distribution of soft drink preferences among different age groups.\n",
    "\n",
    "#    Observe Patterns:\n",
    "#        Examine if there are any trends or patterns in the data. For example, do certain age groups tend to prefer a specific brand of soft drink more than others?\n",
    "\n",
    "#    Calculate Summary Statistics:\n",
    "#        Calculate summary statistics for each brand of soft drink, such as the average age of respondents who prefer each brand.\n",
    "\n",
    "#    Interpretation:\n",
    "#        Based on the visualization and summary statistics, you can make observations about the relationship between age and soft drink preference. Are there any noticeable trends or differences among age groups in terms of their brand preferences?\n",
    "\n",
    "#Keep in mind that with the limited dataset provided, the analysis might be preliminary. For a more comprehensive analysis, it's ideal to have a larger sample size and potentially include other relevant variables that could influence soft drink preferences (e.g., taste preferences, marketing exposure, etc.)."
   ]
  },
  {
   "cell_type": "markdown",
   "id": "e7ab4880-b27b-49ca-88ef-7c611d239494",
   "metadata": {},
   "source": [
    "### Question6"
   ]
  },
  {
   "cell_type": "code",
   "execution_count": null,
   "id": "7d861176-abe6-4f86-a08e-60e45c09c51b",
   "metadata": {},
   "outputs": [],
   "source": [
    "#To calculate the Pearson correlation coefficient between the number of sales calls made per day and the number of sales made per week, you need the actual data values for both variables. Let's assume you have the following data:\n",
    "\n",
    "# Sales Calls per Day: [20, 25, 18, 30, 22, ...] (30 values)\n",
    "# Sales per Week: [5, 8, 4, 10, 6, ...] (30 values)\n",
    "\n",
    "# Here's how you can calculate the Pearson correlation coefficient using Python:\n",
    "\n",
    "import numpy as np\n",
    "from scipy.stats import pearsonr\n",
    "\n",
    "# Sample data (replace with actual data)\n",
    "sales_calls_per_day = [20, 25, 18, 30, 22, ...]\n",
    "sales_per_week = [5, 8, 4, 10, 6, ...]\n",
    "\n",
    "# Calculate Pearson correlation coefficient\n",
    "pearson_corr, _ = pearsonr(sales_calls_per_day, sales_per_week)\n",
    "\n",
    "print(\"Pearson Correlation:\", pearson_corr)\n",
    "\n",
    "# Interpretation:\n",
    "\n",
    "#    The Pearson correlation coefficient will be a value between -1 and 1.\n",
    "#    If the Pearson correlation coefficient is close to 1, it suggests a strong positive linear relationship between the number of sales calls made per day and the number of sales made per week. This means that as the number of sales calls increases, the number of sales tends to increase as well.\n",
    "#    If the coefficient is close to -1, it suggests a strong negative linear relationship. This could imply that more sales calls might lead to fewer sales, which might be counterintuitive.\n",
    "#    If the coefficient is close to 0, it suggests little to no linear relationship between the two variables.\n",
    "\n",
    "# Keep in mind that correlation does not imply causation. While a significant correlation might indicate a relationship between sales calls and sales, it doesn't necessarily mean that one variable is causing changes in the other. Other factors could be influencing the observed relationship. Further analysis and interpretation are required to draw meaningful conclusions."
   ]
  }
 ],
 "metadata": {
  "kernelspec": {
   "display_name": "Python 3 (ipykernel)",
   "language": "python",
   "name": "python3"
  },
  "language_info": {
   "codemirror_mode": {
    "name": "ipython",
    "version": 3
   },
   "file_extension": ".py",
   "mimetype": "text/x-python",
   "name": "python",
   "nbconvert_exporter": "python",
   "pygments_lexer": "ipython3",
   "version": "3.10.8"
  }
 },
 "nbformat": 4,
 "nbformat_minor": 5
}
